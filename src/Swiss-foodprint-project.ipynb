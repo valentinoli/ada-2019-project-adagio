{
 "cells": [
  {
   "cell_type": "markdown",
   "metadata": {},
   "source": [
    "# Goals for the upcoming milestone: focus on Switzerland\n",
    "* Load all relevant FAO and Impex data, and justify why we used these sources (as opposed to the Federal Statistics Office data, which gives related numbers but does not match up with what is provided by FAO and Impex)\n",
    "* From the following article, copy the emissions intensities by food group world averages data into an excel file, and load that data (we will use the global average for all countries, since by country is not available for all types of food): https://www.sciencedirect.com/science/article/pii/S0959652616303584\n",
    "* How much does Switzerland consume? -- calculate from imports, exports, and domestic production\n",
    "* How much does Switzerland produce vs. supply its needs with imports?\n",
    "* Update the README"
   ]
  },
  {
   "cell_type": "code",
   "execution_count": 2,
   "metadata": {},
   "outputs": [],
   "source": [
    "%matplotlib inline\n",
    "import pandas as pd\n",
    "# import numpy as np\n",
    "# import pickle\n",
    "# import re\n",
    "\n",
    "# import matplotlib.pyplot as plt"
   ]
  },
  {
   "cell_type": "markdown",
   "metadata": {},
   "source": [
    "# Introduction\n",
    "\n",
    "Not sure what should go in here and what should go in the README"
   ]
  },
  {
   "cell_type": "code",
   "execution_count": 1,
   "metadata": {},
   "outputs": [],
   "source": [
    "# prepare to load the relevant data\n",
    "# all Impex data has the same format so we can use a function to clean it\n",
    "def clean_impex_dataset(file_location, sheet):\n",
    "    df = pd.read_excel(file_location, skiprows=5, sheet_name=sheet)\n",
    "    df.dropna(how='all',inplace=True)\n",
    "    df.drop(columns=['Unnamed: 5', 'Unnamed: 6', 'Unnamed: 7', 'Unnamed: 8'], inplace=True) #empty columns\n",
    "    df.rename({'Unnamed: 0':'Year', 'Unnamed: 1':'Commercial Partner'}, inplace=True, axis=1)\n",
    "    df['Commercial Partner'] = df['Commercial Partner'].str.strip() # get rid of leading whitespace\n",
    "    return df"
   ]
  },
  {
   "cell_type": "code",
   "execution_count": 3,
   "metadata": {},
   "outputs": [],
   "source": [
    "# The following data all comes from Swiss Impex\n",
    "bananas_imports = clean_impex_dataset('../data/fruits_and_veggies_imported.xlsx', '0803')\n",
    "exotic_fruit_imports = clean_impex_dataset('../data/fruits_and_veggies_imported.xlsx', '0804')\n",
    "citrus_imports = clean_impex_dataset('../data/fruits_and_veggies_imported.xlsx', '0805')\n",
    "grapes_imports = clean_impex_dataset('../data/fruits_and_veggies_imported.xlsx', '0806')\n",
    "melons_imports = clean_impex_dataset('../data/fruits_and_veggies_imported.xlsx', '0807')\n",
    "apples_imports = clean_impex_dataset('../data/fruits_and_veggies_imported.xlsx', '0808')\n",
    "stone_fruit_imports = clean_impex_dataset('../data/fruits_and_veggies_imported.xlsx', '0809')\n",
    "berries_imports = clean_impex_dataset('../data/fruits_and_veggies_imported.xlsx', '0810')"
   ]
  },
  {
   "cell_type": "code",
   "execution_count": 5,
   "metadata": {},
   "outputs": [
    {
     "data": {
      "text/html": [
       "<div>\n",
       "<style scoped>\n",
       "    .dataframe tbody tr th:only-of-type {\n",
       "        vertical-align: middle;\n",
       "    }\n",
       "\n",
       "    .dataframe tbody tr th {\n",
       "        vertical-align: top;\n",
       "    }\n",
       "\n",
       "    .dataframe thead th {\n",
       "        text-align: right;\n",
       "    }\n",
       "</style>\n",
       "<table border=\"1\" class=\"dataframe\">\n",
       "  <thead>\n",
       "    <tr style=\"text-align: right;\">\n",
       "      <th></th>\n",
       "      <th>Domain Code</th>\n",
       "      <th>Domain</th>\n",
       "      <th>Area Code</th>\n",
       "      <th>Area</th>\n",
       "      <th>Element Code</th>\n",
       "      <th>Element</th>\n",
       "      <th>Item Code</th>\n",
       "      <th>Item</th>\n",
       "      <th>Year Code</th>\n",
       "      <th>Year</th>\n",
       "      <th>Unit</th>\n",
       "      <th>Value</th>\n",
       "      <th>Flag</th>\n",
       "      <th>Flag Description</th>\n",
       "    </tr>\n",
       "  </thead>\n",
       "  <tbody>\n",
       "    <tr>\n",
       "      <td>0</td>\n",
       "      <td>QC</td>\n",
       "      <td>Crops</td>\n",
       "      <td>211</td>\n",
       "      <td>Switzerland</td>\n",
       "      <td>5510</td>\n",
       "      <td>Production</td>\n",
       "      <td>515</td>\n",
       "      <td>Apples</td>\n",
       "      <td>2017</td>\n",
       "      <td>2017</td>\n",
       "      <td>tonnes</td>\n",
       "      <td>225622</td>\n",
       "      <td>Im</td>\n",
       "      <td>FAO data based on imputation methodology</td>\n",
       "    </tr>\n",
       "    <tr>\n",
       "      <td>1</td>\n",
       "      <td>QC</td>\n",
       "      <td>Crops</td>\n",
       "      <td>211</td>\n",
       "      <td>Switzerland</td>\n",
       "      <td>5510</td>\n",
       "      <td>Production</td>\n",
       "      <td>526</td>\n",
       "      <td>Apricots</td>\n",
       "      <td>2017</td>\n",
       "      <td>2017</td>\n",
       "      <td>tonnes</td>\n",
       "      <td>9420</td>\n",
       "      <td>Im</td>\n",
       "      <td>FAO data based on imputation methodology</td>\n",
       "    </tr>\n",
       "    <tr>\n",
       "      <td>2</td>\n",
       "      <td>QC</td>\n",
       "      <td>Crops</td>\n",
       "      <td>211</td>\n",
       "      <td>Switzerland</td>\n",
       "      <td>5510</td>\n",
       "      <td>Production</td>\n",
       "      <td>366</td>\n",
       "      <td>Artichokes</td>\n",
       "      <td>2017</td>\n",
       "      <td>2017</td>\n",
       "      <td>tonnes</td>\n",
       "      <td>0</td>\n",
       "      <td>NaN</td>\n",
       "      <td>Official data</td>\n",
       "    </tr>\n",
       "    <tr>\n",
       "      <td>3</td>\n",
       "      <td>QC</td>\n",
       "      <td>Crops</td>\n",
       "      <td>211</td>\n",
       "      <td>Switzerland</td>\n",
       "      <td>5510</td>\n",
       "      <td>Production</td>\n",
       "      <td>367</td>\n",
       "      <td>Asparagus</td>\n",
       "      <td>2017</td>\n",
       "      <td>2017</td>\n",
       "      <td>tonnes</td>\n",
       "      <td>722</td>\n",
       "      <td>NaN</td>\n",
       "      <td>Official data</td>\n",
       "    </tr>\n",
       "    <tr>\n",
       "      <td>4</td>\n",
       "      <td>QC</td>\n",
       "      <td>Crops</td>\n",
       "      <td>211</td>\n",
       "      <td>Switzerland</td>\n",
       "      <td>5510</td>\n",
       "      <td>Production</td>\n",
       "      <td>414</td>\n",
       "      <td>Beans, green</td>\n",
       "      <td>2017</td>\n",
       "      <td>2017</td>\n",
       "      <td>tonnes</td>\n",
       "      <td>11076</td>\n",
       "      <td>NaN</td>\n",
       "      <td>Official data</td>\n",
       "    </tr>\n",
       "  </tbody>\n",
       "</table>\n",
       "</div>"
      ],
      "text/plain": [
       "  Domain Code Domain  Area Code         Area  Element Code     Element  \\\n",
       "0          QC  Crops        211  Switzerland          5510  Production   \n",
       "1          QC  Crops        211  Switzerland          5510  Production   \n",
       "2          QC  Crops        211  Switzerland          5510  Production   \n",
       "3          QC  Crops        211  Switzerland          5510  Production   \n",
       "4          QC  Crops        211  Switzerland          5510  Production   \n",
       "\n",
       "   Item Code          Item  Year Code  Year    Unit   Value Flag  \\\n",
       "0        515        Apples       2017  2017  tonnes  225622   Im   \n",
       "1        526      Apricots       2017  2017  tonnes    9420   Im   \n",
       "2        366    Artichokes       2017  2017  tonnes       0  NaN   \n",
       "3        367     Asparagus       2017  2017  tonnes     722  NaN   \n",
       "4        414  Beans, green       2017  2017  tonnes   11076  NaN   \n",
       "\n",
       "                           Flag Description  \n",
       "0  FAO data based on imputation methodology  \n",
       "1  FAO data based on imputation methodology  \n",
       "2                             Official data  \n",
       "3                             Official data  \n",
       "4                             Official data  "
      ]
     },
     "execution_count": 5,
     "metadata": {},
     "output_type": "execute_result"
    }
   ],
   "source": [
    "# load the FAO data on the amount of fruits and veggies Switzerland grows/produces\n",
    "swiss_fruit_veg_prod = pd.read_csv(r'../data/swiss_fruit_veggie_production_FAO.csv')\n",
    "swiss_fruit_veg_prod.head()"
   ]
  },
  {
   "cell_type": "code",
   "execution_count": 4,
   "metadata": {},
   "outputs": [
    {
     "data": {
      "text/plain": [
       "520686050.0"
      ]
     },
     "execution_count": 4,
     "metadata": {},
     "output_type": "execute_result"
    }
   ],
   "source": [
    "# now start processing/handling the data/finding interesting things from it\n",
    "\n",
    "# take the sum of total trade for each type of fruit\n",
    "kg_fruit_imported = bananas_imports.iloc[0][2]+exotic_fruit_imports.iloc[0][2]+citrus_imports.iloc[0][2]+\\\n",
    "grapes_imports.iloc[0][2]+melons_imports.iloc[0][2]+apples_imports.iloc[0][2]+stone_fruit_imports.iloc[0][2]+\\\n",
    "berries_imports.iloc[0][2]\n",
    "kg_fruit_imported"
   ]
  },
  {
   "cell_type": "code",
   "execution_count": null,
   "metadata": {},
   "outputs": [],
   "source": []
  }
 ],
 "metadata": {
  "kernelspec": {
   "display_name": "Python [conda env:ada] *",
   "language": "python",
   "name": "conda-env-ada-py"
  },
  "language_info": {
   "codemirror_mode": {
    "name": "ipython",
    "version": 3
   },
   "file_extension": ".py",
   "mimetype": "text/x-python",
   "name": "python",
   "nbconvert_exporter": "python",
   "pygments_lexer": "ipython3",
   "version": "3.7.4"
  }
 },
 "nbformat": 4,
 "nbformat_minor": 2
}
