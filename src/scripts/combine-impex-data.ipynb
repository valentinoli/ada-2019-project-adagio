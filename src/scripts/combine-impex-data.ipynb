{
 "cells": [
  {
   "cell_type": "code",
   "execution_count": 1,
   "metadata": {},
   "outputs": [],
   "source": [
    "import pandas as pd\n",
    "\n",
    "from combine_impex_data import *"
   ]
  },
  {
   "cell_type": "markdown",
   "metadata": {},
   "source": [
    "This notebook uses a script to process data from Impex. The main reason for this notebook: Switzerland has a tariff quota No. 27 which affects imports and exports. This quota can be exceeded, but the way Impex structures their data, imports and exports within and outside of the quota are separated. We therefore needed a script to quickly aggregate the data for a given food item into one sheet.\n",
    "\n",
    "This script also comes in handy when a food item that is considered as one item in the FAO data is broken down into multiple sub-classes in Impex. Take, for example, rice. Impex has 5 types of rice: rice in the husk, brown rice, wild rice, semi-milled rice, and broken rice. Since FAO only has \"rice\", we combine all of these types of rice here to make comparison to FAO data easier later on. \n",
    "\n",
    "Note that each data sheet has to be selected by hand, since the numbers corresponding to food categories are unpredictable. Also, some food items are not broken down by within and outside of the quota, so they would not need to be combined. Hence, the combinations that are necessary are done here, and then the final datasheets that are read into the project notebook are assembled by hand from the datasheets that this notebook creates."
   ]
  },
  {
   "cell_type": "markdown",
   "metadata": {},
   "source": [
    "---\n",
    "\n",
    "# Human Cereals\n",
    "\n",
    "### Wheat"
   ]
  },
  {
   "cell_type": "code",
   "execution_count": 2,
   "metadata": {},
   "outputs": [],
   "source": [
    "durum_1 = clean_impex_dataset('../../data/Impex/human-cereals-original.xlsx', '1001.1921')\n",
    "durum_2 = clean_impex_dataset('../../data/Impex/human-cereals-original.xlsx', '1001.1929')"
   ]
  },
  {
   "cell_type": "code",
   "execution_count": 3,
   "metadata": {},
   "outputs": [
    {
     "data": {
      "text/html": [
       "<div>\n",
       "<style scoped>\n",
       "    .dataframe tbody tr th:only-of-type {\n",
       "        vertical-align: middle;\n",
       "    }\n",
       "\n",
       "    .dataframe tbody tr th {\n",
       "        vertical-align: top;\n",
       "    }\n",
       "\n",
       "    .dataframe thead th {\n",
       "        text-align: right;\n",
       "    }\n",
       "</style>\n",
       "<table border=\"1\" class=\"dataframe\">\n",
       "  <thead>\n",
       "    <tr style=\"text-align: right;\">\n",
       "      <th></th>\n",
       "      <th>Commercial Partner</th>\n",
       "      <th>Import Quantity (kg)</th>\n",
       "      <th>Import Value (CHF)</th>\n",
       "      <th>Import Value +/- %</th>\n",
       "      <th>Export Quantity (kg)</th>\n",
       "      <th>Export Value (CHF)</th>\n",
       "      <th>Export Value +/- %</th>\n",
       "    </tr>\n",
       "  </thead>\n",
       "  <tbody>\n",
       "    <tr>\n",
       "      <td>0</td>\n",
       "      <td>Total trade</td>\n",
       "      <td>68541498.0</td>\n",
       "      <td>28219190.0</td>\n",
       "      <td>40.0</td>\n",
       "      <td>27101.0</td>\n",
       "      <td>8144.0</td>\n",
       "      <td>-99.5</td>\n",
       "    </tr>\n",
       "    <tr>\n",
       "      <td>14</td>\n",
       "      <td>Algeria</td>\n",
       "      <td>1120.0</td>\n",
       "      <td>369.0</td>\n",
       "      <td>0.0</td>\n",
       "      <td>0.0</td>\n",
       "      <td>0.0</td>\n",
       "      <td>0.0</td>\n",
       "    </tr>\n",
       "    <tr>\n",
       "      <td>1</td>\n",
       "      <td>Austria</td>\n",
       "      <td>4163617.0</td>\n",
       "      <td>1481970.0</td>\n",
       "      <td>-0.1</td>\n",
       "      <td>27100.0</td>\n",
       "      <td>8139.0</td>\n",
       "      <td>0.0</td>\n",
       "    </tr>\n",
       "    <tr>\n",
       "      <td>15</td>\n",
       "      <td>Belgium</td>\n",
       "      <td>12.0</td>\n",
       "      <td>52.0</td>\n",
       "      <td>0.0</td>\n",
       "      <td>0.0</td>\n",
       "      <td>0.0</td>\n",
       "      <td>-100.0</td>\n",
       "    </tr>\n",
       "    <tr>\n",
       "      <td>2</td>\n",
       "      <td>Canada</td>\n",
       "      <td>55255345.0</td>\n",
       "      <td>23182156.0</td>\n",
       "      <td>1.0</td>\n",
       "      <td>0.0</td>\n",
       "      <td>0.0</td>\n",
       "      <td>0.0</td>\n",
       "    </tr>\n",
       "  </tbody>\n",
       "</table>\n",
       "</div>"
      ],
      "text/plain": [
       "   Commercial Partner  Import Quantity (kg)  Import Value (CHF)  \\\n",
       "0         Total trade            68541498.0          28219190.0   \n",
       "14            Algeria                1120.0               369.0   \n",
       "1             Austria             4163617.0           1481970.0   \n",
       "15            Belgium                  12.0                52.0   \n",
       "2              Canada            55255345.0          23182156.0   \n",
       "\n",
       "    Import Value +/- %  Export Quantity (kg)  Export Value (CHF)  \\\n",
       "0                 40.0               27101.0              8144.0   \n",
       "14                 0.0                   0.0                 0.0   \n",
       "1                 -0.1               27100.0              8139.0   \n",
       "15                 0.0                   0.0                 0.0   \n",
       "2                  1.0                   0.0                 0.0   \n",
       "\n",
       "    Export Value +/- %  \n",
       "0                -99.5  \n",
       "14                 0.0  \n",
       "1                  0.0  \n",
       "15              -100.0  \n",
       "2                  0.0  "
      ]
     },
     "execution_count": 3,
     "metadata": {},
     "output_type": "execute_result"
    }
   ],
   "source": [
    "durum = merge_two_sheets(durum_1, durum_2)\n",
    "durum.head()"
   ]
  },
  {
   "cell_type": "code",
   "execution_count": 4,
   "metadata": {},
   "outputs": [],
   "source": [
    "meslin_1 = clean_impex_dataset('../../data/Impex/human-cereals-original.xlsx', '1001.9921')\n",
    "meslin_2 = clean_impex_dataset('../../data/Impex/human-cereals-original.xlsx', '1001.9929')"
   ]
  },
  {
   "cell_type": "code",
   "execution_count": 5,
   "metadata": {},
   "outputs": [],
   "source": [
    "meslin = merge_two_sheets(meslin_1, meslin_2)"
   ]
  },
  {
   "cell_type": "code",
   "execution_count": 6,
   "metadata": {},
   "outputs": [
    {
     "data": {
      "text/html": [
       "<div>\n",
       "<style scoped>\n",
       "    .dataframe tbody tr th:only-of-type {\n",
       "        vertical-align: middle;\n",
       "    }\n",
       "\n",
       "    .dataframe tbody tr th {\n",
       "        vertical-align: top;\n",
       "    }\n",
       "\n",
       "    .dataframe thead th {\n",
       "        text-align: right;\n",
       "    }\n",
       "</style>\n",
       "<table border=\"1\" class=\"dataframe\">\n",
       "  <thead>\n",
       "    <tr style=\"text-align: right;\">\n",
       "      <th></th>\n",
       "      <th>Commercial Partner</th>\n",
       "      <th>Import Quantity (kg)</th>\n",
       "      <th>Import Value (CHF)</th>\n",
       "      <th>Import Value +/- %</th>\n",
       "      <th>Export Quantity (kg)</th>\n",
       "      <th>Export Value (CHF)</th>\n",
       "      <th>Export Value +/- %</th>\n",
       "    </tr>\n",
       "  </thead>\n",
       "  <tbody>\n",
       "    <tr>\n",
       "      <td>0</td>\n",
       "      <td>Total trade</td>\n",
       "      <td>214029783.0</td>\n",
       "      <td>85459409.0</td>\n",
       "      <td>84.6</td>\n",
       "      <td>192496.0</td>\n",
       "      <td>54783.0</td>\n",
       "      <td>-105.6</td>\n",
       "    </tr>\n",
       "    <tr>\n",
       "      <td>1</td>\n",
       "      <td>Algeria</td>\n",
       "      <td>1120.0</td>\n",
       "      <td>369.0</td>\n",
       "      <td>0.0</td>\n",
       "      <td>0.0</td>\n",
       "      <td>0.0</td>\n",
       "      <td>0.0</td>\n",
       "    </tr>\n",
       "    <tr>\n",
       "      <td>17</td>\n",
       "      <td>Argentina</td>\n",
       "      <td>11787245.0</td>\n",
       "      <td>6352892.0</td>\n",
       "      <td>639.7</td>\n",
       "      <td>0.0</td>\n",
       "      <td>0.0</td>\n",
       "      <td>0.0</td>\n",
       "    </tr>\n",
       "    <tr>\n",
       "      <td>2</td>\n",
       "      <td>Austria</td>\n",
       "      <td>43328381.0</td>\n",
       "      <td>19346316.0</td>\n",
       "      <td>39.6</td>\n",
       "      <td>27100.0</td>\n",
       "      <td>8139.0</td>\n",
       "      <td>-100.0</td>\n",
       "    </tr>\n",
       "    <tr>\n",
       "      <td>3</td>\n",
       "      <td>Belgium</td>\n",
       "      <td>12.0</td>\n",
       "      <td>52.0</td>\n",
       "      <td>0.0</td>\n",
       "      <td>0.0</td>\n",
       "      <td>0.0</td>\n",
       "      <td>-100.0</td>\n",
       "    </tr>\n",
       "  </tbody>\n",
       "</table>\n",
       "</div>"
      ],
      "text/plain": [
       "   Commercial Partner  Import Quantity (kg)  Import Value (CHF)  \\\n",
       "0         Total trade           214029783.0          85459409.0   \n",
       "1             Algeria                1120.0               369.0   \n",
       "17          Argentina            11787245.0           6352892.0   \n",
       "2             Austria            43328381.0          19346316.0   \n",
       "3             Belgium                  12.0                52.0   \n",
       "\n",
       "    Import Value +/- %  Export Quantity (kg)  Export Value (CHF)  \\\n",
       "0                 84.6              192496.0             54783.0   \n",
       "1                  0.0                   0.0                 0.0   \n",
       "17               639.7                   0.0                 0.0   \n",
       "2                 39.6               27100.0              8139.0   \n",
       "3                  0.0                   0.0                 0.0   \n",
       "\n",
       "    Export Value +/- %  \n",
       "0               -105.6  \n",
       "1                  0.0  \n",
       "17                 0.0  \n",
       "2               -100.0  \n",
       "3               -100.0  "
      ]
     },
     "execution_count": 6,
     "metadata": {},
     "output_type": "execute_result"
    }
   ],
   "source": [
    "wheat = merge_two_sheets(durum, meslin)\n",
    "wheat.head()"
   ]
  },
  {
   "cell_type": "code",
   "execution_count": 7,
   "metadata": {},
   "outputs": [],
   "source": [
    "wheat.to_excel(r'../../data/Impex/wheat.xlsx')"
   ]
  },
  {
   "cell_type": "markdown",
   "metadata": {},
   "source": [
    "### Rye"
   ]
  },
  {
   "cell_type": "code",
   "execution_count": 8,
   "metadata": {},
   "outputs": [],
   "source": [
    "rye_1 = clean_impex_dataset('../../data/Impex/human-cereals-original.xlsx', '1002.9021')\n",
    "rye_2 = clean_impex_dataset('../../data/Impex/human-cereals-original.xlsx', '1002.9029')"
   ]
  },
  {
   "cell_type": "code",
   "execution_count": 9,
   "metadata": {},
   "outputs": [],
   "source": [
    "rye = merge_two_sheets(rye_1, rye_2)\n",
    "rye.to_excel(r'../../data/Impex/rye.xlsx')"
   ]
  },
  {
   "cell_type": "markdown",
   "metadata": {},
   "source": [
    "### Barley"
   ]
  },
  {
   "cell_type": "code",
   "execution_count": 11,
   "metadata": {},
   "outputs": [],
   "source": [
    "barley_1 = clean_impex_dataset('../../data/Impex/human-cereals-original.xlsx', '1003.9041')\n",
    "barley_2 = clean_impex_dataset('../../data/Impex/human-cereals-original.xlsx', '1003.9049')\n",
    "\n",
    "barley = merge_two_sheets(barley_1, barley_2)\n",
    "barley.to_excel(r'../../data/Impex/barley.xlsx')"
   ]
  },
  {
   "cell_type": "markdown",
   "metadata": {},
   "source": [
    "### Oats"
   ]
  },
  {
   "cell_type": "code",
   "execution_count": 12,
   "metadata": {},
   "outputs": [],
   "source": [
    "oats_1 = clean_impex_dataset('../../data/Impex/human-cereals-original.xlsx', '1004.9021')\n",
    "oats_2 = clean_impex_dataset('../../data/Impex/human-cereals-original.xlsx', '1004.9029')\n",
    "\n",
    "oats = merge_two_sheets(oats_1, oats_2)\n",
    "oats.to_excel(r'../../data/Impex/oats.xlsx')"
   ]
  },
  {
   "cell_type": "markdown",
   "metadata": {},
   "source": [
    "### Maize"
   ]
  },
  {
   "cell_type": "code",
   "execution_count": 13,
   "metadata": {},
   "outputs": [],
   "source": [
    "maize_1 = clean_impex_dataset('../../data/Impex/human-cereals-original.xlsx', '1005.9021')\n",
    "maize_2 = clean_impex_dataset('../../data/Impex/human-cereals-original.xlsx', '1005.9029')\n",
    "\n",
    "maize = merge_two_sheets(maize_1, maize_2)\n",
    "maize.to_excel(r'../../data/Impex/maize.xlsx')"
   ]
  },
  {
   "cell_type": "markdown",
   "metadata": {},
   "source": [
    "### Rice (of all types), to be correlated with \"rice, paddy\" from FAO"
   ]
  },
  {
   "cell_type": "code",
   "execution_count": 14,
   "metadata": {},
   "outputs": [],
   "source": [
    "rice_1 = clean_impex_dataset('../../data/Impex/human-cereals-original.xlsx', '1006.1090')\n",
    "rice_2 = clean_impex_dataset('../../data/Impex/human-cereals-original.xlsx', '1006.2090')\n",
    "rice_3 = clean_impex_dataset('../../data/Impex/human-cereals-original.xlsx', '1006.3090')\n",
    "rice_4 = clean_impex_dataset('../../data/Impex/human-cereals-original.xlsx', '1006.4090')\n",
    "rice_5 = clean_impex_dataset('../../data/Impex/human-cereals-original.xlsx', '1008.9024')"
   ]
  },
  {
   "cell_type": "code",
   "execution_count": 15,
   "metadata": {},
   "outputs": [],
   "source": [
    "rice_merge_1 = merge_two_sheets(rice_1, rice_2)\n",
    "rice_merge_2 = merge_two_sheets(rice_merge_1, rice_3)\n",
    "rice_merge_3 = merge_two_sheets(rice_merge_2, rice_4)\n",
    "rice = merge_two_sheets(rice_merge_3, rice_5)\n",
    "\n",
    "rice.to_excel(r'../../data/Impex/rice.xlsx')"
   ]
  },
  {
   "cell_type": "markdown",
   "metadata": {},
   "source": [
    "### Sorghum"
   ]
  },
  {
   "cell_type": "code",
   "execution_count": 21,
   "metadata": {},
   "outputs": [],
   "source": [
    "sorghum_1 = clean_impex_dataset('../../data/Impex/human-cereals-original.xlsx', '1007.9021')\n",
    "sorghum_2 = clean_impex_dataset('../../data/Impex/human-cereals-original.xlsx', '1007.9029')\n",
    "\n",
    "sorghum = merge_two_sheets(sorghum_1, sorghum_2)\n",
    "sorghum.to_excel(r'../../data/Impex/sorghum.xlsx')"
   ]
  },
  {
   "cell_type": "markdown",
   "metadata": {},
   "source": [
    "### Buckwheat"
   ]
  },
  {
   "cell_type": "code",
   "execution_count": 22,
   "metadata": {},
   "outputs": [],
   "source": [
    "buckwheat_1 = clean_impex_dataset('../../data/Impex/human-cereals-original.xlsx', '1008.1021')\n",
    "buckwheat_2 = clean_impex_dataset('../../data/Impex/human-cereals-original.xlsx', '1008.1029')\n",
    "\n",
    "buckwheat = merge_two_sheets(buckwheat_1, buckwheat_2)\n",
    "buckwheat.to_excel(r'../../data/Impex/buckwheat.xlsx')"
   ]
  },
  {
   "cell_type": "markdown",
   "metadata": {},
   "source": [
    "### Millet"
   ]
  },
  {
   "cell_type": "code",
   "execution_count": 18,
   "metadata": {},
   "outputs": [],
   "source": [
    "millet_1 = clean_impex_dataset('../../data/Impex/human-cereals-original.xlsx', '1008.2921')\n",
    "millet_2 = clean_impex_dataset('../../data/Impex/human-cereals-original.xlsx', '1008.2929')\n",
    "\n",
    "millet = merge_two_sheets(millet_1, millet_2)\n",
    "millet.to_excel(r'../../data/Impex/millet.xlsx')"
   ]
  },
  {
   "cell_type": "markdown",
   "metadata": {},
   "source": [
    "### Quinoa"
   ]
  },
  {
   "cell_type": "code",
   "execution_count": 19,
   "metadata": {},
   "outputs": [],
   "source": [
    "quinoa_1 = clean_impex_dataset('../../data/Impex/human-cereals-original.xlsx', '1008.5021')\n",
    "quinoa_2 = clean_impex_dataset('../../data/Impex/human-cereals-original.xlsx', '1008.5029')\n",
    "\n",
    "quinoa = merge_two_sheets(quinoa_1, quinoa_2)\n",
    "quinoa.to_excel(r'../../data/Impex/quinoa.xlsx')"
   ]
  },
  {
   "cell_type": "markdown",
   "metadata": {},
   "source": [
    "### Cereals, nes"
   ]
  },
  {
   "cell_type": "code",
   "execution_count": 20,
   "metadata": {},
   "outputs": [],
   "source": [
    "cereals_nes_1 = clean_impex_dataset('../../data/Impex/human-cereals-original.xlsx', '1008.9023')\n",
    "cereals_nes_2 = clean_impex_dataset('../../data/Impex/human-cereals-original.xlsx', '1008.9027')\n",
    "\n",
    "cereals_nes = merge_two_sheets(cereals_nes_1, cereals_nes_2)\n",
    "cereals_nes.to_excel(r'../../data/Impex/cereals_nes.xlsx')"
   ]
  },
  {
   "cell_type": "markdown",
   "metadata": {},
   "source": [
    "***\n",
    "\n",
    "# Milk and cream"
   ]
  },
  {
   "cell_type": "code",
   "execution_count": null,
   "metadata": {},
   "outputs": [],
   "source": []
  }
 ],
 "metadata": {
  "kernelspec": {
   "display_name": "Python [conda env:ada] *",
   "language": "python",
   "name": "conda-env-ada-py"
  },
  "language_info": {
   "codemirror_mode": {
    "name": "ipython",
    "version": 3
   },
   "file_extension": ".py",
   "mimetype": "text/x-python",
   "name": "python",
   "nbconvert_exporter": "python",
   "pygments_lexer": "ipython3",
   "version": "3.7.4"
  }
 },
 "nbformat": 4,
 "nbformat_minor": 2
}
