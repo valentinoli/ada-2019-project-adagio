{
 "cells": [
  {
   "cell_type": "markdown",
   "metadata": {},
   "source": [
    "# Goals for the upcoming milestone: focus on Switzerland\n",
    "* Load all relevant FAO and Impex data, and justify why we used these sources (as opposed to the Federal Statistics Office data, which gives related numbers but does not match up with what is provided by FAO and Impex)\n",
    "* From the following article, copy the emissions intensities by food group world averages data into an excel file, and load that data (we will use the global average for all countries, since by country is not available for all types of food): https://www.sciencedirect.com/science/article/pii/S0959652616303584\n",
    "* How much does Switzerland consume? -- calculate from imports, exports, and domestic production\n",
    "* How much does Switzerland produce vs. supply its needs with imports?\n",
    "* Update the README"
   ]
  },
  {
   "cell_type": "markdown",
   "metadata": {},
   "source": [
    "# Introduction\n",
    "\n",
    "There will be some text here to introduce the notebook, but I'm not sure what will go in the README vs here, so this is just a placeholder for now :)\n",
    "\n",
    "**Assumptions of this data analysis:**\n",
    "* Using global average of food production emissions for every single country, which is not at all realistic\n",
    "* Only dealing with major food groups to simplify the analysis (for example, not looking at nuts, oils, etc--just fruits, vegetables, grains, meats, and non-meat animal products)\n",
    "* etc"
   ]
  },
  {
   "cell_type": "code",
   "execution_count": 1,
   "metadata": {},
   "outputs": [],
   "source": [
    "# import external libraries\n",
    "%matplotlib inline\n",
    "import collections\n",
    "import inspect\n",
    "import pickle\n",
    "import re\n",
    "\n",
    "import pandas as pd\n",
    "import numpy as np\n",
    "\n",
    "import matplotlib.pyplot as plt\n",
    "import seaborn as sns\n",
    "\n",
    "%load_ext autoreload\n",
    "%autoreload 2"
   ]
  },
  {
   "cell_type": "code",
   "execution_count": 2,
   "metadata": {},
   "outputs": [],
   "source": [
    "# import local dependencies\n",
    "from scripts.helpers import *\n",
    "from scripts.plots import *\n",
    "from scripts.impex_data_manipulation import *\n",
    "from scripts.fao_data_manipulation import *\n",
    "from scripts.emissions_data_manipulation import *\n",
    "from scripts.data_analysis import *"
   ]
  },
  {
   "cell_type": "code",
   "execution_count": 3,
   "metadata": {},
   "outputs": [],
   "source": [
    "impex = load_impex()"
   ]
  },
  {
   "cell_type": "code",
   "execution_count": 4,
   "metadata": {},
   "outputs": [
    {
     "data": {
      "text/html": [
       "<div>\n",
       "<style scoped>\n",
       "    .dataframe tbody tr th:only-of-type {\n",
       "        vertical-align: middle;\n",
       "    }\n",
       "\n",
       "    .dataframe tbody tr th {\n",
       "        vertical-align: top;\n",
       "    }\n",
       "\n",
       "    .dataframe thead tr th {\n",
       "        text-align: left;\n",
       "    }\n",
       "</style>\n",
       "<table border=\"1\" class=\"dataframe\">\n",
       "  <thead>\n",
       "    <tr>\n",
       "      <th></th>\n",
       "      <th colspan=\"10\" halign=\"left\">fruits</th>\n",
       "      <th>...</th>\n",
       "      <th colspan=\"10\" halign=\"left\">animal_products</th>\n",
       "    </tr>\n",
       "    <tr>\n",
       "      <th></th>\n",
       "      <th colspan=\"4\" halign=\"left\">plantains_and_others</th>\n",
       "      <th colspan=\"4\" halign=\"left\">bananas</th>\n",
       "      <th colspan=\"2\" halign=\"left\">dates</th>\n",
       "      <th>...</th>\n",
       "      <th colspan=\"2\" halign=\"left\">cheese</th>\n",
       "      <th colspan=\"4\" halign=\"left\">eggs</th>\n",
       "      <th colspan=\"4\" halign=\"left\">honey</th>\n",
       "    </tr>\n",
       "    <tr>\n",
       "      <th></th>\n",
       "      <th colspan=\"2\" halign=\"left\">imports</th>\n",
       "      <th colspan=\"2\" halign=\"left\">exports</th>\n",
       "      <th colspan=\"2\" halign=\"left\">imports</th>\n",
       "      <th colspan=\"2\" halign=\"left\">exports</th>\n",
       "      <th colspan=\"2\" halign=\"left\">imports</th>\n",
       "      <th>...</th>\n",
       "      <th colspan=\"2\" halign=\"left\">exports</th>\n",
       "      <th colspan=\"2\" halign=\"left\">imports</th>\n",
       "      <th colspan=\"2\" halign=\"left\">exports</th>\n",
       "      <th colspan=\"2\" halign=\"left\">imports</th>\n",
       "      <th colspan=\"2\" halign=\"left\">exports</th>\n",
       "    </tr>\n",
       "    <tr>\n",
       "      <th></th>\n",
       "      <th>quantity</th>\n",
       "      <th>value</th>\n",
       "      <th>quantity</th>\n",
       "      <th>value</th>\n",
       "      <th>quantity</th>\n",
       "      <th>value</th>\n",
       "      <th>quantity</th>\n",
       "      <th>value</th>\n",
       "      <th>quantity</th>\n",
       "      <th>value</th>\n",
       "      <th>...</th>\n",
       "      <th>quantity</th>\n",
       "      <th>value</th>\n",
       "      <th>quantity</th>\n",
       "      <th>value</th>\n",
       "      <th>quantity</th>\n",
       "      <th>value</th>\n",
       "      <th>quantity</th>\n",
       "      <th>value</th>\n",
       "      <th>quantity</th>\n",
       "      <th>value</th>\n",
       "    </tr>\n",
       "  </thead>\n",
       "  <tbody>\n",
       "    <tr>\n",
       "      <td>total</td>\n",
       "      <td>1444222.0</td>\n",
       "      <td>1771349.0</td>\n",
       "      <td>2.0</td>\n",
       "      <td>3.0</td>\n",
       "      <td>92397628.0</td>\n",
       "      <td>105810538.0</td>\n",
       "      <td>36763.0</td>\n",
       "      <td>50822.0</td>\n",
       "      <td>2706334.0</td>\n",
       "      <td>15719362.0</td>\n",
       "      <td>...</td>\n",
       "      <td>67285451.0</td>\n",
       "      <td>601005711.0</td>\n",
       "      <td>36298734.0</td>\n",
       "      <td>75561953.0</td>\n",
       "      <td>442894.0</td>\n",
       "      <td>1462812.0</td>\n",
       "      <td>8191947.0</td>\n",
       "      <td>36137446.0</td>\n",
       "      <td>685704.0</td>\n",
       "      <td>7251815.0</td>\n",
       "    </tr>\n",
       "    <tr>\n",
       "      <td>Argentina</td>\n",
       "      <td>396.0</td>\n",
       "      <td>400.0</td>\n",
       "      <td>0.0</td>\n",
       "      <td>0.0</td>\n",
       "      <td>NaN</td>\n",
       "      <td>NaN</td>\n",
       "      <td>NaN</td>\n",
       "      <td>NaN</td>\n",
       "      <td>NaN</td>\n",
       "      <td>NaN</td>\n",
       "      <td>...</td>\n",
       "      <td>NaN</td>\n",
       "      <td>NaN</td>\n",
       "      <td>23700.0</td>\n",
       "      <td>122918.0</td>\n",
       "      <td>0.0</td>\n",
       "      <td>0.0</td>\n",
       "      <td>1407193.0</td>\n",
       "      <td>3722676.0</td>\n",
       "      <td>0.0</td>\n",
       "      <td>0.0</td>\n",
       "    </tr>\n",
       "    <tr>\n",
       "      <td>Bangladesh</td>\n",
       "      <td>130.0</td>\n",
       "      <td>349.0</td>\n",
       "      <td>0.0</td>\n",
       "      <td>0.0</td>\n",
       "      <td>NaN</td>\n",
       "      <td>NaN</td>\n",
       "      <td>NaN</td>\n",
       "      <td>NaN</td>\n",
       "      <td>NaN</td>\n",
       "      <td>NaN</td>\n",
       "      <td>...</td>\n",
       "      <td>NaN</td>\n",
       "      <td>NaN</td>\n",
       "      <td>NaN</td>\n",
       "      <td>NaN</td>\n",
       "      <td>NaN</td>\n",
       "      <td>NaN</td>\n",
       "      <td>NaN</td>\n",
       "      <td>NaN</td>\n",
       "      <td>NaN</td>\n",
       "      <td>NaN</td>\n",
       "    </tr>\n",
       "    <tr>\n",
       "      <td>Brazil</td>\n",
       "      <td>1229.0</td>\n",
       "      <td>1473.0</td>\n",
       "      <td>0.0</td>\n",
       "      <td>0.0</td>\n",
       "      <td>1301.0</td>\n",
       "      <td>3662.0</td>\n",
       "      <td>0.0</td>\n",
       "      <td>0.0</td>\n",
       "      <td>NaN</td>\n",
       "      <td>NaN</td>\n",
       "      <td>...</td>\n",
       "      <td>17892.0</td>\n",
       "      <td>245202.0</td>\n",
       "      <td>0.0</td>\n",
       "      <td>0.0</td>\n",
       "      <td>0.0</td>\n",
       "      <td>0.0</td>\n",
       "      <td>11907.0</td>\n",
       "      <td>43965.0</td>\n",
       "      <td>0.0</td>\n",
       "      <td>0.0</td>\n",
       "    </tr>\n",
       "    <tr>\n",
       "      <td>Cameroon</td>\n",
       "      <td>1529.0</td>\n",
       "      <td>2302.0</td>\n",
       "      <td>0.0</td>\n",
       "      <td>0.0</td>\n",
       "      <td>65786.0</td>\n",
       "      <td>164587.0</td>\n",
       "      <td>0.0</td>\n",
       "      <td>0.0</td>\n",
       "      <td>NaN</td>\n",
       "      <td>NaN</td>\n",
       "      <td>...</td>\n",
       "      <td>NaN</td>\n",
       "      <td>NaN</td>\n",
       "      <td>NaN</td>\n",
       "      <td>NaN</td>\n",
       "      <td>NaN</td>\n",
       "      <td>NaN</td>\n",
       "      <td>NaN</td>\n",
       "      <td>NaN</td>\n",
       "      <td>NaN</td>\n",
       "      <td>NaN</td>\n",
       "    </tr>\n",
       "  </tbody>\n",
       "</table>\n",
       "<p>5 rows × 284 columns</p>\n",
       "</div>"
      ],
      "text/plain": [
       "                         fruits                                        \\\n",
       "           plantains_and_others                               bananas   \n",
       "                        imports             exports           imports   \n",
       "                       quantity      value quantity value    quantity   \n",
       "total                 1444222.0  1771349.0      2.0   3.0  92397628.0   \n",
       "Argentina                 396.0      400.0      0.0   0.0         NaN   \n",
       "Bangladesh                130.0      349.0      0.0   0.0         NaN   \n",
       "Brazil                   1229.0     1473.0      0.0   0.0      1301.0   \n",
       "Cameroon                 1529.0     2302.0      0.0   0.0     65786.0   \n",
       "\n",
       "                                                                  ...  \\\n",
       "                                               dates              ...   \n",
       "                         exports             imports              ...   \n",
       "                  value quantity    value   quantity       value  ...   \n",
       "total       105810538.0  36763.0  50822.0  2706334.0  15719362.0  ...   \n",
       "Argentina           NaN      NaN      NaN        NaN         NaN  ...   \n",
       "Bangladesh          NaN      NaN      NaN        NaN         NaN  ...   \n",
       "Brazil           3662.0      0.0      0.0        NaN         NaN  ...   \n",
       "Cameroon       164587.0      0.0      0.0        NaN         NaN  ...   \n",
       "\n",
       "           animal_products                                                 \\\n",
       "                    cheese                     eggs                         \n",
       "                   exports                  imports               exports   \n",
       "                  quantity        value    quantity       value  quantity   \n",
       "total           67285451.0  601005711.0  36298734.0  75561953.0  442894.0   \n",
       "Argentina              NaN          NaN     23700.0    122918.0       0.0   \n",
       "Bangladesh             NaN          NaN         NaN         NaN       NaN   \n",
       "Brazil             17892.0     245202.0         0.0         0.0       0.0   \n",
       "Cameroon               NaN          NaN         NaN         NaN       NaN   \n",
       "\n",
       "                                                                   \n",
       "                           honey                                   \n",
       "                         imports               exports             \n",
       "                value   quantity       value  quantity      value  \n",
       "total       1462812.0  8191947.0  36137446.0  685704.0  7251815.0  \n",
       "Argentina         0.0  1407193.0   3722676.0       0.0        0.0  \n",
       "Bangladesh        NaN        NaN         NaN       NaN        NaN  \n",
       "Brazil            0.0    11907.0     43965.0       0.0        0.0  \n",
       "Cameroon          NaN        NaN         NaN       NaN        NaN  \n",
       "\n",
       "[5 rows x 284 columns]"
      ]
     },
     "execution_count": 4,
     "metadata": {},
     "output_type": "execute_result"
    }
   ],
   "source": [
    "impex.head()"
   ]
  },
  {
   "cell_type": "code",
   "execution_count": 6,
   "metadata": {},
   "outputs": [
    {
     "data": {
      "text/html": [
       "<div>\n",
       "<style scoped>\n",
       "    .dataframe tbody tr th:only-of-type {\n",
       "        vertical-align: middle;\n",
       "    }\n",
       "\n",
       "    .dataframe tbody tr th {\n",
       "        vertical-align: top;\n",
       "    }\n",
       "\n",
       "    .dataframe thead th {\n",
       "        text-align: right;\n",
       "    }\n",
       "</style>\n",
       "<table border=\"1\" class=\"dataframe\">\n",
       "  <thead>\n",
       "    <tr style=\"text-align: right;\">\n",
       "      <th></th>\n",
       "      <th></th>\n",
       "      <th>total</th>\n",
       "    </tr>\n",
       "    <tr>\n",
       "      <th>subtype</th>\n",
       "      <th>metric</th>\n",
       "      <th></th>\n",
       "    </tr>\n",
       "  </thead>\n",
       "  <tbody>\n",
       "    <tr>\n",
       "      <td rowspan=\"2\" valign=\"top\">plantains_and_others</td>\n",
       "      <td>imports</td>\n",
       "      <td>1444222.0</td>\n",
       "    </tr>\n",
       "    <tr>\n",
       "      <td>exports</td>\n",
       "      <td>2.0</td>\n",
       "    </tr>\n",
       "    <tr>\n",
       "      <td rowspan=\"2\" valign=\"top\">bananas</td>\n",
       "      <td>imports</td>\n",
       "      <td>92397628.0</td>\n",
       "    </tr>\n",
       "    <tr>\n",
       "      <td>exports</td>\n",
       "      <td>36763.0</td>\n",
       "    </tr>\n",
       "    <tr>\n",
       "      <td>dates</td>\n",
       "      <td>imports</td>\n",
       "      <td>2706334.0</td>\n",
       "    </tr>\n",
       "  </tbody>\n",
       "</table>\n",
       "</div>"
      ],
      "text/plain": [
       "                                   total\n",
       "subtype              metric             \n",
       "plantains_and_others imports   1444222.0\n",
       "                     exports         2.0\n",
       "bananas              imports  92397628.0\n",
       "                     exports     36763.0\n",
       "dates                imports   2706334.0"
      ]
     },
     "execution_count": 6,
     "metadata": {},
     "output_type": "execute_result"
    }
   ],
   "source": [
    "impex_total = pd.DataFrame(impex.iloc[0]).drop(\"value\", level=3).droplevel([0, 3])\n",
    "# impex_total.index = impex_total.index.set_names([\"subtype\", \"metric\"])\n",
    "impex_total.reset_index(inplace=True)\n",
    "impex_total.head()"
   ]
  },
  {
   "cell_type": "code",
   "execution_count": null,
   "metadata": {},
   "outputs": [],
   "source": [
    "data = impex_total.copy()\n",
    "data.head()\n",
    "\n",
    "data.Total = data.Total / 1000\n",
    "\n",
    "plt.figure(figsize=(12, 4))\n",
    "ax = sns.barplot(x=\"subtype\", y=\"Total\", hue=\"impex\", data=data)\n",
    "\n",
    "ax.set(\n",
    "    title=\"Total imports vs. exports\",\n",
    "    xlabel=\"Commodity\",\n",
    "    ylabel=\"Quantity (tonnes)\"\n",
    ")\n",
    "plt.xticks(rotation=90)\n",
    "sns.despine();"
   ]
  },
  {
   "cell_type": "markdown",
   "metadata": {},
   "source": [
    "***\n",
    "**Exploratory data analysis**\n",
    "***\n",
    "\n",
    "The first step is to calculate, for each type of food, how much of what is consumed by the Swiss population is produced within Switzerland versus imported. To do this, we will combine 3 sets of data: imports, exports, and domestic production. The imports and exports data are sourced from [Swiss Impex](https://www.gate.ezv.admin.ch/swissimpex/index.xhtml), a website hosted by the Swiss Federal Customs Administration which provides data on Switzerland's global trade activity. Domestic production data comes from [FAOStat](http://www.fao.org/faostat/en/#data), the Food and Agriculture Organization of the United Nations which offers a variety of agricultural-related data. In theory, the amount of food consumed in Switzerland (including food waste) can be calculated from these datasets:\n",
    "\n",
    "Food consumed = domestic production + imports - exports\n",
    "\n",
    "Note that the Swiss Federal Statistics Office also provided relevant data--namely, it has a dataset on Swiss food consumption by type of food. Unfortunately, these data conflicted with the data from FAO and Swiss Impex. Since the Federal Statistics Office data was much less detailed (for instance, more general/broad food categories), we decided to focus on Impex and FAO, knowing that the numbers must be taken with a grain of salt since it is difficult to accurately quantify such data.\n",
    "\n",
    "Let's load all the data and then combine the various data sets to get the values of interest."
   ]
  },
  {
   "cell_type": "code",
   "execution_count": 7,
   "metadata": {},
   "outputs": [],
   "source": [
    "# only fruits and vegetables for now\n",
    "fao = load_fao()"
   ]
  },
  {
   "cell_type": "code",
   "execution_count": 17,
   "metadata": {},
   "outputs": [
    {
     "data": {
      "text/html": [
       "<div>\n",
       "<style scoped>\n",
       "    .dataframe tbody tr th:only-of-type {\n",
       "        vertical-align: middle;\n",
       "    }\n",
       "\n",
       "    .dataframe tbody tr th {\n",
       "        vertical-align: top;\n",
       "    }\n",
       "\n",
       "    .dataframe thead th {\n",
       "        text-align: right;\n",
       "    }\n",
       "</style>\n",
       "<table border=\"1\" class=\"dataframe\">\n",
       "  <thead>\n",
       "    <tr style=\"text-align: right;\">\n",
       "      <th></th>\n",
       "      <th></th>\n",
       "      <th>total</th>\n",
       "    </tr>\n",
       "    <tr>\n",
       "      <th>subtype</th>\n",
       "      <th>metric</th>\n",
       "      <th></th>\n",
       "    </tr>\n",
       "  </thead>\n",
       "  <tbody>\n",
       "    <tr>\n",
       "      <td>agave_fibres_nes</td>\n",
       "      <td>production</td>\n",
       "      <td>0.0</td>\n",
       "    </tr>\n",
       "    <tr>\n",
       "      <td>almonds_with_shell</td>\n",
       "      <td>production</td>\n",
       "      <td>0.0</td>\n",
       "    </tr>\n",
       "    <tr>\n",
       "      <td>anise_badian_fennel_coriander</td>\n",
       "      <td>production</td>\n",
       "      <td>0.0</td>\n",
       "    </tr>\n",
       "    <tr>\n",
       "      <td>apples</td>\n",
       "      <td>production</td>\n",
       "      <td>225622000.0</td>\n",
       "    </tr>\n",
       "    <tr>\n",
       "      <td>apricots</td>\n",
       "      <td>production</td>\n",
       "      <td>9420000.0</td>\n",
       "    </tr>\n",
       "  </tbody>\n",
       "</table>\n",
       "</div>"
      ],
      "text/plain": [
       "                                                total\n",
       "subtype                       metric                 \n",
       "agave_fibres_nes              production          0.0\n",
       "almonds_with_shell            production          0.0\n",
       "anise_badian_fennel_coriander production          0.0\n",
       "apples                        production  225622000.0\n",
       "apricots                      production    9420000.0"
      ]
     },
     "execution_count": 17,
     "metadata": {},
     "output_type": "execute_result"
    }
   ],
   "source": [
    "fao.head()"
   ]
  },
  {
   "cell_type": "code",
   "execution_count": 22,
   "metadata": {},
   "outputs": [],
   "source": [
    "# mega = fao.join(impex_total, how=\"outer\").sort_values(\"subtype\")\n",
    "mega = pd.concat([impex_total, fao]).sort_values(\"subtype\")"
   ]
  },
  {
   "cell_type": "code",
   "execution_count": 23,
   "metadata": {},
   "outputs": [
    {
     "data": {
      "text/html": [
       "<div>\n",
       "<style scoped>\n",
       "    .dataframe tbody tr th:only-of-type {\n",
       "        vertical-align: middle;\n",
       "    }\n",
       "\n",
       "    .dataframe tbody tr th {\n",
       "        vertical-align: top;\n",
       "    }\n",
       "\n",
       "    .dataframe thead th {\n",
       "        text-align: right;\n",
       "    }\n",
       "</style>\n",
       "<table border=\"1\" class=\"dataframe\">\n",
       "  <thead>\n",
       "    <tr style=\"text-align: right;\">\n",
       "      <th></th>\n",
       "      <th></th>\n",
       "      <th>total</th>\n",
       "    </tr>\n",
       "    <tr>\n",
       "      <th>subtype</th>\n",
       "      <th>metric</th>\n",
       "      <th></th>\n",
       "    </tr>\n",
       "  </thead>\n",
       "  <tbody>\n",
       "    <tr>\n",
       "      <td>agave_fibres_nes</td>\n",
       "      <td>production</td>\n",
       "      <td>0.0</td>\n",
       "    </tr>\n",
       "    <tr>\n",
       "      <td>almonds_with_shell</td>\n",
       "      <td>production</td>\n",
       "      <td>0.0</td>\n",
       "    </tr>\n",
       "    <tr>\n",
       "      <td>anise_badian_fennel_coriander</td>\n",
       "      <td>production</td>\n",
       "      <td>0.0</td>\n",
       "    </tr>\n",
       "    <tr>\n",
       "      <td rowspan=\"3\" valign=\"top\">apples</td>\n",
       "      <td>exports</td>\n",
       "      <td>3027636.0</td>\n",
       "    </tr>\n",
       "    <tr>\n",
       "      <td>production</td>\n",
       "      <td>225622000.0</td>\n",
       "    </tr>\n",
       "    <tr>\n",
       "      <td>imports</td>\n",
       "      <td>12116858.0</td>\n",
       "    </tr>\n",
       "    <tr>\n",
       "      <td rowspan=\"3\" valign=\"top\">apricots</td>\n",
       "      <td>production</td>\n",
       "      <td>9420000.0</td>\n",
       "    </tr>\n",
       "    <tr>\n",
       "      <td>imports</td>\n",
       "      <td>11934233.0</td>\n",
       "    </tr>\n",
       "    <tr>\n",
       "      <td>exports</td>\n",
       "      <td>7492.0</td>\n",
       "    </tr>\n",
       "    <tr>\n",
       "      <td>areca_nuts</td>\n",
       "      <td>production</td>\n",
       "      <td>0.0</td>\n",
       "    </tr>\n",
       "    <tr>\n",
       "      <td rowspan=\"3\" valign=\"top\">artichokes</td>\n",
       "      <td>production</td>\n",
       "      <td>0.0</td>\n",
       "    </tr>\n",
       "    <tr>\n",
       "      <td>imports</td>\n",
       "      <td>1331845.0</td>\n",
       "    </tr>\n",
       "    <tr>\n",
       "      <td>exports</td>\n",
       "      <td>658.0</td>\n",
       "    </tr>\n",
       "    <tr>\n",
       "      <td rowspan=\"2\" valign=\"top\">asparagus</td>\n",
       "      <td>production</td>\n",
       "      <td>722000.0</td>\n",
       "    </tr>\n",
       "    <tr>\n",
       "      <td>imports</td>\n",
       "      <td>9096875.0</td>\n",
       "    </tr>\n",
       "  </tbody>\n",
       "</table>\n",
       "</div>"
      ],
      "text/plain": [
       "                                                total\n",
       "subtype                       metric                 \n",
       "agave_fibres_nes              production          0.0\n",
       "almonds_with_shell            production          0.0\n",
       "anise_badian_fennel_coriander production          0.0\n",
       "apples                        exports       3027636.0\n",
       "                              production  225622000.0\n",
       "                              imports      12116858.0\n",
       "apricots                      production    9420000.0\n",
       "                              imports      11934233.0\n",
       "                              exports          7492.0\n",
       "areca_nuts                    production          0.0\n",
       "artichokes                    production          0.0\n",
       "                              imports       1331845.0\n",
       "                              exports           658.0\n",
       "asparagus                     production     722000.0\n",
       "                              imports       9096875.0"
      ]
     },
     "execution_count": 23,
     "metadata": {},
     "output_type": "execute_result"
    }
   ],
   "source": [
    "# Goal for final milestone: \n",
    "# Clean this dataframe and add consumption info:\n",
    "# 1. domestically produced and consumed\n",
    "# 2. imported and consumed\n",
    "mega"
   ]
  },
  {
   "cell_type": "markdown",
   "metadata": {},
   "source": [
    "# TODO: download and load here domestic production of meats, animal products"
   ]
  },
  {
   "cell_type": "markdown",
   "metadata": {},
   "source": [
    "# TODO: download and then load here all datasets for other food types (meat, animal products, grains/cereals)\n",
    "\n",
    "Then, the idea going from here onwards: merge the various datasets so that we eventually have one dataframe with each type of food (e.g. bananas, potatoes, etc.) and one column for how much is grown domestically and not exported, and another column for how much is imported. Maybe also do some pretty visualizations, like make a ratio of those two columns and then plot to see if there are any identifiable clusters?"
   ]
  },
  {
   "cell_type": "markdown",
   "metadata": {},
   "source": [
    "***\n",
    "\n",
    "After finishing what is listed in the cell above, we can go further into animal feed.....\n",
    "\n",
    "One interesting aspect of meat and non-meat animal product production, which is not relevant to the other food groups, is that animal feed may be sourced from a different location than where the meat/animal product is produced. This implicates the sourcing of animal feed as a very important factor for the carbon intensity of these foods. For example, if Switzerland produced most of its meat domestically, but it imported all of its feed, the carbon intensity of its meat would be much higher than if the feed were grown domestically. Thus, both aspects of the final food product must be examined.\n",
    "\n",
    "Let's now examine Swiss production, imports, and exports of *animal feed*. "
   ]
  },
  {
   "cell_type": "code",
   "execution_count": null,
   "metadata": {},
   "outputs": [],
   "source": [
    "%psource load_imported_feed"
   ]
  },
  {
   "cell_type": "code",
   "execution_count": null,
   "metadata": {},
   "outputs": [],
   "source": [
    "imported_feed = load_imported_feed()\n",
    "imported_feed.head()"
   ]
  },
  {
   "cell_type": "markdown",
   "metadata": {},
   "source": [
    "# TODO: download and load here the datasets for animal feed exported and grown domestically"
   ]
  },
  {
   "cell_type": "code",
   "execution_count": null,
   "metadata": {},
   "outputs": [],
   "source": [
    "ratio_nearby_feed = compute_nearby_imports_ratio(imported_feed)\n",
    "print(\"{0:.1%} of imported feed comes from nearby countries\".format(ratio_nearby_feed))"
   ]
  },
  {
   "cell_type": "markdown",
   "metadata": {},
   "source": [
    "Nearly three-quarters of imported animal feed is imported from nearby countries, which means when Switzerland must import feed, they mostly minimize carbon emissions from the process by reducing the travel distance of the feed. More importantly, a report from the State Secretariat for Economic Affairs (\"Concentrate Animal Feed as an Input Good in Swiss Agricultural Production - The Effects of Border Protection and Other Support Measures\") claims 90% of animal feed used in Switzerland is domestically produced, drastically reducing the carbon impact of the meat industry in the country. This percentage can be found in [this PDF document](https://www.sbv-usp.ch/fileadmin/sbvuspch/00_Bilder/06_Services/Agristat/Statistiken/Produktionsmittel__Umwelt/SES2018_Kap04_Produktionsmittel-Umwelt.pdf) (see the table on page 8):"
   ]
  },
  {
   "cell_type": "markdown",
   "metadata": {},
   "source": [
    "We will need to pay attention to where food is coming from by animal type. For example, 90% of cow and cattle feed is domestically produced, whereas that number is only 52% for pork and 30% for poultry (found in the Concentrate Animal Feed report above, where it was sourced from the PDF linked above). So even if chickens are less carbon intensive, they require more imported feed which might increase their carbon output!"
   ]
  },
  {
   "cell_type": "markdown",
   "metadata": {},
   "source": [
    "As we can see from the above table, Switzerland imported 77 million kg of meat and edible offal in 2018 (equivalent to 77 thousand tonnes)."
   ]
  },
  {
   "cell_type": "markdown",
   "metadata": {},
   "source": [
    "## Emissions\n"
   ]
  },
  {
   "cell_type": "markdown",
   "metadata": {},
   "source": [
    "Now that we have calculated Switzerland's production and consumption, we want to have a look at how this translates in terms of equivalent CO$_2$ production. To do this, we could look at Swiss-specific values for the greenhouse gas production for different food types, however data from other countries is very sparse and reliable data for many food types is only available for certain countries. Later in the analysis, we want to compare Swiss production emissions with Swiss import emissions, therefore for consistency we need to either have data available for all (or most) countries for a given product, or use global averages. Comprehensive data is available on meat and cereal production emissions worldwide, however fruit and vegetable figures are much harder to obtain and only a limited number of studies have been carried out. These studies have been accumulated in a systematic review (https://www.sciencedirect.com/science/article/pii/S0959652616303584) and these values have been used to calculate averages for a number of different kinds of produce. To ensure our results are consistent, we will use this generalisation of global average values to estimate the domestic Swiss emissions for fruit and vegetables.\n",
    "\n",
    "<!---\n",
    "Other thought: I've currently created a dictionary to map the different fruit/veg to the impex categories. Was just thinking, this could be a potential spot to use machine learning, although admittedly not a very useful one...\n",
    "--->"
   ]
  },
  {
   "cell_type": "code",
   "execution_count": 4,
   "metadata": {},
   "outputs": [
    {
     "data": {
      "text/html": [
       "<div>\n",
       "<style scoped>\n",
       "    .dataframe tbody tr th:only-of-type {\n",
       "        vertical-align: middle;\n",
       "    }\n",
       "\n",
       "    .dataframe tbody tr th {\n",
       "        vertical-align: top;\n",
       "    }\n",
       "\n",
       "    .dataframe thead th {\n",
       "        text-align: right;\n",
       "    }\n",
       "</style>\n",
       "<table border=\"1\" class=\"dataframe\">\n",
       "  <thead>\n",
       "    <tr style=\"text-align: right;\">\n",
       "      <th></th>\n",
       "      <th>Median</th>\n",
       "      <th>Mean</th>\n",
       "      <th>Stdev</th>\n",
       "      <th>Deviation from mean</th>\n",
       "      <th>Min</th>\n",
       "      <th>Max</th>\n",
       "      <th>Q1</th>\n",
       "      <th>Q3</th>\n",
       "      <th>No. of LCA studies</th>\n",
       "      <th>No. of GWP values</th>\n",
       "      <th>Category</th>\n",
       "    </tr>\n",
       "    <tr>\n",
       "      <th>Name</th>\n",
       "      <th></th>\n",
       "      <th></th>\n",
       "      <th></th>\n",
       "      <th></th>\n",
       "      <th></th>\n",
       "      <th></th>\n",
       "      <th></th>\n",
       "      <th></th>\n",
       "      <th></th>\n",
       "      <th></th>\n",
       "      <th></th>\n",
       "    </tr>\n",
       "  </thead>\n",
       "  <tbody>\n",
       "    <tr>\n",
       "      <td>Onion</td>\n",
       "      <td>0.17</td>\n",
       "      <td>0.18</td>\n",
       "      <td>0.11</td>\n",
       "      <td>0.60</td>\n",
       "      <td>0.06</td>\n",
       "      <td>0.37</td>\n",
       "      <td>0.10</td>\n",
       "      <td>0.21</td>\n",
       "      <td>7</td>\n",
       "      <td>9</td>\n",
       "      <td>onions_garlic_shallots_leeks</td>\n",
       "    </tr>\n",
       "    <tr>\n",
       "      <td>Celery</td>\n",
       "      <td>0.18</td>\n",
       "      <td>NaN</td>\n",
       "      <td>NaN</td>\n",
       "      <td>NaN</td>\n",
       "      <td>NaN</td>\n",
       "      <td>NaN</td>\n",
       "      <td>NaN</td>\n",
       "      <td>NaN</td>\n",
       "      <td>1</td>\n",
       "      <td>1</td>\n",
       "      <td>onions_garlic_shallots_leeks</td>\n",
       "    </tr>\n",
       "    <tr>\n",
       "      <td>Potatoes</td>\n",
       "      <td>0.18</td>\n",
       "      <td>0.20</td>\n",
       "      <td>0.08</td>\n",
       "      <td>0.41</td>\n",
       "      <td>0.08</td>\n",
       "      <td>0.36</td>\n",
       "      <td>0.16</td>\n",
       "      <td>0.26</td>\n",
       "      <td>16</td>\n",
       "      <td>25</td>\n",
       "      <td>potatoes</td>\n",
       "    </tr>\n",
       "    <tr>\n",
       "      <td>Carrots</td>\n",
       "      <td>0.20</td>\n",
       "      <td>0.22</td>\n",
       "      <td>0.15</td>\n",
       "      <td>0.65</td>\n",
       "      <td>0.04</td>\n",
       "      <td>0.50</td>\n",
       "      <td>0.11</td>\n",
       "      <td>0.31</td>\n",
       "      <td>10</td>\n",
       "      <td>13</td>\n",
       "      <td>edible_roots</td>\n",
       "    </tr>\n",
       "    <tr>\n",
       "      <td>Zucchini/button squash</td>\n",
       "      <td>0.21</td>\n",
       "      <td>0.42</td>\n",
       "      <td>0.50</td>\n",
       "      <td>1.21</td>\n",
       "      <td>0.09</td>\n",
       "      <td>1.17</td>\n",
       "      <td>0.16</td>\n",
       "      <td>0.46</td>\n",
       "      <td>3</td>\n",
       "      <td>4</td>\n",
       "      <td>other</td>\n",
       "    </tr>\n",
       "  </tbody>\n",
       "</table>\n",
       "</div>"
      ],
      "text/plain": [
       "                        Median  Mean  Stdev  Deviation from mean   Min   Max  \\\n",
       "Name                                                                           \n",
       "Onion                     0.17  0.18   0.11                 0.60  0.06  0.37   \n",
       "Celery                    0.18   NaN    NaN                  NaN   NaN   NaN   \n",
       "Potatoes                  0.18  0.20   0.08                 0.41  0.08  0.36   \n",
       "Carrots                   0.20  0.22   0.15                 0.65  0.04  0.50   \n",
       "Zucchini/button squash    0.21  0.42   0.50                 1.21  0.09  1.17   \n",
       "\n",
       "                          Q1    Q3  No. of LCA studies  No. of GWP values  \\\n",
       "Name                                                                        \n",
       "Onion                   0.10  0.21                   7                  9   \n",
       "Celery                   NaN   NaN                   1                  1   \n",
       "Potatoes                0.16  0.26                  16                 25   \n",
       "Carrots                 0.11  0.31                  10                 13   \n",
       "Zucchini/button squash  0.16  0.46                   3                  4   \n",
       "\n",
       "                                            Category  \n",
       "Name                                                  \n",
       "Onion                   onions_garlic_shallots_leeks  \n",
       "Celery                  onions_garlic_shallots_leeks  \n",
       "Potatoes                                    potatoes  \n",
       "Carrots                                 edible_roots  \n",
       "Zucchini/button squash                         other  "
      ]
     },
     "execution_count": 4,
     "metadata": {},
     "output_type": "execute_result"
    }
   ],
   "source": [
    "emissions = load_emissions()\n",
    "emissions.head()"
   ]
  },
  {
   "cell_type": "markdown",
   "metadata": {},
   "source": [
    "The food names in the above dataframe need to be mapped to the format of the production, imports and exports dataframe above. Taking an example dataframe containing consumption within Switzerland of Swiss produced products (Domestic Consumption), consumption of imported products (Imported Consumption) and Total Consumption (in thousand tonnes per year), we can use the above values to estimate the emissions resulting from the production of food consumed in Switzerland."
   ]
  },
  {
   "cell_type": "code",
   "execution_count": 7,
   "metadata": {},
   "outputs": [],
   "source": [
    "pretend = {\"Product\":[\"Onion\",\"Beetroot\"], \"Domestic Consumption\":[1000,2000], \"Imported Consumption\":[2000,4000], \"Total Consumption\":[3000,6000]}\n",
    "domestic = pd.DataFrame.from_dict(pretend)"
   ]
  },
  {
   "cell_type": "markdown",
   "metadata": {},
   "source": [
    "So assuming that domestic transport is negligible, we can estimate the equivalent CO$_2$ emissions for each product type, using the global average values."
   ]
  },
  {
   "cell_type": "code",
   "execution_count": 15,
   "metadata": {},
   "outputs": [],
   "source": [
    "# TODO update this code to work with merged dataframe above + include all categories\n",
    "domestic = estimate_emissions(domestic, emissions)"
   ]
  },
  {
   "cell_type": "code",
   "execution_count": 9,
   "metadata": {},
   "outputs": [
    {
     "data": {
      "text/html": [
       "<div>\n",
       "<style scoped>\n",
       "    .dataframe tbody tr th:only-of-type {\n",
       "        vertical-align: middle;\n",
       "    }\n",
       "\n",
       "    .dataframe tbody tr th {\n",
       "        vertical-align: top;\n",
       "    }\n",
       "\n",
       "    .dataframe thead th {\n",
       "        text-align: right;\n",
       "    }\n",
       "</style>\n",
       "<table border=\"1\" class=\"dataframe\">\n",
       "  <thead>\n",
       "    <tr style=\"text-align: right;\">\n",
       "      <th></th>\n",
       "      <th>Product</th>\n",
       "      <th>Domestic Consumption</th>\n",
       "      <th>Imported Consumption</th>\n",
       "      <th>Total Consumption</th>\n",
       "      <th>Domestic Equivalent CO2</th>\n",
       "      <th>Imported Equivalent CO2</th>\n",
       "      <th>Total Equivalent CO2</th>\n",
       "    </tr>\n",
       "  </thead>\n",
       "  <tbody>\n",
       "    <tr>\n",
       "      <td>0</td>\n",
       "      <td>Onion</td>\n",
       "      <td>1000</td>\n",
       "      <td>2000</td>\n",
       "      <td>3000</td>\n",
       "      <td>180000000.0</td>\n",
       "      <td>360000000.0</td>\n",
       "      <td>5.400000e+08</td>\n",
       "    </tr>\n",
       "    <tr>\n",
       "      <td>1</td>\n",
       "      <td>Beetroot</td>\n",
       "      <td>2000</td>\n",
       "      <td>4000</td>\n",
       "      <td>6000</td>\n",
       "      <td>460000000.0</td>\n",
       "      <td>920000000.0</td>\n",
       "      <td>1.380000e+09</td>\n",
       "    </tr>\n",
       "  </tbody>\n",
       "</table>\n",
       "</div>"
      ],
      "text/plain": [
       "    Product  Domestic Consumption  Imported Consumption  Total Consumption  \\\n",
       "0     Onion                  1000                  2000               3000   \n",
       "1  Beetroot                  2000                  4000               6000   \n",
       "\n",
       "   Domestic Equivalent CO2  Imported Equivalent CO2  Total Equivalent CO2  \n",
       "0              180000000.0              360000000.0          5.400000e+08  \n",
       "1              460000000.0              920000000.0          1.380000e+09  "
      ]
     },
     "execution_count": 9,
     "metadata": {},
     "output_type": "execute_result"
    }
   ],
   "source": [
    "domestic"
   ]
  },
  {
   "cell_type": "markdown",
   "metadata": {},
   "source": [
    "The final column of the above table shows the total CO$_2$ equivalent that would be produced if everything that was consumed in Switzerland was domestically produced, i.e. no transport emissions were considered and Swiss-specific CO$_2$ emissions were used for meat and cereal production. Evidently, it is not possible to produce everything that a current consumer buys locally, so in the following analysis we will consider the effect that these imported products and 'food miles' have on the CO$_2$ emissions resulting from Swiss consumption. \n",
    "\n",
    "The following will describe initial observations we have made regarding the transport of food, global carbon emissions intensities, and how we plan to use this information to estimate the impact consumption of different foods in Switzerland has and how a Swiss consumer can minimise their environmental impact in their food choices."
   ]
  },
  {
   "cell_type": "markdown",
   "metadata": {},
   "source": [
    "## Further Analysis"
   ]
  },
  {
   "cell_type": "markdown",
   "metadata": {},
   "source": [
    "'Food miles', or the distance that food has to travel to arrive on your plate, clearly have an impact on the carbon emissions of the products we consume. Let's look at how much of the food, beverages, and tobacco that Switzerland imports comes from its nearest neighboring countries. The farther a country is, the more carbon emissions it would cost to import that food."
   ]
  },
  {
   "cell_type": "code",
   "execution_count": 10,
   "metadata": {},
   "outputs": [
    {
     "name": "stdout",
     "output_type": "stream",
     "text": [
      "76.0% of Switzerland's total imports come from countries within a 1000km radius.\n"
     ]
    }
   ],
   "source": [
    "percentage = glimpse()\n",
    "print(str(round(percentage)) + \"% of Switzerland's total imports come from countries within a 1000km radius.\")"
   ]
  },
  {
   "cell_type": "markdown",
   "metadata": {},
   "source": [
    "So we can see that a lot of Switzerland's imports come from nearby countries. We will continue in this vein and look at the origins of each product individually to see the impact these food miles/varying production methods have on their carbon footprint. One thing we will consider is the transport methods, clearly the impact of these food miles differs greatly depending on whether the food is transported by plane or ship..."
   ]
  },
  {
   "cell_type": "code",
   "execution_count": 14,
   "metadata": {},
   "outputs": [
    {
     "data": {
      "text/html": [
       "<img src=\"https://icmattermost.epfl.ch/files/5zr1jyriupfsfgmr4dtg155ssw/public?h=_GPk0xYK1I16gWsY3GuIsrFC5bTb3Ioh4_W3h3oYDs8\" width=\"400\" height=\"300\"/>"
      ],
      "text/plain": [
       "<IPython.core.display.Image object>"
      ]
     },
     "execution_count": 14,
     "metadata": {},
     "output_type": "execute_result"
    }
   ],
   "source": [
    "from IPython.display import Image\n",
    "Image(url = \"https://icmattermost.epfl.ch/files/5zr1jyriupfsfgmr4dtg155ssw/public?h=_GPk0xYK1I16gWsY3GuIsrFC5bTb3Ioh4_W3h3oYDs8\", width=400,height=300)"
   ]
  },
  {
   "cell_type": "markdown",
   "metadata": {},
   "source": [
    "Transport methods for different commodoties in the USA are described in detail in the paper *Food-Miles and the Relative Climate Impacts of Food Choices in the United States* (Weber and Matthews, 2008). These values, or similar data for other countries worldwide could be used to estimate the transport means for different products and thus the impact this transport has on emissions for each product. Perishable products more frequently have to be transported by air, and therefore have a significantly larger carbon footprint."
   ]
  },
  {
   "cell_type": "markdown",
   "metadata": {},
   "source": []
  }
 ],
 "metadata": {
  "kernelspec": {
   "display_name": "Python [conda env:ada] *",
   "language": "python",
   "name": "conda-env-ada-py"
  },
  "language_info": {
   "codemirror_mode": {
    "name": "ipython",
    "version": 3
   },
   "file_extension": ".py",
   "mimetype": "text/x-python",
   "name": "python",
   "nbconvert_exporter": "python",
   "pygments_lexer": "ipython3",
   "version": "3.7.4"
  }
 },
 "nbformat": 4,
 "nbformat_minor": 4
}
