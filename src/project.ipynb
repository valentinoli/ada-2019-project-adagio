{
 "cells": [
  {
   "cell_type": "markdown",
   "metadata": {},
   "source": [
    "**Reducing the Swiss \"Foodprint\": How an Individual can Readjust their Carbon Output**"
   ]
  },
  {
   "cell_type": "markdown",
   "metadata": {},
   "source": [
    "This notebook contains detailed data analysis and visualizations of the [Swiss Foodprint](https://valentinoli.github.io/swiss-foodprint/) project. Please view the [`README`](https://github.com/valentinoli/swiss-foodprint/blob/master/README.md) for overall project goals and background information. The project is hosted on [GitHub](https://github.com/valentinoli/swiss-foodprint)."
   ]
  },
  {
   "cell_type": "code",
   "execution_count": 1,
   "metadata": {},
   "outputs": [],
   "source": [
    "# import external libraries\n",
    "%matplotlib inline\n",
    "import collections\n",
    "import inspect\n",
    "import pickle\n",
    "import re\n",
    "\n",
    "import pandas as pd\n",
    "import numpy as np\n",
    "\n",
    "# prevent internal problem with networkx from showing error\n",
    "import warnings\n",
    "warnings.filterwarnings(\"ignore\", category=UserWarning)\n",
    "\n",
    "%load_ext autoreload\n",
    "%autoreload 2"
   ]
  },
  {
   "cell_type": "code",
   "execution_count": 2,
   "metadata": {},
   "outputs": [],
   "source": [
    "# import local dependencies\n",
    "import sys\n",
    "sys.path.insert(1, \"scripts\")\n",
    "\n",
    "from plots import *\n",
    "from impex_data_manipulation import *\n",
    "from impex_countries import *\n",
    "from fao_data_manipulation import *\n",
    "from emissions_data_manipulation import *"
   ]
  },
  {
   "cell_type": "markdown",
   "metadata": {},
   "source": [
    "The first step is to calculate, for each type of food, how much of what is consumed by the Swiss population is produced within Switzerland versus imported. To do this, we will use data on imports, exports, and domestic production. The imports and exports data are sourced from [Swiss Impex](https://www.gate.ezv.admin.ch/swissimpex/index.xhtml), a website hosted by the Swiss Federal Customs Administration which provides data on Switzerland's global trade activity. Domestic production data comes from [FAO](http://www.fao.org/faostat/en/#data), the Food and Agriculture Organization of the United Nations which offers a variety of agricultural-related data. We fetched fishery data from [here](http://www.fao.org/fishery/statistics/global-commodities-production/query/en).\n",
    "\n",
    "In theory, the total amount of food consumed in Switzerland (including food waste) can be calculated from these figures:\n",
    "\n",
    "consumption = domestic production + imports - exports"
   ]
  },
  {
   "cell_type": "markdown",
   "metadata": {},
   "source": [
    "***\n",
    "**Data loading and manipulation**\n",
    "***"
   ]
  },
  {
   "cell_type": "markdown",
   "metadata": {},
   "source": [
    "In this section, we load and manipulate data on Swiss imports, exports, and domestic production of various food types.\n",
    "\n",
    "**Note**: All quantities are measured in kilograms, unless otherwise stated."
   ]
  },
  {
   "cell_type": "markdown",
   "metadata": {},
   "source": [
    "*Imports and Exports*\n",
    "\n",
    "First, we load imports-exports data from the [Swiss Impex](https://www.gate.ezv.admin.ch/swissimpex/index.xhtml) into the `impex` dataframe."
   ]
  },
  {
   "cell_type": "code",
   "execution_count": 3,
   "metadata": {},
   "outputs": [
    {
     "data": {
      "text/html": [
       "<div>\n",
       "<style scoped>\n",
       "    .dataframe tbody tr th:only-of-type {\n",
       "        vertical-align: middle;\n",
       "    }\n",
       "\n",
       "    .dataframe tbody tr th {\n",
       "        vertical-align: top;\n",
       "    }\n",
       "\n",
       "    .dataframe thead tr th {\n",
       "        text-align: left;\n",
       "    }\n",
       "</style>\n",
       "<table border=\"1\" class=\"dataframe\">\n",
       "  <thead>\n",
       "    <tr>\n",
       "      <th>type</th>\n",
       "      <th colspan=\"10\" halign=\"left\">fruits</th>\n",
       "      <th>...</th>\n",
       "      <th colspan=\"10\" halign=\"left\">seafood</th>\n",
       "    </tr>\n",
       "    <tr>\n",
       "      <th>subtype</th>\n",
       "      <th colspan=\"2\" halign=\"left\">plantains_and_others</th>\n",
       "      <th colspan=\"2\" halign=\"left\">bananas</th>\n",
       "      <th colspan=\"2\" halign=\"left\">dates</th>\n",
       "      <th colspan=\"2\" halign=\"left\">figs</th>\n",
       "      <th colspan=\"2\" halign=\"left\">pineapples</th>\n",
       "      <th>...</th>\n",
       "      <th colspan=\"2\" halign=\"left\">squid_octopus_cuttlefish</th>\n",
       "      <th colspan=\"2\" halign=\"left\">shrimp_prawns</th>\n",
       "      <th colspan=\"2\" halign=\"left\">molluscs</th>\n",
       "      <th colspan=\"2\" halign=\"left\">lobster_crab</th>\n",
       "      <th colspan=\"2\" halign=\"left\">fish</th>\n",
       "    </tr>\n",
       "    <tr>\n",
       "      <th>indicator</th>\n",
       "      <th>imports</th>\n",
       "      <th>exports</th>\n",
       "      <th>imports</th>\n",
       "      <th>exports</th>\n",
       "      <th>imports</th>\n",
       "      <th>exports</th>\n",
       "      <th>imports</th>\n",
       "      <th>exports</th>\n",
       "      <th>imports</th>\n",
       "      <th>exports</th>\n",
       "      <th>...</th>\n",
       "      <th>imports</th>\n",
       "      <th>exports</th>\n",
       "      <th>imports</th>\n",
       "      <th>exports</th>\n",
       "      <th>imports</th>\n",
       "      <th>exports</th>\n",
       "      <th>imports</th>\n",
       "      <th>exports</th>\n",
       "      <th>imports</th>\n",
       "      <th>exports</th>\n",
       "    </tr>\n",
       "  </thead>\n",
       "  <tbody>\n",
       "    <tr>\n",
       "      <td>total</td>\n",
       "      <td>1444222.0</td>\n",
       "      <td>2.0</td>\n",
       "      <td>92397628.0</td>\n",
       "      <td>36763.0</td>\n",
       "      <td>2706334.0</td>\n",
       "      <td>96471.0</td>\n",
       "      <td>3681429.0</td>\n",
       "      <td>56065.0</td>\n",
       "      <td>20809608.0</td>\n",
       "      <td>70821.0</td>\n",
       "      <td>...</td>\n",
       "      <td>2363868.0</td>\n",
       "      <td>1415.0</td>\n",
       "      <td>4833926.0</td>\n",
       "      <td>27932.0</td>\n",
       "      <td>3390293.0</td>\n",
       "      <td>240.0</td>\n",
       "      <td>715883.0</td>\n",
       "      <td>4923.0</td>\n",
       "      <td>34298964.0</td>\n",
       "      <td>153535.0</td>\n",
       "    </tr>\n",
       "    <tr>\n",
       "      <td>Argentina</td>\n",
       "      <td>396.0</td>\n",
       "      <td>0.0</td>\n",
       "      <td>0.0</td>\n",
       "      <td>0.0</td>\n",
       "      <td>0.0</td>\n",
       "      <td>0.0</td>\n",
       "      <td>8783.0</td>\n",
       "      <td>0.0</td>\n",
       "      <td>0.0</td>\n",
       "      <td>0.0</td>\n",
       "      <td>...</td>\n",
       "      <td>3010.0</td>\n",
       "      <td>0.0</td>\n",
       "      <td>36848.0</td>\n",
       "      <td>0.0</td>\n",
       "      <td>0.0</td>\n",
       "      <td>0.0</td>\n",
       "      <td>144.0</td>\n",
       "      <td>0.0</td>\n",
       "      <td>13205.0</td>\n",
       "      <td>0.0</td>\n",
       "    </tr>\n",
       "    <tr>\n",
       "      <td>Bangladesh</td>\n",
       "      <td>130.0</td>\n",
       "      <td>0.0</td>\n",
       "      <td>0.0</td>\n",
       "      <td>0.0</td>\n",
       "      <td>0.0</td>\n",
       "      <td>0.0</td>\n",
       "      <td>0.0</td>\n",
       "      <td>0.0</td>\n",
       "      <td>0.0</td>\n",
       "      <td>0.0</td>\n",
       "      <td>...</td>\n",
       "      <td>0.0</td>\n",
       "      <td>0.0</td>\n",
       "      <td>236612.0</td>\n",
       "      <td>0.0</td>\n",
       "      <td>0.0</td>\n",
       "      <td>0.0</td>\n",
       "      <td>0.0</td>\n",
       "      <td>0.0</td>\n",
       "      <td>0.0</td>\n",
       "      <td>0.0</td>\n",
       "    </tr>\n",
       "    <tr>\n",
       "      <td>Brazil</td>\n",
       "      <td>1229.0</td>\n",
       "      <td>0.0</td>\n",
       "      <td>1301.0</td>\n",
       "      <td>0.0</td>\n",
       "      <td>0.0</td>\n",
       "      <td>0.0</td>\n",
       "      <td>42844.0</td>\n",
       "      <td>0.0</td>\n",
       "      <td>891.0</td>\n",
       "      <td>0.0</td>\n",
       "      <td>...</td>\n",
       "      <td>496.0</td>\n",
       "      <td>0.0</td>\n",
       "      <td>0.0</td>\n",
       "      <td>0.0</td>\n",
       "      <td>0.0</td>\n",
       "      <td>0.0</td>\n",
       "      <td>380.0</td>\n",
       "      <td>0.0</td>\n",
       "      <td>6108.0</td>\n",
       "      <td>0.0</td>\n",
       "    </tr>\n",
       "    <tr>\n",
       "      <td>Cameroon</td>\n",
       "      <td>1529.0</td>\n",
       "      <td>0.0</td>\n",
       "      <td>65786.0</td>\n",
       "      <td>0.0</td>\n",
       "      <td>0.0</td>\n",
       "      <td>0.0</td>\n",
       "      <td>0.0</td>\n",
       "      <td>0.0</td>\n",
       "      <td>213628.0</td>\n",
       "      <td>0.0</td>\n",
       "      <td>...</td>\n",
       "      <td>0.0</td>\n",
       "      <td>0.0</td>\n",
       "      <td>0.0</td>\n",
       "      <td>0.0</td>\n",
       "      <td>0.0</td>\n",
       "      <td>0.0</td>\n",
       "      <td>0.0</td>\n",
       "      <td>0.0</td>\n",
       "      <td>150.0</td>\n",
       "      <td>0.0</td>\n",
       "    </tr>\n",
       "  </tbody>\n",
       "</table>\n",
       "<p>5 rows × 176 columns</p>\n",
       "</div>"
      ],
      "text/plain": [
       "type                     fruits                                          \\\n",
       "subtype    plantains_and_others             bananas               dates   \n",
       "indicator               imports exports     imports  exports    imports   \n",
       "total                 1444222.0     2.0  92397628.0  36763.0  2706334.0   \n",
       "Argentina                 396.0     0.0         0.0      0.0        0.0   \n",
       "Bangladesh                130.0     0.0         0.0      0.0        0.0   \n",
       "Brazil                   1229.0     0.0      1301.0      0.0        0.0   \n",
       "Cameroon                 1529.0     0.0     65786.0      0.0        0.0   \n",
       "\n",
       "type                                                          ...  \\\n",
       "subtype                   figs           pineapples           ...   \n",
       "indicator   exports    imports  exports     imports  exports  ...   \n",
       "total       96471.0  3681429.0  56065.0  20809608.0  70821.0  ...   \n",
       "Argentina       0.0     8783.0      0.0         0.0      0.0  ...   \n",
       "Bangladesh      0.0        0.0      0.0         0.0      0.0  ...   \n",
       "Brazil          0.0    42844.0      0.0       891.0      0.0  ...   \n",
       "Cameroon        0.0        0.0      0.0    213628.0      0.0  ...   \n",
       "\n",
       "type                        seafood                                            \\\n",
       "subtype    squid_octopus_cuttlefish         shrimp_prawns            molluscs   \n",
       "indicator                   imports exports       imports  exports    imports   \n",
       "total                     2363868.0  1415.0     4833926.0  27932.0  3390293.0   \n",
       "Argentina                    3010.0     0.0       36848.0      0.0        0.0   \n",
       "Bangladesh                      0.0     0.0      236612.0      0.0        0.0   \n",
       "Brazil                        496.0     0.0           0.0      0.0        0.0   \n",
       "Cameroon                        0.0     0.0           0.0      0.0        0.0   \n",
       "\n",
       "type                                                           \n",
       "subtype            lobster_crab                fish            \n",
       "indicator  exports      imports exports     imports   exports  \n",
       "total        240.0     715883.0  4923.0  34298964.0  153535.0  \n",
       "Argentina      0.0        144.0     0.0     13205.0       0.0  \n",
       "Bangladesh     0.0          0.0     0.0         0.0       0.0  \n",
       "Brazil         0.0        380.0     0.0      6108.0       0.0  \n",
       "Cameroon       0.0          0.0     0.0       150.0       0.0  \n",
       "\n",
       "[5 rows x 176 columns]"
      ]
     },
     "execution_count": 3,
     "metadata": {},
     "output_type": "execute_result"
    }
   ],
   "source": [
    "impex = load_impex()\n",
    "impex.head()"
   ]
  },
  {
   "cell_type": "markdown",
   "metadata": {},
   "source": [
    "To ensure that our dataframe is properly processed and handled as is goes through the changes we are about to expose it to, we will pull out one value from it (quantity of kiwi fruits imported from New Zealand) and check at the end to make sure its value is still properly matched with the country and fruit."
   ]
  },
  {
   "cell_type": "code",
   "execution_count": 4,
   "metadata": {},
   "outputs": [
    {
     "data": {
      "text/plain": [
       "3241114.0"
      ]
     },
     "execution_count": 4,
     "metadata": {},
     "output_type": "execute_result"
    }
   ],
   "source": [
    "impex.loc[\"New Zealand\"].fruits.kiwi_fruit.imports"
   ]
  },
  {
   "cell_type": "markdown",
   "metadata": {},
   "source": [
    "We then create a dataframe `impex_total` for storing total quantities of indicator variables (such as imports and exports):"
   ]
  },
  {
   "cell_type": "code",
   "execution_count": 5,
   "metadata": {},
   "outputs": [
    {
     "data": {
      "text/html": [
       "<div>\n",
       "<style scoped>\n",
       "    .dataframe tbody tr th:only-of-type {\n",
       "        vertical-align: middle;\n",
       "    }\n",
       "\n",
       "    .dataframe tbody tr th {\n",
       "        vertical-align: top;\n",
       "    }\n",
       "\n",
       "    .dataframe thead th {\n",
       "        text-align: right;\n",
       "    }\n",
       "</style>\n",
       "<table border=\"1\" class=\"dataframe\">\n",
       "  <thead>\n",
       "    <tr style=\"text-align: right;\">\n",
       "      <th></th>\n",
       "      <th>indicator</th>\n",
       "      <th>exports</th>\n",
       "      <th>imports</th>\n",
       "    </tr>\n",
       "    <tr>\n",
       "      <th>type</th>\n",
       "      <th>subtype</th>\n",
       "      <th></th>\n",
       "      <th></th>\n",
       "    </tr>\n",
       "  </thead>\n",
       "  <tbody>\n",
       "    <tr>\n",
       "      <td rowspan=\"5\" valign=\"top\">animal_products</td>\n",
       "      <td>butter</td>\n",
       "      <td>2085954.0</td>\n",
       "      <td>155312.0</td>\n",
       "    </tr>\n",
       "    <tr>\n",
       "      <td>cheese</td>\n",
       "      <td>67285451.0</td>\n",
       "      <td>60637898.0</td>\n",
       "    </tr>\n",
       "    <tr>\n",
       "      <td>eggs</td>\n",
       "      <td>442894.0</td>\n",
       "      <td>36298734.0</td>\n",
       "    </tr>\n",
       "    <tr>\n",
       "      <td>honey</td>\n",
       "      <td>685704.0</td>\n",
       "      <td>8191947.0</td>\n",
       "    </tr>\n",
       "    <tr>\n",
       "      <td>milk_cream</td>\n",
       "      <td>14990772.0</td>\n",
       "      <td>29234598.0</td>\n",
       "    </tr>\n",
       "  </tbody>\n",
       "</table>\n",
       "</div>"
      ],
      "text/plain": [
       "indicator                      exports     imports\n",
       "type            subtype                           \n",
       "animal_products butter       2085954.0    155312.0\n",
       "                cheese      67285451.0  60637898.0\n",
       "                eggs          442894.0  36298734.0\n",
       "                honey         685704.0   8191947.0\n",
       "                milk_cream  14990772.0  29234598.0"
      ]
     },
     "execution_count": 5,
     "metadata": {},
     "output_type": "execute_result"
    }
   ],
   "source": [
    "# 1. Select only first row (total), creates a series\n",
    "# 2. Unstack first level (indicator) to create a dataframe\n",
    "impex_total = impex.iloc[0].unstack(\"indicator\")\n",
    "impex_total.head()"
   ]
  },
  {
   "cell_type": "markdown",
   "metadata": {},
   "source": [
    "We can safely drop the total row from `impex`:"
   ]
  },
  {
   "cell_type": "code",
   "execution_count": 6,
   "metadata": {},
   "outputs": [],
   "source": [
    "impex = impex.drop(\"total\")"
   ]
  },
  {
   "cell_type": "markdown",
   "metadata": {},
   "source": [
    "Let's now further manipulate the `impex` dataframe and add index levels for continents and sub-continents that the countries belong to:"
   ]
  },
  {
   "cell_type": "code",
   "execution_count": 7,
   "metadata": {},
   "outputs": [
    {
     "data": {
      "text/plain": [
       "MultiIndex([('Africa', 'North Africa',        'Algeria'),\n",
       "            ('Africa', 'North Africa', 'Canary Islands'),\n",
       "            ('Africa', 'North Africa',          'Egypt'),\n",
       "            ('Africa', 'North Africa',          'Libya'),\n",
       "            ('Africa', 'North Africa',        'Morocco')],\n",
       "           names=['continent', 'subcontinent', 'country'])"
      ]
     },
     "execution_count": 7,
     "metadata": {},
     "output_type": "execute_result"
    }
   ],
   "source": [
    "# We load the country-continent info\n",
    "continents = load_countries_continents()\n",
    "\n",
    "# We compute the new index\n",
    "countries_mindex = pd.MultiIndex.from_arrays(continents.values.T, names=continents.columns)\n",
    "impex_mindex = countries_mindex[countries_mindex.get_level_values(2).isin(impex.index)]\n",
    "\n",
    "# Reindex such that it matches the incoming multi-index\n",
    "impex = impex.reindex(impex_mindex.get_level_values(2))\n",
    "\n",
    "# Finally, apply the new multi-index\n",
    "impex.set_index(impex_mindex, inplace=True)\n",
    "impex.index[:5]"
   ]
  },
  {
   "cell_type": "markdown",
   "metadata": {},
   "source": [
    "We check that the numbers stay with their indices:"
   ]
  },
  {
   "cell_type": "code",
   "execution_count": 8,
   "metadata": {},
   "outputs": [
    {
     "data": {
      "text/plain": [
       "continent  subcontinent  country    \n",
       "Oceania    Oceania       New Zealand    3241114.0\n",
       "Name: imports, dtype: float64"
      ]
     },
     "execution_count": 8,
     "metadata": {},
     "output_type": "execute_result"
    }
   ],
   "source": [
    "impex.xs(\"New Zealand\", level=\"country\", drop_level=False).fruits.kiwi_fruit.imports"
   ]
  },
  {
   "cell_type": "markdown",
   "metadata": {},
   "source": [
    "The imports of kiwi fruits from New Zealand is correct and we conclude that applying the new index was successful.\n",
    "\n",
    "<p style=\"font-size: 12px\"><strong>Note:</strong> The impex dataframe should only contain information about food destined for humans. During the data collection phase, we were careful to ensure this was true: all items which can also be imported for the use of animal feed were selected by their subcategory of being specifically for human consumption. </p>"
   ]
  },
  {
   "cell_type": "markdown",
   "metadata": {},
   "source": [
    "*Domestic Production*\n",
    "\n",
    "Now, let's load the data on Swiss domestic `production` from [FAO](http://www.fao.org/faostat/en/#data):"
   ]
  },
  {
   "cell_type": "code",
   "execution_count": 9,
   "metadata": {},
   "outputs": [
    {
     "data": {
      "text/html": [
       "<div>\n",
       "<style scoped>\n",
       "    .dataframe tbody tr th:only-of-type {\n",
       "        vertical-align: middle;\n",
       "    }\n",
       "\n",
       "    .dataframe tbody tr th {\n",
       "        vertical-align: top;\n",
       "    }\n",
       "\n",
       "    .dataframe thead th {\n",
       "        text-align: right;\n",
       "    }\n",
       "</style>\n",
       "<table border=\"1\" class=\"dataframe\">\n",
       "  <thead>\n",
       "    <tr style=\"text-align: right;\">\n",
       "      <th></th>\n",
       "      <th>indicator</th>\n",
       "      <th>production</th>\n",
       "    </tr>\n",
       "    <tr>\n",
       "      <th>type</th>\n",
       "      <th>subtype</th>\n",
       "      <th></th>\n",
       "    </tr>\n",
       "  </thead>\n",
       "  <tbody>\n",
       "    <tr>\n",
       "      <td rowspan=\"5\" valign=\"top\">animal_products</td>\n",
       "      <td>butter</td>\n",
       "      <td>4.843600e+07</td>\n",
       "    </tr>\n",
       "    <tr>\n",
       "      <td>cheese</td>\n",
       "      <td>2.063360e+08</td>\n",
       "    </tr>\n",
       "    <tr>\n",
       "      <td>eggs</td>\n",
       "      <td>5.763500e+07</td>\n",
       "    </tr>\n",
       "    <tr>\n",
       "      <td>honey</td>\n",
       "      <td>3.084000e+06</td>\n",
       "    </tr>\n",
       "    <tr>\n",
       "      <td>milk_cream</td>\n",
       "      <td>4.795811e+09</td>\n",
       "    </tr>\n",
       "  </tbody>\n",
       "</table>\n",
       "</div>"
      ],
      "text/plain": [
       "indicator                     production\n",
       "type            subtype                 \n",
       "animal_products butter      4.843600e+07\n",
       "                cheese      2.063360e+08\n",
       "                eggs        5.763500e+07\n",
       "                honey       3.084000e+06\n",
       "                milk_cream  4.795811e+09"
      ]
     },
     "execution_count": 9,
     "metadata": {},
     "output_type": "execute_result"
    }
   ],
   "source": [
    "production = load_fao()\n",
    "production.head()"
   ]
  },
  {
   "cell_type": "markdown",
   "metadata": {},
   "source": [
    "<p style=\"font-size: 12px\"><strong>Note</strong>: We were careful that only crops produced for human consumption are measured. This is specified in the FAO metadata.</p>"
   ]
  },
  {
   "cell_type": "markdown",
   "metadata": {},
   "source": [
    "*Combining imports, exports and domestic production*\n",
    "\n",
    "Next, we perform an outer join of `impex_total` and `production` to create a meta-dataframe, `suisse` with all total macroeconomic indicators for each commodity subtype:"
   ]
  },
  {
   "cell_type": "code",
   "execution_count": 10,
   "metadata": {},
   "outputs": [
    {
     "data": {
      "text/html": [
       "<div>\n",
       "<style scoped>\n",
       "    .dataframe tbody tr th:only-of-type {\n",
       "        vertical-align: middle;\n",
       "    }\n",
       "\n",
       "    .dataframe tbody tr th {\n",
       "        vertical-align: top;\n",
       "    }\n",
       "\n",
       "    .dataframe thead th {\n",
       "        text-align: right;\n",
       "    }\n",
       "</style>\n",
       "<table border=\"1\" class=\"dataframe\">\n",
       "  <thead>\n",
       "    <tr style=\"text-align: right;\">\n",
       "      <th></th>\n",
       "      <th>indicator</th>\n",
       "      <th>exports</th>\n",
       "      <th>imports</th>\n",
       "      <th>production</th>\n",
       "    </tr>\n",
       "    <tr>\n",
       "      <th>type</th>\n",
       "      <th>subtype</th>\n",
       "      <th></th>\n",
       "      <th></th>\n",
       "      <th></th>\n",
       "    </tr>\n",
       "  </thead>\n",
       "  <tbody>\n",
       "    <tr>\n",
       "      <td rowspan=\"5\" valign=\"top\">animal_products</td>\n",
       "      <td>butter</td>\n",
       "      <td>2085954.0</td>\n",
       "      <td>155312.0</td>\n",
       "      <td>4.843600e+07</td>\n",
       "    </tr>\n",
       "    <tr>\n",
       "      <td>cheese</td>\n",
       "      <td>67285451.0</td>\n",
       "      <td>60637898.0</td>\n",
       "      <td>2.063360e+08</td>\n",
       "    </tr>\n",
       "    <tr>\n",
       "      <td>eggs</td>\n",
       "      <td>442894.0</td>\n",
       "      <td>36298734.0</td>\n",
       "      <td>5.763500e+07</td>\n",
       "    </tr>\n",
       "    <tr>\n",
       "      <td>honey</td>\n",
       "      <td>685704.0</td>\n",
       "      <td>8191947.0</td>\n",
       "      <td>3.084000e+06</td>\n",
       "    </tr>\n",
       "    <tr>\n",
       "      <td>milk_cream</td>\n",
       "      <td>14990772.0</td>\n",
       "      <td>29234598.0</td>\n",
       "      <td>4.795811e+09</td>\n",
       "    </tr>\n",
       "  </tbody>\n",
       "</table>\n",
       "</div>"
      ],
      "text/plain": [
       "indicator                      exports     imports    production\n",
       "type            subtype                                         \n",
       "animal_products butter       2085954.0    155312.0  4.843600e+07\n",
       "                cheese      67285451.0  60637898.0  2.063360e+08\n",
       "                eggs          442894.0  36298734.0  5.763500e+07\n",
       "                honey         685704.0   8191947.0  3.084000e+06\n",
       "                milk_cream  14990772.0  29234598.0  4.795811e+09"
      ]
     },
     "execution_count": 10,
     "metadata": {},
     "output_type": "execute_result"
    }
   ],
   "source": [
    "suisse = impex_total.join(production, how=\"outer\")\n",
    "suisse.head()"
   ]
  },
  {
   "cell_type": "markdown",
   "metadata": {},
   "source": [
    "We have three possibilities for each commodity\n",
    "1. Neither production or import/export values are given or they all sum up to 0\n",
    "2. Either only production values are given or only import/export values are given\n",
    "3. Production, import and export values are all given (and are non-zero)\n",
    "\n",
    "Commodities fulfilling the first condition will be removed and others will be kept.\n",
    "\n",
    "<p style=\"font-size: 12px\"><strong>Note</strong>: Missing or 0-valued data may be due to either the values actually being 0 or the data not being collected on these items. Since there is no way of knowing which is the case, we will assume that the values are indeed truly 0 to enable their utilization in the analysis.</p>"
   ]
  },
  {
   "cell_type": "code",
   "execution_count": 11,
   "metadata": {},
   "outputs": [],
   "source": [
    "# Remove subtypes for which all given quantities sum up to 0\n",
    "subtypes_no_info = suisse.index[suisse.sum(axis=1) == 0]\n",
    "suisse.drop(subtypes_no_info, inplace=True)"
   ]
  },
  {
   "cell_type": "markdown",
   "metadata": {},
   "source": [
    "*Computing Estimated Consumption*\n",
    "\n",
    "Next, we shall add columns for `domestic_consumption`, `imported_consumption` and total `consumption`.\n",
    "\n",
    "Definitions:\n",
    "* **domestic consumption**: goods and services consumed in the country where they are produced\n",
    "* **imported consumption**: goods and services consumed in the country to which they are imported\n",
    "\n",
    "**Note**: For the calculation of the above quantities we make the following assumptions:\n",
    "\n",
    "* food waste is not taken into account and is included as being \"consumed\"\n",
    "* exported quantity is first satisfied by available produced quantity, and then imported quantity"
   ]
  },
  {
   "cell_type": "code",
   "execution_count": 12,
   "metadata": {},
   "outputs": [
    {
     "data": {
      "text/html": [
       "<div>\n",
       "<style scoped>\n",
       "    .dataframe tbody tr th:only-of-type {\n",
       "        vertical-align: middle;\n",
       "    }\n",
       "\n",
       "    .dataframe tbody tr th {\n",
       "        vertical-align: top;\n",
       "    }\n",
       "\n",
       "    .dataframe thead th {\n",
       "        text-align: right;\n",
       "    }\n",
       "</style>\n",
       "<table border=\"1\" class=\"dataframe\">\n",
       "  <thead>\n",
       "    <tr style=\"text-align: right;\">\n",
       "      <th></th>\n",
       "      <th>indicator</th>\n",
       "      <th>exports</th>\n",
       "      <th>imports</th>\n",
       "      <th>production</th>\n",
       "      <th>domestic_consumption</th>\n",
       "      <th>imported_consumption</th>\n",
       "      <th>consumption</th>\n",
       "    </tr>\n",
       "    <tr>\n",
       "      <th>type</th>\n",
       "      <th>subtype</th>\n",
       "      <th></th>\n",
       "      <th></th>\n",
       "      <th></th>\n",
       "      <th></th>\n",
       "      <th></th>\n",
       "      <th></th>\n",
       "    </tr>\n",
       "  </thead>\n",
       "  <tbody>\n",
       "    <tr>\n",
       "      <td rowspan=\"5\" valign=\"top\">animal_products</td>\n",
       "      <td>butter</td>\n",
       "      <td>2085954.0</td>\n",
       "      <td>155312.0</td>\n",
       "      <td>4.843600e+07</td>\n",
       "      <td>4.635005e+07</td>\n",
       "      <td>155312.0</td>\n",
       "      <td>4.650536e+07</td>\n",
       "    </tr>\n",
       "    <tr>\n",
       "      <td>cheese</td>\n",
       "      <td>67285451.0</td>\n",
       "      <td>60637898.0</td>\n",
       "      <td>2.063360e+08</td>\n",
       "      <td>1.390505e+08</td>\n",
       "      <td>60637898.0</td>\n",
       "      <td>1.996884e+08</td>\n",
       "    </tr>\n",
       "    <tr>\n",
       "      <td>eggs</td>\n",
       "      <td>442894.0</td>\n",
       "      <td>36298734.0</td>\n",
       "      <td>5.763500e+07</td>\n",
       "      <td>5.719211e+07</td>\n",
       "      <td>36298734.0</td>\n",
       "      <td>9.349084e+07</td>\n",
       "    </tr>\n",
       "    <tr>\n",
       "      <td>honey</td>\n",
       "      <td>685704.0</td>\n",
       "      <td>8191947.0</td>\n",
       "      <td>3.084000e+06</td>\n",
       "      <td>2.398296e+06</td>\n",
       "      <td>8191947.0</td>\n",
       "      <td>1.059024e+07</td>\n",
       "    </tr>\n",
       "    <tr>\n",
       "      <td>milk_cream</td>\n",
       "      <td>14990772.0</td>\n",
       "      <td>29234598.0</td>\n",
       "      <td>4.795811e+09</td>\n",
       "      <td>4.780820e+09</td>\n",
       "      <td>29234598.0</td>\n",
       "      <td>4.810055e+09</td>\n",
       "    </tr>\n",
       "  </tbody>\n",
       "</table>\n",
       "</div>"
      ],
      "text/plain": [
       "indicator                      exports     imports    production  \\\n",
       "type            subtype                                            \n",
       "animal_products butter       2085954.0    155312.0  4.843600e+07   \n",
       "                cheese      67285451.0  60637898.0  2.063360e+08   \n",
       "                eggs          442894.0  36298734.0  5.763500e+07   \n",
       "                honey         685704.0   8191947.0  3.084000e+06   \n",
       "                milk_cream  14990772.0  29234598.0  4.795811e+09   \n",
       "\n",
       "indicator                   domestic_consumption  imported_consumption  \\\n",
       "type            subtype                                                  \n",
       "animal_products butter              4.635005e+07              155312.0   \n",
       "                cheese              1.390505e+08            60637898.0   \n",
       "                eggs                5.719211e+07            36298734.0   \n",
       "                honey               2.398296e+06             8191947.0   \n",
       "                milk_cream          4.780820e+09            29234598.0   \n",
       "\n",
       "indicator                    consumption  \n",
       "type            subtype                   \n",
       "animal_products butter      4.650536e+07  \n",
       "                cheese      1.996884e+08  \n",
       "                eggs        9.349084e+07  \n",
       "                honey       1.059024e+07  \n",
       "                milk_cream  4.810055e+09  "
      ]
     },
     "execution_count": 12,
     "metadata": {},
     "output_type": "execute_result"
    }
   ],
   "source": [
    "# If exports > production, then we say all produced quantity\n",
    "# is exported and the rest of exported quantity is satisfied by imports:\n",
    "# 1. Set domestic_consumption to zero\n",
    "# 2. Set imported_consumption to imports-(exports-production)\n",
    "\n",
    "# If exports <= production, we say all exports\n",
    "# is satisfied by domestic production: \n",
    "# 1. Set domestic_consumption to production-exports\n",
    "# 2. Set imported_consumption to imports\n",
    "suisse[\"domestic_consumption\"] = np.where(\n",
    "    suisse.exports > suisse.production,\n",
    "    0,\n",
    "    suisse.production - suisse.exports\n",
    ")\n",
    "\n",
    "suisse[\"imported_consumption\"] = np.where(\n",
    "    suisse.exports > suisse.production,\n",
    "    suisse.imports - suisse.exports + suisse.production,\n",
    "    suisse.imports\n",
    ")\n",
    "\n",
    "suisse[\"consumption\"] = suisse.domestic_consumption + suisse.imported_consumption\n",
    "\n",
    "suisse.head()"
   ]
  },
  {
   "cell_type": "markdown",
   "metadata": {},
   "source": [
    "Let's make sure no consumption values are negative:"
   ]
  },
  {
   "cell_type": "code",
   "execution_count": 13,
   "metadata": {},
   "outputs": [
    {
     "data": {
      "text/html": [
       "<div>\n",
       "<style scoped>\n",
       "    .dataframe tbody tr th:only-of-type {\n",
       "        vertical-align: middle;\n",
       "    }\n",
       "\n",
       "    .dataframe tbody tr th {\n",
       "        vertical-align: top;\n",
       "    }\n",
       "\n",
       "    .dataframe thead th {\n",
       "        text-align: right;\n",
       "    }\n",
       "</style>\n",
       "<table border=\"1\" class=\"dataframe\">\n",
       "  <thead>\n",
       "    <tr style=\"text-align: right;\">\n",
       "      <th></th>\n",
       "      <th>indicator</th>\n",
       "      <th>exports</th>\n",
       "      <th>imports</th>\n",
       "      <th>production</th>\n",
       "      <th>domestic_consumption</th>\n",
       "      <th>imported_consumption</th>\n",
       "      <th>consumption</th>\n",
       "    </tr>\n",
       "    <tr>\n",
       "      <th>type</th>\n",
       "      <th>subtype</th>\n",
       "      <th></th>\n",
       "      <th></th>\n",
       "      <th></th>\n",
       "      <th></th>\n",
       "      <th></th>\n",
       "      <th></th>\n",
       "    </tr>\n",
       "  </thead>\n",
       "  <tbody>\n",
       "    <tr>\n",
       "      <td>animal_products</td>\n",
       "      <td>whey</td>\n",
       "      <td>77624196.0</td>\n",
       "      <td>8145149.0</td>\n",
       "      <td>63000000.0</td>\n",
       "      <td>0.0</td>\n",
       "      <td>-6479047.0</td>\n",
       "      <td>-6479047.0</td>\n",
       "    </tr>\n",
       "  </tbody>\n",
       "</table>\n",
       "</div>"
      ],
      "text/plain": [
       "indicator                   exports    imports  production  \\\n",
       "type            subtype                                      \n",
       "animal_products whey     77624196.0  8145149.0  63000000.0   \n",
       "\n",
       "indicator                domestic_consumption  imported_consumption  \\\n",
       "type            subtype                                               \n",
       "animal_products whey                      0.0            -6479047.0   \n",
       "\n",
       "indicator                consumption  \n",
       "type            subtype               \n",
       "animal_products whey      -6479047.0  "
      ]
     },
     "execution_count": 13,
     "metadata": {},
     "output_type": "execute_result"
    }
   ],
   "source": [
    "suisse[suisse.consumption < 0]"
   ]
  },
  {
   "cell_type": "markdown",
   "metadata": {},
   "source": [
    "Apparently, recorded *whey* exports exceed the combined imports and production. We handle this special case by setting the consumption value to zero:"
   ]
  },
  {
   "cell_type": "code",
   "execution_count": 14,
   "metadata": {},
   "outputs": [],
   "source": [
    "suisse.loc[(\"animal_products\", \"whey\")][\"imported_consumption\", \"consumption\"] = 0"
   ]
  },
  {
   "cell_type": "markdown",
   "metadata": {},
   "source": [
    "*Carbon Emissions*"
   ]
  },
  {
   "cell_type": "markdown",
   "metadata": {},
   "source": [
    "Now that we have information on Switzerland's imports, exports, production and consumption, we want to have a look at how this translates in terms of equivalent CO$_2$ production. To do this, we could look at Swiss-specific values for the greenhouse gas production for different food types. However, data from other countries is very sparse and reliable data for many food types is only available for certain countries. \n",
    "\n",
    "Comprehensive data is available on meat and cereal production emissions worldwide, however fruit and vegetable figures are much harder to obtain and only a limited number of studies have been carried out. These studies have been accumulated in a [systematic review](https://www.sciencedirect.com/science/article/pii/S0959652616303584) and these values have been used to calculate averages for a number of different kinds of produce. To ensure our results are consistent, we will use this generalization of global average values for all food types.\n",
    "\n",
    "We load the emission data:"
   ]
  },
  {
   "cell_type": "code",
   "execution_count": 15,
   "metadata": {},
   "outputs": [
    {
     "data": {
      "text/html": [
       "<div>\n",
       "<style scoped>\n",
       "    .dataframe tbody tr th:only-of-type {\n",
       "        vertical-align: middle;\n",
       "    }\n",
       "\n",
       "    .dataframe tbody tr th {\n",
       "        vertical-align: top;\n",
       "    }\n",
       "\n",
       "    .dataframe thead th {\n",
       "        text-align: right;\n",
       "    }\n",
       "</style>\n",
       "<table border=\"1\" class=\"dataframe\">\n",
       "  <thead>\n",
       "    <tr style=\"text-align: right;\">\n",
       "      <th></th>\n",
       "      <th>Median</th>\n",
       "      <th>Mean</th>\n",
       "      <th>Stdev</th>\n",
       "      <th>Min</th>\n",
       "      <th>Max</th>\n",
       "      <th>Q1</th>\n",
       "      <th>Q3</th>\n",
       "      <th>No. of LCA studies</th>\n",
       "      <th>No. of GWP values</th>\n",
       "    </tr>\n",
       "    <tr>\n",
       "      <th>name</th>\n",
       "      <th></th>\n",
       "      <th></th>\n",
       "      <th></th>\n",
       "      <th></th>\n",
       "      <th></th>\n",
       "      <th></th>\n",
       "      <th></th>\n",
       "      <th></th>\n",
       "      <th></th>\n",
       "    </tr>\n",
       "  </thead>\n",
       "  <tbody>\n",
       "    <tr>\n",
       "      <td>almond/coconut milk</td>\n",
       "      <td>0.42</td>\n",
       "      <td>0.42</td>\n",
       "      <td>0.03</td>\n",
       "      <td>0.39</td>\n",
       "      <td>0.44</td>\n",
       "      <td>0.39</td>\n",
       "      <td>0.44</td>\n",
       "      <td>1.0</td>\n",
       "      <td>4.0</td>\n",
       "    </tr>\n",
       "    <tr>\n",
       "      <td>almonds</td>\n",
       "      <td>1.54</td>\n",
       "      <td>1.74</td>\n",
       "      <td>1.25</td>\n",
       "      <td>0.51</td>\n",
       "      <td>3.77</td>\n",
       "      <td>0.76</td>\n",
       "      <td>2.33</td>\n",
       "      <td>4.0</td>\n",
       "      <td>6.0</td>\n",
       "    </tr>\n",
       "    <tr>\n",
       "      <td>anglerfish</td>\n",
       "      <td>12.29</td>\n",
       "      <td>12.29</td>\n",
       "      <td>2.63</td>\n",
       "      <td>10.43</td>\n",
       "      <td>14.15</td>\n",
       "      <td>11.36</td>\n",
       "      <td>13.22</td>\n",
       "      <td>2.0</td>\n",
       "      <td>2.0</td>\n",
       "    </tr>\n",
       "    <tr>\n",
       "      <td>apples</td>\n",
       "      <td>0.29</td>\n",
       "      <td>0.36</td>\n",
       "      <td>0.19</td>\n",
       "      <td>0.18</td>\n",
       "      <td>0.89</td>\n",
       "      <td>0.21</td>\n",
       "      <td>0.47</td>\n",
       "      <td>21.0</td>\n",
       "      <td>33.0</td>\n",
       "    </tr>\n",
       "    <tr>\n",
       "      <td>apricots</td>\n",
       "      <td>0.43</td>\n",
       "      <td>NaN</td>\n",
       "      <td>NaN</td>\n",
       "      <td>NaN</td>\n",
       "      <td>NaN</td>\n",
       "      <td>NaN</td>\n",
       "      <td>NaN</td>\n",
       "      <td>1.0</td>\n",
       "      <td>1.0</td>\n",
       "    </tr>\n",
       "  </tbody>\n",
       "</table>\n",
       "</div>"
      ],
      "text/plain": [
       "                     Median   Mean  Stdev    Min    Max     Q1     Q3  \\\n",
       "name                                                                    \n",
       "almond/coconut milk    0.42   0.42   0.03   0.39   0.44   0.39   0.44   \n",
       "almonds                1.54   1.74   1.25   0.51   3.77   0.76   2.33   \n",
       "anglerfish            12.29  12.29   2.63  10.43  14.15  11.36  13.22   \n",
       "apples                 0.29   0.36   0.19   0.18   0.89   0.21   0.47   \n",
       "apricots               0.43    NaN    NaN    NaN    NaN    NaN    NaN   \n",
       "\n",
       "                     No. of LCA studies  No. of GWP values  \n",
       "name                                                        \n",
       "almond/coconut milk                 1.0                4.0  \n",
       "almonds                             4.0                6.0  \n",
       "anglerfish                          2.0                2.0  \n",
       "apples                             21.0               33.0  \n",
       "apricots                            1.0                1.0  "
      ]
     },
     "execution_count": 15,
     "metadata": {},
     "output_type": "execute_result"
    }
   ],
   "source": [
    "emissions = load_emissions()\n",
    "emissions.head()"
   ]
  },
  {
   "cell_type": "markdown",
   "metadata": {},
   "source": [
    "Then we integrate the median emissions values into the `suisse` dataframe:"
   ]
  },
  {
   "cell_type": "code",
   "execution_count": 16,
   "metadata": {},
   "outputs": [
    {
     "data": {
      "text/html": [
       "<div>\n",
       "<style scoped>\n",
       "    .dataframe tbody tr th:only-of-type {\n",
       "        vertical-align: middle;\n",
       "    }\n",
       "\n",
       "    .dataframe tbody tr th {\n",
       "        vertical-align: top;\n",
       "    }\n",
       "\n",
       "    .dataframe thead th {\n",
       "        text-align: right;\n",
       "    }\n",
       "</style>\n",
       "<table border=\"1\" class=\"dataframe\">\n",
       "  <thead>\n",
       "    <tr style=\"text-align: right;\">\n",
       "      <th></th>\n",
       "      <th></th>\n",
       "      <th>exports</th>\n",
       "      <th>imports</th>\n",
       "      <th>production</th>\n",
       "      <th>domestic_consumption</th>\n",
       "      <th>imported_consumption</th>\n",
       "      <th>consumption</th>\n",
       "      <th>emissions_category</th>\n",
       "      <th>median_emissions</th>\n",
       "    </tr>\n",
       "    <tr>\n",
       "      <th>type</th>\n",
       "      <th>subtype</th>\n",
       "      <th></th>\n",
       "      <th></th>\n",
       "      <th></th>\n",
       "      <th></th>\n",
       "      <th></th>\n",
       "      <th></th>\n",
       "      <th></th>\n",
       "      <th></th>\n",
       "    </tr>\n",
       "  </thead>\n",
       "  <tbody>\n",
       "    <tr>\n",
       "      <td rowspan=\"5\" valign=\"top\">animal_products</td>\n",
       "      <td>butter</td>\n",
       "      <td>2085954.0</td>\n",
       "      <td>155312.0</td>\n",
       "      <td>48436000.0</td>\n",
       "      <td>46350046.0</td>\n",
       "      <td>155312.0</td>\n",
       "      <td>46505358.0</td>\n",
       "      <td>butter</td>\n",
       "      <td>9.25</td>\n",
       "    </tr>\n",
       "    <tr>\n",
       "      <td>cheese</td>\n",
       "      <td>67285451.0</td>\n",
       "      <td>60637898.0</td>\n",
       "      <td>206336000.0</td>\n",
       "      <td>139050549.0</td>\n",
       "      <td>60637898.0</td>\n",
       "      <td>199688447.0</td>\n",
       "      <td>cheese</td>\n",
       "      <td>8.55</td>\n",
       "    </tr>\n",
       "    <tr>\n",
       "      <td>whey</td>\n",
       "      <td>77624196.0</td>\n",
       "      <td>8145149.0</td>\n",
       "      <td>63000000.0</td>\n",
       "      <td>0.0</td>\n",
       "      <td>0.0</td>\n",
       "      <td>0.0</td>\n",
       "      <td>cheese</td>\n",
       "      <td>8.55</td>\n",
       "    </tr>\n",
       "    <tr>\n",
       "      <td>eggs</td>\n",
       "      <td>442894.0</td>\n",
       "      <td>36298734.0</td>\n",
       "      <td>57635000.0</td>\n",
       "      <td>57192106.0</td>\n",
       "      <td>36298734.0</td>\n",
       "      <td>93490840.0</td>\n",
       "      <td>eggs</td>\n",
       "      <td>3.46</td>\n",
       "    </tr>\n",
       "    <tr>\n",
       "      <td>honey</td>\n",
       "      <td>685704.0</td>\n",
       "      <td>8191947.0</td>\n",
       "      <td>3084000.0</td>\n",
       "      <td>2398296.0</td>\n",
       "      <td>8191947.0</td>\n",
       "      <td>10590243.0</td>\n",
       "      <td>honey</td>\n",
       "      <td>0.00</td>\n",
       "    </tr>\n",
       "  </tbody>\n",
       "</table>\n",
       "</div>"
      ],
      "text/plain": [
       "                            exports     imports   production  \\\n",
       "type            subtype                                        \n",
       "animal_products butter    2085954.0    155312.0   48436000.0   \n",
       "                cheese   67285451.0  60637898.0  206336000.0   \n",
       "                whey     77624196.0   8145149.0   63000000.0   \n",
       "                eggs       442894.0  36298734.0   57635000.0   \n",
       "                honey      685704.0   8191947.0    3084000.0   \n",
       "\n",
       "                         domestic_consumption  imported_consumption  \\\n",
       "type            subtype                                               \n",
       "animal_products butter             46350046.0              155312.0   \n",
       "                cheese            139050549.0            60637898.0   \n",
       "                whey                      0.0                   0.0   \n",
       "                eggs               57192106.0            36298734.0   \n",
       "                honey               2398296.0             8191947.0   \n",
       "\n",
       "                         consumption emissions_category  median_emissions  \n",
       "type            subtype                                                    \n",
       "animal_products butter    46505358.0             butter              9.25  \n",
       "                cheese   199688447.0             cheese              8.55  \n",
       "                whey             0.0             cheese              8.55  \n",
       "                eggs      93490840.0               eggs              3.46  \n",
       "                honey     10590243.0              honey              0.00  "
      ]
     },
     "execution_count": 16,
     "metadata": {},
     "output_type": "execute_result"
    }
   ],
   "source": [
    "suisse = add_emissions_data(suisse, emissions)\n",
    "suisse.head()"
   ]
  },
  {
   "cell_type": "markdown",
   "metadata": {},
   "source": [
    "<p style=\"font-size: 12px\"><strong>Note:</strong> The emissions categories available were less comprehensive than the FAO/Impex categories. The items lacking emissions values were estimated using the closest available emissions category. For a full list, please see the last 15 lines of <a href=\"https://drive.google.com/open?id=1KDBiuJ4la_vW3X2_KnD18IQFb00Qoh6B\">this file</a>.</p>\n",
    "\n",
    "So, assuming that domestic transport is negligible, we can estimate the equivalent CO$_2$ emissions for each product type, using the global average values."
   ]
  },
  {
   "cell_type": "code",
   "execution_count": 17,
   "metadata": {},
   "outputs": [
    {
     "data": {
      "text/html": [
       "<div>\n",
       "<style scoped>\n",
       "    .dataframe tbody tr th:only-of-type {\n",
       "        vertical-align: middle;\n",
       "    }\n",
       "\n",
       "    .dataframe tbody tr th {\n",
       "        vertical-align: top;\n",
       "    }\n",
       "\n",
       "    .dataframe thead th {\n",
       "        text-align: right;\n",
       "    }\n",
       "</style>\n",
       "<table border=\"1\" class=\"dataframe\">\n",
       "  <thead>\n",
       "    <tr style=\"text-align: right;\">\n",
       "      <th></th>\n",
       "      <th></th>\n",
       "      <th>exports</th>\n",
       "      <th>imports</th>\n",
       "      <th>production</th>\n",
       "      <th>domestic_consumption</th>\n",
       "      <th>imported_consumption</th>\n",
       "      <th>consumption</th>\n",
       "      <th>emissions_category</th>\n",
       "      <th>median_emissions</th>\n",
       "      <th>emissions_sans_transport</th>\n",
       "    </tr>\n",
       "    <tr>\n",
       "      <th>type</th>\n",
       "      <th>subtype</th>\n",
       "      <th></th>\n",
       "      <th></th>\n",
       "      <th></th>\n",
       "      <th></th>\n",
       "      <th></th>\n",
       "      <th></th>\n",
       "      <th></th>\n",
       "      <th></th>\n",
       "      <th></th>\n",
       "    </tr>\n",
       "  </thead>\n",
       "  <tbody>\n",
       "    <tr>\n",
       "      <td rowspan=\"5\" valign=\"top\">animal_products</td>\n",
       "      <td>butter</td>\n",
       "      <td>2085954.0</td>\n",
       "      <td>155312.0</td>\n",
       "      <td>48436000.0</td>\n",
       "      <td>46350046.0</td>\n",
       "      <td>155312.0</td>\n",
       "      <td>46505358.0</td>\n",
       "      <td>butter</td>\n",
       "      <td>9.25</td>\n",
       "      <td>4.301746e+08</td>\n",
       "    </tr>\n",
       "    <tr>\n",
       "      <td>cheese</td>\n",
       "      <td>67285451.0</td>\n",
       "      <td>60637898.0</td>\n",
       "      <td>206336000.0</td>\n",
       "      <td>139050549.0</td>\n",
       "      <td>60637898.0</td>\n",
       "      <td>199688447.0</td>\n",
       "      <td>cheese</td>\n",
       "      <td>8.55</td>\n",
       "      <td>1.707336e+09</td>\n",
       "    </tr>\n",
       "    <tr>\n",
       "      <td>whey</td>\n",
       "      <td>77624196.0</td>\n",
       "      <td>8145149.0</td>\n",
       "      <td>63000000.0</td>\n",
       "      <td>0.0</td>\n",
       "      <td>0.0</td>\n",
       "      <td>0.0</td>\n",
       "      <td>cheese</td>\n",
       "      <td>8.55</td>\n",
       "      <td>0.000000e+00</td>\n",
       "    </tr>\n",
       "    <tr>\n",
       "      <td>eggs</td>\n",
       "      <td>442894.0</td>\n",
       "      <td>36298734.0</td>\n",
       "      <td>57635000.0</td>\n",
       "      <td>57192106.0</td>\n",
       "      <td>36298734.0</td>\n",
       "      <td>93490840.0</td>\n",
       "      <td>eggs</td>\n",
       "      <td>3.46</td>\n",
       "      <td>3.234783e+08</td>\n",
       "    </tr>\n",
       "    <tr>\n",
       "      <td>honey</td>\n",
       "      <td>685704.0</td>\n",
       "      <td>8191947.0</td>\n",
       "      <td>3084000.0</td>\n",
       "      <td>2398296.0</td>\n",
       "      <td>8191947.0</td>\n",
       "      <td>10590243.0</td>\n",
       "      <td>honey</td>\n",
       "      <td>0.00</td>\n",
       "      <td>0.000000e+00</td>\n",
       "    </tr>\n",
       "  </tbody>\n",
       "</table>\n",
       "</div>"
      ],
      "text/plain": [
       "                            exports     imports   production  \\\n",
       "type            subtype                                        \n",
       "animal_products butter    2085954.0    155312.0   48436000.0   \n",
       "                cheese   67285451.0  60637898.0  206336000.0   \n",
       "                whey     77624196.0   8145149.0   63000000.0   \n",
       "                eggs       442894.0  36298734.0   57635000.0   \n",
       "                honey      685704.0   8191947.0    3084000.0   \n",
       "\n",
       "                         domestic_consumption  imported_consumption  \\\n",
       "type            subtype                                               \n",
       "animal_products butter             46350046.0              155312.0   \n",
       "                cheese            139050549.0            60637898.0   \n",
       "                whey                      0.0                   0.0   \n",
       "                eggs               57192106.0            36298734.0   \n",
       "                honey               2398296.0             8191947.0   \n",
       "\n",
       "                         consumption emissions_category  median_emissions  \\\n",
       "type            subtype                                                     \n",
       "animal_products butter    46505358.0             butter              9.25   \n",
       "                cheese   199688447.0             cheese              8.55   \n",
       "                whey             0.0             cheese              8.55   \n",
       "                eggs      93490840.0               eggs              3.46   \n",
       "                honey     10590243.0              honey              0.00   \n",
       "\n",
       "                         emissions_sans_transport  \n",
       "type            subtype                            \n",
       "animal_products butter               4.301746e+08  \n",
       "                cheese               1.707336e+09  \n",
       "                whey                 0.000000e+00  \n",
       "                eggs                 3.234783e+08  \n",
       "                honey                0.000000e+00  "
      ]
     },
     "execution_count": 17,
     "metadata": {},
     "output_type": "execute_result"
    }
   ],
   "source": [
    "# calculate the emissions (resulting from production of the products)\n",
    "suisse = production_emissions(suisse)\n",
    "suisse.head()"
   ]
  },
  {
   "cell_type": "markdown",
   "metadata": {},
   "source": [
    "The final column, `emissions_sans_transport`, shows the total CO$_2$ equivalent (kg) that would be produced if everything that was consumed in Switzerland was domestically produced, i.e. no transport emissions were considered and Swiss-specific CO$_2$ emissions were used for meat and cereal production. Evidently, it is not possible to produce everything that a current consumer buys locally, so in the following analysis we will consider the effect that these imported products and 'food miles' have on the CO$_2$ emissions resulting from Swiss consumption. "
   ]
  },
  {
   "cell_type": "markdown",
   "metadata": {},
   "source": [
    "*Transportation*\n",
    "\n",
    "Let's load the distances between Switzerland and other countries. To prepare for an augmentation of our analysis later on, we will also load distances to the Netherlands."
   ]
  },
  {
   "cell_type": "code",
   "execution_count": 18,
   "metadata": {},
   "outputs": [
    {
     "data": {
      "text/html": [
       "<div>\n",
       "<style scoped>\n",
       "    .dataframe tbody tr th:only-of-type {\n",
       "        vertical-align: middle;\n",
       "    }\n",
       "\n",
       "    .dataframe tbody tr th {\n",
       "        vertical-align: top;\n",
       "    }\n",
       "\n",
       "    .dataframe thead th {\n",
       "        text-align: right;\n",
       "    }\n",
       "</style>\n",
       "<table border=\"1\" class=\"dataframe\">\n",
       "  <thead>\n",
       "    <tr style=\"text-align: right;\">\n",
       "      <th></th>\n",
       "      <th>coord</th>\n",
       "      <th>distance_CH</th>\n",
       "      <th>distance_NL</th>\n",
       "    </tr>\n",
       "    <tr>\n",
       "      <th>country</th>\n",
       "      <th></th>\n",
       "      <th></th>\n",
       "      <th></th>\n",
       "    </tr>\n",
       "  </thead>\n",
       "  <tbody>\n",
       "    <tr>\n",
       "      <td>Algeria</td>\n",
       "      <td>[28.0000272, 2.9999825]</td>\n",
       "      <td>2136.0</td>\n",
       "      <td>2659.0</td>\n",
       "    </tr>\n",
       "    <tr>\n",
       "      <td>Canary Islands</td>\n",
       "      <td>[28.2935785, -16.6214471211441]</td>\n",
       "      <td>2983.0</td>\n",
       "      <td>3155.0</td>\n",
       "    </tr>\n",
       "    <tr>\n",
       "      <td>Ceuta</td>\n",
       "      <td>[35.888361, -5.304138]</td>\n",
       "      <td>1654.0</td>\n",
       "      <td>1943.0</td>\n",
       "    </tr>\n",
       "    <tr>\n",
       "      <td>Ceuta/Melilla</td>\n",
       "      <td>[36.7137977, -4.272712]</td>\n",
       "      <td>1525.0</td>\n",
       "      <td>1825.0</td>\n",
       "    </tr>\n",
       "    <tr>\n",
       "      <td>Egypt</td>\n",
       "      <td>[26.2540493, 29.2675469]</td>\n",
       "      <td>2938.0</td>\n",
       "      <td>3531.0</td>\n",
       "    </tr>\n",
       "  </tbody>\n",
       "</table>\n",
       "</div>"
      ],
      "text/plain": [
       "                                          coord  distance_CH  distance_NL\n",
       "country                                                                  \n",
       "Algeria                 [28.0000272, 2.9999825]       2136.0       2659.0\n",
       "Canary Islands  [28.2935785, -16.6214471211441]       2983.0       3155.0\n",
       "Ceuta                    [35.888361, -5.304138]       1654.0       1943.0\n",
       "Ceuta/Melilla           [36.7137977, -4.272712]       1525.0       1825.0\n",
       "Egypt                  [26.2540493, 29.2675469]       2938.0       3531.0"
      ]
     },
     "execution_count": 18,
     "metadata": {},
     "output_type": "execute_result"
    }
   ],
   "source": [
    "try:\n",
    "    countries = pd.read_pickle(\"countries.pkl\")\n",
    "except:\n",
    "    countries = country_distances()\n",
    "\n",
    "countries.head()"
   ]
  },
  {
   "cell_type": "markdown",
   "metadata": {},
   "source": [
    "Next, we load data about transports of imported products from the Impex:"
   ]
  },
  {
   "cell_type": "code",
   "execution_count": 19,
   "metadata": {},
   "outputs": [
    {
     "data": {
      "text/html": [
       "<div>\n",
       "<style scoped>\n",
       "    .dataframe tbody tr th:only-of-type {\n",
       "        vertical-align: middle;\n",
       "    }\n",
       "\n",
       "    .dataframe tbody tr th {\n",
       "        vertical-align: top;\n",
       "    }\n",
       "\n",
       "    .dataframe thead th {\n",
       "        text-align: right;\n",
       "    }\n",
       "</style>\n",
       "<table border=\"1\" class=\"dataframe\">\n",
       "  <thead>\n",
       "    <tr style=\"text-align: right;\">\n",
       "      <th></th>\n",
       "      <th>food_type</th>\n",
       "      <th>cereals</th>\n",
       "      <th>potatoes</th>\n",
       "      <th>other_fresh_fruits_vegetables</th>\n",
       "      <th>fish</th>\n",
       "      <th>meat</th>\n",
       "      <th>dairy_products</th>\n",
       "    </tr>\n",
       "    <tr>\n",
       "      <th>commercial_partner</th>\n",
       "      <th>mode_of_transport</th>\n",
       "      <th></th>\n",
       "      <th></th>\n",
       "      <th></th>\n",
       "      <th></th>\n",
       "      <th></th>\n",
       "      <th></th>\n",
       "    </tr>\n",
       "  </thead>\n",
       "  <tbody>\n",
       "    <tr>\n",
       "      <td>Zambia</td>\n",
       "      <td>total</td>\n",
       "      <td>0.0</td>\n",
       "      <td>0.0</td>\n",
       "      <td>208.0</td>\n",
       "      <td>0.0</td>\n",
       "      <td>0.0</td>\n",
       "      <td>0.0</td>\n",
       "    </tr>\n",
       "    <tr>\n",
       "      <td rowspan=\"4\" valign=\"top\">Zimbabwe</td>\n",
       "      <td>Air traffic</td>\n",
       "      <td>145.0</td>\n",
       "      <td>0.0</td>\n",
       "      <td>10407.0</td>\n",
       "      <td>0.0</td>\n",
       "      <td>0.0</td>\n",
       "      <td>0.0</td>\n",
       "    </tr>\n",
       "    <tr>\n",
       "      <td>Inland waterways</td>\n",
       "      <td>0.0</td>\n",
       "      <td>0.0</td>\n",
       "      <td>0.0</td>\n",
       "      <td>0.0</td>\n",
       "      <td>0.0</td>\n",
       "      <td>0.0</td>\n",
       "    </tr>\n",
       "    <tr>\n",
       "      <td>Road traffic</td>\n",
       "      <td>0.0</td>\n",
       "      <td>0.0</td>\n",
       "      <td>178448.0</td>\n",
       "      <td>0.0</td>\n",
       "      <td>578.0</td>\n",
       "      <td>0.0</td>\n",
       "    </tr>\n",
       "    <tr>\n",
       "      <td>total</td>\n",
       "      <td>145.0</td>\n",
       "      <td>0.0</td>\n",
       "      <td>188855.0</td>\n",
       "      <td>0.0</td>\n",
       "      <td>578.0</td>\n",
       "      <td>0.0</td>\n",
       "    </tr>\n",
       "    <tr>\n",
       "      <td rowspan=\"5\" valign=\"top\">total</td>\n",
       "      <td>Air traffic</td>\n",
       "      <td>15007.0</td>\n",
       "      <td>10.0</td>\n",
       "      <td>8955957.0</td>\n",
       "      <td>813671.0</td>\n",
       "      <td>4476877.0</td>\n",
       "      <td>56453.0</td>\n",
       "    </tr>\n",
       "    <tr>\n",
       "      <td>Inland waterways</td>\n",
       "      <td>86109369.0</td>\n",
       "      <td>0.0</td>\n",
       "      <td>4241550.0</td>\n",
       "      <td>82829.0</td>\n",
       "      <td>597599.0</td>\n",
       "      <td>4256.0</td>\n",
       "    </tr>\n",
       "    <tr>\n",
       "      <td>Rail traffic</td>\n",
       "      <td>108157836.0</td>\n",
       "      <td>5.0</td>\n",
       "      <td>19303446.0</td>\n",
       "      <td>11525.0</td>\n",
       "      <td>5869676.0</td>\n",
       "      <td>5360330.0</td>\n",
       "    </tr>\n",
       "    <tr>\n",
       "      <td>Road traffic</td>\n",
       "      <td>98237354.0</td>\n",
       "      <td>57721581.0</td>\n",
       "      <td>763220093.0</td>\n",
       "      <td>13125918.0</td>\n",
       "      <td>130663048.0</td>\n",
       "      <td>124257694.0</td>\n",
       "    </tr>\n",
       "    <tr>\n",
       "      <td>total</td>\n",
       "      <td>292519566.0</td>\n",
       "      <td>57721596.0</td>\n",
       "      <td>795721046.0</td>\n",
       "      <td>14033943.0</td>\n",
       "      <td>141607200.0</td>\n",
       "      <td>129678733.0</td>\n",
       "    </tr>\n",
       "  </tbody>\n",
       "</table>\n",
       "</div>"
      ],
      "text/plain": [
       "food_type                                 cereals    potatoes  \\\n",
       "commercial_partner mode_of_transport                            \n",
       "Zambia             total                      0.0         0.0   \n",
       "Zimbabwe           Air traffic              145.0         0.0   \n",
       "                   Inland waterways           0.0         0.0   \n",
       "                   Road traffic               0.0         0.0   \n",
       "                   total                    145.0         0.0   \n",
       "total              Air traffic            15007.0        10.0   \n",
       "                   Inland waterways    86109369.0         0.0   \n",
       "                   Rail traffic       108157836.0         5.0   \n",
       "                   Road traffic        98237354.0  57721581.0   \n",
       "                   total              292519566.0  57721596.0   \n",
       "\n",
       "food_type                             other_fresh_fruits_vegetables  \\\n",
       "commercial_partner mode_of_transport                                  \n",
       "Zambia             total                                      208.0   \n",
       "Zimbabwe           Air traffic                              10407.0   \n",
       "                   Inland waterways                             0.0   \n",
       "                   Road traffic                            178448.0   \n",
       "                   total                                   188855.0   \n",
       "total              Air traffic                            8955957.0   \n",
       "                   Inland waterways                       4241550.0   \n",
       "                   Rail traffic                          19303446.0   \n",
       "                   Road traffic                         763220093.0   \n",
       "                   total                                795721046.0   \n",
       "\n",
       "food_type                                   fish         meat  dairy_products  \n",
       "commercial_partner mode_of_transport                                           \n",
       "Zambia             total                     0.0          0.0             0.0  \n",
       "Zimbabwe           Air traffic               0.0          0.0             0.0  \n",
       "                   Inland waterways          0.0          0.0             0.0  \n",
       "                   Road traffic              0.0        578.0             0.0  \n",
       "                   total                     0.0        578.0             0.0  \n",
       "total              Air traffic          813671.0    4476877.0         56453.0  \n",
       "                   Inland waterways      82829.0     597599.0          4256.0  \n",
       "                   Rail traffic          11525.0    5869676.0       5360330.0  \n",
       "                   Road traffic       13125918.0  130663048.0     124257694.0  \n",
       "                   total              14033943.0  141607200.0     129678733.0  "
      ]
     },
     "execution_count": 19,
     "metadata": {},
     "output_type": "execute_result"
    }
   ],
   "source": [
    "transport = load_impex_transport()\n",
    "transport.tail(10)"
   ]
  },
  {
   "cell_type": "markdown",
   "metadata": {},
   "source": [
    "We remove the totals for each country and store in a separate dataframe:"
   ]
  },
  {
   "cell_type": "code",
   "execution_count": 20,
   "metadata": {},
   "outputs": [],
   "source": [
    "transport_total = transport.xs(\"total\", level=1)\n",
    "transport = transport.drop(index=\"total\", level=1)"
   ]
  },
  {
   "cell_type": "markdown",
   "metadata": {},
   "source": [
    "Next, we calculate the fractions for each food group transported by each method of transport:"
   ]
  },
  {
   "cell_type": "code",
   "execution_count": 21,
   "metadata": {},
   "outputs": [
    {
     "data": {
      "text/html": [
       "<div>\n",
       "<style scoped>\n",
       "    .dataframe tbody tr th:only-of-type {\n",
       "        vertical-align: middle;\n",
       "    }\n",
       "\n",
       "    .dataframe tbody tr th {\n",
       "        vertical-align: top;\n",
       "    }\n",
       "\n",
       "    .dataframe thead th {\n",
       "        text-align: right;\n",
       "    }\n",
       "</style>\n",
       "<table border=\"1\" class=\"dataframe\">\n",
       "  <thead>\n",
       "    <tr style=\"text-align: right;\">\n",
       "      <th></th>\n",
       "      <th>food_type</th>\n",
       "      <th>cereals</th>\n",
       "      <th>potatoes</th>\n",
       "      <th>other_fresh_fruits_vegetables</th>\n",
       "      <th>fish</th>\n",
       "      <th>meat</th>\n",
       "      <th>dairy_products</th>\n",
       "    </tr>\n",
       "    <tr>\n",
       "      <th>commercial_partner</th>\n",
       "      <th>mode_of_transport</th>\n",
       "      <th></th>\n",
       "      <th></th>\n",
       "      <th></th>\n",
       "      <th></th>\n",
       "      <th></th>\n",
       "      <th></th>\n",
       "    </tr>\n",
       "  </thead>\n",
       "  <tbody>\n",
       "    <tr>\n",
       "      <td>Afghanistan</td>\n",
       "      <td>Road traffic</td>\n",
       "      <td>0.000000</td>\n",
       "      <td>0.0</td>\n",
       "      <td>0.000000</td>\n",
       "      <td>0.0</td>\n",
       "      <td>0.000000</td>\n",
       "      <td>0.0</td>\n",
       "    </tr>\n",
       "    <tr>\n",
       "      <td rowspan=\"2\" valign=\"top\">Albania</td>\n",
       "      <td>Air traffic</td>\n",
       "      <td>0.000000</td>\n",
       "      <td>0.0</td>\n",
       "      <td>0.039066</td>\n",
       "      <td>0.0</td>\n",
       "      <td>0.000000</td>\n",
       "      <td>0.0</td>\n",
       "    </tr>\n",
       "    <tr>\n",
       "      <td>Road traffic</td>\n",
       "      <td>0.000000</td>\n",
       "      <td>0.0</td>\n",
       "      <td>0.960934</td>\n",
       "      <td>0.0</td>\n",
       "      <td>0.000000</td>\n",
       "      <td>0.0</td>\n",
       "    </tr>\n",
       "    <tr>\n",
       "      <td rowspan=\"3\" valign=\"top\">Algeria</td>\n",
       "      <td>Air traffic</td>\n",
       "      <td>0.000000</td>\n",
       "      <td>0.0</td>\n",
       "      <td>0.137731</td>\n",
       "      <td>0.0</td>\n",
       "      <td>0.000000</td>\n",
       "      <td>0.0</td>\n",
       "    </tr>\n",
       "    <tr>\n",
       "      <td>Rail traffic</td>\n",
       "      <td>0.000000</td>\n",
       "      <td>0.0</td>\n",
       "      <td>0.000000</td>\n",
       "      <td>0.0</td>\n",
       "      <td>0.000000</td>\n",
       "      <td>0.0</td>\n",
       "    </tr>\n",
       "    <tr>\n",
       "      <td>Road traffic</td>\n",
       "      <td>1.000000</td>\n",
       "      <td>0.0</td>\n",
       "      <td>0.862269</td>\n",
       "      <td>0.0</td>\n",
       "      <td>0.000000</td>\n",
       "      <td>0.0</td>\n",
       "    </tr>\n",
       "    <tr>\n",
       "      <td>Andorra</td>\n",
       "      <td>Road traffic</td>\n",
       "      <td>0.000000</td>\n",
       "      <td>1.0</td>\n",
       "      <td>0.000000</td>\n",
       "      <td>0.0</td>\n",
       "      <td>0.000000</td>\n",
       "      <td>0.0</td>\n",
       "    </tr>\n",
       "    <tr>\n",
       "      <td>Antigua</td>\n",
       "      <td>Road traffic</td>\n",
       "      <td>0.000000</td>\n",
       "      <td>0.0</td>\n",
       "      <td>1.000000</td>\n",
       "      <td>0.0</td>\n",
       "      <td>0.000000</td>\n",
       "      <td>0.0</td>\n",
       "    </tr>\n",
       "    <tr>\n",
       "      <td rowspan=\"2\" valign=\"top\">Argentina</td>\n",
       "      <td>Air traffic</td>\n",
       "      <td>0.000000</td>\n",
       "      <td>0.0</td>\n",
       "      <td>0.025398</td>\n",
       "      <td>0.0</td>\n",
       "      <td>0.162222</td>\n",
       "      <td>1.0</td>\n",
       "    </tr>\n",
       "    <tr>\n",
       "      <td>Inland waterways</td>\n",
       "      <td>0.394078</td>\n",
       "      <td>0.0</td>\n",
       "      <td>0.003021</td>\n",
       "      <td>0.0</td>\n",
       "      <td>0.000000</td>\n",
       "      <td>0.0</td>\n",
       "    </tr>\n",
       "  </tbody>\n",
       "</table>\n",
       "</div>"
      ],
      "text/plain": [
       "food_type                              cereals  potatoes  \\\n",
       "commercial_partner mode_of_transport                       \n",
       "Afghanistan        Road traffic       0.000000       0.0   \n",
       "Albania            Air traffic        0.000000       0.0   \n",
       "                   Road traffic       0.000000       0.0   \n",
       "Algeria            Air traffic        0.000000       0.0   \n",
       "                   Rail traffic       0.000000       0.0   \n",
       "                   Road traffic       1.000000       0.0   \n",
       "Andorra            Road traffic       0.000000       1.0   \n",
       "Antigua            Road traffic       0.000000       0.0   \n",
       "Argentina          Air traffic        0.000000       0.0   \n",
       "                   Inland waterways   0.394078       0.0   \n",
       "\n",
       "food_type                             other_fresh_fruits_vegetables  fish  \\\n",
       "commercial_partner mode_of_transport                                        \n",
       "Afghanistan        Road traffic                            0.000000   0.0   \n",
       "Albania            Air traffic                             0.039066   0.0   \n",
       "                   Road traffic                            0.960934   0.0   \n",
       "Algeria            Air traffic                             0.137731   0.0   \n",
       "                   Rail traffic                            0.000000   0.0   \n",
       "                   Road traffic                            0.862269   0.0   \n",
       "Andorra            Road traffic                            0.000000   0.0   \n",
       "Antigua            Road traffic                            1.000000   0.0   \n",
       "Argentina          Air traffic                             0.025398   0.0   \n",
       "                   Inland waterways                        0.003021   0.0   \n",
       "\n",
       "food_type                                 meat  dairy_products  \n",
       "commercial_partner mode_of_transport                            \n",
       "Afghanistan        Road traffic       0.000000             0.0  \n",
       "Albania            Air traffic        0.000000             0.0  \n",
       "                   Road traffic       0.000000             0.0  \n",
       "Algeria            Air traffic        0.000000             0.0  \n",
       "                   Rail traffic       0.000000             0.0  \n",
       "                   Road traffic       0.000000             0.0  \n",
       "Andorra            Road traffic       0.000000             0.0  \n",
       "Antigua            Road traffic       0.000000             0.0  \n",
       "Argentina          Air traffic        0.162222             1.0  \n",
       "                   Inland waterways   0.000000             0.0  "
      ]
     },
     "execution_count": 21,
     "metadata": {},
     "output_type": "execute_result"
    }
   ],
   "source": [
    "np.seterr(\"ignore\")  # ignore divisions by 0 (when the total imports is 0)\n",
    "transport[\n",
    "    [\n",
    "        \"cereals\",\n",
    "        \"potatoes\",\n",
    "        \"other_fresh_fruits_vegetables\",\n",
    "        \"fish\",\n",
    "        \"meat\",\n",
    "        \"dairy_products\",\n",
    "    ]\n",
    "] = transport.apply(calculate_percent_by_method, args=(transport_total,), axis=1)\n",
    "\n",
    "transport.head(10)"
   ]
  },
  {
   "cell_type": "markdown",
   "metadata": {},
   "source": [
    "The following image provides carbon emissions by transport method, which we use for the analysis:"
   ]
  },
  {
   "cell_type": "markdown",
   "metadata": {},
   "source": [
    "<img width=\"400\" height=\"400\" src=\"https://icmattermost.epfl.ch/files/5zr1jyriupfsfgmr4dtg155ssw/public?h=_GPk0xYK1I16gWsY3GuIsrFC5bTb3Ioh4_W3h3oYDs8\">"
   ]
  },
  {
   "cell_type": "code",
   "execution_count": 22,
   "metadata": {},
   "outputs": [],
   "source": [
    "# divide all the values by 1000 to convert to kg CO2e / kg km\n",
    "transportCO2 = {\n",
    "    \"Air traffic\": 0.000733,\n",
    "    \"Rail traffic\": 0.000037,\n",
    "    \"Road traffic\": 0.000303,\n",
    "    \"Inland waterways\": 0.000019,\n",
    "}"
   ]
  },
  {
   "cell_type": "markdown",
   "metadata": {},
   "source": [
    "*Combining Emissions and Transportation Data*\n",
    "\n",
    "We will now use the country-specific and food item-specific data to calculate carbon costs. For each country and food item pair, we will first calculate how much of that food item imported from that country is consumed by Swiss consumers. This relies upon assumptions that we made previously (mentioned here). The two categories this data processing can fall into are:\n",
    "\n",
    "* If the exported amount of a given food item is less than what is domestically produced, we assume that all of the Swiss produce is exported first before any of the imports start getting exported. That means there will still be some leftover Swiss-produced food available for Swiss consumption, in addition to all of the imported food from all other countries.\n",
    "\n",
    "* If, however, there is more of a given food item exported than domestically produced, we must transition to the situation where all of the Swiss-produced goods are exported and some of the imported goods are also exported. In this case, we will assume that each country's imports are exported in an equal percentage (e.g. if Switzerland imports 100 kg of bananas from Country X and 50 kg of bananas from Country Y, and the deficit between Switzerland's production and its exports is 10 kg, a fixed percentage of bananas from each country will be assumed to be exported while the remainder is consumed in Switzerland). Hence, the fraction of that food item from that country consumed in Switzerland is (the total amount of that food item imported from that country) / (the total imports across all countries for that food item). This fraction is multiplied by the total amount of that food item consumed in Switzerland to get results by country."
   ]
  },
  {
   "cell_type": "code",
   "execution_count": 23,
   "metadata": {},
   "outputs": [],
   "source": [
    "# First, manipulate the data to prepare for using it\n",
    "impex_countries = (\n",
    "    impex.stack([\"type\", \"subtype\"])\n",
    "    .drop(columns=[\"exports\"])\n",
    "    .reset_index()\n",
    ")\n",
    "impex_countries[\"product\"] = impex_countries[\"subtype\"]\n",
    "impex_countries = impex_countries.set_index(\n",
    "    [\"type\", \"subtype\", \"continent\", \"country\"]\n",
    ").drop(columns=\"subcontinent\")"
   ]
  },
  {
   "cell_type": "code",
   "execution_count": 24,
   "metadata": {},
   "outputs": [],
   "source": [
    "# Then, we calculate, for each country and food item pair, how much of\n",
    "# that food item imported from that country is consumed by Swiss consumers\n",
    "impex_countries['swiss_consumption'] = impex_countries.apply(\n",
    "    find_consumption, args=(suisse,), axis=1\n",
    ")"
   ]
  },
  {
   "cell_type": "markdown",
   "metadata": {},
   "source": [
    "Below, we can see that there are no rows of data from Libya which have a non-zero `swiss_consumption`. This means there is nothing imported from Libya which is consumed in Switzerland (it is either all exported or there are no imports)."
   ]
  },
  {
   "cell_type": "code",
   "execution_count": 25,
   "metadata": {},
   "outputs": [
    {
     "data": {
      "text/plain": [
       "0"
      ]
     },
     "execution_count": 25,
     "metadata": {},
     "output_type": "execute_result"
    }
   ],
   "source": [
    "libya = impex_countries.xs(\"Libya\", level=\"country\")\n",
    "libya = libya[libya.swiss_consumption != 0]\n",
    "len(libya)"
   ]
  },
  {
   "cell_type": "markdown",
   "metadata": {},
   "source": [
    "This is also true for the following countries. In addition, evidently none of them have any transport data because nothing is imported, therefore we'll drop them from the impex_countries dataframe:"
   ]
  },
  {
   "cell_type": "code",
   "execution_count": 26,
   "metadata": {},
   "outputs": [],
   "source": [
    "countries_no_transport_data = [\n",
    "    \"Libya\",\n",
    "    \"Angola\",\n",
    "    \"Eritrea\",\n",
    "    \"Sudan\",\n",
    "    \"St Lucia\",\n",
    "    \"Seychelles\",\n",
    "    \"Amer. Virgin\",\n",
    "    \"Curaçao\",\n",
    "    \"Greenland\",\n",
    "    \"Guiana, French\",\n",
    "    \"Faeroe Islands\",\n",
    "]\n",
    "\n",
    "impex_countries.reset_index(inplace=True)\n",
    "impex_countries = impex_countries[~impex_countries.country.isin(countries_no_transport_data)]"
   ]
  },
  {
   "cell_type": "markdown",
   "metadata": {},
   "source": [
    "The next step is to convert the `impex_countries` dataframe, the amount by country and by food item which is eaten in Switzerland, to the carbon costs associated with each country/food item pair."
   ]
  },
  {
   "cell_type": "code",
   "execution_count": 27,
   "metadata": {},
   "outputs": [],
   "source": [
    "# map the categories used by the transport data to the categories used in\n",
    "# our dataframe of imports per country and food\n",
    "colmap = {\n",
    "    \"animal_products\": \"dairy_products\",\n",
    "    \"meat\": \"meat\",\n",
    "    \"fruits\": \"other_fresh_fruits_vegetables\",\n",
    "    \"vegetables\": \"other_fresh_fruits_vegetables\",\n",
    "    \"cereals\": \"cereals\",\n",
    "    \"seafood\": \"fish\",\n",
    "}"
   ]
  },
  {
   "cell_type": "markdown",
   "metadata": {},
   "source": [
    "We will then apply functions which calculate the overall carbon emissions for a given food product in Switzerland, taking into account the origins of the products and the proportion which was transported by each method of transport."
   ]
  },
  {
   "cell_type": "code",
   "execution_count": 28,
   "metadata": {},
   "outputs": [],
   "source": [
    "pd.options.mode.chained_assignment = None\n",
    "\n",
    "impex_countries[\"kg_CO2e_transport\"] = impex_countries.apply(\n",
    "    swiss_consumption_transport,\n",
    "    axis=1,\n",
    "    args=(transport, transportCO2, countries, colmap),\n",
    ")\n",
    "impex_countries[\"kg_CO2e_transport_via_nl\"] = impex_countries.apply(\n",
    "    swiss_consumption_transport,\n",
    "    axis=1,\n",
    "    args=(transport, transportCO2, countries, colmap),\n",
    "    NL=True,\n",
    ")\n",
    "\n",
    "# create the index again to get back to a multiindex dataframe\n",
    "impex_countries.set_index([\"type\", \"subtype\", \"continent\", \"country\"], inplace=True)"
   ]
  },
  {
   "cell_type": "code",
   "execution_count": 29,
   "metadata": {},
   "outputs": [],
   "source": [
    "# now add a column which is carbon cost of transport + inherent carbon cost of producing the item\n",
    "food_list = np.array(impex_countries.index.get_level_values(level=1))\n",
    "impex_countries[\"total_kg_CO2e\"] = (\n",
    "    impex_countries[\"kg_CO2e_transport\"]\n",
    "    + suisse.iloc[suisse.index.get_level_values(1).isin(food_list)].median_emissions\n",
    "    * impex_countries[\"swiss_consumption\"]\n",
    ")"
   ]
  },
  {
   "cell_type": "markdown",
   "metadata": {},
   "source": [
    "***\n",
    "**Data analysis and visualization**\n",
    "***"
   ]
  },
  {
   "cell_type": "markdown",
   "metadata": {},
   "source": [
    "*Imports and Exports*"
   ]
  },
  {
   "cell_type": "code",
   "execution_count": 30,
   "metadata": {
    "scrolled": true
   },
   "outputs": [],
   "source": [
    "# 1. Group by meta-type\n",
    "# 2. Sum the totals\n",
    "# 3. Unstack the columns to create a Series\n",
    "impex_total_metatype = impex_total.groupby(\"type\").sum().unstack()"
   ]
  },
  {
   "cell_type": "code",
   "execution_count": 31,
   "metadata": {},
   "outputs": [
    {
     "data": {
      "image/png": "[encoded data removed]",
      "text/plain": [
       "<Figure size 864x288 with 1 Axes>"
      ]
     },
     "metadata": {
      "needs_background": "light"
     },
     "output_type": "display_data"
    }
   ],
   "source": [
    "plot_total_impex(impex_total_metatype)"
   ]
  },
  {
   "cell_type": "markdown",
   "metadata": {},
   "source": [
    "Switzerland imports many more fruits, vegetables and meats than it exports. The `animal_products` category is interesting, because import and export quantities are about equal. What would make the most sense is if Switzerland imports different animal products than it exports (rather than the same products being both imported and exported). Let's test this theory by looking at imports and exports for the subcategories of `animal_products`:"
   ]
  },
  {
   "cell_type": "code",
   "execution_count": 32,
   "metadata": {},
   "outputs": [],
   "source": [
    "impex_total_animal_prods = (\n",
    "    impex_total.loc[\"animal_products\"]\n",
    "    .groupby(\"subtype\")\n",
    "    .sum()\n",
    "    .unstack()\n",
    ")"
   ]
  },
  {
   "cell_type": "code",
   "execution_count": 33,
   "metadata": {},
   "outputs": [
    {
     "data": {
      "image/png": "[encoded data removed]",
      "text/plain": [
       "<Figure size 864x288 with 1 Axes>"
      ]
     },
     "metadata": {
      "needs_background": "light"
     },
     "output_type": "display_data"
    }
   ],
   "source": [
    "plot_impex_animal_prods(impex_total_animal_prods)"
   ]
  },
  {
   "cell_type": "markdown",
   "metadata": {},
   "source": [
    "This graph brings more light to the topic. Cheese, a category of which there are many different flavors and consumers like variety, is both heavily imported and exported, likely giving consumers access to a wider variety of cheese types. Eggs, on the other hand, are nearly exclusively imported, while whey is mostly exported.\n",
    "\n",
    "The butter category of this graph is a good transition to the continuation of the analysis; just because butter is hardly imported nor exported does not mean the Swiss do not eat butter! Rather, imports and exports are only part of the broader picture since domestic production is another important consideration. One possible hypothesis for why butter is neither imported nor exported in large quantities is because domestic production is nearly equal to domestic consumption."
   ]
  },
  {
   "cell_type": "markdown",
   "metadata": {},
   "source": [
    "*Swiss Consumption*"
   ]
  },
  {
   "cell_type": "markdown",
   "metadata": {},
   "source": [
    "Here we visualize the difference between the ratio of domestic vs. imported consumption"
   ]
  },
  {
   "cell_type": "code",
   "execution_count": 34,
   "metadata": {},
   "outputs": [],
   "source": [
    "consumption = suisse.copy()\n",
    "consumption = consumption[[\"domestic_consumption\", \"imported_consumption\", \"consumption\"]]"
   ]
  },
  {
   "cell_type": "code",
   "execution_count": 35,
   "metadata": {},
   "outputs": [
    {
     "data": {
      "text/html": [
       "<div>\n",
       "<style scoped>\n",
       "    .dataframe tbody tr th:only-of-type {\n",
       "        vertical-align: middle;\n",
       "    }\n",
       "\n",
       "    .dataframe tbody tr th {\n",
       "        vertical-align: top;\n",
       "    }\n",
       "\n",
       "    .dataframe thead th {\n",
       "        text-align: right;\n",
       "    }\n",
       "</style>\n",
       "<table border=\"1\" class=\"dataframe\">\n",
       "  <thead>\n",
       "    <tr style=\"text-align: right;\">\n",
       "      <th></th>\n",
       "      <th>domestic_consumption</th>\n",
       "      <th>imported_consumption</th>\n",
       "    </tr>\n",
       "    <tr>\n",
       "      <th>type</th>\n",
       "      <th></th>\n",
       "      <th></th>\n",
       "    </tr>\n",
       "  </thead>\n",
       "  <tbody>\n",
       "    <tr>\n",
       "      <td>fruits</td>\n",
       "      <td>43.710176</td>\n",
       "      <td>56.289824</td>\n",
       "    </tr>\n",
       "    <tr>\n",
       "      <td>vegetables</td>\n",
       "      <td>75.353458</td>\n",
       "      <td>24.646542</td>\n",
       "    </tr>\n",
       "    <tr>\n",
       "      <td>cereals</td>\n",
       "      <td>76.076016</td>\n",
       "      <td>23.923984</td>\n",
       "    </tr>\n",
       "    <tr>\n",
       "      <td>animal_products</td>\n",
       "      <td>97.302453</td>\n",
       "      <td>2.697547</td>\n",
       "    </tr>\n",
       "    <tr>\n",
       "      <td>meat</td>\n",
       "      <td>85.456294</td>\n",
       "      <td>14.543706</td>\n",
       "    </tr>\n",
       "    <tr>\n",
       "      <td>seafood</td>\n",
       "      <td>39.576356</td>\n",
       "      <td>60.423644</td>\n",
       "    </tr>\n",
       "  </tbody>\n",
       "</table>\n",
       "</div>"
      ],
      "text/plain": [
       "                 domestic_consumption  imported_consumption\n",
       "type                                                       \n",
       "fruits                      43.710176             56.289824\n",
       "vegetables                  75.353458             24.646542\n",
       "cereals                     76.076016             23.923984\n",
       "animal_products             97.302453              2.697547\n",
       "meat                        85.456294             14.543706\n",
       "seafood                     39.576356             60.423644"
      ]
     },
     "execution_count": 35,
     "metadata": {},
     "output_type": "execute_result"
    }
   ],
   "source": [
    "# Compute ratio of domestic vs. imported consumption per metatype\n",
    "consumption_by_type = consumption.groupby(\"type\").sum()\n",
    "consumption_by_type[\"domestic_consumption\"] = 100 * (\n",
    "    consumption_by_type.domestic_consumption / consumption_by_type.consumption\n",
    ")\n",
    "consumption_by_type[\"imported_consumption\"] = 100 * (\n",
    "    consumption_by_type.imported_consumption / consumption_by_type.consumption\n",
    ")\n",
    "consumption_by_type.drop(\"consumption\", axis=1, inplace=True)\n",
    "consumption_by_type = consumption_by_type.reindex(\n",
    "    [\"fruits\", \"vegetables\", \"cereals\", \"animal_products\", \"meat\", \"seafood\"]\n",
    ")\n",
    "consumption_by_type"
   ]
  },
  {
   "cell_type": "code",
   "execution_count": 36,
   "metadata": {},
   "outputs": [],
   "source": [
    "plot_consumption_per_type(consumption_by_type)"
   ]
  },
  {
   "cell_type": "markdown",
   "metadata": {},
   "source": [
    "*Bipartite graph between continents and meta food groups, weighted by amounts of food imported from those continents*"
   ]
  },
  {
   "cell_type": "code",
   "execution_count": null,
   "metadata": {},
   "outputs": [],
   "source": [
    "bipartite_food_continent(impex)"
   ]
  },
  {
   "cell_type": "markdown",
   "metadata": {},
   "source": [
    "**[View bipartite graph here](../docs/_includes/sankey_diagram.html)**"
   ]
  },
  {
   "cell_type": "markdown",
   "metadata": {},
   "source": [
    "***"
   ]
  },
  {
   "cell_type": "code",
   "execution_count": 38,
   "metadata": {},
   "outputs": [
    {
     "name": "stdout",
     "output_type": "stream",
     "text": [
      "76.0% of Switzerland's total imports come from countries within a 1000km radius.\n"
     ]
    }
   ],
   "source": [
    "percentage = glimpse()\n",
    "print(str(round(percentage)) +\n",
    "      \"% of Switzerland's total imports come from countries within a 1000km radius.\")"
   ]
  },
  {
   "cell_type": "markdown",
   "metadata": {},
   "source": [
    "***"
   ]
  },
  {
   "cell_type": "code",
   "execution_count": 39,
   "metadata": {},
   "outputs": [],
   "source": [
    "meta_food_CO2 = impex_countries.total_kg_CO2e.groupby(\"type\").sum()\n",
    "meta_food_consumption = impex_countries.swiss_consumption.groupby('type').sum()\n",
    "meta_normalized_CO2 = meta_food_CO2 / meta_food_consumption"
   ]
  },
  {
   "cell_type": "code",
   "execution_count": 40,
   "metadata": {},
   "outputs": [
    {
     "data": {
      "image/png": "[encoded data removed]",
      "text/plain": [
       "<Figure size 864x288 with 1 Axes>"
      ]
     },
     "metadata": {
      "needs_background": "light"
     },
     "output_type": "display_data"
    }
   ],
   "source": [
    "plot_carbon_cost_norm_by_consumption(meta_normalized_CO2)"
   ]
  },
  {
   "cell_type": "markdown",
   "metadata": {},
   "source": [
    "Let's now look at a plot which compares the inherent carbon cost of a food item (that is, its global average emission value for production multiplied by how much of that item is consumed in Switzerland) with its Swiss-specific carbon cost (the inherent cost plus the transport carbon emissions)."
   ]
  },
  {
   "cell_type": "code",
   "execution_count": 42,
   "metadata": {},
   "outputs": [],
   "source": [
    "meat = impex_countries.xs(\"meat\")\n",
    "vegetables = impex_countries.xs(\"vegetables\")"
   ]
  },
  {
   "cell_type": "code",
   "execution_count": 43,
   "metadata": {},
   "outputs": [],
   "source": [
    "meat_emissions = preprocess_for_stacked_plot(meat, emissions)\n",
    "vegetables_emissions = preprocess_for_stacked_plot(vegetables, emissions)"
   ]
  },
  {
   "cell_type": "code",
   "execution_count": 79,
   "metadata": {},
   "outputs": [
    {
     "data": {
      "image/png": "[encoded data removed]",
      "text/plain": [
       "<Figure size 432x360 with 1 Axes>"
      ]
     },
     "metadata": {},
     "output_type": "display_data"
    }
   ],
   "source": [
    "plot_stacked(meat_emissions)"
   ]
  },
  {
   "cell_type": "code",
   "execution_count": 81,
   "metadata": {},
   "outputs": [
    {
     "data": {
      "image/png": "[encoded data removed]",
      "text/plain": [
       "<Figure size 432x432 with 1 Axes>"
      ]
     },
     "metadata": {},
     "output_type": "display_data"
    }
   ],
   "source": [
    "plot_stacked(vegetables_emissions)"
   ]
  },
  {
   "cell_type": "code",
   "execution_count": 46,
   "metadata": {},
   "outputs": [],
   "source": [
    "veggies_transport, veggies_inherent = preprocess_for_double_stacked_plot(vegetables_emissions)"
   ]
  },
  {
   "cell_type": "code",
   "execution_count": 47,
   "metadata": {},
   "outputs": [
    {
     "data": {
      "image/png": "[encoded data removed]",
      "text/plain": [
       "<Figure size 648x648 with 1 Axes>"
      ]
     },
     "metadata": {},
     "output_type": "display_data"
    }
   ],
   "source": [
    "plot_stacked_double(veggies_transport, veggies_inherent)"
   ]
  },
  {
   "cell_type": "markdown",
   "metadata": {},
   "source": [
    "*Fruits analysis* \n",
    "\n",
    "Let's look at fruits in detail"
   ]
  },
  {
   "cell_type": "code",
   "execution_count": 49,
   "metadata": {},
   "outputs": [
    {
     "data": {
      "text/html": [
       "<div>\n",
       "<style scoped>\n",
       "    .dataframe tbody tr th:only-of-type {\n",
       "        vertical-align: middle;\n",
       "    }\n",
       "\n",
       "    .dataframe tbody tr th {\n",
       "        vertical-align: top;\n",
       "    }\n",
       "\n",
       "    .dataframe thead th {\n",
       "        text-align: right;\n",
       "    }\n",
       "</style>\n",
       "<table border=\"1\" class=\"dataframe\">\n",
       "  <thead>\n",
       "    <tr style=\"text-align: right;\">\n",
       "      <th>indicator</th>\n",
       "      <th>imports</th>\n",
       "      <th>swiss_consumption</th>\n",
       "      <th>kg_CO2e_transport</th>\n",
       "      <th>kg_CO2e_transport_via_nl</th>\n",
       "      <th>total_kg_CO2e</th>\n",
       "    </tr>\n",
       "    <tr>\n",
       "      <th>subtype</th>\n",
       "      <th></th>\n",
       "      <th></th>\n",
       "      <th></th>\n",
       "      <th></th>\n",
       "      <th></th>\n",
       "    </tr>\n",
       "  </thead>\n",
       "  <tbody>\n",
       "    <tr>\n",
       "      <td>apples</td>\n",
       "      <td>12116858.0</td>\n",
       "      <td>12116858.0</td>\n",
       "      <td>1.503958e+07</td>\n",
       "      <td>3.049093e+06</td>\n",
       "      <td>1.855346e+07</td>\n",
       "    </tr>\n",
       "    <tr>\n",
       "      <td>apricots</td>\n",
       "      <td>11934233.0</td>\n",
       "      <td>11934233.0</td>\n",
       "      <td>3.238883e+06</td>\n",
       "      <td>3.223300e+06</td>\n",
       "      <td>8.370603e+06</td>\n",
       "    </tr>\n",
       "    <tr>\n",
       "      <td>avocados</td>\n",
       "      <td>14697330.0</td>\n",
       "      <td>14651336.0</td>\n",
       "      <td>3.568201e+07</td>\n",
       "      <td>7.706230e+06</td>\n",
       "      <td>5.472874e+07</td>\n",
       "    </tr>\n",
       "    <tr>\n",
       "      <td>bananas</td>\n",
       "      <td>92397628.0</td>\n",
       "      <td>92360865.0</td>\n",
       "      <td>2.393861e+08</td>\n",
       "      <td>3.806845e+07</td>\n",
       "      <td>3.058859e+08</td>\n",
       "    </tr>\n",
       "    <tr>\n",
       "      <td>cherries</td>\n",
       "      <td>3754514.0</td>\n",
       "      <td>3754514.0</td>\n",
       "      <td>1.054330e+06</td>\n",
       "      <td>1.002653e+06</td>\n",
       "      <td>2.518591e+06</td>\n",
       "    </tr>\n",
       "  </tbody>\n",
       "</table>\n",
       "</div>"
      ],
      "text/plain": [
       "indicator     imports  swiss_consumption  kg_CO2e_transport  \\\n",
       "subtype                                                       \n",
       "apples     12116858.0         12116858.0       1.503958e+07   \n",
       "apricots   11934233.0         11934233.0       3.238883e+06   \n",
       "avocados   14697330.0         14651336.0       3.568201e+07   \n",
       "bananas    92397628.0         92360865.0       2.393861e+08   \n",
       "cherries    3754514.0          3754514.0       1.054330e+06   \n",
       "\n",
       "indicator  kg_CO2e_transport_via_nl  total_kg_CO2e  \n",
       "subtype                                             \n",
       "apples                 3.049093e+06   1.855346e+07  \n",
       "apricots               3.223300e+06   8.370603e+06  \n",
       "avocados               7.706230e+06   5.472874e+07  \n",
       "bananas                3.806845e+07   3.058859e+08  \n",
       "cherries               1.002653e+06   2.518591e+06  "
      ]
     },
     "execution_count": 49,
     "metadata": {},
     "output_type": "execute_result"
    }
   ],
   "source": [
    "# import amounts, amounts consumed in Switzerland, and kg of CO2e by each fruit\n",
    "fruits_co2 = (\n",
    "    impex_countries.iloc[impex_countries.index.get_level_values(0) == \"fruits\"]\n",
    "    .groupby(\"subtype\")\n",
    "    .sum()\n",
    ")\n",
    "fruits_co2.head()"
   ]
  },
  {
   "cell_type": "code",
   "execution_count": 52,
   "metadata": {},
   "outputs": [
    {
     "data": {
      "image/png": "[encoded data removed]",
      "text/plain": [
       "<Figure size 864x288 with 1 Axes>"
      ]
     },
     "metadata": {},
     "output_type": "display_data"
    }
   ],
   "source": [
    "plot_fruits_co2(fruits_co2)"
   ]
  },
  {
   "cell_type": "markdown",
   "metadata": {},
   "source": [
    "We observe that exotic fruits have slightly higher carbon output, which is not surprising as they're usually imported from distant countries."
   ]
  },
  {
   "cell_type": "markdown",
   "metadata": {},
   "source": [
    "*Considering seasonality...*"
   ]
  },
  {
   "cell_type": "markdown",
   "metadata": {},
   "source": [
    "Let's compare tomatoes grown by different methods. For example, tomatoes grown outside of a greenhouse have a lower carbon impact than tomatoes grown in greenhouses. But how does the carbon cost of transport compare to the carbon cost of these higher intensity methods? We can quantify the comparison by looking at the carbon costs of the amount of tomatoes consumed in Switzerland if they were grown in Switzerland or grown in other countries, then transported. For each country, we will compare three growing methods. The countries included in this analysis are the warmer neighboring countries of Spain and Morocco, the biggest tomato trading partners of Switzerland within and outside of Europe, respectively. (We chose to pick one country outside of Europe even though it is the third biggest tomato trading partner, to account for a higher distance of transport.)"
   ]
  },
  {
   "cell_type": "code",
   "execution_count": 53,
   "metadata": {},
   "outputs": [
    {
     "name": "stdout",
     "output_type": "stream",
     "text": [
      "Spain produces 45.2% of swiss-consumed tomatoes and Morocco produces 16.2%, out of a total of 37244968 kg of tomatoes.\n"
     ]
    }
   ],
   "source": [
    "# first quantify how many tomatoes come from these two countries, just to show how large of tomato trading partners they are\n",
    "spain_produced_swiss_consumed_tomatoes = int(\n",
    "    impex_countries.loc[\"vegetables\"]\n",
    "    .loc[\"tomatoes\"]\n",
    "    .loc[\"Europe\"]\n",
    "    .loc[\"Spain\"]\n",
    "    .swiss_consumption\n",
    ")\n",
    "morocco_produced_swiss_consumed_tomatoes = int(\n",
    "    impex_countries.loc[\"vegetables\"]\n",
    "    .loc[\"tomatoes\"]\n",
    "    .loc[\"Africa\"]\n",
    "    .loc[\"Morocco\"]\n",
    "    .swiss_consumption\n",
    ")\n",
    "total_tomatoes = int(\n",
    "    impex_countries.loc[\"vegetables\"].loc[\"tomatoes\"].sum().swiss_consumption\n",
    ")\n",
    "spain_tomatoes_perc = round(\n",
    "    spain_produced_swiss_consumed_tomatoes * 100 / total_tomatoes, 1\n",
    ")\n",
    "morocco_tomatoes_perc = round(\n",
    "    morocco_produced_swiss_consumed_tomatoes * 100 / total_tomatoes, 1\n",
    ")\n",
    "\n",
    "print(\n",
    "    \"Spain produces {}% of swiss-consumed tomatoes and Morocco produces {}%, out of a total of {} kg of tomatoes.\".format(\n",
    "        spain_tomatoes_perc, morocco_tomatoes_perc, total_tomatoes\n",
    "    )\n",
    ")"
   ]
  },
  {
   "cell_type": "code",
   "execution_count": 54,
   "metadata": {},
   "outputs": [
    {
     "data": {
      "text/html": [
       "<div>\n",
       "<style scoped>\n",
       "    .dataframe tbody tr th:only-of-type {\n",
       "        vertical-align: middle;\n",
       "    }\n",
       "\n",
       "    .dataframe tbody tr th {\n",
       "        vertical-align: top;\n",
       "    }\n",
       "\n",
       "    .dataframe thead th {\n",
       "        text-align: right;\n",
       "    }\n",
       "</style>\n",
       "<table border=\"1\" class=\"dataframe\">\n",
       "  <thead>\n",
       "    <tr style=\"text-align: right;\">\n",
       "      <th></th>\n",
       "      <th>Median</th>\n",
       "      <th>produced_in_CH_month</th>\n",
       "      <th>imported_from_ES_month</th>\n",
       "      <th>imported_from_MO_month</th>\n",
       "      <th>transport_percent</th>\n",
       "    </tr>\n",
       "    <tr>\n",
       "      <th>Name</th>\n",
       "      <th></th>\n",
       "      <th></th>\n",
       "      <th></th>\n",
       "      <th></th>\n",
       "      <th></th>\n",
       "    </tr>\n",
       "  </thead>\n",
       "  <tbody>\n",
       "    <tr>\n",
       "      <td>Tomatoes: non greenhouse</td>\n",
       "      <td>0.45</td>\n",
       "      <td>2.990737e+06</td>\n",
       "      <td>5.703140e+06</td>\n",
       "      <td>7.150832e+06</td>\n",
       "      <td>90.693508</td>\n",
       "    </tr>\n",
       "    <tr>\n",
       "      <td>Tomatoes: passive greenhouse</td>\n",
       "      <td>0.51</td>\n",
       "      <td>3.389501e+06</td>\n",
       "      <td>6.101905e+06</td>\n",
       "      <td>7.549597e+06</td>\n",
       "      <td>80.023683</td>\n",
       "    </tr>\n",
       "    <tr>\n",
       "      <td>Tomatoes: heated greenhouse</td>\n",
       "      <td>2.20</td>\n",
       "      <td>1.462138e+07</td>\n",
       "      <td>1.733378e+07</td>\n",
       "      <td>1.878147e+07</td>\n",
       "      <td>18.550945</td>\n",
       "    </tr>\n",
       "  </tbody>\n",
       "</table>\n",
       "</div>"
      ],
      "text/plain": [
       "                              Median  produced_in_CH_month  \\\n",
       "Name                                                         \n",
       "Tomatoes: non greenhouse        0.45          2.990737e+06   \n",
       "Tomatoes: passive greenhouse    0.51          3.389501e+06   \n",
       "Tomatoes: heated greenhouse     2.20          1.462138e+07   \n",
       "\n",
       "                              imported_from_ES_month  imported_from_MO_month  \\\n",
       "Name                                                                           \n",
       "Tomatoes: non greenhouse                5.703140e+06            7.150832e+06   \n",
       "Tomatoes: passive greenhouse            6.101905e+06            7.549597e+06   \n",
       "Tomatoes: heated greenhouse             1.733378e+07            1.878147e+07   \n",
       "\n",
       "                              transport_percent  \n",
       "Name                                             \n",
       "Tomatoes: non greenhouse              90.693508  \n",
       "Tomatoes: passive greenhouse          80.023683  \n",
       "Tomatoes: heated greenhouse           18.550945  "
      ]
     },
     "execution_count": 54,
     "metadata": {},
     "output_type": "execute_result"
    }
   ],
   "source": [
    "tomatoes = load_tomatoes(suisse, transport, transportCO2, countries)\n",
    "tomatoes"
   ]
  },
  {
   "cell_type": "markdown",
   "metadata": {},
   "source": [
    "In this dataframe, the columns are:\n",
    "* `Median`: the inherent median carbon emission value for tomatoes grown by a given production method (in kg CO2e)\n",
    "* `produced_in_CH_month`: kg of CO2e produced if the amount of tomatoes consumed in Switzerland were all produced within Switzerland by that method of production\n",
    "* `imported_from_ES_month`: kg of CO2e produced if the amount of tomatoes consumed in Switzerland were all produced in Spain by that method of production and then imported\n",
    "* `imported_from_MO_month`: same as `imported_from_ES_month` except produced in and imported from Morocco\n",
    "* `transport_percent`: the percentage of the CO2e which results from the transport cost from Spain, in comparison to the inherent production cost"
   ]
  },
  {
   "cell_type": "code",
   "execution_count": 55,
   "metadata": {},
   "outputs": [],
   "source": [
    "tomatoes_for_graph = tomatoes.drop(columns=[\"transport_percent\", \"Median\"])\n",
    "tomatoes_for_graph = tomatoes_for_graph.rename(\n",
    "    columns={\n",
    "        \"produced_in_CH_month\": \"Switzerland\",\n",
    "        \"imported_from_ES_month\": \"Spain\",\n",
    "        \"imported_from_MO_month\": \"Morocco\",\n",
    "    }\n",
    ")\n",
    "tomatoes_for_graph = tomatoes_for_graph.stack()"
   ]
  },
  {
   "cell_type": "code",
   "execution_count": 58,
   "metadata": {},
   "outputs": [
    {
     "data": {
      "image/png": "[encoded data removed]",
      "text/plain": [
       "<Figure size 864x576 with 1 Axes>"
      ]
     },
     "metadata": {},
     "output_type": "display_data"
    }
   ],
   "source": [
    "plot_tomatoes(tomatoes_for_graph)"
   ]
  },
  {
   "cell_type": "markdown",
   "metadata": {},
   "source": [
    "*Carbon emissions by food group*"
   ]
  },
  {
   "cell_type": "code",
   "execution_count": 63,
   "metadata": {},
   "outputs": [
    {
     "data": {
      "text/html": [
       "<div>\n",
       "<style scoped>\n",
       "    .dataframe tbody tr th:only-of-type {\n",
       "        vertical-align: middle;\n",
       "    }\n",
       "\n",
       "    .dataframe tbody tr th {\n",
       "        vertical-align: top;\n",
       "    }\n",
       "\n",
       "    .dataframe thead th {\n",
       "        text-align: right;\n",
       "    }\n",
       "</style>\n",
       "<table border=\"1\" class=\"dataframe\">\n",
       "  <thead>\n",
       "    <tr style=\"text-align: right;\">\n",
       "      <th></th>\n",
       "      <th>indicator</th>\n",
       "      <th>kg_CO2_per_kg_food</th>\n",
       "    </tr>\n",
       "    <tr>\n",
       "      <th>type</th>\n",
       "      <th>subtype</th>\n",
       "      <th></th>\n",
       "    </tr>\n",
       "  </thead>\n",
       "  <tbody>\n",
       "    <tr>\n",
       "      <td rowspan=\"5\" valign=\"top\">animal_products</td>\n",
       "      <td>butter</td>\n",
       "      <td>9.458033</td>\n",
       "    </tr>\n",
       "    <tr>\n",
       "      <td>cheese</td>\n",
       "      <td>8.734386</td>\n",
       "    </tr>\n",
       "    <tr>\n",
       "      <td>eggs</td>\n",
       "      <td>3.652800</td>\n",
       "    </tr>\n",
       "    <tr>\n",
       "      <td>honey</td>\n",
       "      <td>3.606396</td>\n",
       "    </tr>\n",
       "    <tr>\n",
       "      <td>milk_cream</td>\n",
       "      <td>1.441360</td>\n",
       "    </tr>\n",
       "  </tbody>\n",
       "</table>\n",
       "</div>"
      ],
      "text/plain": [
       "indicator                   kg_CO2_per_kg_food\n",
       "type            subtype                       \n",
       "animal_products butter                9.458033\n",
       "                cheese                8.734386\n",
       "                eggs                  3.652800\n",
       "                honey                 3.606396\n",
       "                milk_cream            1.441360"
      ]
     },
     "execution_count": 63,
     "metadata": {},
     "output_type": "execute_result"
    }
   ],
   "source": [
    "histogram_df = (\n",
    "    impex_countries.groupby([\"type\", \"subtype\"])\n",
    "    .sum()\n",
    "    .drop(columns=[\"imports\", \"kg_CO2e_transport\", \"kg_CO2e_transport_via_nl\"])\n",
    ")\n",
    "histogram_df[\"kg_CO2_per_kg_food\"] = (\n",
    "    histogram_df[\"total_kg_CO2e\"] / histogram_df[\"swiss_consumption\"]\n",
    ")\n",
    "histogram_df.drop(columns=[\"swiss_consumption\", \"total_kg_CO2e\"], inplace=True)\n",
    "histogram_df.head()"
   ]
  },
  {
   "cell_type": "code",
   "execution_count": 69,
   "metadata": {},
   "outputs": [],
   "source": [
    "animal_prods = np.array(histogram_df.loc[\"animal_products\"])\n",
    "meat_seafood = np.array(histogram_df.loc[[\"seafood\", \"meat\"]])\n",
    "vegan_sourced = np.array(histogram_df.loc[[\"fruits\", \"vegetables\", \"cereals\"]])"
   ]
  },
  {
   "cell_type": "code",
   "execution_count": 70,
   "metadata": {},
   "outputs": [
    {
     "data": {
      "image/png": "[encoded data removed]",
      "text/plain": [
       "<Figure size 864x432 with 1 Axes>"
      ]
     },
     "metadata": {},
     "output_type": "display_data"
    }
   ],
   "source": [
    "plot_emmissions_foodgroup(animal_prods, meat_seafood, vegan_sourced)"
   ]
  }
 ],
 "metadata": {
  "kernelspec": {
   "display_name": "Python [conda env:ada] *",
   "language": "python",
   "name": "conda-env-ada-py"
  },
  "language_info": {
   "codemirror_mode": {
    "name": "ipython",
    "version": 3
   },
   "file_extension": ".py",
   "mimetype": "text/x-python",
   "name": "python",
   "nbconvert_exporter": "python",
   "pygments_lexer": "ipython3",
   "version": "3.7.4"
  }
 },
 "nbformat": 4,
 "nbformat_minor": 4
}
