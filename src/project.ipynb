{
 "cells": [
  {
   "cell_type": "markdown",
   "metadata": {},
   "source": [
    "# Introduction\n",
    "\n",
    "The goal of this initial analysis is to load data about imports, exports, and domestic production of various food types, relevant to Switzerland. Please see the `README` for overall project goals and background information.\n",
    "\n",
    "Note that in the current state of analysis, only fruits and vegetables have been considered. Functions for processing the data regarding meats, non-meat animal products, and other food groups have already been written, but this data was not yet incorporated into the notebook, for simplicity purposes and initial exploration."
   ]
  },
  {
   "cell_type": "code",
   "execution_count": 3,
   "metadata": {},
   "outputs": [
    {
     "name": "stdout",
     "output_type": "stream",
     "text": [
      "The autoreload extension is already loaded. To reload it, use:\n",
      "  %reload_ext autoreload\n"
     ]
    }
   ],
   "source": [
    "# import external libraries\n",
    "%matplotlib inline\n",
    "import collections\n",
    "import inspect\n",
    "import pickle\n",
    "import re\n",
    "\n",
    "import pandas as pd\n",
    "import numpy as np\n",
    "\n",
    "import matplotlib.pyplot as plt\n",
    "import seaborn as sns\n",
    "\n",
    "import networkx as nx\n",
    "from networkx.algorithms import bipartite\n",
    "\n",
    "%load_ext autoreload\n",
    "%autoreload 2"
   ]
  },
  {
   "cell_type": "code",
   "execution_count": 44,
   "metadata": {},
   "outputs": [],
   "source": [
    "# import local dependencies\n",
    "import sys\n",
    "sys.path.insert(1, \"scripts\")\n",
    "\n",
    "from helpers import *\n",
    "from plots import *\n",
    "from impex_data_manipulation import *\n",
    "from fao_data_manipulation import *\n",
    "from emissions_data_manipulation import *\n",
    "from data_analysis import *"
   ]
  },
  {
   "cell_type": "markdown",
   "metadata": {},
   "source": [
    "The first step is to calculate, for each type of food, how much of what is consumed by the Swiss population is produced within Switzerland versus imported. To do this, we will combine 3 sets of data: imports, exports, and domestic production. The imports and exports data are sourced from [Swiss Impex](https://www.gate.ezv.admin.ch/swissimpex/index.xhtml), a website hosted by the Swiss Federal Customs Administration which provides data on Switzerland's global trade activity. Domestic production data comes from [FAOStat](http://www.fao.org/faostat/en/#data), the Food and Agriculture Organization of the United Nations which offers a variety of agricultural-related data. In theory, the amount of food consumed in Switzerland (including food waste) can be calculated from these datasets:\n",
    "\n",
    "Food consumed = domestic production + imports - exports\n",
    "\n",
    "Note that the Swiss Federal Statistics Office also provided relevant data--namely, it has a dataset on Swiss food consumption by type of food. Unfortunately, these data conflicted with the data from FAO and Swiss Impex. Since the Federal Statistics Office data was much less detailed (for instance, more general/broad food categories), we decided to focus on Impex and FAO, knowing that the numbers must be taken with a grain of salt since it is difficult to accurately quantify such data.\n",
    "\n",
    "Let's load all the data and then combine the various data sets to get the values of interest. First we'll load imports and exports data from Impex. The data is spread across multiple Excel files and sheets."
   ]
  },
  {
   "cell_type": "markdown",
   "metadata": {},
   "source": [
    "***\n",
    "**Data loading and manipulation**\n",
    "***"
   ]
  },
  {
   "cell_type": "markdown",
   "metadata": {},
   "source": [
    "Let's start with loading the Swiss Impex into the `impex` dataframe:"
   ]
  },
  {
   "cell_type": "code",
   "execution_count": null,
   "metadata": {},
   "outputs": [],
   "source": [
    "impex = load_impex()\n",
    "impex.head()"
   ]
  },
  {
   "cell_type": "markdown",
   "metadata": {},
   "source": [
    "We then create a dataframe `impex_total` for storing total quantities for indicator variables:"
   ]
  },
  {
   "cell_type": "code",
   "execution_count": null,
   "metadata": {},
   "outputs": [],
   "source": [
    "# 1. Select only first row (total), creates a series\n",
    "# 2. Unstack first level (indicator) to create a dataframe\n",
    "impex_total = impex.iloc[0].unstack(\"indicator\")\n",
    "impex_total.head()"
   ]
  },
  {
   "cell_type": "markdown",
   "metadata": {},
   "source": [
    "Let's now further manipulate the original `impex` dataframe to include information about the continents and sub-continents in the index:"
   ]
  },
  {
   "cell_type": "code",
   "execution_count": null,
   "metadata": {},
   "outputs": [],
   "source": [
    "# First we drop the total row\n",
    "impex = impex.drop(\"total\")\n",
    "\n",
    "# Second, we load the country-continent info\n",
    "countries = load_countries_continents()\n",
    "\n",
    "# Finally, we compute the new index and apply it\n",
    "countries_mindex = pd.MultiIndex.from_arrays(countries.values.T, names=countries.columns)\n",
    "impex_mindex = countries_mindex[countries_mindex.get_level_values(2).isin(impex.index)]\n",
    "impex.set_index(impex_mindex, inplace=True)\n",
    "\n",
    "impex.index.names"
   ]
  },
  {
   "cell_type": "markdown",
   "metadata": {},
   "source": [
    "Note that the `impex` frame should only contain information about food destined for humans. We were careful to ensure this was true: all items which can also be imported for the use of animal feed were selected by their subcategory of being specifically for human consumption. "
   ]
  },
  {
   "cell_type": "markdown",
   "metadata": {},
   "source": [
    "Now, let's load the data on Swiss domestic `production` from FAO:"
   ]
  },
  {
   "cell_type": "code",
   "execution_count": null,
   "metadata": {},
   "outputs": [],
   "source": [
    "production = load_fao()\n",
    "production.head()"
   ]
  },
  {
   "cell_type": "markdown",
   "metadata": {},
   "source": [
    "In this data as well, we were careful that only crops produced for human consumption are measured. This is specified in the FAO metadata.\n",
    "\n",
    "One interesting aspect of meat and non-meat animal product production, which is not relevant to the other food groups, is that animal feed may be sourced from a different location than where the meat/animal product is produced. This implicates the sourcing of animal feed as a very important factor for the carbon intensity of these foods. For example, if Switzerland produced most of its meat domestically, but it imported all of its feed, the carbon intensity of its meat would be much higher than if the feed were grown domestically. Thus, both aspects of the final food product must be examined."
   ]
  },
  {
   "cell_type": "code",
   "execution_count": null,
   "metadata": {},
   "outputs": [],
   "source": [
    "# TODO decide how to handle animal feed"
   ]
  },
  {
   "cell_type": "markdown",
   "metadata": {},
   "source": [
    "Next we perform an outer join of `impex_total` and `production` to create a meta-dataframe, `suisse` with all total macroeconomic indicators for each commodity subtype:"
   ]
  },
  {
   "cell_type": "code",
   "execution_count": null,
   "metadata": {},
   "outputs": [],
   "source": [
    "suisse = impex_total.join(production, how=\"outer\")\n",
    "suisse.head()"
   ]
  },
  {
   "cell_type": "markdown",
   "metadata": {},
   "source": [
    "We have three possibilities for each commodity\n",
    "1. Neither production or import/export values are given or they all sum up to 0\n",
    "2. Either only production values are given or only import/export values are given\n",
    "3. Production, import and export values are all given (and are non-zero)\n",
    "\n",
    "Commodities fulfilling the first condition will be removed. Commodities fulfilling the second or third condition will be kept.\n",
    "\n",
    "<em style=\"font-size: 12px\">Note: Missing or 0-valued data may be due to either the values actually being 0 or the data not being collected on these items. Since there is no way of knowing which is the case, we will assume that the values are indeed truly 0 to enable their utilization in the analysis.</em>"
   ]
  },
  {
   "cell_type": "code",
   "execution_count": null,
   "metadata": {},
   "outputs": [],
   "source": [
    "# Remove subtypes for which all given quantities sum up to 0\n",
    "subtypes_no_info = suisse.index[suisse.sum(axis=1) == 0]\n",
    "suisse.drop(subtypes_no_info, inplace=True)"
   ]
  },
  {
   "cell_type": "markdown",
   "metadata": {},
   "source": [
    "Next, we shall add columns for `domestic_consumption` and `imported_consumption`.\n",
    "\n",
    "Definitions:\n",
    "* **domestic consumption**: goods and services consumed in the country where they are produced\n",
    "* **imported consumption**: goods and services consumed in the country to which they are imported\n",
    "\n",
    "**Note**: in this analysis we will make the following simplified assumptions:\n",
    "\n",
    "* food waste is included as being \"consumed\"\n",
    "* exported quantity is first satisfied by available produced quantity, and then imported quantity"
   ]
  },
  {
   "cell_type": "code",
   "execution_count": null,
   "metadata": {},
   "outputs": [],
   "source": [
    "# If exports > production, then we say all produced quantity\n",
    "# is exported and the rest of exported quantity is satisfied by imports:\n",
    "# 1. Set domestic_consumption to zero\n",
    "# 2. Set imported_consumption to imports-(exports-production)\n",
    "\n",
    "# If exports <= production, we say all exports\n",
    "# is satisfied by domestic production: \n",
    "# 1. Set domestic_consumption to production-exports\n",
    "# 2. Set imported_consumption to imports\n",
    "suisse[\"domestic_consumption\"] = np.where(\n",
    "    suisse.exports > suisse.production,\n",
    "    0,\n",
    "    suisse.production - suisse.exports\n",
    ")\n",
    "\n",
    "suisse[\"imported_consumption\"] = np.where(\n",
    "    suisse.exports > suisse.production,\n",
    "    suisse.imports - suisse.exports + suisse.production,\n",
    "    suisse.imports\n",
    ")\n",
    "\n",
    "suisse[\"consumption\"] = suisse.domestic_consumption + suisse.imported_consumption\n",
    "\n",
    "suisse.head()"
   ]
  },
  {
   "cell_type": "markdown",
   "metadata": {},
   "source": [
    "***\n",
    "**Data analysis and visualization**\n",
    "***"
   ]
  },
  {
   "cell_type": "markdown",
   "metadata": {},
   "source": [
    "Let's plot imports and exports per meta-type:"
   ]
  },
  {
   "cell_type": "code",
   "execution_count": null,
   "metadata": {
    "scrolled": true
   },
   "outputs": [],
   "source": [
    "# 1. Group by meta-type\n",
    "# 2. Sum the totals\n",
    "# 3. Unstack the columns to create a Series\n",
    "impex_total_metatype = impex_total.groupby(\"type\").sum().unstack()"
   ]
  },
  {
   "cell_type": "code",
   "execution_count": null,
   "metadata": {},
   "outputs": [],
   "source": [
    "impex_total_metatype"
   ]
  },
  {
   "cell_type": "code",
   "execution_count": null,
   "metadata": {},
   "outputs": [],
   "source": [
    "plt.figure(figsize=(12, 4))\n",
    "ax = sns.barplot(\n",
    "    x=impex_total_metatype.index.get_level_values(\"type\"),\n",
    "    y=impex_total_metatype.values / 1000,  # kg --> tonnes\n",
    "    hue=impex_total_metatype.index.get_level_values(\"indicator\"),\n",
    ")\n",
    "\n",
    "ax.set(\n",
    "    title=\"Total imports vs. exports\", xlabel=\"commodity\", ylabel=\"quantity (tonnes)\"\n",
    ")\n",
    "plt.xticks(rotation=90)\n",
    "sns.despine();"
   ]
  },
  {
   "cell_type": "markdown",
   "metadata": {},
   "source": [
    "As you can see, Switzerland imports many more fruits, vegetables and meats than it exports. The `animal_products` category is interesting, because import and export quantities are about equal. What would make the most sense is if Switzerland imports different animal products than it exports (rather than the same products being both imported and exported). Let's test this theory by looking at imports and exports for the subcategories of `animal_products`:"
   ]
  },
  {
   "cell_type": "code",
   "execution_count": null,
   "metadata": {},
   "outputs": [],
   "source": [
    "impex_total_animal_prods = impex_total.loc[\"animal_products\"].groupby(\"subtype\").sum().unstack()"
   ]
  },
  {
   "cell_type": "code",
   "execution_count": null,
   "metadata": {},
   "outputs": [],
   "source": [
    "plt.figure(figsize=(12, 4))\n",
    "ax = sns.barplot(\n",
    "    x=impex_total_animal_prods.index.get_level_values(\"subtype\"),\n",
    "    y=impex_total_animal_prods.values / 1000,  # kg --> tonnes\n",
    "    hue=impex_total_animal_prods.index.get_level_values(\"indicator\"),\n",
    ")\n",
    "\n",
    "ax.set(\n",
    "    title=\"Imports vs. exports of animal products\", xlabel=\"commodity\", ylabel=\"quantity (tonnes)\"\n",
    ")\n",
    "plt.xticks(rotation=90)\n",
    "sns.despine();"
   ]
  },
  {
   "cell_type": "markdown",
   "metadata": {},
   "source": [
    "This graph brings more light to the topic. Cheese, a category of which there are many different flavors and consumers like variety, is both heavily imported and exported, likely giving consumers access to a wider variety of cheese types. Eggs, on the other hand, are nearly exclusively imported, while whey is mostly exported.\n",
    "\n",
    "The butter category of this graph is a good transition to the continuation of the analysis; just because butter is hardly imported nor exported does not mean the Swiss do not eat butter! Rather, imports and exports are only part of the broader picture since domestic production is another important consideration. One possible hypothesis for why butter is neither imported nor exported in large quantities is because domestic production is nearly equal to domestic consumption."
   ]
  },
  {
   "cell_type": "markdown",
   "metadata": {},
   "source": [
    "#### Demonstration of how a bipartite graph works\n",
    "Brooke is currently working on this; she will apply it to our data later. For now it just shows how to form the nodes and weights of the edges."
   ]
  },
  {
   "cell_type": "code",
   "execution_count": null,
   "metadata": {},
   "outputs": [],
   "source": [
    "B = nx.Graph()\n",
    "#Add nodes with the node attribute \"bipartite\"\n",
    "B.add_nodes_from([1, 2, 3, 4], bipartite=0)\n",
    "B.add_nodes_from(['a', 'b', 'c'], bipartite=1)\n",
    "#Add edges only between nodes of opposite node sets\n",
    "#B.add_edges_from([(1, 'a'), (1, 'b'), (2, 'b'), (2, 'c'), (3, 'c'), (4, 'a')])\n",
    "B.add_weighted_edges_from([(1,'a',3), (1,'b',1), (2,'b',5), (2,'c',2), (3,'c',1), (4,'a',1)]) # (left node, right node, edge weight)\n",
    "top = nx.bipartite.sets(B)[0]\n",
    "pos = nx.bipartite_layout(B, top)\n",
    "weights = [B[u][v]['weight'] for u,v in B.edges()]\n",
    "nx.draw_networkx(B, pos, font_size=20, node_size=700, width=weights)"
   ]
  },
  {
   "cell_type": "markdown",
   "metadata": {},
   "source": [
    "## Emissions\n"
   ]
  },
  {
   "cell_type": "markdown",
   "metadata": {},
   "source": [
    "Now that we have calculated Switzerland's production and consumption, we want to have a look at how this translates in terms of equivalent CO$_2$ production. To do this, we could look at Swiss-specific values for the greenhouse gas production for different food types, however data from other countries is very sparse and reliable data for many food types is only available for certain countries. Later in the analysis, we want to compare Swiss production emissions with Swiss import emissions, therefore for consistency we need to either have data available for all (or most) countries for a given product, or use global averages. Comprehensive data is available on meat and cereal production emissions worldwide, however fruit and vegetable figures are much harder to obtain and only a limited number of studies have been carried out. These studies have been accumulated in a systematic review (https://www.sciencedirect.com/science/article/pii/S0959652616303584) and these values have been used to calculate averages for a number of different kinds of produce. To ensure our results are consistent, we will use this generalisation of global average values to estimate the domestic Swiss emissions for fruit and vegetables.\n",
    "\n",
    "<!---\n",
    "Other thought: I've currently created a dictionary to map the different fruit/veg to the impex categories. Was just thinking, this could be a potential spot to use machine learning, although admittedly not a very useful one...\n",
    "--->"
   ]
  },
  {
   "cell_type": "code",
   "execution_count": null,
   "metadata": {},
   "outputs": [],
   "source": [
    "emissions = load_emissions()\n",
    "emissions.head()"
   ]
  },
  {
   "cell_type": "code",
   "execution_count": null,
   "metadata": {},
   "outputs": [],
   "source": [
    "# integrate the median emissions values into this dataframe\n",
    "suisse = add_emissions_data(suisse, emissions)\n",
    "suisse.head()"
   ]
  },
  {
   "cell_type": "markdown",
   "metadata": {},
   "source": [
    "So assuming that domestic transport is negligible, we can estimate the equivalent CO$_2$ emissions for each product type, using the global average values."
   ]
  },
  {
   "cell_type": "code",
   "execution_count": null,
   "metadata": {},
   "outputs": [],
   "source": [
    "# calculate the emissions (resulting from production of the products)\n",
    "suisse = production_emissions(suisse)\n",
    "suisse.head()"
   ]
  },
  {
   "cell_type": "markdown",
   "metadata": {},
   "source": [
    "The final column of the above table shows the total CO$_2$ equivalent (kg) that would be produced if everything that was consumed in Switzerland was domestically produced, i.e. no transport emissions were considered and Swiss-specific CO$_2$ emissions were used for meat and cereal production. Evidently, it is not possible to produce everything that a current consumer buys locally, so in the following analysis we will consider the effect that these imported products and 'food miles' have on the CO$_2$ emissions resulting from Swiss consumption. "
   ]
  },
  {
   "cell_type": "markdown",
   "metadata": {},
   "source": [
    "## Transport Analysis"
   ]
  },
  {
   "cell_type": "code",
   "execution_count": 4,
   "metadata": {},
   "outputs": [],
   "source": [
    "countries = pd.read_excel('../data/impex/countries/impex-countries.xlsx')[['country']]\n",
    "\n",
    "def find_coord(x):\n",
    "    location = geolocator.geocode(x, timeout=100)\n",
    "    if location != None:\n",
    "        return [location.latitude, location.longitude]\n",
    "    else:\n",
    "        return np.nan\n",
    "    \n",
    "countries['coord'] = countries.country.apply(find_coord)"
   ]
  },
  {
   "cell_type": "code",
   "execution_count": 32,
   "metadata": {},
   "outputs": [
    {
     "data": {
      "text/html": [
       "<div>\n",
       "<style scoped>\n",
       "    .dataframe tbody tr th:only-of-type {\n",
       "        vertical-align: middle;\n",
       "    }\n",
       "\n",
       "    .dataframe tbody tr th {\n",
       "        vertical-align: top;\n",
       "    }\n",
       "\n",
       "    .dataframe thead th {\n",
       "        text-align: right;\n",
       "    }\n",
       "</style>\n",
       "<table border=\"1\" class=\"dataframe\">\n",
       "  <thead>\n",
       "    <tr style=\"text-align: right;\">\n",
       "      <th></th>\n",
       "      <th>coord</th>\n",
       "      <th>distance_CH</th>\n",
       "    </tr>\n",
       "    <tr>\n",
       "      <th>country</th>\n",
       "      <th></th>\n",
       "      <th></th>\n",
       "    </tr>\n",
       "  </thead>\n",
       "  <tbody>\n",
       "    <tr>\n",
       "      <th>Algeria</th>\n",
       "      <td>[28.0000272, 2.9999825]</td>\n",
       "      <td>2136.0</td>\n",
       "    </tr>\n",
       "    <tr>\n",
       "      <th>Canary Islands</th>\n",
       "      <td>[28.2935785, -16.6214471211441]</td>\n",
       "      <td>2983.0</td>\n",
       "    </tr>\n",
       "    <tr>\n",
       "      <th>Ceuta</th>\n",
       "      <td>[35.888361, -5.304138]</td>\n",
       "      <td>1654.0</td>\n",
       "    </tr>\n",
       "    <tr>\n",
       "      <th>Ceuta/Melilla</th>\n",
       "      <td>[36.7137977, -4.272712]</td>\n",
       "      <td>1525.0</td>\n",
       "    </tr>\n",
       "    <tr>\n",
       "      <th>Egypt</th>\n",
       "      <td>[26.2540493, 29.2675469]</td>\n",
       "      <td>2938.0</td>\n",
       "    </tr>\n",
       "    <tr>\n",
       "      <th>...</th>\n",
       "      <td>...</td>\n",
       "      <td>...</td>\n",
       "    </tr>\n",
       "    <tr>\n",
       "      <th>Tokelau Islands</th>\n",
       "      <td>[-9.11486065, -171.784053860451]</td>\n",
       "      <td>15827.0</td>\n",
       "    </tr>\n",
       "    <tr>\n",
       "      <th>Tonga</th>\n",
       "      <td>[-19.9160819, -175.2026424]</td>\n",
       "      <td>17006.0</td>\n",
       "    </tr>\n",
       "    <tr>\n",
       "      <th>Tuvalu</th>\n",
       "      <td>[-7.768959, 178.1167698]</td>\n",
       "      <td>15573.0</td>\n",
       "    </tr>\n",
       "    <tr>\n",
       "      <th>Vanuatu</th>\n",
       "      <td>[-16.5255069, 168.1069154]</td>\n",
       "      <td>16173.0</td>\n",
       "    </tr>\n",
       "    <tr>\n",
       "      <th>Wallis/Futuna</th>\n",
       "      <td>[-13.289402, -176.204224]</td>\n",
       "      <td>16266.0</td>\n",
       "    </tr>\n",
       "  </tbody>\n",
       "</table>\n",
       "<p>263 rows × 2 columns</p>\n",
       "</div>"
      ],
      "text/plain": [
       "                                            coord  distance_CH\n",
       "country                                                       \n",
       "Algeria                   [28.0000272, 2.9999825]       2136.0\n",
       "Canary Islands    [28.2935785, -16.6214471211441]       2983.0\n",
       "Ceuta                      [35.888361, -5.304138]       1654.0\n",
       "Ceuta/Melilla             [36.7137977, -4.272712]       1525.0\n",
       "Egypt                    [26.2540493, 29.2675469]       2938.0\n",
       "...                                           ...          ...\n",
       "Tokelau Islands  [-9.11486065, -171.784053860451]      15827.0\n",
       "Tonga                 [-19.9160819, -175.2026424]      17006.0\n",
       "Tuvalu                   [-7.768959, 178.1167698]      15573.0\n",
       "Vanuatu                [-16.5255069, 168.1069154]      16173.0\n",
       "Wallis/Futuna           [-13.289402, -176.204224]      16266.0\n",
       "\n",
       "[263 rows x 2 columns]"
      ]
     },
     "execution_count": 32,
     "metadata": {},
     "output_type": "execute_result"
    }
   ],
   "source": [
    "countries"
   ]
  },
  {
   "cell_type": "code",
   "execution_count": 45,
   "metadata": {},
   "outputs": [],
   "source": [
    "countries = country_distances()"
   ]
  },
  {
   "cell_type": "code",
   "execution_count": 41,
   "metadata": {},
   "outputs": [
    {
     "data": {
      "text/html": [
       "<div>\n",
       "<style scoped>\n",
       "    .dataframe tbody tr th:only-of-type {\n",
       "        vertical-align: middle;\n",
       "    }\n",
       "\n",
       "    .dataframe tbody tr th {\n",
       "        vertical-align: top;\n",
       "    }\n",
       "\n",
       "    .dataframe thead th {\n",
       "        text-align: right;\n",
       "    }\n",
       "</style>\n",
       "<table border=\"1\" class=\"dataframe\">\n",
       "  <thead>\n",
       "    <tr style=\"text-align: right;\">\n",
       "      <th></th>\n",
       "      <th>coord</th>\n",
       "      <th>distance_CH</th>\n",
       "    </tr>\n",
       "    <tr>\n",
       "      <th>country</th>\n",
       "      <th></th>\n",
       "      <th></th>\n",
       "    </tr>\n",
       "  </thead>\n",
       "  <tbody>\n",
       "    <tr>\n",
       "      <th>Algeria</th>\n",
       "      <td>[28.0000272, 2.9999825]</td>\n",
       "      <td>2136.0</td>\n",
       "    </tr>\n",
       "    <tr>\n",
       "      <th>Canary Islands</th>\n",
       "      <td>[28.2935785, -16.6214471211441]</td>\n",
       "      <td>2983.0</td>\n",
       "    </tr>\n",
       "    <tr>\n",
       "      <th>Ceuta</th>\n",
       "      <td>[35.888361, -5.304138]</td>\n",
       "      <td>1654.0</td>\n",
       "    </tr>\n",
       "    <tr>\n",
       "      <th>Ceuta/Melilla</th>\n",
       "      <td>[36.7137977, -4.272712]</td>\n",
       "      <td>1525.0</td>\n",
       "    </tr>\n",
       "    <tr>\n",
       "      <th>Egypt</th>\n",
       "      <td>[26.2540493, 29.2675469]</td>\n",
       "      <td>2938.0</td>\n",
       "    </tr>\n",
       "    <tr>\n",
       "      <th>Libya</th>\n",
       "      <td>[26.8234472, 18.1236723]</td>\n",
       "      <td>2381.0</td>\n",
       "    </tr>\n",
       "    <tr>\n",
       "      <th>Melilla</th>\n",
       "      <td>[35.2918698, -2.9409026]</td>\n",
       "      <td>1583.0</td>\n",
       "    </tr>\n",
       "    <tr>\n",
       "      <th>Morocco</th>\n",
       "      <td>[31.1728205, -7.3362482]</td>\n",
       "      <td>2189.0</td>\n",
       "    </tr>\n",
       "    <tr>\n",
       "      <th>Tunisia</th>\n",
       "      <td>[33.8439408, 9.400138]</td>\n",
       "      <td>1442.0</td>\n",
       "    </tr>\n",
       "    <tr>\n",
       "      <th>Western Sahara</th>\n",
       "      <td>[24.1797324, -13.7667848]</td>\n",
       "      <td>3183.0</td>\n",
       "    </tr>\n",
       "    <tr>\n",
       "      <th>Angola</th>\n",
       "      <td>[-11.8775768, 17.5691241]</td>\n",
       "      <td>6565.0</td>\n",
       "    </tr>\n",
       "    <tr>\n",
       "      <th>Benin</th>\n",
       "      <td>[9.5293472, 2.2584408]</td>\n",
       "      <td>4170.0</td>\n",
       "    </tr>\n",
       "    <tr>\n",
       "      <th>BIOT</th>\n",
       "      <td>[46.2630477, 6.6314475]</td>\n",
       "      <td>136.0</td>\n",
       "    </tr>\n",
       "    <tr>\n",
       "      <th>Botswana</th>\n",
       "      <td>[-23.1681782, 24.5928742]</td>\n",
       "      <td>7921.0</td>\n",
       "    </tr>\n",
       "    <tr>\n",
       "      <th>Bouvet Island</th>\n",
       "      <td>[-54.4215, 3.35744155625]</td>\n",
       "      <td>11227.0</td>\n",
       "    </tr>\n",
       "    <tr>\n",
       "      <th>Burkina Faso</th>\n",
       "      <td>[12.0753083, -1.6880314]</td>\n",
       "      <td>3961.0</td>\n",
       "    </tr>\n",
       "    <tr>\n",
       "      <th>Burundi</th>\n",
       "      <td>[-3.3634357, 29.8870575]</td>\n",
       "      <td>5950.0</td>\n",
       "    </tr>\n",
       "    <tr>\n",
       "      <th>Cabo Verde</th>\n",
       "      <td>[16.0000552, -24.0083947]</td>\n",
       "      <td>4529.0</td>\n",
       "    </tr>\n",
       "    <tr>\n",
       "      <th>Cameroon</th>\n",
       "      <td>[4.6125522, 13.1535811]</td>\n",
       "      <td>4699.0</td>\n",
       "    </tr>\n",
       "    <tr>\n",
       "      <th>Central Africa</th>\n",
       "      <td>[-25.3613207, -57.5783936]</td>\n",
       "      <td>10363.0</td>\n",
       "    </tr>\n",
       "    <tr>\n",
       "      <th>Chad</th>\n",
       "      <td>[15.6134137, 19.0156172]</td>\n",
       "      <td>3600.0</td>\n",
       "    </tr>\n",
       "    <tr>\n",
       "      <th>Comoros</th>\n",
       "      <td>[-12.2045176, 44.2832964]</td>\n",
       "      <td>7457.0</td>\n",
       "    </tr>\n",
       "    <tr>\n",
       "      <th>Congo (RDC)</th>\n",
       "      <td>[-2.9814344, 23.8222636]</td>\n",
       "      <td>5723.0</td>\n",
       "    </tr>\n",
       "    <tr>\n",
       "      <th>Congo, Rep. of</th>\n",
       "      <td>NaN</td>\n",
       "      <td>NaN</td>\n",
       "    </tr>\n",
       "    <tr>\n",
       "      <th>Côte d'Ivoire</th>\n",
       "      <td>[7.9897371, -5.5679458]</td>\n",
       "      <td>4498.0</td>\n",
       "    </tr>\n",
       "    <tr>\n",
       "      <th>Djibouti</th>\n",
       "      <td>[11.8145966, 42.8453061]</td>\n",
       "      <td>5056.0</td>\n",
       "    </tr>\n",
       "    <tr>\n",
       "      <th>Eritrea</th>\n",
       "      <td>[15.9500319, 37.9999668]</td>\n",
       "      <td>4388.0</td>\n",
       "    </tr>\n",
       "    <tr>\n",
       "      <th>Eswatini</th>\n",
       "      <td>[-26.5624806, 31.3991317]</td>\n",
       "      <td>8452.0</td>\n",
       "    </tr>\n",
       "    <tr>\n",
       "      <th>Ethiopia</th>\n",
       "      <td>[10.2116702, 38.6521203]</td>\n",
       "      <td>4969.0</td>\n",
       "    </tr>\n",
       "    <tr>\n",
       "      <th>Gabon</th>\n",
       "      <td>[-0.8999695, 11.6899699]</td>\n",
       "      <td>5295.0</td>\n",
       "    </tr>\n",
       "    <tr>\n",
       "      <th>Gambia</th>\n",
       "      <td>[13.470062, -15.4900464]</td>\n",
       "      <td>4308.0</td>\n",
       "    </tr>\n",
       "    <tr>\n",
       "      <th>Ghana</th>\n",
       "      <td>[8.0300284, -1.0800271]</td>\n",
       "      <td>4388.0</td>\n",
       "    </tr>\n",
       "    <tr>\n",
       "      <th>Guinea</th>\n",
       "      <td>[10.7226226, -10.7083587]</td>\n",
       "      <td>4380.0</td>\n",
       "    </tr>\n",
       "    <tr>\n",
       "      <th>Guinea, Equat.</th>\n",
       "      <td>NaN</td>\n",
       "      <td>NaN</td>\n",
       "    </tr>\n",
       "    <tr>\n",
       "      <th>Guinea-Bissau</th>\n",
       "      <td>[12.100035, -14.9000214]</td>\n",
       "      <td>4417.0</td>\n",
       "    </tr>\n",
       "    <tr>\n",
       "      <th>Kenya</th>\n",
       "      <td>[1.4419683, 38.4313975]</td>\n",
       "      <td>5816.0</td>\n",
       "    </tr>\n",
       "    <tr>\n",
       "      <th>Lesotho</th>\n",
       "      <td>[-29.6039267, 28.3350193]</td>\n",
       "      <td>8699.0</td>\n",
       "    </tr>\n",
       "    <tr>\n",
       "      <th>Liberia</th>\n",
       "      <td>[5.7499721, -9.3658524]</td>\n",
       "      <td>4852.0</td>\n",
       "    </tr>\n",
       "    <tr>\n",
       "      <th>Madagascar</th>\n",
       "      <td>[-18.9249604, 46.4416422]</td>\n",
       "      <td>8226.0</td>\n",
       "    </tr>\n",
       "    <tr>\n",
       "      <th>Malawi</th>\n",
       "      <td>[-13.2687204, 33.9301963]</td>\n",
       "      <td>7130.0</td>\n",
       "    </tr>\n",
       "    <tr>\n",
       "      <th>Mali</th>\n",
       "      <td>[16.3700359, -2.2900239]</td>\n",
       "      <td>3512.0</td>\n",
       "    </tr>\n",
       "    <tr>\n",
       "      <th>Mauritania</th>\n",
       "      <td>[20.2540382, -9.2399263]</td>\n",
       "      <td>3345.0</td>\n",
       "    </tr>\n",
       "    <tr>\n",
       "      <th>Mauritius</th>\n",
       "      <td>[-20.2759451, 57.5703566]</td>\n",
       "      <td>8925.0</td>\n",
       "    </tr>\n",
       "    <tr>\n",
       "      <th>Mayotte</th>\n",
       "      <td>[-12.823048, 45.1520755]</td>\n",
       "      <td>7560.0</td>\n",
       "    </tr>\n",
       "    <tr>\n",
       "      <th>Mozambique</th>\n",
       "      <td>[-19.302233, 34.9144977]</td>\n",
       "      <td>7795.0</td>\n",
       "    </tr>\n",
       "    <tr>\n",
       "      <th>Namibia</th>\n",
       "      <td>[-23.2335499, 17.3231107]</td>\n",
       "      <td>7809.0</td>\n",
       "    </tr>\n",
       "    <tr>\n",
       "      <th>Niger</th>\n",
       "      <td>[17.7356214, 9.3238432]</td>\n",
       "      <td>3225.0</td>\n",
       "    </tr>\n",
       "    <tr>\n",
       "      <th>Nigeria</th>\n",
       "      <td>[9.6000359, 7.9999721]</td>\n",
       "      <td>4123.0</td>\n",
       "    </tr>\n",
       "    <tr>\n",
       "      <th>Réunion</th>\n",
       "      <td>[-21.1309332, 55.5265771]</td>\n",
       "      <td>8895.0</td>\n",
       "    </tr>\n",
       "    <tr>\n",
       "      <th>Rwanda</th>\n",
       "      <td>[-1.9646631, 30.0644358]</td>\n",
       "      <td>5810.0</td>\n",
       "    </tr>\n",
       "  </tbody>\n",
       "</table>\n",
       "</div>"
      ],
      "text/plain": [
       "                                          coord  distance_CH\n",
       "country                                                     \n",
       "Algeria                 [28.0000272, 2.9999825]       2136.0\n",
       "Canary Islands  [28.2935785, -16.6214471211441]       2983.0\n",
       "Ceuta                    [35.888361, -5.304138]       1654.0\n",
       "Ceuta/Melilla           [36.7137977, -4.272712]       1525.0\n",
       "Egypt                  [26.2540493, 29.2675469]       2938.0\n",
       "Libya                  [26.8234472, 18.1236723]       2381.0\n",
       "Melilla                [35.2918698, -2.9409026]       1583.0\n",
       "Morocco                [31.1728205, -7.3362482]       2189.0\n",
       "Tunisia                  [33.8439408, 9.400138]       1442.0\n",
       "Western Sahara        [24.1797324, -13.7667848]       3183.0\n",
       "Angola                [-11.8775768, 17.5691241]       6565.0\n",
       "Benin                    [9.5293472, 2.2584408]       4170.0\n",
       "BIOT                    [46.2630477, 6.6314475]        136.0\n",
       "Botswana              [-23.1681782, 24.5928742]       7921.0\n",
       "Bouvet Island         [-54.4215, 3.35744155625]      11227.0\n",
       "Burkina Faso           [12.0753083, -1.6880314]       3961.0\n",
       "Burundi                [-3.3634357, 29.8870575]       5950.0\n",
       "Cabo Verde            [16.0000552, -24.0083947]       4529.0\n",
       "Cameroon                [4.6125522, 13.1535811]       4699.0\n",
       "Central Africa       [-25.3613207, -57.5783936]      10363.0\n",
       "Chad                   [15.6134137, 19.0156172]       3600.0\n",
       "Comoros               [-12.2045176, 44.2832964]       7457.0\n",
       "Congo (RDC)            [-2.9814344, 23.8222636]       5723.0\n",
       "Congo, Rep. of                              NaN          NaN\n",
       "Côte d'Ivoire           [7.9897371, -5.5679458]       4498.0\n",
       "Djibouti               [11.8145966, 42.8453061]       5056.0\n",
       "Eritrea                [15.9500319, 37.9999668]       4388.0\n",
       "Eswatini              [-26.5624806, 31.3991317]       8452.0\n",
       "Ethiopia               [10.2116702, 38.6521203]       4969.0\n",
       "Gabon                  [-0.8999695, 11.6899699]       5295.0\n",
       "Gambia                 [13.470062, -15.4900464]       4308.0\n",
       "Ghana                   [8.0300284, -1.0800271]       4388.0\n",
       "Guinea                [10.7226226, -10.7083587]       4380.0\n",
       "Guinea, Equat.                              NaN          NaN\n",
       "Guinea-Bissau          [12.100035, -14.9000214]       4417.0\n",
       "Kenya                   [1.4419683, 38.4313975]       5816.0\n",
       "Lesotho               [-29.6039267, 28.3350193]       8699.0\n",
       "Liberia                 [5.7499721, -9.3658524]       4852.0\n",
       "Madagascar            [-18.9249604, 46.4416422]       8226.0\n",
       "Malawi                [-13.2687204, 33.9301963]       7130.0\n",
       "Mali                   [16.3700359, -2.2900239]       3512.0\n",
       "Mauritania             [20.2540382, -9.2399263]       3345.0\n",
       "Mauritius             [-20.2759451, 57.5703566]       8925.0\n",
       "Mayotte                [-12.823048, 45.1520755]       7560.0\n",
       "Mozambique             [-19.302233, 34.9144977]       7795.0\n",
       "Namibia               [-23.2335499, 17.3231107]       7809.0\n",
       "Niger                   [17.7356214, 9.3238432]       3225.0\n",
       "Nigeria                  [9.6000359, 7.9999721]       4123.0\n",
       "Réunion               [-21.1309332, 55.5265771]       8895.0\n",
       "Rwanda                 [-1.9646631, 30.0644358]       5810.0"
      ]
     },
     "execution_count": 41,
     "metadata": {},
     "output_type": "execute_result"
    }
   ],
   "source": [
    "countries.head(50)"
   ]
  },
  {
   "cell_type": "code",
   "execution_count": 30,
   "metadata": {},
   "outputs": [],
   "source": [
    "countries.set_index('country', inplace=True)"
   ]
  },
  {
   "cell_type": "code",
   "execution_count": 34,
   "metadata": {},
   "outputs": [
    {
     "data": {
      "text/plain": [
       "coord          NaN\n",
       "distance_CH    NaN\n",
       "Name: Congo, Rep. of, dtype: object"
      ]
     },
     "execution_count": 34,
     "metadata": {},
     "output_type": "execute_result"
    }
   ],
   "source": [
    "countries.loc['Congo, Rep. of']"
   ]
  },
  {
   "cell_type": "markdown",
   "metadata": {},
   "source": [
    "## Further Analysis"
   ]
  },
  {
   "cell_type": "markdown",
   "metadata": {},
   "source": [
    "The following will describe initial observations we have made regarding the transport of food, global carbon emissions intensities, and how we plan to use this information to estimate the impact consumption of different foods in Switzerland has and how a Swiss consumer can minimise their environmental impact in their food choices.\n",
    "\n",
    "'Food miles', or the distance that food has to travel to arrive on your plate, clearly have an impact on the carbon emissions of the products we consume. Let's look at how much of the food, beverages, and tobacco that Switzerland imports comes from its nearest neighboring countries. The farther a country is, the more carbon emissions it would cost to import that food."
   ]
  },
  {
   "cell_type": "code",
   "execution_count": null,
   "metadata": {},
   "outputs": [],
   "source": [
    "percentage = glimpse()\n",
    "print(str(round(percentage)) + \"% of Switzerland's total imports come from countries within a 1000km radius.\")"
   ]
  },
  {
   "cell_type": "markdown",
   "metadata": {},
   "source": [
    "So we can see that a lot of Switzerland's imports come from nearby countries. We will continue in this vein and look at the origins of each product individually to see the impact these food miles/varying production methods have on their carbon footprint. One thing we will consider is the transport methods, clearly the impact of these food miles differs greatly depending on whether the food is transported by plane or ship..."
   ]
  },
  {
   "cell_type": "markdown",
   "metadata": {},
   "source": [
    "<img width=\"400\" height=\"400\" src=\"https://icmattermost.epfl.ch/files/5zr1jyriupfsfgmr4dtg155ssw/public?h=_GPk0xYK1I16gWsY3GuIsrFC5bTb3Ioh4_W3h3oYDs8\">"
   ]
  },
  {
   "cell_type": "markdown",
   "metadata": {},
   "source": [
    "Transport methods for different commodoties in the USA are described in detail in the paper *Food-Miles and the Relative Climate Impacts of Food Choices in the United States* (Weber and Matthews, 2008). These values, or similar data for other countries worldwide could be used to estimate the transport means for different products and thus the impact this transport has on emissions for each product. Perishable products more frequently have to be transported by air, and therefore have a significantly larger carbon footprint."
   ]
  }
 ],
 "metadata": {
  "kernelspec": {
   "display_name": "Python [conda env:ada] *",
   "language": "python",
   "name": "conda-env-ada-py"
  },
  "language_info": {
   "codemirror_mode": {
    "name": "ipython",
    "version": 3
   },
   "file_extension": ".py",
   "mimetype": "text/x-python",
   "name": "python",
   "nbconvert_exporter": "python",
   "pygments_lexer": "ipython3",
   "version": "3.7.4"
  }
 },
 "nbformat": 4,
 "nbformat_minor": 4
}
