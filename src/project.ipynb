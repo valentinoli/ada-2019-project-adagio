{
 "cells": [
  {
   "cell_type": "code",
   "execution_count": 148,
   "metadata": {},
   "outputs": [
    {
     "name": "stdout",
     "output_type": "stream",
     "text": [
      "The autoreload extension is already loaded. To reload it, use:\n",
      "  %reload_ext autoreload\n"
     ]
    }
   ],
   "source": [
    "# import external libraries\n",
    "%matplotlib inline\n",
    "import collections\n",
    "import inspect\n",
    "import pickle\n",
    "import re\n",
    "\n",
    "import pandas as pd\n",
    "import numpy as np\n",
    "\n",
    "import matplotlib.pyplot as plt\n",
    "import seaborn as sns\n",
    "\n",
    "%load_ext autoreload\n",
    "%autoreload 2"
   ]
  },
  {
   "cell_type": "code",
   "execution_count": 136,
   "metadata": {},
   "outputs": [],
   "source": [
    "# import local dependencies\n",
    "from scripts.helpers import *\n",
    "from scripts.plots import *\n",
    "from scripts.data_manipulation import *\n",
    "from scripts.data_analysis import *"
   ]
  },
  {
   "cell_type": "markdown",
   "metadata": {},
   "source": [
    "***\n",
    "**Exploratory data analysis**\n",
    "***"
   ]
  },
  {
   "cell_type": "markdown",
   "metadata": {},
   "source": [
    "Let's start by looking at Swiss *food* imports on a macro scale:"
   ]
  },
  {
   "cell_type": "code",
   "execution_count": 44,
   "metadata": {},
   "outputs": [
    {
     "data": {
      "text/plain": [
       "\u001b[1;32mdef\u001b[0m \u001b[0mload_imports\u001b[0m\u001b[1;33m(\u001b[0m\u001b[0mfilepath\u001b[0m\u001b[1;33m,\u001b[0m \u001b[0msheet\u001b[0m\u001b[1;33m=\u001b[0m\u001b[1;36m0\u001b[0m\u001b[1;33m)\u001b[0m\u001b[1;33m:\u001b[0m\u001b[1;33m\n",
       "\u001b[0m    \u001b[1;34m\"\"\"Loads specific imports/exports data from Swiss Impex\"\"\"\u001b[0m\u001b[1;33m\n",
       "\u001b[0m    \u001b[0mcolumn_names\u001b[0m \u001b[1;33m=\u001b[0m \u001b[1;33m[\u001b[0m\u001b[1;34m\"commercial_partner\"\u001b[0m\u001b[1;33m,\u001b[0m \u001b[1;34m\"quantity_kg\"\u001b[0m\u001b[1;33m,\u001b[0m \u001b[1;34m\"value_chf\"\u001b[0m\u001b[1;33m,\u001b[0m \u001b[1;34m\"value_change_%\"\u001b[0m\u001b[1;33m]\u001b[0m\u001b[1;33m\n",
       "\u001b[0m    \u001b[1;33m\n",
       "\u001b[0m    \u001b[1;32mreturn\u001b[0m \u001b[0mpd\u001b[0m\u001b[1;33m.\u001b[0m\u001b[0mread_excel\u001b[0m\u001b[1;33m(\u001b[0m\u001b[1;33m\n",
       "\u001b[0m        \u001b[0mfilepath\u001b[0m\u001b[1;33m,\u001b[0m\u001b[1;33m\n",
       "\u001b[0m        \u001b[0msheet_name\u001b[0m\u001b[1;33m=\u001b[0m\u001b[0msheet\u001b[0m\u001b[1;33m,\u001b[0m\u001b[1;33m\n",
       "\u001b[0m        \u001b[0mnames\u001b[0m\u001b[1;33m=\u001b[0m\u001b[0mcolumn_names\u001b[0m\u001b[1;33m,\u001b[0m\u001b[1;33m\n",
       "\u001b[0m        \u001b[0musecols\u001b[0m\u001b[1;33m=\u001b[0m\u001b[1;33m[\u001b[0m\u001b[1;36m1\u001b[0m\u001b[1;33m,\u001b[0m \u001b[1;36m2\u001b[0m\u001b[1;33m,\u001b[0m \u001b[1;36m3\u001b[0m\u001b[1;33m,\u001b[0m \u001b[1;36m4\u001b[0m\u001b[1;33m]\u001b[0m\u001b[1;33m,\u001b[0m\u001b[1;33m\n",
       "\u001b[0m        \u001b[0mskiprows\u001b[0m\u001b[1;33m=\u001b[0m\u001b[1;36m5\u001b[0m\u001b[1;33m,\u001b[0m\u001b[1;33m\n",
       "\u001b[0m        \u001b[0mconverters\u001b[0m\u001b[1;33m=\u001b[0m\u001b[1;33m{\u001b[0m\u001b[1;33m\n",
       "\u001b[0m            \u001b[1;31m# strip leading whitespace from country name\u001b[0m\u001b[1;33m\n",
       "\u001b[0m            \u001b[1;36m0\u001b[0m\u001b[1;33m:\u001b[0m \u001b[1;32mlambda\u001b[0m \u001b[0mx\u001b[0m\u001b[1;33m:\u001b[0m \u001b[0mx\u001b[0m\u001b[1;33m.\u001b[0m\u001b[0mstrip\u001b[0m\u001b[1;33m(\u001b[0m\u001b[1;33m)\u001b[0m\u001b[1;33m\n",
       "\u001b[0m        \u001b[1;33m}\u001b[0m\u001b[1;33m\n",
       "\u001b[0m    \u001b[1;33m)\u001b[0m\u001b[1;33m.\u001b[0m\u001b[0mdropna\u001b[0m\u001b[1;33m(\u001b[0m\u001b[0mhow\u001b[0m\u001b[1;33m=\u001b[0m\u001b[1;34m'all'\u001b[0m\u001b[1;33m)\u001b[0m  \u001b[1;31m# drop empty rows\u001b[0m\u001b[1;33m\u001b[0m\u001b[1;33m\u001b[0m\u001b[0m\n"
      ]
     },
     "metadata": {},
     "output_type": "display_data"
    }
   ],
   "source": [
    "# Show data manipulation function helpers\n",
    "%psource load_imports"
   ]
  },
  {
   "cell_type": "code",
   "execution_count": 45,
   "metadata": {},
   "outputs": [
    {
     "data": {
      "text/plain": [
       "\u001b[1;32mdef\u001b[0m \u001b[0mload_imported_food\u001b[0m\u001b[1;33m(\u001b[0m\u001b[1;33m)\u001b[0m\u001b[1;33m:\u001b[0m\u001b[1;33m\n",
       "\u001b[0m    \u001b[1;34m\"\"\"Load imports: food, beverages, and tobacco\"\"\"\u001b[0m\u001b[1;33m\n",
       "\u001b[0m    \u001b[1;32mreturn\u001b[0m \u001b[0mload_imports\u001b[0m\u001b[1;33m(\u001b[0m\u001b[0mFOOD_IMPORTS_PATH\u001b[0m\u001b[1;33m)\u001b[0m\u001b[1;33m\u001b[0m\u001b[1;33m\u001b[0m\u001b[0m\n"
      ]
     },
     "metadata": {},
     "output_type": "display_data"
    }
   ],
   "source": [
    "%psource load_imported_food"
   ]
  },
  {
   "cell_type": "code",
   "execution_count": 160,
   "metadata": {},
   "outputs": [
    {
     "data": {
      "text/html": [
       "<div>\n",
       "<style scoped>\n",
       "    .dataframe tbody tr th:only-of-type {\n",
       "        vertical-align: middle;\n",
       "    }\n",
       "\n",
       "    .dataframe tbody tr th {\n",
       "        vertical-align: top;\n",
       "    }\n",
       "\n",
       "    .dataframe thead th {\n",
       "        text-align: right;\n",
       "    }\n",
       "</style>\n",
       "<table border=\"1\" class=\"dataframe\">\n",
       "  <thead>\n",
       "    <tr style=\"text-align: right;\">\n",
       "      <th></th>\n",
       "      <th>quantity_kg</th>\n",
       "      <th>value_chf</th>\n",
       "      <th>value_change_%</th>\n",
       "    </tr>\n",
       "    <tr>\n",
       "      <th>commercial_partner</th>\n",
       "      <th></th>\n",
       "      <th></th>\n",
       "      <th></th>\n",
       "    </tr>\n",
       "  </thead>\n",
       "  <tbody>\n",
       "    <tr>\n",
       "      <td>Total trade</td>\n",
       "      <td>4.125947e+09</td>\n",
       "      <td>1.058994e+10</td>\n",
       "      <td>4.5</td>\n",
       "    </tr>\n",
       "    <tr>\n",
       "      <td>Afghanistan</td>\n",
       "      <td>3.300000e+01</td>\n",
       "      <td>1.229620e+05</td>\n",
       "      <td>244.1</td>\n",
       "    </tr>\n",
       "    <tr>\n",
       "      <td>Albania</td>\n",
       "      <td>3.444010e+05</td>\n",
       "      <td>3.499380e+05</td>\n",
       "      <td>-26.7</td>\n",
       "    </tr>\n",
       "    <tr>\n",
       "      <td>Algeria</td>\n",
       "      <td>9.049800e+04</td>\n",
       "      <td>4.043350e+05</td>\n",
       "      <td>0.1</td>\n",
       "    </tr>\n",
       "    <tr>\n",
       "      <td>Amer. Virgin</td>\n",
       "      <td>5.000000e+01</td>\n",
       "      <td>2.793000e+03</td>\n",
       "      <td>-90.6</td>\n",
       "    </tr>\n",
       "  </tbody>\n",
       "</table>\n",
       "</div>"
      ],
      "text/plain": [
       "                     quantity_kg     value_chf value_change_%\n",
       "commercial_partner                                           \n",
       "Total trade         4.125947e+09  1.058994e+10            4.5\n",
       "Afghanistan         3.300000e+01  1.229620e+05          244.1\n",
       "Albania             3.444010e+05  3.499380e+05          -26.7\n",
       "Algeria             9.049800e+04  4.043350e+05            0.1\n",
       "Amer. Virgin        5.000000e+01  2.793000e+03          -90.6"
      ]
     },
     "execution_count": 160,
     "metadata": {},
     "output_type": "execute_result"
    }
   ],
   "source": [
    "imported_food = load_imported_food()\n",
    "imported_food.head()"
   ]
  },
  {
   "cell_type": "markdown",
   "metadata": {},
   "source": [
    "Let's look at how much of the food, beverages, and tobacco that Switzerland imports comes from its nearest neighboring countries. The farther a country is, the more carbon emissions it would cost to import that food."
   ]
  },
  {
   "cell_type": "code",
   "execution_count": 41,
   "metadata": {},
   "outputs": [
    {
     "data": {
      "text/plain": [
       "['Portugal',\n",
       " 'Spain',\n",
       " 'France',\n",
       " 'Germany',\n",
       " 'Italy',\n",
       " 'Austria',\n",
       " 'Belgium',\n",
       " 'Netherlands',\n",
       " 'Czech Republic',\n",
       " 'Slovenia',\n",
       " 'Croatia']"
      ]
     },
     "execution_count": 41,
     "metadata": {},
     "output_type": "execute_result"
    }
   ],
   "source": [
    "nearby_countries"
   ]
  },
  {
   "cell_type": "code",
   "execution_count": 40,
   "metadata": {},
   "outputs": [
    {
     "data": {
      "text/plain": [
       "\u001b[1;32mdef\u001b[0m \u001b[0mcompute_nearby_imports_ratio\u001b[0m\u001b[1;33m(\u001b[0m\u001b[0mimports\u001b[0m\u001b[1;33m)\u001b[0m\u001b[1;33m:\u001b[0m\u001b[1;33m\n",
       "\u001b[0m    \u001b[1;34m\"\"\"Computes the ratio of imported products which come from nearby countries\"\"\"\u001b[0m\u001b[1;33m\n",
       "\u001b[0m    \u001b[0mimported_nearby\u001b[0m \u001b[1;33m=\u001b[0m \u001b[0mimports\u001b[0m\u001b[1;33m[\u001b[0m\u001b[0mimports\u001b[0m\u001b[1;33m.\u001b[0m\u001b[0mcommercial_partner\u001b[0m\u001b[1;33m.\u001b[0m\u001b[0misin\u001b[0m\u001b[1;33m(\u001b[0m\u001b[0mnearby_countries\u001b[0m\u001b[1;33m)\u001b[0m\u001b[1;33m]\u001b[0m\u001b[1;33m\n",
       "\u001b[0m    \u001b[0mtotal_nearby\u001b[0m \u001b[1;33m=\u001b[0m \u001b[0mimported_nearby\u001b[0m\u001b[1;33m.\u001b[0m\u001b[0mquantity_kg\u001b[0m\u001b[1;33m.\u001b[0m\u001b[0msum\u001b[0m\u001b[1;33m(\u001b[0m\u001b[1;33m)\u001b[0m\u001b[1;33m\n",
       "\u001b[0m    \u001b[0mtotal_overall\u001b[0m \u001b[1;33m=\u001b[0m \u001b[0mimports\u001b[0m\u001b[1;33m.\u001b[0m\u001b[0miloc\u001b[0m\u001b[1;33m[\u001b[0m\u001b[1;36m0\u001b[0m\u001b[1;33m,\u001b[0m \u001b[1;36m1\u001b[0m\u001b[1;33m]\u001b[0m\u001b[1;33m\n",
       "\u001b[0m    \u001b[1;32mreturn\u001b[0m \u001b[0mtotal_nearby\u001b[0m \u001b[1;33m/\u001b[0m \u001b[0mtotal_overall\u001b[0m\u001b[1;33m\u001b[0m\u001b[1;33m\u001b[0m\u001b[0m\n"
      ]
     },
     "metadata": {},
     "output_type": "display_data"
    }
   ],
   "source": [
    "%psource compute_nearby_imports_ratio"
   ]
  },
  {
   "cell_type": "code",
   "execution_count": 9,
   "metadata": {},
   "outputs": [
    {
     "name": "stdout",
     "output_type": "stream",
     "text": [
      "74.2% of imported food comes from nearby countries\n"
     ]
    }
   ],
   "source": [
    "ratio_nearby_food = compute_nearby_imports_ratio(imported_food)\n",
    "print(\"{0:.1%} of imported food comes from nearby countries\".format(ratio_nearby_food))"
   ]
  },
  {
   "cell_type": "markdown",
   "metadata": {},
   "source": [
    "Approximately 74% of Switzerland's imported food, beverage, and tobacco products come from fairly nearby countries. That's pretty good! It means imports have a lower carbon output than if Switzerland imported a lot from far away. It does not, however, indicate anything to us about whether the countries that Switzerland sources its imports from are carbon efficient. For example, Germany might have higher carbon intensities per kilo of wheat produced than the same product in France.\n",
    "\n",
    "What about Switzerland's imported *feedstuffs* for animals? If the Swiss import a lot of feed, that contributes to an even higher carbon intensity for raising meat."
   ]
  },
  {
   "cell_type": "code",
   "execution_count": 46,
   "metadata": {},
   "outputs": [
    {
     "data": {
      "text/plain": [
       "\u001b[1;32mdef\u001b[0m \u001b[0mload_imported_feed\u001b[0m\u001b[1;33m(\u001b[0m\u001b[1;33m)\u001b[0m\u001b[1;33m:\u001b[0m\u001b[1;33m\n",
       "\u001b[0m    \u001b[1;34m\"\"\"Load imports: feeding stuffs for animals\"\"\"\u001b[0m\u001b[1;33m\n",
       "\u001b[0m    \u001b[1;32mreturn\u001b[0m \u001b[0mload_imports\u001b[0m\u001b[1;33m(\u001b[0m\u001b[0mFOOD_IMPORTS_PATH\u001b[0m\u001b[1;33m,\u001b[0m \u001b[0msheet\u001b[0m\u001b[1;33m=\u001b[0m\u001b[1;36m1\u001b[0m\u001b[1;33m)\u001b[0m\u001b[1;33m\u001b[0m\u001b[1;33m\u001b[0m\u001b[0m\n"
      ]
     },
     "metadata": {},
     "output_type": "display_data"
    }
   ],
   "source": [
    "%psource load_imported_feed"
   ]
  },
  {
   "cell_type": "code",
   "execution_count": 10,
   "metadata": {},
   "outputs": [
    {
     "data": {
      "text/html": [
       "<div>\n",
       "<style scoped>\n",
       "    .dataframe tbody tr th:only-of-type {\n",
       "        vertical-align: middle;\n",
       "    }\n",
       "\n",
       "    .dataframe tbody tr th {\n",
       "        vertical-align: top;\n",
       "    }\n",
       "\n",
       "    .dataframe thead th {\n",
       "        text-align: right;\n",
       "    }\n",
       "</style>\n",
       "<table border=\"1\" class=\"dataframe\">\n",
       "  <thead>\n",
       "    <tr style=\"text-align: right;\">\n",
       "      <th></th>\n",
       "      <th>commercial_partner</th>\n",
       "      <th>quantity_kg</th>\n",
       "      <th>value_chf</th>\n",
       "      <th>value_change_%</th>\n",
       "    </tr>\n",
       "  </thead>\n",
       "  <tbody>\n",
       "    <tr>\n",
       "      <td>0</td>\n",
       "      <td>Total trade</td>\n",
       "      <td>1.805791e+09</td>\n",
       "      <td>790556375.0</td>\n",
       "      <td>5</td>\n",
       "    </tr>\n",
       "    <tr>\n",
       "      <td>1</td>\n",
       "      <td>Albania</td>\n",
       "      <td>7.400000e+01</td>\n",
       "      <td>857.0</td>\n",
       "      <td>26.6</td>\n",
       "    </tr>\n",
       "    <tr>\n",
       "      <td>2</td>\n",
       "      <td>Argentina</td>\n",
       "      <td>1.153685e+06</td>\n",
       "      <td>396099.0</td>\n",
       "      <td>268.2</td>\n",
       "    </tr>\n",
       "    <tr>\n",
       "      <td>3</td>\n",
       "      <td>Australia</td>\n",
       "      <td>5.040000e+02</td>\n",
       "      <td>1627.0</td>\n",
       "      <td>-88.5</td>\n",
       "    </tr>\n",
       "    <tr>\n",
       "      <td>4</td>\n",
       "      <td>Austria</td>\n",
       "      <td>1.028771e+08</td>\n",
       "      <td>40044159.0</td>\n",
       "      <td>17.3</td>\n",
       "    </tr>\n",
       "  </tbody>\n",
       "</table>\n",
       "</div>"
      ],
      "text/plain": [
       "  commercial_partner   quantity_kg    value_chf value_change_%\n",
       "0        Total trade  1.805791e+09  790556375.0              5\n",
       "1            Albania  7.400000e+01        857.0           26.6\n",
       "2          Argentina  1.153685e+06     396099.0          268.2\n",
       "3          Australia  5.040000e+02       1627.0          -88.5\n",
       "4            Austria  1.028771e+08   40044159.0           17.3"
      ]
     },
     "execution_count": 10,
     "metadata": {},
     "output_type": "execute_result"
    }
   ],
   "source": [
    "imported_feed = load_imported_feed()\n",
    "imported_feed.head()"
   ]
  },
  {
   "cell_type": "code",
   "execution_count": 11,
   "metadata": {},
   "outputs": [
    {
     "name": "stdout",
     "output_type": "stream",
     "text": [
      "74.0% of imported feed comes from nearby countries\n"
     ]
    }
   ],
   "source": [
    "ratio_nearby_feed = compute_nearby_imports_ratio(imported_feed)\n",
    "print(\"{0:.1%} of imported feed comes from nearby countries\".format(ratio_nearby_feed))"
   ]
  },
  {
   "cell_type": "markdown",
   "metadata": {},
   "source": [
    "Nearly three-quarters of imported animal feed is imported from nearby countries, which means when Switzerland must import feed, they mostly minimize carbon emissions from the process by reducing the travel distance of the feed. More importantly, a report from the State Secretariat for Economic Affairs (\"Concentrate Animal Feed as an Input Good in Swiss Agricultural Production - The Effects of Border Protection and Other Support Measures\") claims 90% of animal feed used in Switzerland is domestically produced, drastically reducing the carbon impact of the meat industry in the country. This percentage can be found in [this PDF document](https://www.sbv-usp.ch/fileadmin/sbvuspch/00_Bilder/06_Services/Agristat/Statistiken/Produktionsmittel__Umwelt/SES2018_Kap04_Produktionsmittel-Umwelt.pdf) (see the table on page 8):"
   ]
  },
  {
   "cell_type": "markdown",
   "metadata": {},
   "source": [
    "We will need to pay attention to where food is coming from by animal type. For example, 90% of cow and cattle feed is domestically produced, whereas that number is only 52% for pork and 30% for poultry (found in the Concentrate Animal Feed report above, where it was sourced from the PDF linked above). So even if chickens are less carbon intensive, they require more imported feed which might increase their carbon output!"
   ]
  },
  {
   "cell_type": "code",
   "execution_count": 47,
   "metadata": {},
   "outputs": [
    {
     "data": {
      "text/plain": [
       "\u001b[1;32mdef\u001b[0m \u001b[0mload_imported_meat\u001b[0m\u001b[1;33m(\u001b[0m\u001b[1;33m)\u001b[0m\u001b[1;33m:\u001b[0m\u001b[1;33m\n",
       "\u001b[0m    \u001b[1;34m\"\"\"Load imports: meat and edible meat offal\"\"\"\u001b[0m\u001b[1;33m\n",
       "\u001b[0m    \u001b[1;32mreturn\u001b[0m \u001b[0mload_imports\u001b[0m\u001b[1;33m(\u001b[0m\u001b[0mMEAT_IMPORTS_PATH\u001b[0m\u001b[1;33m,\u001b[0m \u001b[0msheet\u001b[0m\u001b[1;33m=\u001b[0m\u001b[1;34m\"02\"\u001b[0m\u001b[1;33m)\u001b[0m\u001b[1;33m\u001b[0m\u001b[1;33m\u001b[0m\u001b[0m\n"
      ]
     },
     "metadata": {},
     "output_type": "display_data"
    }
   ],
   "source": [
    "%psource load_imported_meat"
   ]
  },
  {
   "cell_type": "code",
   "execution_count": 42,
   "metadata": {},
   "outputs": [
    {
     "data": {
      "text/html": [
       "<div>\n",
       "<style scoped>\n",
       "    .dataframe tbody tr th:only-of-type {\n",
       "        vertical-align: middle;\n",
       "    }\n",
       "\n",
       "    .dataframe tbody tr th {\n",
       "        vertical-align: top;\n",
       "    }\n",
       "\n",
       "    .dataframe thead th {\n",
       "        text-align: right;\n",
       "    }\n",
       "</style>\n",
       "<table border=\"1\" class=\"dataframe\">\n",
       "  <thead>\n",
       "    <tr style=\"text-align: right;\">\n",
       "      <th></th>\n",
       "      <th>commercial_partner</th>\n",
       "      <th>quantity_kg</th>\n",
       "      <th>value_chf</th>\n",
       "      <th>value_change_%</th>\n",
       "    </tr>\n",
       "  </thead>\n",
       "  <tbody>\n",
       "    <tr>\n",
       "      <td>0</td>\n",
       "      <td>Total trade</td>\n",
       "      <td>77042136.0</td>\n",
       "      <td>688620381.0</td>\n",
       "      <td>-2</td>\n",
       "    </tr>\n",
       "    <tr>\n",
       "      <td>1</td>\n",
       "      <td>Albania</td>\n",
       "      <td>141.0</td>\n",
       "      <td>5676.0</td>\n",
       "      <td>*</td>\n",
       "    </tr>\n",
       "    <tr>\n",
       "      <td>2</td>\n",
       "      <td>Argentina</td>\n",
       "      <td>1460763.0</td>\n",
       "      <td>16806383.0</td>\n",
       "      <td>13.4</td>\n",
       "    </tr>\n",
       "    <tr>\n",
       "      <td>3</td>\n",
       "      <td>Australia</td>\n",
       "      <td>2801755.0</td>\n",
       "      <td>60160817.0</td>\n",
       "      <td>-10.1</td>\n",
       "    </tr>\n",
       "    <tr>\n",
       "      <td>4</td>\n",
       "      <td>Austria</td>\n",
       "      <td>6358938.0</td>\n",
       "      <td>44545918.0</td>\n",
       "      <td>-10.4</td>\n",
       "    </tr>\n",
       "  </tbody>\n",
       "</table>\n",
       "</div>"
      ],
      "text/plain": [
       "  commercial_partner  quantity_kg    value_chf value_change_%\n",
       "0        Total trade   77042136.0  688620381.0             -2\n",
       "1            Albania        141.0       5676.0              *\n",
       "2          Argentina    1460763.0   16806383.0           13.4\n",
       "3          Australia    2801755.0   60160817.0          -10.1\n",
       "4            Austria    6358938.0   44545918.0          -10.4"
      ]
     },
     "execution_count": 42,
     "metadata": {},
     "output_type": "execute_result"
    }
   ],
   "source": [
    "imported_meat = load_imported_meat()\n",
    "imported_meat.head()"
   ]
  },
  {
   "cell_type": "markdown",
   "metadata": {},
   "source": [
    "As we can see from the above table, Switzerland imported 77 million kg of meat and edible offal in 2018 (equivalent to 77 thousand tonnes).\n",
    "\n",
    "Now let's look at what Switzerland's population _consumes_. "
   ]
  },
  {
   "cell_type": "code",
   "execution_count": 92,
   "metadata": {},
   "outputs": [
    {
     "data": {
      "text/plain": [
       "\u001b[1;32mdef\u001b[0m \u001b[0mload_food_consumption\u001b[0m\u001b[1;33m(\u001b[0m\u001b[1;33m)\u001b[0m\u001b[1;33m:\u001b[0m\u001b[1;33m\n",
       "\u001b[0m    \u001b[0mcolnames\u001b[0m \u001b[1;33m=\u001b[0m \u001b[1;33m[\u001b[0m\u001b[1;33m\n",
       "\u001b[0m        \u001b[1;34m\"food_type\"\u001b[0m\u001b[1;33m,\u001b[0m\u001b[1;33m\n",
       "\u001b[0m        \u001b[1;34m\"quantity_total_1k_tonnes\"\u001b[0m\u001b[1;33m,\u001b[0m\u001b[1;33m\n",
       "\u001b[0m        \u001b[1;34m\"quantity_kg_person_year\"\u001b[0m\u001b[1;33m,\u001b[0m\u001b[1;33m\n",
       "\u001b[0m        \u001b[1;34m\"protein_total_tonnes\"\u001b[0m\u001b[1;33m,\u001b[0m\u001b[1;33m\n",
       "\u001b[0m        \u001b[1;34m\"protein_g_person_day\"\u001b[0m\u001b[1;33m,\u001b[0m\u001b[1;33m\n",
       "\u001b[0m        \u001b[1;34m\"protein_%_local_production\"\u001b[0m\u001b[1;33m,\u001b[0m\u001b[1;33m\n",
       "\u001b[0m        \u001b[1;34m\"energy_intake_total_tj\"\u001b[0m\u001b[1;33m,\u001b[0m\u001b[1;33m\n",
       "\u001b[0m        \u001b[1;34m\"energy_intake_kj_person_day\"\u001b[0m\u001b[1;33m,\u001b[0m\u001b[1;33m\n",
       "\u001b[0m        \u001b[1;34m\"energy_intake_%_local_production\"\u001b[0m\u001b[1;33m\n",
       "\u001b[0m    \u001b[1;33m]\u001b[0m\u001b[1;33m\n",
       "\u001b[0m    \u001b[1;33m\n",
       "\u001b[0m    \u001b[1;32mreturn\u001b[0m \u001b[0mpd\u001b[0m\u001b[1;33m.\u001b[0m\u001b[0mread_excel\u001b[0m\u001b[1;33m(\u001b[0m\u001b[1;33m\n",
       "\u001b[0m        \u001b[0mCONSUMPTION_PATH\u001b[0m\u001b[1;33m,\u001b[0m\u001b[1;33m\n",
       "\u001b[0m        \u001b[0msheets\u001b[0m\u001b[1;33m=\u001b[0m\u001b[1;36m0\u001b[0m\u001b[1;33m,\u001b[0m  \u001b[1;31m# first sheet, year 2017\u001b[0m\u001b[1;33m\n",
       "\u001b[0m        \u001b[0mnames\u001b[0m\u001b[1;33m=\u001b[0m\u001b[0mcolnames\u001b[0m\u001b[1;33m,\u001b[0m\u001b[1;33m\n",
       "\u001b[0m        \u001b[0mindex_col\u001b[0m\u001b[1;33m=\u001b[0m\u001b[1;36m0\u001b[0m\u001b[1;33m,\u001b[0m\u001b[1;33m\n",
       "\u001b[0m        \u001b[0mskiprows\u001b[0m\u001b[1;33m=\u001b[0m\u001b[1;36m9\u001b[0m\u001b[1;33m,\u001b[0m\u001b[1;33m\n",
       "\u001b[0m        \u001b[0mconverters\u001b[0m\u001b[1;33m=\u001b[0m\u001b[1;33m{\u001b[0m\u001b[1;33m\n",
       "\u001b[0m            \u001b[1;31m# strip whitespace from first column (index)\u001b[0m\u001b[1;33m\n",
       "\u001b[0m            \u001b[1;36m0\u001b[0m\u001b[1;33m:\u001b[0m \u001b[1;32mlambda\u001b[0m \u001b[0mx\u001b[0m\u001b[1;33m:\u001b[0m \u001b[0mx\u001b[0m\u001b[1;33m.\u001b[0m\u001b[0mstrip\u001b[0m\u001b[1;33m(\u001b[0m\u001b[1;33m)\u001b[0m\u001b[1;33m\n",
       "\u001b[0m        \u001b[1;33m}\u001b[0m\u001b[1;33m\n",
       "\u001b[0m    \u001b[1;33m)\u001b[0m\u001b[1;33m.\u001b[0m\u001b[0mdropna\u001b[0m\u001b[1;33m(\u001b[0m\u001b[1;33m)\u001b[0m\u001b[1;33m\u001b[0m\u001b[1;33m\u001b[0m\u001b[0m\n"
      ]
     },
     "metadata": {},
     "output_type": "display_data"
    }
   ],
   "source": [
    "%psource load_food_consumption"
   ]
  },
  {
   "cell_type": "code",
   "execution_count": 113,
   "metadata": {},
   "outputs": [
    {
     "data": {
      "text/html": [
       "<div>\n",
       "<style scoped>\n",
       "    .dataframe tbody tr th:only-of-type {\n",
       "        vertical-align: middle;\n",
       "    }\n",
       "\n",
       "    .dataframe tbody tr th {\n",
       "        vertical-align: top;\n",
       "    }\n",
       "\n",
       "    .dataframe thead th {\n",
       "        text-align: right;\n",
       "    }\n",
       "</style>\n",
       "<table border=\"1\" class=\"dataframe\">\n",
       "  <thead>\n",
       "    <tr style=\"text-align: right;\">\n",
       "      <th></th>\n",
       "      <th>quantity_total_1k_tonnes</th>\n",
       "      <th>quantity_kg_person_year</th>\n",
       "      <th>protein_total_tonnes</th>\n",
       "      <th>protein_g_person_day</th>\n",
       "      <th>protein_%_local_production</th>\n",
       "      <th>energy_intake_total_tj</th>\n",
       "      <th>energy_intake_kj_person_day</th>\n",
       "      <th>energy_intake_%_local_production</th>\n",
       "    </tr>\n",
       "    <tr>\n",
       "      <th>food_type</th>\n",
       "      <th></th>\n",
       "      <th></th>\n",
       "      <th></th>\n",
       "      <th></th>\n",
       "      <th></th>\n",
       "      <th></th>\n",
       "      <th></th>\n",
       "      <th></th>\n",
       "    </tr>\n",
       "  </thead>\n",
       "  <tbody>\n",
       "    <tr>\n",
       "      <td>Denrées alimentaires, total</td>\n",
       "      <td>7157.034169</td>\n",
       "      <td>841.014590</td>\n",
       "      <td>302451.392778</td>\n",
       "      <td>97.371792</td>\n",
       "      <td>70.553057</td>\n",
       "      <td>39794.586230</td>\n",
       "      <td>12811.546844</td>\n",
       "      <td>59.043218</td>\n",
       "    </tr>\n",
       "    <tr>\n",
       "      <td>Denrées alimentaires\\nvégétales</td>\n",
       "      <td>4503.066844</td>\n",
       "      <td>529.150039</td>\n",
       "      <td>121985.710268</td>\n",
       "      <td>39.272318</td>\n",
       "      <td>41.448430</td>\n",
       "      <td>28153.732943</td>\n",
       "      <td>9063.867792</td>\n",
       "      <td>42.657761</td>\n",
       "    </tr>\n",
       "    <tr>\n",
       "      <td>Produits à base de céréales</td>\n",
       "      <td>767.003856</td>\n",
       "      <td>90.129713</td>\n",
       "      <td>71022.714316</td>\n",
       "      <td>22.865191</td>\n",
       "      <td>55.579067</td>\n",
       "      <td>8145.924472</td>\n",
       "      <td>2622.514841</td>\n",
       "      <td>58.419713</td>\n",
       "    </tr>\n",
       "    <tr>\n",
       "      <td>Pommes de terre, etc.</td>\n",
       "      <td>364.760695</td>\n",
       "      <td>42.862596</td>\n",
       "      <td>5262.916468</td>\n",
       "      <td>1.694354</td>\n",
       "      <td>91.157487</td>\n",
       "      <td>853.361540</td>\n",
       "      <td>274.732882</td>\n",
       "      <td>88.965659</td>\n",
       "    </tr>\n",
       "    <tr>\n",
       "      <td>Amidons</td>\n",
       "      <td>29.015108</td>\n",
       "      <td>3.409530</td>\n",
       "      <td>128.987886</td>\n",
       "      <td>0.041527</td>\n",
       "      <td>0.000000</td>\n",
       "      <td>414.978520</td>\n",
       "      <td>133.598995</td>\n",
       "      <td>0.000000</td>\n",
       "    </tr>\n",
       "  </tbody>\n",
       "</table>\n",
       "</div>"
      ],
      "text/plain": [
       "                                 quantity_total_1k_tonnes  \\\n",
       "food_type                                                   \n",
       "Denrées alimentaires, total                   7157.034169   \n",
       "Denrées alimentaires\\nvégétales               4503.066844   \n",
       "Produits à base de céréales                    767.003856   \n",
       "Pommes de terre, etc.                          364.760695   \n",
       "Amidons                                         29.015108   \n",
       "\n",
       "                                 quantity_kg_person_year  \\\n",
       "food_type                                                  \n",
       "Denrées alimentaires, total                   841.014590   \n",
       "Denrées alimentaires\\nvégétales               529.150039   \n",
       "Produits à base de céréales                    90.129713   \n",
       "Pommes de terre, etc.                          42.862596   \n",
       "Amidons                                         3.409530   \n",
       "\n",
       "                                 protein_total_tonnes  protein_g_person_day  \\\n",
       "food_type                                                                     \n",
       "Denrées alimentaires, total             302451.392778             97.371792   \n",
       "Denrées alimentaires\\nvégétales         121985.710268             39.272318   \n",
       "Produits à base de céréales              71022.714316             22.865191   \n",
       "Pommes de terre, etc.                     5262.916468              1.694354   \n",
       "Amidons                                    128.987886              0.041527   \n",
       "\n",
       "                                 protein_%_local_production  \\\n",
       "food_type                                                     \n",
       "Denrées alimentaires, total                       70.553057   \n",
       "Denrées alimentaires\\nvégétales                   41.448430   \n",
       "Produits à base de céréales                       55.579067   \n",
       "Pommes de terre, etc.                             91.157487   \n",
       "Amidons                                            0.000000   \n",
       "\n",
       "                                 energy_intake_total_tj  \\\n",
       "food_type                                                 \n",
       "Denrées alimentaires, total                39794.586230   \n",
       "Denrées alimentaires\\nvégétales            28153.732943   \n",
       "Produits à base de céréales                 8145.924472   \n",
       "Pommes de terre, etc.                        853.361540   \n",
       "Amidons                                      414.978520   \n",
       "\n",
       "                                 energy_intake_kj_person_day  \\\n",
       "food_type                                                      \n",
       "Denrées alimentaires, total                     12811.546844   \n",
       "Denrées alimentaires\\nvégétales                  9063.867792   \n",
       "Produits à base de céréales                      2622.514841   \n",
       "Pommes de terre, etc.                             274.732882   \n",
       "Amidons                                           133.598995   \n",
       "\n",
       "                                 energy_intake_%_local_production  \n",
       "food_type                                                          \n",
       "Denrées alimentaires, total                             59.043218  \n",
       "Denrées alimentaires\\nvégétales                         42.657761  \n",
       "Produits à base de céréales                             58.419713  \n",
       "Pommes de terre, etc.                                   88.965659  \n",
       "Amidons                                                  0.000000  "
      ]
     },
     "execution_count": 113,
     "metadata": {},
     "output_type": "execute_result"
    }
   ],
   "source": [
    "consumption = load_food_consumption()\n",
    "consumption.head()"
   ]
  },
  {
   "cell_type": "markdown",
   "metadata": {},
   "source": [
    "Specifically, let's look at meat from the above table. How much meat did Swiss people consume in 2017?"
   ]
  },
  {
   "cell_type": "code",
   "execution_count": 126,
   "metadata": {},
   "outputs": [
    {
     "name": "stdout",
     "output_type": "stream",
     "text": [
      "The Swiss population consumed 413332.55 tonnes of meat in 2017\n"
     ]
    }
   ],
   "source": [
    "total_meat_consumption = consumption.loc[\"Viande\"].quantity_total_1k_tonnes\n",
    "print(f\"The Swiss population consumed {total_meat_consumption * 1000} tonnes of meat in 2017\")"
   ]
  },
  {
   "cell_type": "markdown",
   "metadata": {},
   "source": [
    "As can be seen, the Swiss consumed 413 thousand tonnes, but they imported 77 thousand tonnes. This means most of the Swiss meat is produced within the country, or 81%.\n",
    "\n",
    "Some other important facts, as provided by an article on swissinfo.ch: Switzerland produces more than enough milk and milk products to satisfy its needs, but has to import the majority of its fruits, vegetables, and nuts. Animal feed is one of the major imports, as well as staples like rice and wheat."
   ]
  },
  {
   "cell_type": "code",
   "execution_count": 128,
   "metadata": {},
   "outputs": [
    {
     "data": {
      "text/plain": [
       "quantity_total_1k_tonnes             978.618988\n",
       "quantity_kg_person_year              114.996351\n",
       "protein_total_tonnes                4845.205647\n",
       "protein_g_person_day                   1.559875\n",
       "protein_%_local_production            12.266883\n",
       "energy_intake_total_tj              1707.068693\n",
       "energy_intake_kj_person_day          549.577031\n",
       "energy_intake_%_local_production      18.527254\n",
       "Name: Fruits, dtype: float64"
      ]
     },
     "execution_count": 128,
     "metadata": {},
     "output_type": "execute_result"
    }
   ],
   "source": [
    "consumption.loc[\"Fruits\"]"
   ]
  },
  {
   "cell_type": "code",
   "execution_count": 134,
   "metadata": {},
   "outputs": [
    {
     "data": {
      "text/plain": [
       "\u001b[1;32mdef\u001b[0m \u001b[0mload_imported_fruits\u001b[0m\u001b[1;33m(\u001b[0m\u001b[1;33m)\u001b[0m\u001b[1;33m:\u001b[0m\u001b[1;33m\n",
       "\u001b[0m    \u001b[1;34m\"\"\"Load imports: fruits\"\"\"\u001b[0m\u001b[1;33m\n",
       "\u001b[0m    \u001b[1;31m# bananas, exotic fruit, citrus fruit, grapes,\u001b[0m\u001b[1;33m\n",
       "\u001b[0m    \u001b[1;31m# melons, apples, stone fruit, berries\u001b[0m\u001b[1;33m\n",
       "\u001b[0m    \u001b[0msheets\u001b[0m \u001b[1;33m=\u001b[0m \u001b[0mlist\u001b[0m\u001b[1;33m(\u001b[0m\u001b[0mrange\u001b[0m\u001b[1;33m(\u001b[0m\u001b[1;36m19\u001b[0m\u001b[1;33m,\u001b[0m \u001b[1;36m27\u001b[0m\u001b[1;33m)\u001b[0m\u001b[1;33m)\u001b[0m\u001b[1;33m\n",
       "\u001b[0m    \u001b[1;32mreturn\u001b[0m \u001b[0mload_imports\u001b[0m\u001b[1;33m(\u001b[0m\u001b[0mFRUITS_VEGGIES_IMPORTS_PATH\u001b[0m\u001b[1;33m,\u001b[0m \u001b[0msheet\u001b[0m\u001b[1;33m=\u001b[0m\u001b[0msheets\u001b[0m\u001b[1;33m)\u001b[0m\u001b[1;33m\u001b[0m\u001b[1;33m\u001b[0m\u001b[0m\n"
      ]
     },
     "metadata": {},
     "output_type": "display_data"
    }
   ],
   "source": [
    "%psource load_imported_fruits"
   ]
  },
  {
   "cell_type": "code",
   "execution_count": 151,
   "metadata": {},
   "outputs": [],
   "source": [
    "# imported_fruits = load_imported_fruits()"
   ]
  },
  {
   "cell_type": "code",
   "execution_count": 155,
   "metadata": {},
   "outputs": [
    {
     "data": {
      "text/plain": [
       "True"
      ]
     },
     "execution_count": 155,
     "metadata": {},
     "output_type": "execute_result"
    }
   ],
   "source": [
    "isinstance(imported_food, pd.DataFrame)"
   ]
  },
  {
   "cell_type": "code",
   "execution_count": null,
   "metadata": {},
   "outputs": [],
   "source": []
  }
 ],
 "metadata": {
  "kernelspec": {
   "display_name": "Python [conda env:ada] *",
   "language": "python",
   "name": "conda-env-ada-py"
  },
  "language_info": {
   "codemirror_mode": {
    "name": "ipython",
    "version": 3
   },
   "file_extension": ".py",
   "mimetype": "text/x-python",
   "name": "python",
   "nbconvert_exporter": "python",
   "pygments_lexer": "ipython3",
   "version": "3.7.4"
  }
 },
 "nbformat": 4,
 "nbformat_minor": 4
}
