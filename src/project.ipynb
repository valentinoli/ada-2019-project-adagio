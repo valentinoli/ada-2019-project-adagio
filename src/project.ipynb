{
 "cells": [
  {
   "cell_type": "markdown",
   "metadata": {},
   "source": [
    "# Introduction\n",
    "\n",
    "The goal of this initial analysis is to load data about imports, exports, and domestic production of various food types, relevant to Switzerland. Please see the `README` for overall project goals and background information."
   ]
  },
  {
   "cell_type": "code",
   "execution_count": null,
   "metadata": {},
   "outputs": [],
   "source": [
    "# import external libraries\n",
    "%matplotlib inline\n",
    "import collections\n",
    "import inspect\n",
    "import pickle\n",
    "import re\n",
    "\n",
    "import pandas as pd\n",
    "import numpy as np\n",
    "\n",
    "import matplotlib.pyplot as plt\n",
    "import seaborn as sns\n",
    "\n",
    "import plotly.graph_objects as go #may not need this\n",
    "import holoviews as hv\n",
    "from holoviews import opts\n",
    "import networkx as nx\n",
    "from networkx.algorithms import bipartite\n",
    "import warnings\n",
    "warnings.filterwarnings(\"ignore\", category=UserWarning) # prevents internal problem with networkx from showing error\n",
    "\n",
    "%load_ext autoreload\n",
    "%autoreload 2"
   ]
  },
  {
   "cell_type": "code",
   "execution_count": null,
   "metadata": {},
   "outputs": [],
   "source": [
    "# import local dependencies\n",
    "import sys\n",
    "sys.path.insert(1, \"scripts\")\n",
    "\n",
    "from helpers import *\n",
    "from plots import *\n",
    "from impex_data_manipulation import *\n",
    "from fao_data_manipulation import *\n",
    "from emissions_data_manipulation import *\n",
    "from data_analysis import *"
   ]
  },
  {
   "cell_type": "markdown",
   "metadata": {},
   "source": [
    "The first step is to calculate, for each type of food, how much of what is consumed by the Swiss population is produced within Switzerland versus imported. To do this, we will combine 3 sets of data: imports, exports, and domestic production. The imports and exports data are sourced from [Swiss Impex](https://www.gate.ezv.admin.ch/swissimpex/index.xhtml), a website hosted by the Swiss Federal Customs Administration which provides data on Switzerland's global trade activity. Domestic production data comes from [FAOStat](http://www.fao.org/faostat/en/#data), the Food and Agriculture Organization of the United Nations which offers a variety of agricultural-related data. In theory, the amount of food consumed in Switzerland (including food waste) can be calculated from these datasets:\n",
    "#### Also add the website from FAO that had the fish and seafood data\n",
    "\n",
    "Food consumed = domestic production + imports - exports\n",
    "\n",
    "Note that the Swiss Federal Statistics Office also provided relevant data--namely, it has a dataset on Swiss food consumption by type of food. Unfortunately, these data conflicted with the data from FAO and Swiss Impex. Since the Federal Statistics Office data was much less detailed (for instance, more general/broad food categories), we decided to focus on Impex and FAO, knowing that the numbers must be taken with a grain of salt since it is difficult to accurately quantify such data.\n",
    "\n",
    "Let's load all the data and then combine the various data sets to get the values of interest. First we'll load imports and exports data from Impex. The data is spread across multiple Excel files and sheets."
   ]
  },
  {
   "cell_type": "markdown",
   "metadata": {},
   "source": [
    "***\n",
    "**Data loading and manipulation**\n",
    "***"
   ]
  },
  {
   "cell_type": "markdown",
   "metadata": {},
   "source": [
    "Let's start with loading the Swiss Impex into the `impex` dataframe:"
   ]
  },
  {
   "cell_type": "code",
   "execution_count": null,
   "metadata": {},
   "outputs": [],
   "source": [
    "impex = load_impex()\n",
    "impex.head()"
   ]
  },
  {
   "cell_type": "markdown",
   "metadata": {},
   "source": [
    "To ensure that our data is properly processed and handled as is goes through the changes we are about to expose it to, we will pull out one value of this dataframe (kiwi fruits imported from New Zealand) and check at the end to make sure its value is still properly matched with the country and fruit."
   ]
  },
  {
   "cell_type": "code",
   "execution_count": null,
   "metadata": {},
   "outputs": [],
   "source": [
    "impex.loc[\"New Zealand\"].fruits.kiwi_fruit.imports"
   ]
  },
  {
   "cell_type": "markdown",
   "metadata": {},
   "source": [
    "We then create a dataframe `impex_total` for storing total quantities for indicator variables:"
   ]
  },
  {
   "cell_type": "code",
   "execution_count": null,
   "metadata": {},
   "outputs": [],
   "source": [
    "# 1. Select only first row (total), creates a series\n",
    "# 2. Unstack first level (indicator) to create a dataframe\n",
    "impex_total = impex.iloc[0].unstack(\"indicator\")\n",
    "impex_total.head()"
   ]
  },
  {
   "cell_type": "markdown",
   "metadata": {},
   "source": [
    "Let's now further manipulate the original `impex` dataframe to include information about the continents and sub-continents in the index:"
   ]
  },
  {
   "cell_type": "code",
   "execution_count": null,
   "metadata": {},
   "outputs": [],
   "source": [
    "# First we drop the total row\n",
    "impex = impex.drop(\"total\")\n",
    "\n",
    "# Second, we load the country-continent info\n",
    "continents = load_countries_continents()\n",
    "\n",
    "# Finally, we compute the new index\n",
    "countries_mindex = pd.MultiIndex.from_arrays(continents.values.T, names=continents.columns)\n",
    "impex_mindex = countries_mindex[countries_mindex.get_level_values(2).isin(impex.index)]\n",
    "\n",
    "# re-sort the original impex dataframe so it matches the incoming impex_mindex\n",
    "# since impex is sorted alphabetically, and the impex_mindex does NOT match on country, it just matches by row number\n",
    "impex = impex.reindex(impex_mindex.get_level_values(2))\n",
    "\n",
    "# now apply the new index to the properly sorted impex df\n",
    "impex.set_index(impex_mindex, inplace=True)\n",
    "impex.index.names"
   ]
  },
  {
   "cell_type": "code",
   "execution_count": null,
   "metadata": {},
   "outputs": [],
   "source": [
    "# double check that the numbers copied over correctly/stayed with their correct labels\n",
    "impex.xs(\"New Zealand\", level=\"country\", drop_level=False).fruits.kiwi_fruit.imports"
   ]
  },
  {
   "cell_type": "markdown",
   "metadata": {},
   "source": [
    "Note that the `impex` frame should only contain information about food destined for humans. We were careful to ensure this was true: all items which can also be imported for the use of animal feed were selected by their subcategory of being specifically for human consumption. "
   ]
  },
  {
   "cell_type": "markdown",
   "metadata": {},
   "source": [
    "Now, let's load the data on Swiss domestic `production` from FAO:"
   ]
  },
  {
   "cell_type": "code",
   "execution_count": null,
   "metadata": {},
   "outputs": [],
   "source": [
    "production = load_fao()\n",
    "production.head()"
   ]
  },
  {
   "cell_type": "markdown",
   "metadata": {},
   "source": [
    "In this data as well, we were careful that only crops produced for human consumption are measured. This is specified in the FAO metadata."
   ]
  },
  {
   "cell_type": "markdown",
   "metadata": {},
   "source": [
    "Next we perform an outer join of `impex_total` and `production` to create a meta-dataframe, `suisse` with all total macroeconomic indicators for each commodity subtype:"
   ]
  },
  {
   "cell_type": "code",
   "execution_count": null,
   "metadata": {},
   "outputs": [],
   "source": [
    "suisse = impex_total.join(production, how=\"outer\")\n",
    "suisse.head()"
   ]
  },
  {
   "cell_type": "markdown",
   "metadata": {},
   "source": [
    "We have three possibilities for each commodity\n",
    "1. Neither production or import/export values are given or they all sum up to 0\n",
    "2. Either only production values are given or only import/export values are given\n",
    "3. Production, import and export values are all given (and are non-zero)\n",
    "\n",
    "Commodities fulfilling the first condition will be removed. Commodities fulfilling the second or third condition will be kept.\n",
    "\n",
    "<em style=\"font-size: 12px\">Note: Missing or 0-valued data may be due to either the values actually being 0 or the data not being collected on these items. Since there is no way of knowing which is the case, we will assume that the values are indeed truly 0 to enable their utilization in the analysis.</em>"
   ]
  },
  {
   "cell_type": "code",
   "execution_count": null,
   "metadata": {},
   "outputs": [],
   "source": [
    "# Remove subtypes for which all given quantities sum up to 0\n",
    "subtypes_no_info = suisse.index[suisse.sum(axis=1) == 0]\n",
    "suisse.drop(subtypes_no_info, inplace=True)"
   ]
  },
  {
   "cell_type": "markdown",
   "metadata": {},
   "source": [
    "Next, we shall add columns for `domestic_consumption` and `imported_consumption`.\n",
    "\n",
    "Definitions:\n",
    "* **domestic consumption**: goods and services consumed in the country where they are produced\n",
    "* **imported consumption**: goods and services consumed in the country to which they are imported\n",
    "\n",
    "**Note**: in this analysis we will make the following simplified assumptions:\n",
    "\n",
    "* food waste is included as being \"consumed\"\n",
    "* exported quantity is first satisfied by available produced quantity, and then imported quantity"
   ]
  },
  {
   "cell_type": "code",
   "execution_count": null,
   "metadata": {},
   "outputs": [],
   "source": [
    "# If exports > production, then we say all produced quantity\n",
    "# is exported and the rest of exported quantity is satisfied by imports:\n",
    "# 1. Set domestic_consumption to zero\n",
    "# 2. Set imported_consumption to imports-(exports-production)\n",
    "\n",
    "# If exports <= production, we say all exports\n",
    "# is satisfied by domestic production: \n",
    "# 1. Set domestic_consumption to production-exports\n",
    "# 2. Set imported_consumption to imports\n",
    "suisse[\"domestic_consumption\"] = np.where(\n",
    "    suisse.exports > suisse.production,\n",
    "    0,\n",
    "    suisse.production - suisse.exports\n",
    ")\n",
    "\n",
    "suisse[\"imported_consumption\"] = np.where(\n",
    "    suisse.exports > suisse.production,\n",
    "    suisse.imports - suisse.exports + suisse.production,\n",
    "    suisse.imports\n",
    ")\n",
    "\n",
    "suisse[\"consumption\"] = suisse.domestic_consumption + suisse.imported_consumption\n",
    "\n",
    "suisse.head()"
   ]
  },
  {
   "cell_type": "markdown",
   "metadata": {},
   "source": [
    "***\n",
    "**Data analysis and visualization**\n",
    "***"
   ]
  },
  {
   "cell_type": "markdown",
   "metadata": {},
   "source": [
    "Let's plot imports and exports per meta-type:"
   ]
  },
  {
   "cell_type": "code",
   "execution_count": null,
   "metadata": {
    "scrolled": true
   },
   "outputs": [],
   "source": [
    "# 1. Group by meta-type\n",
    "# 2. Sum the totals\n",
    "# 3. Unstack the columns to create a Series\n",
    "impex_total_metatype = impex_total.groupby(\"type\").sum().unstack()"
   ]
  },
  {
   "cell_type": "code",
   "execution_count": null,
   "metadata": {},
   "outputs": [],
   "source": [
    "impex_total_metatype"
   ]
  },
  {
   "cell_type": "code",
   "execution_count": null,
   "metadata": {},
   "outputs": [],
   "source": [
    "plt.figure(figsize=(12, 4))\n",
    "ax = sns.barplot(\n",
    "    x=impex_total_metatype.index.get_level_values(\"type\"),\n",
    "    y=impex_total_metatype.values / 1000,  # kg --> tonnes\n",
    "    hue=impex_total_metatype.index.get_level_values(\"indicator\"),\n",
    ")\n",
    "\n",
    "ax.set(\n",
    "    title=\"Total imports vs. exports\", xlabel=\"commodity\", ylabel=\"quantity (tonnes)\"\n",
    ")\n",
    "plt.xticks(rotation=90)\n",
    "sns.despine()\n",
    "plt.savefig(\"../docs/img/total_imports_vs_exports.jpg\", dpi=100, bbox_inches='tight')"
   ]
  },
  {
   "cell_type": "markdown",
   "metadata": {},
   "source": [
    "As you can see, Switzerland imports many more fruits, vegetables and meats than it exports. The `animal_products` category is interesting, because import and export quantities are about equal. What would make the most sense is if Switzerland imports different animal products than it exports (rather than the same products being both imported and exported). Let's test this theory by looking at imports and exports for the subcategories of `animal_products`:"
   ]
  },
  {
   "cell_type": "code",
   "execution_count": null,
   "metadata": {},
   "outputs": [],
   "source": [
    "impex_total_animal_prods = impex_total.loc[\"animal_products\"].groupby(\"subtype\").sum().unstack()"
   ]
  },
  {
   "cell_type": "code",
   "execution_count": null,
   "metadata": {},
   "outputs": [],
   "source": [
    "plt.figure(figsize=(12, 4))\n",
    "ax = sns.barplot(\n",
    "    x=impex_total_animal_prods.index.get_level_values(\"subtype\"),\n",
    "    y=impex_total_animal_prods.values / 1000,  # kg --> tonnes\n",
    "    hue=impex_total_animal_prods.index.get_level_values(\"indicator\"),\n",
    ")\n",
    "\n",
    "ax.set(\n",
    "    title=\"Imports vs. exports of animal products\", xlabel=\"commodity\", ylabel=\"quantity (tonnes)\"\n",
    ")\n",
    "plt.xticks(rotation=90)\n",
    "sns.despine()\n",
    "plt.savefig(\"../docs/img/imports_vs_exports_animal_products.jpg\", dpi=100, bbox_inches='tight')"
   ]
  },
  {
   "cell_type": "markdown",
   "metadata": {},
   "source": [
    "This graph brings more light to the topic. Cheese, a category of which there are many different flavors and consumers like variety, is both heavily imported and exported, likely giving consumers access to a wider variety of cheese types. Eggs, on the other hand, are nearly exclusively imported, while whey is mostly exported.\n",
    "\n",
    "The butter category of this graph is a good transition to the continuation of the analysis; just because butter is hardly imported nor exported does not mean the Swiss do not eat butter! Rather, imports and exports are only part of the broader picture since domestic production is another important consideration. One possible hypothesis for why butter is neither imported nor exported in large quantities is because domestic production is nearly equal to domestic consumption."
   ]
  },
  {
   "cell_type": "markdown",
   "metadata": {},
   "source": [
    "#### Bipartite graph between continents and meta food groups, weighted by amounts of food imported from those continents"
   ]
  },
  {
   "cell_type": "code",
   "execution_count": null,
   "metadata": {},
   "outputs": [],
   "source": [
    "# make the nodes: continents on the left, food groups on the right\n",
    "continents = impex.index.get_level_values(0).unique().array\n",
    "meta_food_groups = impex.columns.levels[0].array\n",
    "bi = nx.Graph()\n",
    "bi.add_nodes_from(continents, bipartite=1)\n",
    "bi.add_nodes_from(meta_food_groups, bipartite=0)\n",
    "\n",
    "# make an edge between each continent and each food group\n",
    "edges = []\n",
    "for continent in continents:\n",
    "    for food in meta_food_groups:\n",
    "        edges.append((continent, food))\n",
    "        \n",
    "bi.add_edges_from(edges, weight=3)"
   ]
  },
  {
   "cell_type": "code",
   "execution_count": null,
   "metadata": {},
   "outputs": [],
   "source": [
    "# calculate the initial raw weights, which is the total amount of food for each continent-food pair\n",
    "weights = []\n",
    "for continent in continents:\n",
    "    for food in meta_food_groups:\n",
    "        total_food_amount = impex.xs(continent)[food].xs('imports', level=1, axis=1).to_numpy().sum()\n",
    "        weights.append(total_food_amount)\n",
    "        \n",
    "# incorporate these weights into the data for each edge\n",
    "for num, name in enumerate(bi.edges(data=True)):\n",
    "    name[2]['weight'] = weights[num]"
   ]
  },
  {
   "cell_type": "code",
   "execution_count": null,
   "metadata": {},
   "outputs": [],
   "source": [
    "#make a list of all the weights so can edit them\n",
    "all_weights = []\n",
    "for (node1,node2,data) in bi.edges(data=True):\n",
    "    all_weights.append(data['weight'])\n",
    "    #print(data['weight']) # this is totals by continent per meta food group\n",
    "\n",
    "# normalize the weights so they are appropriate for the graph\n",
    "for num, wt in enumerate(all_weights):\n",
    "    all_weights[num] = wt*len(continents)*5/sum(weights)\n",
    "    \n",
    "# incorporate the normalized weights into the edge data for use in the graph\n",
    "for num, name in enumerate(bi.edges(data=True)):\n",
    "    name[2]['weight'] = all_weights[num]\n",
    "\n",
    "\n",
    "top = nx.bipartite.sets(bi)[0]\n",
    "pos = nx.bipartite_layout(bi, top)\n",
    "\n",
    "# the old, non-interactive graph\n",
    "#nx.draw_networkx(bi, pos, font_size=12, node_size=900, node_color='red', node_shape='s', width=all_weights)"
   ]
  },
  {
   "cell_type": "code",
   "execution_count": null,
   "metadata": {},
   "outputs": [],
   "source": [
    "# make an interactive bipartite graph with Holoviews and Bokeh\n",
    "bipartite = hv.Graph.from_networkx(bi, pos, width=all_weights)\n",
    "\n",
    "# create text labels for each of the nodes\n",
    "labs = ['Africa', 'America', 'Asia', 'Europe','Oceania','animal_products', 'cereals', 'fruits', 'meat', 'seafood', 'vegetables']\n",
    "labels = hv.Labels({('x', 'y'): bipartite.nodes.array([0,1]), 'text': labs}, ['x', 'y'], 'text')\n",
    "\n",
    "# plot the graph with labels\n",
    "hv.extension('bokeh')\n",
    "# this padding feature was working previously and then broke, so I edited it a bit...\n",
    "#padding = dict(x=(-1.3, 1.3), y=(-0.9, 1)) # make graph display slightly larger than data\n",
    "#(bipartite*labels).relabel(\"Food Type Imports by Continent\").redim.range(**padding).opts(\n",
    "(bipartite*labels).relabel(\"Food Type Imports by Continent\").opts(\n",
    "    opts.Labels(text_color='text', cmap='Category20', yoffset=0.13, fontsize=14, padding=0.2),\n",
    "    #opts.Points(color='black', size=25), \n",
    "    opts.Graph(node_size=30, inspection_policy='edges', fontsize={'title':20},\n",
    "               node_hover_fill_color='red', edge_line_width='weight', xaxis=None, yaxis=None, node_fill_color='lightgray',\n",
    "               edge_hover_fill_color='red', frame_height=400, frame_width=600, padding=((0.1, 0.15), (0.1, 0.2))))"
   ]
  },
  {
   "cell_type": "code",
   "execution_count": null,
   "metadata": {},
   "outputs": [],
   "source": [
    "# TODO: change the weights that show when hovering--these are the normalized weights, we want the actual kg of food\n",
    "# TODO: figure out why the hover edges are green instead of red\n",
    "# TODO: find a way to color the continent labels one color and the food labels another color\n",
    "# TODO: remove the \"start\" and \"end\" in the hover labels, just say continent and food\n",
    "# TODO MAYBE: add a widget to toggle between inspection_policy of edges vs nodes"
   ]
  },
  {
   "cell_type": "markdown",
   "metadata": {},
   "source": [
    "## Emissions\n"
   ]
  },
  {
   "cell_type": "markdown",
   "metadata": {},
   "source": [
    "Now that we have calculated Switzerland's production and consumption, we want to have a look at how this translates in terms of equivalent CO$_2$ production. To do this, we could look at Swiss-specific values for the greenhouse gas production for different food types, however data from other countries is very sparse and reliable data for many food types is only available for certain countries. Later in the analysis, we want to compare Swiss production emissions with Swiss import emissions, therefore for consistency we need to either have data available for all (or most) countries for a given product, or use global averages. Comprehensive data is available on meat and cereal production emissions worldwide, however fruit and vegetable figures are much harder to obtain and only a limited number of studies have been carried out. These studies have been accumulated in a systematic review (https://www.sciencedirect.com/science/article/pii/S0959652616303584) and these values have been used to calculate averages for a number of different kinds of produce. To ensure our results are consistent, we will use this generalisation of global average values to estimate the domestic Swiss emissions for fruit and vegetables.\n",
    "\n",
    "<!---\n",
    "Other thought: I've currently created a dictionary to map the different fruit/veg to the impex categories. Was just thinking, this could be a potential spot to use machine learning, although admittedly not a very useful one...\n",
    "--->"
   ]
  },
  {
   "cell_type": "code",
   "execution_count": null,
   "metadata": {},
   "outputs": [],
   "source": [
    "emissions = load_emissions()\n",
    "emissions.head()"
   ]
  },
  {
   "cell_type": "code",
   "execution_count": null,
   "metadata": {},
   "outputs": [],
   "source": [
    "# integrate the median emissions values into this dataframe\n",
    "suisse = add_emissions_data(suisse, emissions)\n",
    "suisse.head()"
   ]
  },
  {
   "cell_type": "markdown",
   "metadata": {},
   "source": [
    "So assuming that domestic transport is negligible, we can estimate the equivalent CO$_2$ emissions for each product type, using the global average values."
   ]
  },
  {
   "cell_type": "code",
   "execution_count": null,
   "metadata": {},
   "outputs": [],
   "source": [
    "# calculate the emissions (resulting from production of the products)\n",
    "suisse = production_emissions(suisse)\n",
    "suisse.head()"
   ]
  },
  {
   "cell_type": "markdown",
   "metadata": {},
   "source": [
    "The final column of the above table shows the total CO$_2$ equivalent (kg) that would be produced if everything that was consumed in Switzerland was domestically produced, i.e. no transport emissions were considered and Swiss-specific CO$_2$ emissions were used for meat and cereal production. Evidently, it is not possible to produce everything that a current consumer buys locally, so in the following analysis we will consider the effect that these imported products and 'food miles' have on the CO$_2$ emissions resulting from Swiss consumption. "
   ]
  },
  {
   "cell_type": "markdown",
   "metadata": {},
   "source": [
    "## Transport Analysis"
   ]
  },
  {
   "cell_type": "code",
   "execution_count": null,
   "metadata": {},
   "outputs": [],
   "source": [
    "countries = country_distances()\n",
    "countries.head()"
   ]
  },
  {
   "cell_type": "code",
   "execution_count": null,
   "metadata": {},
   "outputs": [],
   "source": [
    "transport = load_impex_transport()\n",
    "transport.tail(10)"
   ]
  },
  {
   "cell_type": "markdown",
   "metadata": {},
   "source": [
    "Now, we'll remove the totals for each country and store in a separate dataframe"
   ]
  },
  {
   "cell_type": "code",
   "execution_count": null,
   "metadata": {},
   "outputs": [],
   "source": [
    "transport_total = transport.xs(\"total\", level=1)\n",
    "transport.drop(index=\"total\", level=1)"
   ]
  },
  {
   "cell_type": "code",
   "execution_count": null,
   "metadata": {},
   "outputs": [],
   "source": [
    "# define a function which, for each row of 'transport', calculate the fractions for each food group transported by\n",
    "# each method of transport\n",
    "def calculate_percent_by_method(row):\n",
    "    total = totals.loc[row.commercial_partner]\n",
    "    fractions = [row['cereals']/total['cereals'], \\\n",
    "                 row['potatoes']/total['potatoes'], \\\n",
    "                 row['other_fresh_fruits_vegetables']/total['other_fresh_fruits_vegetables'], \\\n",
    "                 row['fish']/total['fish'], \\\n",
    "                 row['meat']/total['meat'], \\\n",
    "                 row['dairy_products']/total['dairy_products']]\n",
    "    return pd.Series(np.nan_to_num(fractions))"
   ]
  },
  {
   "cell_type": "code",
   "execution_count": null,
   "metadata": {},
   "outputs": [],
   "source": [
    "# run the function on the whole df\n",
    "np.seterr('ignore') # ignore divisions by 0 (when the total imports is 0)\n",
    "transport[['cereals', 'potatoes', 'other_fresh_fruits_vegetables', 'fish', 'meat', 'dairy_products']] = transport.apply(calculate_percent_by_method, axis=1)"
   ]
  },
  {
   "cell_type": "code",
   "execution_count": null,
   "metadata": {},
   "outputs": [],
   "source": [
    "transport = transport.set_index(['commercial_partner', 'mode_of_transport'])\n",
    "transport.head(10)"
   ]
  },
  {
   "cell_type": "markdown",
   "metadata": {},
   "source": [
    "## Further Analysis"
   ]
  },
  {
   "cell_type": "markdown",
   "metadata": {},
   "source": [
    "The following will describe initial observations we have made regarding the transport of food, global carbon emissions intensities, and how we plan to use this information to estimate the impact consumption of different foods in Switzerland has and how a Swiss consumer can minimise their environmental impact in their food choices.\n",
    "\n",
    "'Food miles', or the distance that food has to travel to arrive on your plate, clearly have an impact on the carbon emissions of the products we consume. Let's look at how much of the food, beverages, and tobacco that Switzerland imports comes from its nearest neighboring countries. The farther a country is, the more carbon emissions it would cost to import that food."
   ]
  },
  {
   "cell_type": "code",
   "execution_count": null,
   "metadata": {},
   "outputs": [],
   "source": [
    "percentage = glimpse()\n",
    "print(str(round(percentage)) + \"% of Switzerland's total imports come from countries within a 1000km radius.\")"
   ]
  },
  {
   "cell_type": "markdown",
   "metadata": {},
   "source": [
    "So we can see that a lot of Switzerland's imports come from nearby countries. We will continue in this vein and look at the origins of each product individually to see the impact these food miles/varying production methods have on their carbon footprint. One thing we will consider is the transport methods, clearly the impact of these food miles differs greatly depending on whether the food is transported by plane or ship..."
   ]
  },
  {
   "cell_type": "markdown",
   "metadata": {},
   "source": [
    "<img width=\"400\" height=\"400\" src=\"https://icmattermost.epfl.ch/files/5zr1jyriupfsfgmr4dtg155ssw/public?h=_GPk0xYK1I16gWsY3GuIsrFC5bTb3Ioh4_W3h3oYDs8\">"
   ]
  },
  {
   "cell_type": "code",
   "execution_count": null,
   "metadata": {},
   "outputs": [],
   "source": [
    "# divide all the values by 1000 to convert to kg CO2e / kg km\n",
    "transportCO2 = {'Air traffic':0.000733, 'Rail traffic':0.000037, 'Road traffic':0.000303, 'Inland waterways':0.000019}"
   ]
  },
  {
   "cell_type": "markdown",
   "metadata": {},
   "source": [
    "Transport methods for different commodoties in the USA are described in detail in the paper *Food-Miles and the Relative Climate Impacts of Food Choices in the United States* (Weber and Matthews, 2008). These values, or similar data for other countries worldwide could be used to estimate the transport means for different products and thus the impact this transport has on emissions for each product. Perishable products more frequently have to be transported by air, and therefore have a significantly larger carbon footprint."
   ]
  },
  {
   "cell_type": "markdown",
   "metadata": {},
   "source": [
    "---\n",
    "\n",
    "## Calculating the CO2 emissions by food type based on where it is imported from"
   ]
  },
  {
   "cell_type": "markdown",
   "metadata": {},
   "source": [
    "We will now use the country-specific and food item-specific data to calculate carbon costs. For each country and food item pair, we will first calculate how much of that food item imported from that country is consumed by Swiss consumers. This relies upon assumptions that we made previously (mentioned here). The two categories this data processing can fall into are:\n",
    "\n",
    "* If the exported amount of a given food item is less than what is domestically produced, we assume that all of the Swiss produce is exported first before any of the imports start getting exported. That means there will still be some leftover Swiss-produced food available for Swiss consumption, in addition to all of the imported food from all other countries.\n",
    "\n",
    "* If, however, there is more of a given food item exported than domestically produced, we must transition to the situation where all of the Swiss-produced goods are exported and some of the imported goods are also exported. In this case, we will assume that each country's imports are exported in an equal percentage (e.g. if Switzerland imports 100 kg of bananas from Country X and 50 kg of bananas from Country Y, and the deficit between Switzerland's production and its exports is 10 kg, a fixed percentage of bananas from each country will be assumed to be exported while the remainder is consumed in Switzerland). Hence, the fraction of that food item from that country consumed in Switzerland is (the total amount of that food item imported from that country) / (the total imports across all countries for that food item). This fraction is multiplied by the total amount of that food item consumed in Switzerland to get results by country."
   ]
  },
  {
   "cell_type": "code",
   "execution_count": null,
   "metadata": {
    "scrolled": true
   },
   "outputs": [],
   "source": [
    "# first manipulate the data to prepare for using it\n",
    "impex_countries = impex.stack([\"type\",\"subtype\"]).unstack(['continent','subcontinent','country']).stack(['continent','subcontinent','country']).drop(columns=['exports']).reset_index()\n",
    "impex_countries['product'] = impex_countries['subtype']\n",
    "impex_countries = impex_countries.set_index([\"type\",\"subtype\",'continent','country']).drop(columns = 'subcontinent')"
   ]
  },
  {
   "cell_type": "code",
   "execution_count": null,
   "metadata": {},
   "outputs": [],
   "source": [
    "# calculate, for each country and food item pair, how much of that food item imported from that country is consumed\n",
    "# by Swiss consumers\n",
    "def find_consump(row):\n",
    "    # if the exported amount of this food item is less than what is domestically produced, then\n",
    "    # all imports go towards Swiss consumption (due to earlier assumptions we made about Swiss production\n",
    "    # being the source of exports before imports being exported)\n",
    "    if suisse.xs(row['product'], level=1)['domestic_consumption'][0] > 0:\n",
    "        return row.imports\n",
    "    else:\n",
    "        # if everything which is produced in Switzerland is also exported (domestic_consumption == 0), then\n",
    "        # some of the imports may also be exported, so the amount of imports consumed in Switzerland is taken\n",
    "        # as the fraction of (the amount imported from that country) / (total imported amount from all countries)\n",
    "        denominator = suisse.xs(row['product'], level=1)['imports'][0]\n",
    "        fraction = row.imports/denominator\n",
    "        return fraction * suisse.xs(row['product'], level=1)['consumption'][0]\n",
    "\n",
    "# apply the function to all rows of the dataframe\n",
    "impex_countries['swiss_consumption'] = impex_countries.apply(find_consump, axis=1)"
   ]
  },
  {
   "cell_type": "code",
   "execution_count": null,
   "metadata": {},
   "outputs": [],
   "source": [
    "impex_countries.head()"
   ]
  },
  {
   "cell_type": "code",
   "execution_count": null,
   "metadata": {},
   "outputs": [],
   "source": [
    "# reset the index to enable easier dataframe manipulation\n",
    "impex_countries.reset_index(inplace=True)"
   ]
  },
  {
   "cell_type": "code",
   "execution_count": null,
   "metadata": {},
   "outputs": [],
   "source": [
    "# for some reason, there is no transport data for Libya. As we can see here, however, there are no rows of data from\n",
    "# Libya which have a non-zero swiss_consumption, meaning there is nothing imported from Libya which is consumed in \n",
    "# Switzerland (it is either all exported or there are no imports).\n",
    "temp = impex_countries[impex_countries['country'] == 'Libya']\n",
    "temp = temp[temp['swiss_consumption'] != 0]\n",
    "temp\n",
    "# TODO: once the seafood data was incorporated, this is no longer true. Come up with a better explanation"
   ]
  },
  {
   "cell_type": "code",
   "execution_count": null,
   "metadata": {},
   "outputs": [],
   "source": [
    "# TODO think if there is a better strategy than just dropping all these countries since they're not in the transport data?\n",
    "\n",
    "# this is also true for Angola, Eritrea, Sudan, St. Lucia\n",
    "# so we will drop these countries from the dataframe\n",
    "impex_countries = impex_countries[impex_countries['country'] != 'Libya']\n",
    "impex_countries = impex_countries[impex_countries['country'] != 'Angola']\n",
    "impex_countries = impex_countries[impex_countries['country'] != 'Eritrea']\n",
    "impex_countries = impex_countries[impex_countries['country'] != 'Sudan']\n",
    "impex_countries = impex_countries[impex_countries['country'] != 'St Lucia']\n",
    "# start of countries taken out only for seafood\n",
    "impex_countries = impex_countries[impex_countries['country'] != 'Seychelles']\n",
    "impex_countries = impex_countries[impex_countries['country'] != 'Amer. Virgin']\n",
    "impex_countries = impex_countries[impex_countries['country'] != 'Curaçao']\n",
    "impex_countries = impex_countries[impex_countries['country'] != 'Greenland']\n",
    "impex_countries = impex_countries[impex_countries['country'] != 'Guiana, French']\n",
    "impex_countries = impex_countries[impex_countries['country'] != 'Faeroe Islands']"
   ]
  },
  {
   "cell_type": "markdown",
   "metadata": {},
   "source": [
    "The next step is to convert the `impex_countries` table, the amount by country and by food item which is eaten in Switzerland, to the carbon costs associated with each country/food item pair. "
   ]
  },
  {
   "cell_type": "code",
   "execution_count": null,
   "metadata": {},
   "outputs": [],
   "source": [
    "# map the categories used by the transport data to the categories used in our dataframe of imports per country and food\n",
    "dict = {\n",
    "    \"animal_products\": \"dairy_products\",\n",
    "    \"meat\": \"meat\",\n",
    "    \"fruits\": \"other_fresh_fruits_vegetables\",\n",
    "    \"vegetables\": \"other_fresh_fruits_vegetables\",\n",
    "    \"cereals\": \"cereals\",\n",
    "    \"seafood\": \"fish\",\n",
    "}"
   ]
  },
  {
   "cell_type": "markdown",
   "metadata": {},
   "source": [
    "## TODO: \n",
    "Modify the `swiss_comsumption_transport` function (or do it after the function) to change the potatoes value. We have transport data specifically for potatoes, but all other fruits and vegetables are lumped into one category together. As of now, the potatoes are included with all the other fruits and vegetables."
   ]
  },
  {
   "cell_type": "code",
   "execution_count": null,
   "metadata": {},
   "outputs": [],
   "source": [
    "def swiss_consumption_transport(row):\n",
    "    # get the fractions for a given country and food product imported by each method of transport\n",
    "    trans = transport.loc[row['country']][[dict[row['type']]]]\n",
    "    \n",
    "    # multiply the fractions by the amount consumed in Switzerland from that country to get kilos imported\n",
    "    # by each method of transport\n",
    "    trans['kilos_consumed'] = trans.iloc[:,0] * row['swiss_consumption']\n",
    "    \n",
    "    # multiply the carbon cost of each method of transport by the kilos imported by that transport method\n",
    "    trans = trans.reset_index()\n",
    "    trans['carbon_cost_per_km'] = trans.iloc[:,2] * trans['mode_of_transport'].map(transportCO2)\n",
    "    \n",
    "    # multiply the carbon cost by the km between that country and Switzerland to get total kg of CO2e produced\n",
    "    trans['carbon_cost'] = trans.iloc[:,3] * countries.loc[row['country']][1]\n",
    "    # IF YOU WANT DETAILS LATER (E.G. CARBON COST BY TRANSPORT METHOD), GRAB THE DATAFRAME HERE BEFORE THE NEXT STEP\n",
    "    # return trans\n",
    "    \n",
    "    # sum the total carbon cost for this food item coming from this country\n",
    "    return trans.iloc[:,4].sum()\n"
   ]
  },
  {
   "cell_type": "code",
   "execution_count": null,
   "metadata": {},
   "outputs": [],
   "source": [
    "pd.options.mode.chained_assignment = None # prevent the set with copy warning, which is not applicable in this\n",
    "                                      # case since we are creating a new column (but pandas triggers the warning anyway)\n",
    "impex_countries['kg_CO2e'] = impex_countries.apply(swiss_consumption_transport, axis=1)"
   ]
  },
  {
   "cell_type": "code",
   "execution_count": null,
   "metadata": {},
   "outputs": [],
   "source": [
    "# create the index again to get back to a multiindex dataframe\n",
    "impex_countries.set_index(['type', 'subtype', 'continent', 'country'], inplace=True)"
   ]
  },
  {
   "cell_type": "code",
   "execution_count": null,
   "metadata": {},
   "outputs": [],
   "source": [
    "# show a slice of the dataframe (that has non-zero values) to demonstrate what data it has\n",
    "# well, it used to be non-zero before seafood was incorporated at least\n",
    "impex_countries.iloc[1305:1310]"
   ]
  },
  {
   "cell_type": "code",
   "execution_count": null,
   "metadata": {},
   "outputs": [],
   "source": [
    "# here is how to get specific carbon values for groups of items\n",
    "impex_countries.iloc[impex_countries.index.get_level_values(0) == 'meat'].kg_CO2e.sum()"
   ]
  },
  {
   "cell_type": "code",
   "execution_count": null,
   "metadata": {},
   "outputs": [],
   "source": [
    "meta_food_CO2 = impex_countries.kg_CO2e.groupby(\"type\").sum()"
   ]
  },
  {
   "cell_type": "code",
   "execution_count": null,
   "metadata": {},
   "outputs": [],
   "source": [
    "plt.figure(figsize=(12, 4))\n",
    "ax = sns.barplot(\n",
    "    x=meta_food_CO2.index.get_level_values(\"type\"),\n",
    "    y=meta_food_CO2.values / 1000,  # kg --> tonnes\n",
    ")\n",
    "\n",
    "ax.set(\n",
    "    title=\"Carbon cost by food group\", xlabel=\"commodity\", ylabel=\"CO2e (tonnes)\"\n",
    ")\n",
    "plt.xticks(rotation=90)\n",
    "sns.despine();"
   ]
  },
  {
   "cell_type": "markdown",
   "metadata": {},
   "source": [
    "Let's now look at a plot which compares the inherent carbon cost of a food item (that is, its global average emission value for production) with its Swiss-specific carbon cost (the inherent cost plus the transport carbon emissions)."
   ]
  },
  {
   "cell_type": "code",
   "execution_count": null,
   "metadata": {},
   "outputs": [],
   "source": [
    "# pull out the emissions for Switzerland specifically from the impex_countries df, and the inherent emissions\n",
    "# value for each food type from the emissions df\n",
    "food_CO2 = pd.DataFrame(impex_countries.kg_CO2e.groupby(\"subtype\").sum())\n",
    "emissions_median = pd.DataFrame(emissions['Median'])\n",
    "lefton = emissions_median.index.to_numpy()"
   ]
  },
  {
   "cell_type": "code",
   "execution_count": null,
   "metadata": {},
   "outputs": [],
   "source": [
    "# merge everything of interest for this plot into one df for easy processing\n",
    "inherent_and_swiss = emissions_median.merge(food_CO2, right_index=True, left_on = lefton)\n",
    "inherent_and_swiss.drop(labels=\"key_0\", axis=1, inplace=True)\n",
    "inherent_and_swiss.head(3)"
   ]
  },
  {
   "cell_type": "code",
   "execution_count": null,
   "metadata": {},
   "outputs": [],
   "source": [
    "# make a dictionary to match the various categories and data subsets\n",
    "matcher = {\n",
    "    \"Inherent CO2e of food item\":inherent,\n",
    "    \"Swiss-specific CO2e of food item\":swiss_co2,\n",
    "    \"Food item\":food_names\n",
    "}\n",
    "co2_scores = pd.DataFrame(matcher).round(4)"
   ]
  },
  {
   "cell_type": "code",
   "execution_count": null,
   "metadata": {},
   "outputs": [],
   "source": [
    "import plotly.express as px\n",
    "import plotly.offline as pyo\n",
    "\n",
    "# Set notebook to work in offline mode\n",
    "pyo.init_notebook_mode()\n",
    "\n",
    "fig = px.scatter(\n",
    "    co2_scores,\n",
    "    x=\"Swiss-specific CO2e of food item\",\n",
    "    y=\"Inherent CO2e of food item\",\n",
    "    hover_name=\"Food item\",\n",
    ")\n",
    "\n",
    "fig.update_layout(\n",
    "    title={\n",
    "        \"text\": \"Carbon emissions with and without transport to Switzerland\",\n",
    "        \"y\": 0.95,\n",
    "        \"x\": 0.5,\n",
    "        \"xanchor\": \"center\",\n",
    "        \"yanchor\": \"top\",\n",
    "    },\n",
    "    #title_font=dict(size=20),\n",
    ")\n",
    "\n",
    "fig.show()"
   ]
  },
  {
   "cell_type": "code",
   "execution_count": null,
   "metadata": {},
   "outputs": [],
   "source": [
    "# the boring static version\n",
    "inherent = np.array(inherent_and_swiss['Median'])\n",
    "swiss_co2 = np.array(inherent_and_swiss['kg_CO2e'])\n",
    "food_names = np.array(inherent_and_swiss.index)\n",
    "\n",
    "\n",
    "plt.figure(figsize=(12, 6))\n",
    "p = sns.scatterplot(x=swiss_co2, y=inherent, s=100, legend=False)\n",
    "\n",
    "p.set(\n",
    "    title=\"Carbon emissions with and without transport to Switzerland\",\n",
    "    xlabel=\"Swiss CO2 emissions\",\n",
    "    ylabel=\"Inherent CO2 emissions\",\n",
    ")\n",
    "\n",
    "for n in range(len(food_names)):\n",
    "    p.text(\n",
    "        inherent[n],\n",
    "        swiss_co2[n],\n",
    "        food_names[n],\n",
    "        horizontalalignment=\"left\",\n",
    "        size=\"large\",\n",
    "        color=\"black\",\n",
    "        weight=\"semibold\",\n",
    "    )"
   ]
  },
  {
   "cell_type": "code",
   "execution_count": null,
   "metadata": {},
   "outputs": [],
   "source": []
  }
 ],
 "metadata": {
  "kernelspec": {
   "display_name": "Python [conda env:ada] *",
   "language": "python",
   "name": "conda-env-ada-py"
  },
  "language_info": {
   "codemirror_mode": {
    "name": "ipython",
    "version": 3
   },
   "file_extension": ".py",
   "mimetype": "text/x-python",
   "name": "python",
   "nbconvert_exporter": "python",
   "pygments_lexer": "ipython3",
   "version": "3.7.4"
  }
 },
 "nbformat": 4,
 "nbformat_minor": 4
}
