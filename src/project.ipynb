{
 "cells": [
  {
   "cell_type": "markdown",
   "metadata": {},
   "source": [
    "**Reducing the Swiss \"Foodprint\": How an Individual can Readjust their Carbon Output**"
   ]
  },
  {
   "cell_type": "markdown",
   "metadata": {},
   "source": [
    "This notebook contains detailed data analysis and visualizations of the [Swiss Foodprint]((https://valentinoli.github.io/swiss-foodprint/)) project. Please view the [`README`](../README.md) for overall project goals and background information. The project is hosted on [GitHub](https://github.com/valentinoli/swiss-foodprint)."
   ]
  },
  {
   "cell_type": "code",
   "execution_count": null,
   "metadata": {},
   "outputs": [],
   "source": [
    "# import external libraries\n",
    "%matplotlib inline\n",
    "import collections\n",
    "import inspect\n",
    "import pickle\n",
    "import re\n",
    "\n",
    "import pandas as pd\n",
    "import numpy as np\n",
    "\n",
    "import matplotlib.pyplot as plt\n",
    "import seaborn as sns\n",
    "\n",
    "import plotly.graph_objects as go #may not need this\n",
    "import holoviews as hv\n",
    "from holoviews import opts\n",
    "import networkx as nx\n",
    "from networkx.algorithms import bipartite\n",
    "\n",
    "# prevent internal problem with networkx from showing error\n",
    "import warnings\n",
    "warnings.filterwarnings(\"ignore\", category=UserWarning)\n",
    "\n",
    "%load_ext autoreload\n",
    "%autoreload 2"
   ]
  },
  {
   "cell_type": "code",
   "execution_count": 74,
   "metadata": {},
   "outputs": [],
   "source": [
    "# import local dependencies\n",
    "import sys\n",
    "sys.path.insert(1, \"scripts\")\n",
    "\n",
    "from plots import *\n",
    "from impex_data_manipulation import *\n",
    "from impex_countries import *\n",
    "from fao_data_manipulation import *\n",
    "from emissions_data_manipulation import *"
   ]
  },
  {
   "cell_type": "markdown",
   "metadata": {},
   "source": [
    "The first step is to calculate, for each type of food, how much of what is consumed by the Swiss population is produced within Switzerland versus imported. To do this, we will use data on imports, exports, and domestic production. The imports and exports data are sourced from [Swiss Impex](https://www.gate.ezv.admin.ch/swissimpex/index.xhtml), a website hosted by the Swiss Federal Customs Administration which provides data on Switzerland's global trade activity. Domestic production data comes from [FAO](http://www.fao.org/faostat/en/#data), the Food and Agriculture Organization of the United Nations which offers a variety of agricultural-related data. We fetched fishery data from [here](http://www.fao.org/fishery/statistics/global-commodities-production/query/en).\n",
    "\n",
    "In theory, the total amount of food consumed in Switzerland (including food waste) can be calculated from these figures:\n",
    "\n",
    "consumption = domestic production + imports - exports"
   ]
  },
  {
   "cell_type": "markdown",
   "metadata": {},
   "source": [
    "***\n",
    "**Data loading and manipulation**\n",
    "***"
   ]
  },
  {
   "cell_type": "markdown",
   "metadata": {},
   "source": [
    "In this section, we load and manipulate data on Swiss imports, exports, and domestic production of various food types.\n",
    "\n",
    "**Note**: All quantities are measured in kilograms, unless otherwise stated."
   ]
  },
  {
   "cell_type": "markdown",
   "metadata": {},
   "source": [
    "*Imports and Exports*\n",
    "\n",
    "First, we load imports-exports data from the [Swiss Impex](https://www.gate.ezv.admin.ch/swissimpex/index.xhtml) into the `impex` dataframe."
   ]
  },
  {
   "cell_type": "code",
   "execution_count": 50,
   "metadata": {},
   "outputs": [
    {
     "data": {
      "text/html": [
       "<div>\n",
       "<style scoped>\n",
       "    .dataframe tbody tr th:only-of-type {\n",
       "        vertical-align: middle;\n",
       "    }\n",
       "\n",
       "    .dataframe tbody tr th {\n",
       "        vertical-align: top;\n",
       "    }\n",
       "\n",
       "    .dataframe thead tr th {\n",
       "        text-align: left;\n",
       "    }\n",
       "</style>\n",
       "<table border=\"1\" class=\"dataframe\">\n",
       "  <thead>\n",
       "    <tr>\n",
       "      <th>type</th>\n",
       "      <th colspan=\"10\" halign=\"left\">fruits</th>\n",
       "      <th>...</th>\n",
       "      <th colspan=\"10\" halign=\"left\">seafood</th>\n",
       "    </tr>\n",
       "    <tr>\n",
       "      <th>subtype</th>\n",
       "      <th colspan=\"2\" halign=\"left\">plantains_and_others</th>\n",
       "      <th colspan=\"2\" halign=\"left\">bananas</th>\n",
       "      <th colspan=\"2\" halign=\"left\">dates</th>\n",
       "      <th colspan=\"2\" halign=\"left\">figs</th>\n",
       "      <th colspan=\"2\" halign=\"left\">pineapples</th>\n",
       "      <th>...</th>\n",
       "      <th colspan=\"2\" halign=\"left\">squid_octopus_cuttlefish</th>\n",
       "      <th colspan=\"2\" halign=\"left\">shrimp_prawns</th>\n",
       "      <th colspan=\"2\" halign=\"left\">molluscs</th>\n",
       "      <th colspan=\"2\" halign=\"left\">lobster_crab</th>\n",
       "      <th colspan=\"2\" halign=\"left\">fish</th>\n",
       "    </tr>\n",
       "    <tr>\n",
       "      <th>indicator</th>\n",
       "      <th>imports</th>\n",
       "      <th>exports</th>\n",
       "      <th>imports</th>\n",
       "      <th>exports</th>\n",
       "      <th>imports</th>\n",
       "      <th>exports</th>\n",
       "      <th>imports</th>\n",
       "      <th>exports</th>\n",
       "      <th>imports</th>\n",
       "      <th>exports</th>\n",
       "      <th>...</th>\n",
       "      <th>imports</th>\n",
       "      <th>exports</th>\n",
       "      <th>imports</th>\n",
       "      <th>exports</th>\n",
       "      <th>imports</th>\n",
       "      <th>exports</th>\n",
       "      <th>imports</th>\n",
       "      <th>exports</th>\n",
       "      <th>imports</th>\n",
       "      <th>exports</th>\n",
       "    </tr>\n",
       "  </thead>\n",
       "  <tbody>\n",
       "    <tr>\n",
       "      <td>total</td>\n",
       "      <td>1444222.0</td>\n",
       "      <td>2.0</td>\n",
       "      <td>92397628.0</td>\n",
       "      <td>36763.0</td>\n",
       "      <td>2706334.0</td>\n",
       "      <td>96471.0</td>\n",
       "      <td>3681429.0</td>\n",
       "      <td>56065.0</td>\n",
       "      <td>20809608.0</td>\n",
       "      <td>70821.0</td>\n",
       "      <td>...</td>\n",
       "      <td>2363868.0</td>\n",
       "      <td>1415.0</td>\n",
       "      <td>4833926.0</td>\n",
       "      <td>27932.0</td>\n",
       "      <td>3390293.0</td>\n",
       "      <td>240.0</td>\n",
       "      <td>715883.0</td>\n",
       "      <td>4923.0</td>\n",
       "      <td>34298964.0</td>\n",
       "      <td>153535.0</td>\n",
       "    </tr>\n",
       "    <tr>\n",
       "      <td>Argentina</td>\n",
       "      <td>396.0</td>\n",
       "      <td>0.0</td>\n",
       "      <td>0.0</td>\n",
       "      <td>0.0</td>\n",
       "      <td>0.0</td>\n",
       "      <td>0.0</td>\n",
       "      <td>8783.0</td>\n",
       "      <td>0.0</td>\n",
       "      <td>0.0</td>\n",
       "      <td>0.0</td>\n",
       "      <td>...</td>\n",
       "      <td>3010.0</td>\n",
       "      <td>0.0</td>\n",
       "      <td>36848.0</td>\n",
       "      <td>0.0</td>\n",
       "      <td>0.0</td>\n",
       "      <td>0.0</td>\n",
       "      <td>144.0</td>\n",
       "      <td>0.0</td>\n",
       "      <td>13205.0</td>\n",
       "      <td>0.0</td>\n",
       "    </tr>\n",
       "    <tr>\n",
       "      <td>Bangladesh</td>\n",
       "      <td>130.0</td>\n",
       "      <td>0.0</td>\n",
       "      <td>0.0</td>\n",
       "      <td>0.0</td>\n",
       "      <td>0.0</td>\n",
       "      <td>0.0</td>\n",
       "      <td>0.0</td>\n",
       "      <td>0.0</td>\n",
       "      <td>0.0</td>\n",
       "      <td>0.0</td>\n",
       "      <td>...</td>\n",
       "      <td>0.0</td>\n",
       "      <td>0.0</td>\n",
       "      <td>236612.0</td>\n",
       "      <td>0.0</td>\n",
       "      <td>0.0</td>\n",
       "      <td>0.0</td>\n",
       "      <td>0.0</td>\n",
       "      <td>0.0</td>\n",
       "      <td>0.0</td>\n",
       "      <td>0.0</td>\n",
       "    </tr>\n",
       "    <tr>\n",
       "      <td>Brazil</td>\n",
       "      <td>1229.0</td>\n",
       "      <td>0.0</td>\n",
       "      <td>1301.0</td>\n",
       "      <td>0.0</td>\n",
       "      <td>0.0</td>\n",
       "      <td>0.0</td>\n",
       "      <td>42844.0</td>\n",
       "      <td>0.0</td>\n",
       "      <td>891.0</td>\n",
       "      <td>0.0</td>\n",
       "      <td>...</td>\n",
       "      <td>496.0</td>\n",
       "      <td>0.0</td>\n",
       "      <td>0.0</td>\n",
       "      <td>0.0</td>\n",
       "      <td>0.0</td>\n",
       "      <td>0.0</td>\n",
       "      <td>380.0</td>\n",
       "      <td>0.0</td>\n",
       "      <td>6108.0</td>\n",
       "      <td>0.0</td>\n",
       "    </tr>\n",
       "    <tr>\n",
       "      <td>Cameroon</td>\n",
       "      <td>1529.0</td>\n",
       "      <td>0.0</td>\n",
       "      <td>65786.0</td>\n",
       "      <td>0.0</td>\n",
       "      <td>0.0</td>\n",
       "      <td>0.0</td>\n",
       "      <td>0.0</td>\n",
       "      <td>0.0</td>\n",
       "      <td>213628.0</td>\n",
       "      <td>0.0</td>\n",
       "      <td>...</td>\n",
       "      <td>0.0</td>\n",
       "      <td>0.0</td>\n",
       "      <td>0.0</td>\n",
       "      <td>0.0</td>\n",
       "      <td>0.0</td>\n",
       "      <td>0.0</td>\n",
       "      <td>0.0</td>\n",
       "      <td>0.0</td>\n",
       "      <td>150.0</td>\n",
       "      <td>0.0</td>\n",
       "    </tr>\n",
       "  </tbody>\n",
       "</table>\n",
       "<p>5 rows × 176 columns</p>\n",
       "</div>"
      ],
      "text/plain": [
       "type                     fruits                                          \\\n",
       "subtype    plantains_and_others             bananas               dates   \n",
       "indicator               imports exports     imports  exports    imports   \n",
       "total                 1444222.0     2.0  92397628.0  36763.0  2706334.0   \n",
       "Argentina                 396.0     0.0         0.0      0.0        0.0   \n",
       "Bangladesh                130.0     0.0         0.0      0.0        0.0   \n",
       "Brazil                   1229.0     0.0      1301.0      0.0        0.0   \n",
       "Cameroon                 1529.0     0.0     65786.0      0.0        0.0   \n",
       "\n",
       "type                                                          ...  \\\n",
       "subtype                   figs           pineapples           ...   \n",
       "indicator   exports    imports  exports     imports  exports  ...   \n",
       "total       96471.0  3681429.0  56065.0  20809608.0  70821.0  ...   \n",
       "Argentina       0.0     8783.0      0.0         0.0      0.0  ...   \n",
       "Bangladesh      0.0        0.0      0.0         0.0      0.0  ...   \n",
       "Brazil          0.0    42844.0      0.0       891.0      0.0  ...   \n",
       "Cameroon        0.0        0.0      0.0    213628.0      0.0  ...   \n",
       "\n",
       "type                        seafood                                            \\\n",
       "subtype    squid_octopus_cuttlefish         shrimp_prawns            molluscs   \n",
       "indicator                   imports exports       imports  exports    imports   \n",
       "total                     2363868.0  1415.0     4833926.0  27932.0  3390293.0   \n",
       "Argentina                    3010.0     0.0       36848.0      0.0        0.0   \n",
       "Bangladesh                      0.0     0.0      236612.0      0.0        0.0   \n",
       "Brazil                        496.0     0.0           0.0      0.0        0.0   \n",
       "Cameroon                        0.0     0.0           0.0      0.0        0.0   \n",
       "\n",
       "type                                                           \n",
       "subtype            lobster_crab                fish            \n",
       "indicator  exports      imports exports     imports   exports  \n",
       "total        240.0     715883.0  4923.0  34298964.0  153535.0  \n",
       "Argentina      0.0        144.0     0.0     13205.0       0.0  \n",
       "Bangladesh     0.0          0.0     0.0         0.0       0.0  \n",
       "Brazil         0.0        380.0     0.0      6108.0       0.0  \n",
       "Cameroon       0.0          0.0     0.0       150.0       0.0  \n",
       "\n",
       "[5 rows x 176 columns]"
      ]
     },
     "execution_count": 50,
     "metadata": {},
     "output_type": "execute_result"
    }
   ],
   "source": [
    "impex = load_impex()\n",
    "impex.head()"
   ]
  },
  {
   "cell_type": "markdown",
   "metadata": {},
   "source": [
    "To ensure that our dataframe is properly processed and handled as is goes through the changes we are about to expose it to, we will pull out one value from it (quantity of kiwi fruits imported from New Zealand) and check at the end to make sure its value is still properly matched with the country and fruit."
   ]
  },
  {
   "cell_type": "code",
   "execution_count": 51,
   "metadata": {},
   "outputs": [
    {
     "data": {
      "text/plain": [
       "3241114.0"
      ]
     },
     "execution_count": 51,
     "metadata": {},
     "output_type": "execute_result"
    }
   ],
   "source": [
    "impex.loc[\"New Zealand\"].fruits.kiwi_fruit.imports"
   ]
  },
  {
   "cell_type": "markdown",
   "metadata": {},
   "source": [
    "We then create a dataframe `impex_total` for storing total quantities of indicator variables (such as imports and exports):"
   ]
  },
  {
   "cell_type": "code",
   "execution_count": 52,
   "metadata": {},
   "outputs": [
    {
     "data": {
      "text/html": [
       "<div>\n",
       "<style scoped>\n",
       "    .dataframe tbody tr th:only-of-type {\n",
       "        vertical-align: middle;\n",
       "    }\n",
       "\n",
       "    .dataframe tbody tr th {\n",
       "        vertical-align: top;\n",
       "    }\n",
       "\n",
       "    .dataframe thead th {\n",
       "        text-align: right;\n",
       "    }\n",
       "</style>\n",
       "<table border=\"1\" class=\"dataframe\">\n",
       "  <thead>\n",
       "    <tr style=\"text-align: right;\">\n",
       "      <th></th>\n",
       "      <th>indicator</th>\n",
       "      <th>exports</th>\n",
       "      <th>imports</th>\n",
       "    </tr>\n",
       "    <tr>\n",
       "      <th>type</th>\n",
       "      <th>subtype</th>\n",
       "      <th></th>\n",
       "      <th></th>\n",
       "    </tr>\n",
       "  </thead>\n",
       "  <tbody>\n",
       "    <tr>\n",
       "      <td rowspan=\"5\" valign=\"top\">animal_products</td>\n",
       "      <td>butter</td>\n",
       "      <td>2085954.0</td>\n",
       "      <td>155312.0</td>\n",
       "    </tr>\n",
       "    <tr>\n",
       "      <td>cheese</td>\n",
       "      <td>67285451.0</td>\n",
       "      <td>60637898.0</td>\n",
       "    </tr>\n",
       "    <tr>\n",
       "      <td>eggs</td>\n",
       "      <td>442894.0</td>\n",
       "      <td>36298734.0</td>\n",
       "    </tr>\n",
       "    <tr>\n",
       "      <td>honey</td>\n",
       "      <td>685704.0</td>\n",
       "      <td>8191947.0</td>\n",
       "    </tr>\n",
       "    <tr>\n",
       "      <td>milk_cream</td>\n",
       "      <td>14990772.0</td>\n",
       "      <td>29234598.0</td>\n",
       "    </tr>\n",
       "  </tbody>\n",
       "</table>\n",
       "</div>"
      ],
      "text/plain": [
       "indicator                      exports     imports\n",
       "type            subtype                           \n",
       "animal_products butter       2085954.0    155312.0\n",
       "                cheese      67285451.0  60637898.0\n",
       "                eggs          442894.0  36298734.0\n",
       "                honey         685704.0   8191947.0\n",
       "                milk_cream  14990772.0  29234598.0"
      ]
     },
     "execution_count": 52,
     "metadata": {},
     "output_type": "execute_result"
    }
   ],
   "source": [
    "# 1. Select only first row (total), creates a series\n",
    "# 2. Unstack first level (indicator) to create a dataframe\n",
    "impex_total = impex.iloc[0].unstack(\"indicator\")\n",
    "impex_total.head()"
   ]
  },
  {
   "cell_type": "markdown",
   "metadata": {},
   "source": [
    "We can safely drop the total row from `impex`:"
   ]
  },
  {
   "cell_type": "code",
   "execution_count": 53,
   "metadata": {},
   "outputs": [],
   "source": [
    "impex = impex.drop(\"total\")"
   ]
  },
  {
   "cell_type": "markdown",
   "metadata": {},
   "source": [
    "Let's now further manipulate the `impex` dataframe and add index levels for continents and sub-continents that the countries belong to:"
   ]
  },
  {
   "cell_type": "code",
   "execution_count": 58,
   "metadata": {},
   "outputs": [
    {
     "data": {
      "text/plain": [
       "MultiIndex([('Africa', 'North Africa',        'Algeria'),\n",
       "            ('Africa', 'North Africa', 'Canary Islands'),\n",
       "            ('Africa', 'North Africa',          'Egypt'),\n",
       "            ('Africa', 'North Africa',          'Libya'),\n",
       "            ('Africa', 'North Africa',        'Morocco')],\n",
       "           names=['continent', 'subcontinent', 'country'])"
      ]
     },
     "execution_count": 58,
     "metadata": {},
     "output_type": "execute_result"
    }
   ],
   "source": [
    "# We load the country-continent info\n",
    "continents = load_countries_continents()\n",
    "\n",
    "# We compute the new index\n",
    "countries_mindex = pd.MultiIndex.from_arrays(continents.values.T, names=continents.columns)\n",
    "impex_mindex = countries_mindex[countries_mindex.get_level_values(2).isin(impex.index)]\n",
    "\n",
    "# Reindex such that it matches the incoming multi-index\n",
    "impex = impex.reindex(impex_mindex.get_level_values(2))\n",
    "\n",
    "# Finally, apply the new multi-index\n",
    "impex.set_index(impex_mindex, inplace=True)\n",
    "impex.index[:5]"
   ]
  },
  {
   "cell_type": "markdown",
   "metadata": {},
   "source": [
    "We check that the numbers stay with their indices:"
   ]
  },
  {
   "cell_type": "code",
   "execution_count": 48,
   "metadata": {},
   "outputs": [
    {
     "data": {
      "text/plain": [
       "continent  subcontinent  country    \n",
       "Oceania    Oceania       New Zealand    3241114.0\n",
       "Name: imports, dtype: float64"
      ]
     },
     "execution_count": 48,
     "metadata": {},
     "output_type": "execute_result"
    }
   ],
   "source": [
    "impex.xs(\"New Zealand\", level=\"country\", drop_level=False).fruits.kiwi_fruit.imports"
   ]
  },
  {
   "cell_type": "markdown",
   "metadata": {},
   "source": [
    "The imports of kiwi fruits from New Zealand is correct and we conclude that applying the new index was successful.\n",
    "\n",
    "<p style=\"font-size: 12px\"><strong>Note:</strong> The impex dataframe should only contain information about food destined for humans. During the data collection phase, we were careful to ensure this was true: all items which can also be imported for the use of animal feed were selected by their subcategory of being specifically for human consumption. </p>"
   ]
  },
  {
   "cell_type": "markdown",
   "metadata": {},
   "source": [
    "*Domestic Production*\n",
    "\n",
    "Now, let's load the data on Swiss domestic `production` from [FAO](http://www.fao.org/faostat/en/#data):"
   ]
  },
  {
   "cell_type": "code",
   "execution_count": 59,
   "metadata": {},
   "outputs": [
    {
     "data": {
      "text/html": [
       "<div>\n",
       "<style scoped>\n",
       "    .dataframe tbody tr th:only-of-type {\n",
       "        vertical-align: middle;\n",
       "    }\n",
       "\n",
       "    .dataframe tbody tr th {\n",
       "        vertical-align: top;\n",
       "    }\n",
       "\n",
       "    .dataframe thead th {\n",
       "        text-align: right;\n",
       "    }\n",
       "</style>\n",
       "<table border=\"1\" class=\"dataframe\">\n",
       "  <thead>\n",
       "    <tr style=\"text-align: right;\">\n",
       "      <th></th>\n",
       "      <th>indicator</th>\n",
       "      <th>production</th>\n",
       "    </tr>\n",
       "    <tr>\n",
       "      <th>type</th>\n",
       "      <th>subtype</th>\n",
       "      <th></th>\n",
       "    </tr>\n",
       "  </thead>\n",
       "  <tbody>\n",
       "    <tr>\n",
       "      <td rowspan=\"5\" valign=\"top\">animal_products</td>\n",
       "      <td>butter</td>\n",
       "      <td>4.843600e+07</td>\n",
       "    </tr>\n",
       "    <tr>\n",
       "      <td>cheese</td>\n",
       "      <td>2.063360e+08</td>\n",
       "    </tr>\n",
       "    <tr>\n",
       "      <td>eggs</td>\n",
       "      <td>5.763500e+07</td>\n",
       "    </tr>\n",
       "    <tr>\n",
       "      <td>honey</td>\n",
       "      <td>3.084000e+06</td>\n",
       "    </tr>\n",
       "    <tr>\n",
       "      <td>milk_cream</td>\n",
       "      <td>4.795811e+09</td>\n",
       "    </tr>\n",
       "  </tbody>\n",
       "</table>\n",
       "</div>"
      ],
      "text/plain": [
       "indicator                     production\n",
       "type            subtype                 \n",
       "animal_products butter      4.843600e+07\n",
       "                cheese      2.063360e+08\n",
       "                eggs        5.763500e+07\n",
       "                honey       3.084000e+06\n",
       "                milk_cream  4.795811e+09"
      ]
     },
     "execution_count": 59,
     "metadata": {},
     "output_type": "execute_result"
    }
   ],
   "source": [
    "production = load_fao()\n",
    "production.head()"
   ]
  },
  {
   "cell_type": "markdown",
   "metadata": {},
   "source": [
    "<p style=\"font-size: 12px\"><strong>Note</strong>: We were careful that only crops produced for human consumption are measured. This is specified in the FAO metadata.</p>"
   ]
  },
  {
   "cell_type": "markdown",
   "metadata": {},
   "source": [
    "*Combining imports, exports and domestic production*\n",
    "\n",
    "Next, we perform an outer join of `impex_total` and `production` to create a meta-dataframe, `suisse` with all total macroeconomic indicators for each commodity subtype:"
   ]
  },
  {
   "cell_type": "code",
   "execution_count": 60,
   "metadata": {},
   "outputs": [
    {
     "data": {
      "text/html": [
       "<div>\n",
       "<style scoped>\n",
       "    .dataframe tbody tr th:only-of-type {\n",
       "        vertical-align: middle;\n",
       "    }\n",
       "\n",
       "    .dataframe tbody tr th {\n",
       "        vertical-align: top;\n",
       "    }\n",
       "\n",
       "    .dataframe thead th {\n",
       "        text-align: right;\n",
       "    }\n",
       "</style>\n",
       "<table border=\"1\" class=\"dataframe\">\n",
       "  <thead>\n",
       "    <tr style=\"text-align: right;\">\n",
       "      <th></th>\n",
       "      <th>indicator</th>\n",
       "      <th>exports</th>\n",
       "      <th>imports</th>\n",
       "      <th>production</th>\n",
       "    </tr>\n",
       "    <tr>\n",
       "      <th>type</th>\n",
       "      <th>subtype</th>\n",
       "      <th></th>\n",
       "      <th></th>\n",
       "      <th></th>\n",
       "    </tr>\n",
       "  </thead>\n",
       "  <tbody>\n",
       "    <tr>\n",
       "      <td rowspan=\"5\" valign=\"top\">animal_products</td>\n",
       "      <td>butter</td>\n",
       "      <td>2085954.0</td>\n",
       "      <td>155312.0</td>\n",
       "      <td>4.843600e+07</td>\n",
       "    </tr>\n",
       "    <tr>\n",
       "      <td>cheese</td>\n",
       "      <td>67285451.0</td>\n",
       "      <td>60637898.0</td>\n",
       "      <td>2.063360e+08</td>\n",
       "    </tr>\n",
       "    <tr>\n",
       "      <td>eggs</td>\n",
       "      <td>442894.0</td>\n",
       "      <td>36298734.0</td>\n",
       "      <td>5.763500e+07</td>\n",
       "    </tr>\n",
       "    <tr>\n",
       "      <td>honey</td>\n",
       "      <td>685704.0</td>\n",
       "      <td>8191947.0</td>\n",
       "      <td>3.084000e+06</td>\n",
       "    </tr>\n",
       "    <tr>\n",
       "      <td>milk_cream</td>\n",
       "      <td>14990772.0</td>\n",
       "      <td>29234598.0</td>\n",
       "      <td>4.795811e+09</td>\n",
       "    </tr>\n",
       "  </tbody>\n",
       "</table>\n",
       "</div>"
      ],
      "text/plain": [
       "indicator                      exports     imports    production\n",
       "type            subtype                                         \n",
       "animal_products butter       2085954.0    155312.0  4.843600e+07\n",
       "                cheese      67285451.0  60637898.0  2.063360e+08\n",
       "                eggs          442894.0  36298734.0  5.763500e+07\n",
       "                honey         685704.0   8191947.0  3.084000e+06\n",
       "                milk_cream  14990772.0  29234598.0  4.795811e+09"
      ]
     },
     "execution_count": 60,
     "metadata": {},
     "output_type": "execute_result"
    }
   ],
   "source": [
    "suisse = impex_total.join(production, how=\"outer\")\n",
    "suisse.head()"
   ]
  },
  {
   "cell_type": "markdown",
   "metadata": {},
   "source": [
    "We have three possibilities for each commodity\n",
    "1. Neither production or import/export values are given or they all sum up to 0\n",
    "2. Either only production values are given or only import/export values are given\n",
    "3. Production, import and export values are all given (and are non-zero)\n",
    "\n",
    "Commodities fulfilling the first condition will be removed and others will be kept.\n",
    "\n",
    "<p style=\"font-size: 12px\"><strong>Note</strong>: Missing or 0-valued data may be due to either the values actually being 0 or the data not being collected on these items. Since there is no way of knowing which is the case, we will assume that the values are indeed truly 0 to enable their utilization in the analysis.</p>"
   ]
  },
  {
   "cell_type": "code",
   "execution_count": 61,
   "metadata": {},
   "outputs": [],
   "source": [
    "# Remove subtypes for which all given quantities sum up to 0\n",
    "subtypes_no_info = suisse.index[suisse.sum(axis=1) == 0]\n",
    "suisse.drop(subtypes_no_info, inplace=True)"
   ]
  },
  {
   "cell_type": "markdown",
   "metadata": {},
   "source": [
    "*Computing Estimated Consumption*\n",
    "\n",
    "Next, we shall add columns for `domestic_consumption`, `imported_consumption` and total `consumption`.\n",
    "\n",
    "Definitions:\n",
    "* **domestic consumption**: goods and services consumed in the country where they are produced\n",
    "* **imported consumption**: goods and services consumed in the country to which they are imported\n",
    "\n",
    "**Note**: For the calculation of the above quantities we make the following assumptions:\n",
    "\n",
    "* food waste is not taken into account and is included as being \"consumed\"\n",
    "* exported quantity is first satisfied by available produced quantity, and then imported quantity"
   ]
  },
  {
   "cell_type": "code",
   "execution_count": 62,
   "metadata": {},
   "outputs": [
    {
     "data": {
      "text/html": [
       "<div>\n",
       "<style scoped>\n",
       "    .dataframe tbody tr th:only-of-type {\n",
       "        vertical-align: middle;\n",
       "    }\n",
       "\n",
       "    .dataframe tbody tr th {\n",
       "        vertical-align: top;\n",
       "    }\n",
       "\n",
       "    .dataframe thead th {\n",
       "        text-align: right;\n",
       "    }\n",
       "</style>\n",
       "<table border=\"1\" class=\"dataframe\">\n",
       "  <thead>\n",
       "    <tr style=\"text-align: right;\">\n",
       "      <th></th>\n",
       "      <th>indicator</th>\n",
       "      <th>exports</th>\n",
       "      <th>imports</th>\n",
       "      <th>production</th>\n",
       "      <th>domestic_consumption</th>\n",
       "      <th>imported_consumption</th>\n",
       "      <th>consumption</th>\n",
       "    </tr>\n",
       "    <tr>\n",
       "      <th>type</th>\n",
       "      <th>subtype</th>\n",
       "      <th></th>\n",
       "      <th></th>\n",
       "      <th></th>\n",
       "      <th></th>\n",
       "      <th></th>\n",
       "      <th></th>\n",
       "    </tr>\n",
       "  </thead>\n",
       "  <tbody>\n",
       "    <tr>\n",
       "      <td rowspan=\"5\" valign=\"top\">animal_products</td>\n",
       "      <td>butter</td>\n",
       "      <td>2085954.0</td>\n",
       "      <td>155312.0</td>\n",
       "      <td>4.843600e+07</td>\n",
       "      <td>4.635005e+07</td>\n",
       "      <td>155312.0</td>\n",
       "      <td>4.650536e+07</td>\n",
       "    </tr>\n",
       "    <tr>\n",
       "      <td>cheese</td>\n",
       "      <td>67285451.0</td>\n",
       "      <td>60637898.0</td>\n",
       "      <td>2.063360e+08</td>\n",
       "      <td>1.390505e+08</td>\n",
       "      <td>60637898.0</td>\n",
       "      <td>1.996884e+08</td>\n",
       "    </tr>\n",
       "    <tr>\n",
       "      <td>eggs</td>\n",
       "      <td>442894.0</td>\n",
       "      <td>36298734.0</td>\n",
       "      <td>5.763500e+07</td>\n",
       "      <td>5.719211e+07</td>\n",
       "      <td>36298734.0</td>\n",
       "      <td>9.349084e+07</td>\n",
       "    </tr>\n",
       "    <tr>\n",
       "      <td>honey</td>\n",
       "      <td>685704.0</td>\n",
       "      <td>8191947.0</td>\n",
       "      <td>3.084000e+06</td>\n",
       "      <td>2.398296e+06</td>\n",
       "      <td>8191947.0</td>\n",
       "      <td>1.059024e+07</td>\n",
       "    </tr>\n",
       "    <tr>\n",
       "      <td>milk_cream</td>\n",
       "      <td>14990772.0</td>\n",
       "      <td>29234598.0</td>\n",
       "      <td>4.795811e+09</td>\n",
       "      <td>4.780820e+09</td>\n",
       "      <td>29234598.0</td>\n",
       "      <td>4.810055e+09</td>\n",
       "    </tr>\n",
       "  </tbody>\n",
       "</table>\n",
       "</div>"
      ],
      "text/plain": [
       "indicator                      exports     imports    production  \\\n",
       "type            subtype                                            \n",
       "animal_products butter       2085954.0    155312.0  4.843600e+07   \n",
       "                cheese      67285451.0  60637898.0  2.063360e+08   \n",
       "                eggs          442894.0  36298734.0  5.763500e+07   \n",
       "                honey         685704.0   8191947.0  3.084000e+06   \n",
       "                milk_cream  14990772.0  29234598.0  4.795811e+09   \n",
       "\n",
       "indicator                   domestic_consumption  imported_consumption  \\\n",
       "type            subtype                                                  \n",
       "animal_products butter              4.635005e+07              155312.0   \n",
       "                cheese              1.390505e+08            60637898.0   \n",
       "                eggs                5.719211e+07            36298734.0   \n",
       "                honey               2.398296e+06             8191947.0   \n",
       "                milk_cream          4.780820e+09            29234598.0   \n",
       "\n",
       "indicator                    consumption  \n",
       "type            subtype                   \n",
       "animal_products butter      4.650536e+07  \n",
       "                cheese      1.996884e+08  \n",
       "                eggs        9.349084e+07  \n",
       "                honey       1.059024e+07  \n",
       "                milk_cream  4.810055e+09  "
      ]
     },
     "execution_count": 62,
     "metadata": {},
     "output_type": "execute_result"
    }
   ],
   "source": [
    "# If exports > production, then we say all produced quantity\n",
    "# is exported and the rest of exported quantity is satisfied by imports:\n",
    "# 1. Set domestic_consumption to zero\n",
    "# 2. Set imported_consumption to imports-(exports-production)\n",
    "\n",
    "# If exports <= production, we say all exports\n",
    "# is satisfied by domestic production: \n",
    "# 1. Set domestic_consumption to production-exports\n",
    "# 2. Set imported_consumption to imports\n",
    "suisse[\"domestic_consumption\"] = np.where(\n",
    "    suisse.exports > suisse.production,\n",
    "    0,\n",
    "    suisse.production - suisse.exports\n",
    ")\n",
    "\n",
    "suisse[\"imported_consumption\"] = np.where(\n",
    "    suisse.exports > suisse.production,\n",
    "    suisse.imports - suisse.exports + suisse.production,\n",
    "    suisse.imports\n",
    ")\n",
    "\n",
    "suisse[\"consumption\"] = suisse.domestic_consumption + suisse.imported_consumption\n",
    "\n",
    "suisse.head()"
   ]
  },
  {
   "cell_type": "markdown",
   "metadata": {},
   "source": [
    "Let's make sure no consumption values are negative:"
   ]
  },
  {
   "cell_type": "code",
   "execution_count": 63,
   "metadata": {},
   "outputs": [
    {
     "data": {
      "text/html": [
       "<div>\n",
       "<style scoped>\n",
       "    .dataframe tbody tr th:only-of-type {\n",
       "        vertical-align: middle;\n",
       "    }\n",
       "\n",
       "    .dataframe tbody tr th {\n",
       "        vertical-align: top;\n",
       "    }\n",
       "\n",
       "    .dataframe thead th {\n",
       "        text-align: right;\n",
       "    }\n",
       "</style>\n",
       "<table border=\"1\" class=\"dataframe\">\n",
       "  <thead>\n",
       "    <tr style=\"text-align: right;\">\n",
       "      <th></th>\n",
       "      <th>indicator</th>\n",
       "      <th>exports</th>\n",
       "      <th>imports</th>\n",
       "      <th>production</th>\n",
       "      <th>domestic_consumption</th>\n",
       "      <th>imported_consumption</th>\n",
       "      <th>consumption</th>\n",
       "    </tr>\n",
       "    <tr>\n",
       "      <th>type</th>\n",
       "      <th>subtype</th>\n",
       "      <th></th>\n",
       "      <th></th>\n",
       "      <th></th>\n",
       "      <th></th>\n",
       "      <th></th>\n",
       "      <th></th>\n",
       "    </tr>\n",
       "  </thead>\n",
       "  <tbody>\n",
       "    <tr>\n",
       "      <td>animal_products</td>\n",
       "      <td>whey</td>\n",
       "      <td>77624196.0</td>\n",
       "      <td>8145149.0</td>\n",
       "      <td>63000000.0</td>\n",
       "      <td>0.0</td>\n",
       "      <td>-6479047.0</td>\n",
       "      <td>-6479047.0</td>\n",
       "    </tr>\n",
       "  </tbody>\n",
       "</table>\n",
       "</div>"
      ],
      "text/plain": [
       "indicator                   exports    imports  production  \\\n",
       "type            subtype                                      \n",
       "animal_products whey     77624196.0  8145149.0  63000000.0   \n",
       "\n",
       "indicator                domestic_consumption  imported_consumption  \\\n",
       "type            subtype                                               \n",
       "animal_products whey                      0.0            -6479047.0   \n",
       "\n",
       "indicator                consumption  \n",
       "type            subtype               \n",
       "animal_products whey      -6479047.0  "
      ]
     },
     "execution_count": 63,
     "metadata": {},
     "output_type": "execute_result"
    }
   ],
   "source": [
    "suisse[suisse.consumption < 0]"
   ]
  },
  {
   "cell_type": "markdown",
   "metadata": {},
   "source": [
    "Apparently, recorded *whey* exports exceed the combined imports and production. We handle this special case by setting the consumption value to zero:"
   ]
  },
  {
   "cell_type": "code",
   "execution_count": 64,
   "metadata": {},
   "outputs": [],
   "source": [
    "suisse.loc[(\"animal_products\", \"whey\")][\"imported_consumption\", \"consumption\"] = 0"
   ]
  },
  {
   "cell_type": "markdown",
   "metadata": {},
   "source": [
    "*Carbon Emissions*"
   ]
  },
  {
   "cell_type": "markdown",
   "metadata": {},
   "source": [
    "Now that we have information on Switzerland's imports, exports, production and consumption, we want to have a look at how this translates in terms of equivalent CO$_2$ production. To do this, we could look at Swiss-specific values for the greenhouse gas production for different food types. However, data from other countries is very sparse and reliable data for many food types is only available for certain countries. \n",
    "\n",
    "Comprehensive data is available on meat and cereal production emissions worldwide, however fruit and vegetable figures are much harder to obtain and only a limited number of studies have been carried out. These studies have been accumulated in a [systematic review](https://www.sciencedirect.com/science/article/pii/S0959652616303584) and these values have been used to calculate averages for a number of different kinds of produce. To ensure our results are consistent, we will use this generalization of global average values for all food types.\n",
    "\n",
    "We load the emission data:"
   ]
  },
  {
   "cell_type": "code",
   "execution_count": 68,
   "metadata": {},
   "outputs": [
    {
     "data": {
      "text/html": [
       "<div>\n",
       "<style scoped>\n",
       "    .dataframe tbody tr th:only-of-type {\n",
       "        vertical-align: middle;\n",
       "    }\n",
       "\n",
       "    .dataframe tbody tr th {\n",
       "        vertical-align: top;\n",
       "    }\n",
       "\n",
       "    .dataframe thead th {\n",
       "        text-align: right;\n",
       "    }\n",
       "</style>\n",
       "<table border=\"1\" class=\"dataframe\">\n",
       "  <thead>\n",
       "    <tr style=\"text-align: right;\">\n",
       "      <th></th>\n",
       "      <th>Median</th>\n",
       "      <th>Mean</th>\n",
       "      <th>Stdev</th>\n",
       "      <th>Min</th>\n",
       "      <th>Max</th>\n",
       "      <th>Q1</th>\n",
       "      <th>Q3</th>\n",
       "      <th>No. of LCA studies</th>\n",
       "      <th>No. of GWP values</th>\n",
       "    </tr>\n",
       "    <tr>\n",
       "      <th>name</th>\n",
       "      <th></th>\n",
       "      <th></th>\n",
       "      <th></th>\n",
       "      <th></th>\n",
       "      <th></th>\n",
       "      <th></th>\n",
       "      <th></th>\n",
       "      <th></th>\n",
       "      <th></th>\n",
       "    </tr>\n",
       "  </thead>\n",
       "  <tbody>\n",
       "    <tr>\n",
       "      <td>almond/coconut milk</td>\n",
       "      <td>0.42</td>\n",
       "      <td>0.42</td>\n",
       "      <td>0.03</td>\n",
       "      <td>0.39</td>\n",
       "      <td>0.44</td>\n",
       "      <td>0.39</td>\n",
       "      <td>0.44</td>\n",
       "      <td>1.0</td>\n",
       "      <td>4.0</td>\n",
       "    </tr>\n",
       "    <tr>\n",
       "      <td>almonds</td>\n",
       "      <td>1.54</td>\n",
       "      <td>1.74</td>\n",
       "      <td>1.25</td>\n",
       "      <td>0.51</td>\n",
       "      <td>3.77</td>\n",
       "      <td>0.76</td>\n",
       "      <td>2.33</td>\n",
       "      <td>4.0</td>\n",
       "      <td>6.0</td>\n",
       "    </tr>\n",
       "    <tr>\n",
       "      <td>anglerfish</td>\n",
       "      <td>12.29</td>\n",
       "      <td>12.29</td>\n",
       "      <td>2.63</td>\n",
       "      <td>10.43</td>\n",
       "      <td>14.15</td>\n",
       "      <td>11.36</td>\n",
       "      <td>13.22</td>\n",
       "      <td>2.0</td>\n",
       "      <td>2.0</td>\n",
       "    </tr>\n",
       "    <tr>\n",
       "      <td>apples</td>\n",
       "      <td>0.29</td>\n",
       "      <td>0.36</td>\n",
       "      <td>0.19</td>\n",
       "      <td>0.18</td>\n",
       "      <td>0.89</td>\n",
       "      <td>0.21</td>\n",
       "      <td>0.47</td>\n",
       "      <td>21.0</td>\n",
       "      <td>33.0</td>\n",
       "    </tr>\n",
       "    <tr>\n",
       "      <td>apricots</td>\n",
       "      <td>0.43</td>\n",
       "      <td>NaN</td>\n",
       "      <td>NaN</td>\n",
       "      <td>NaN</td>\n",
       "      <td>NaN</td>\n",
       "      <td>NaN</td>\n",
       "      <td>NaN</td>\n",
       "      <td>1.0</td>\n",
       "      <td>1.0</td>\n",
       "    </tr>\n",
       "  </tbody>\n",
       "</table>\n",
       "</div>"
      ],
      "text/plain": [
       "                     Median   Mean  Stdev    Min    Max     Q1     Q3  \\\n",
       "name                                                                    \n",
       "almond/coconut milk    0.42   0.42   0.03   0.39   0.44   0.39   0.44   \n",
       "almonds                1.54   1.74   1.25   0.51   3.77   0.76   2.33   \n",
       "anglerfish            12.29  12.29   2.63  10.43  14.15  11.36  13.22   \n",
       "apples                 0.29   0.36   0.19   0.18   0.89   0.21   0.47   \n",
       "apricots               0.43    NaN    NaN    NaN    NaN    NaN    NaN   \n",
       "\n",
       "                     No. of LCA studies  No. of GWP values  \n",
       "name                                                        \n",
       "almond/coconut milk                 1.0                4.0  \n",
       "almonds                             4.0                6.0  \n",
       "anglerfish                          2.0                2.0  \n",
       "apples                             21.0               33.0  \n",
       "apricots                            1.0                1.0  "
      ]
     },
     "execution_count": 68,
     "metadata": {},
     "output_type": "execute_result"
    }
   ],
   "source": [
    "emissions = load_emissions()\n",
    "emissions.head()"
   ]
  },
  {
   "cell_type": "markdown",
   "metadata": {},
   "source": [
    "Then we integrate the median emissions values into the `suisse` dataframe:"
   ]
  },
  {
   "cell_type": "code",
   "execution_count": 69,
   "metadata": {},
   "outputs": [
    {
     "data": {
      "text/html": [
       "<div>\n",
       "<style scoped>\n",
       "    .dataframe tbody tr th:only-of-type {\n",
       "        vertical-align: middle;\n",
       "    }\n",
       "\n",
       "    .dataframe tbody tr th {\n",
       "        vertical-align: top;\n",
       "    }\n",
       "\n",
       "    .dataframe thead th {\n",
       "        text-align: right;\n",
       "    }\n",
       "</style>\n",
       "<table border=\"1\" class=\"dataframe\">\n",
       "  <thead>\n",
       "    <tr style=\"text-align: right;\">\n",
       "      <th></th>\n",
       "      <th></th>\n",
       "      <th>exports</th>\n",
       "      <th>imports</th>\n",
       "      <th>production</th>\n",
       "      <th>domestic_consumption</th>\n",
       "      <th>imported_consumption</th>\n",
       "      <th>consumption</th>\n",
       "      <th>emissions_category</th>\n",
       "      <th>median_emissions</th>\n",
       "    </tr>\n",
       "    <tr>\n",
       "      <th>type</th>\n",
       "      <th>subtype</th>\n",
       "      <th></th>\n",
       "      <th></th>\n",
       "      <th></th>\n",
       "      <th></th>\n",
       "      <th></th>\n",
       "      <th></th>\n",
       "      <th></th>\n",
       "      <th></th>\n",
       "    </tr>\n",
       "  </thead>\n",
       "  <tbody>\n",
       "    <tr>\n",
       "      <td rowspan=\"5\" valign=\"top\">animal_products</td>\n",
       "      <td>butter</td>\n",
       "      <td>2085954.0</td>\n",
       "      <td>155312.0</td>\n",
       "      <td>48436000.0</td>\n",
       "      <td>46350046.0</td>\n",
       "      <td>155312.0</td>\n",
       "      <td>46505358.0</td>\n",
       "      <td>butter</td>\n",
       "      <td>9.25</td>\n",
       "    </tr>\n",
       "    <tr>\n",
       "      <td>cheese</td>\n",
       "      <td>67285451.0</td>\n",
       "      <td>60637898.0</td>\n",
       "      <td>206336000.0</td>\n",
       "      <td>139050549.0</td>\n",
       "      <td>60637898.0</td>\n",
       "      <td>199688447.0</td>\n",
       "      <td>cheese</td>\n",
       "      <td>8.55</td>\n",
       "    </tr>\n",
       "    <tr>\n",
       "      <td>whey</td>\n",
       "      <td>77624196.0</td>\n",
       "      <td>8145149.0</td>\n",
       "      <td>63000000.0</td>\n",
       "      <td>0.0</td>\n",
       "      <td>0.0</td>\n",
       "      <td>0.0</td>\n",
       "      <td>cheese</td>\n",
       "      <td>8.55</td>\n",
       "    </tr>\n",
       "    <tr>\n",
       "      <td>eggs</td>\n",
       "      <td>442894.0</td>\n",
       "      <td>36298734.0</td>\n",
       "      <td>57635000.0</td>\n",
       "      <td>57192106.0</td>\n",
       "      <td>36298734.0</td>\n",
       "      <td>93490840.0</td>\n",
       "      <td>eggs</td>\n",
       "      <td>3.46</td>\n",
       "    </tr>\n",
       "    <tr>\n",
       "      <td>honey</td>\n",
       "      <td>685704.0</td>\n",
       "      <td>8191947.0</td>\n",
       "      <td>3084000.0</td>\n",
       "      <td>2398296.0</td>\n",
       "      <td>8191947.0</td>\n",
       "      <td>10590243.0</td>\n",
       "      <td>honey</td>\n",
       "      <td>0.00</td>\n",
       "    </tr>\n",
       "  </tbody>\n",
       "</table>\n",
       "</div>"
      ],
      "text/plain": [
       "                            exports     imports   production  \\\n",
       "type            subtype                                        \n",
       "animal_products butter    2085954.0    155312.0   48436000.0   \n",
       "                cheese   67285451.0  60637898.0  206336000.0   \n",
       "                whey     77624196.0   8145149.0   63000000.0   \n",
       "                eggs       442894.0  36298734.0   57635000.0   \n",
       "                honey      685704.0   8191947.0    3084000.0   \n",
       "\n",
       "                         domestic_consumption  imported_consumption  \\\n",
       "type            subtype                                               \n",
       "animal_products butter             46350046.0              155312.0   \n",
       "                cheese            139050549.0            60637898.0   \n",
       "                whey                      0.0                   0.0   \n",
       "                eggs               57192106.0            36298734.0   \n",
       "                honey               2398296.0             8191947.0   \n",
       "\n",
       "                         consumption emissions_category  median_emissions  \n",
       "type            subtype                                                    \n",
       "animal_products butter    46505358.0             butter              9.25  \n",
       "                cheese   199688447.0             cheese              8.55  \n",
       "                whey             0.0             cheese              8.55  \n",
       "                eggs      93490840.0               eggs              3.46  \n",
       "                honey     10590243.0              honey              0.00  "
      ]
     },
     "execution_count": 69,
     "metadata": {},
     "output_type": "execute_result"
    }
   ],
   "source": [
    "suisse = add_emissions_data(suisse, emissions)\n",
    "suisse.head()"
   ]
  },
  {
   "cell_type": "markdown",
   "metadata": {},
   "source": [
    "<p style=\"font-size: 12px\"><strong>Note:</strong> The emissions categories available were less comprehensive than the FAO/Impex categories. The items lacking emissions values were estimated using the closest available emissions category. For a full list, please see the last 15 lines of <a href=\"https://drive.google.com/open?id=1KDBiuJ4la_vW3X2_KnD18IQFb00Qoh6B\">this file</a>.</p>\n",
    "\n",
    "So, assuming that domestic transport is negligible, we can estimate the equivalent CO$_2$ emissions for each product type, using the global average values."
   ]
  },
  {
   "cell_type": "code",
   "execution_count": 70,
   "metadata": {},
   "outputs": [
    {
     "data": {
      "text/html": [
       "<div>\n",
       "<style scoped>\n",
       "    .dataframe tbody tr th:only-of-type {\n",
       "        vertical-align: middle;\n",
       "    }\n",
       "\n",
       "    .dataframe tbody tr th {\n",
       "        vertical-align: top;\n",
       "    }\n",
       "\n",
       "    .dataframe thead th {\n",
       "        text-align: right;\n",
       "    }\n",
       "</style>\n",
       "<table border=\"1\" class=\"dataframe\">\n",
       "  <thead>\n",
       "    <tr style=\"text-align: right;\">\n",
       "      <th></th>\n",
       "      <th></th>\n",
       "      <th>exports</th>\n",
       "      <th>imports</th>\n",
       "      <th>production</th>\n",
       "      <th>domestic_consumption</th>\n",
       "      <th>imported_consumption</th>\n",
       "      <th>consumption</th>\n",
       "      <th>emissions_category</th>\n",
       "      <th>median_emissions</th>\n",
       "      <th>emissions_sans_transport</th>\n",
       "    </tr>\n",
       "    <tr>\n",
       "      <th>type</th>\n",
       "      <th>subtype</th>\n",
       "      <th></th>\n",
       "      <th></th>\n",
       "      <th></th>\n",
       "      <th></th>\n",
       "      <th></th>\n",
       "      <th></th>\n",
       "      <th></th>\n",
       "      <th></th>\n",
       "      <th></th>\n",
       "    </tr>\n",
       "  </thead>\n",
       "  <tbody>\n",
       "    <tr>\n",
       "      <td rowspan=\"5\" valign=\"top\">animal_products</td>\n",
       "      <td>butter</td>\n",
       "      <td>2085954.0</td>\n",
       "      <td>155312.0</td>\n",
       "      <td>48436000.0</td>\n",
       "      <td>46350046.0</td>\n",
       "      <td>155312.0</td>\n",
       "      <td>46505358.0</td>\n",
       "      <td>butter</td>\n",
       "      <td>9.25</td>\n",
       "      <td>4.301746e+08</td>\n",
       "    </tr>\n",
       "    <tr>\n",
       "      <td>cheese</td>\n",
       "      <td>67285451.0</td>\n",
       "      <td>60637898.0</td>\n",
       "      <td>206336000.0</td>\n",
       "      <td>139050549.0</td>\n",
       "      <td>60637898.0</td>\n",
       "      <td>199688447.0</td>\n",
       "      <td>cheese</td>\n",
       "      <td>8.55</td>\n",
       "      <td>1.707336e+09</td>\n",
       "    </tr>\n",
       "    <tr>\n",
       "      <td>whey</td>\n",
       "      <td>77624196.0</td>\n",
       "      <td>8145149.0</td>\n",
       "      <td>63000000.0</td>\n",
       "      <td>0.0</td>\n",
       "      <td>0.0</td>\n",
       "      <td>0.0</td>\n",
       "      <td>cheese</td>\n",
       "      <td>8.55</td>\n",
       "      <td>0.000000e+00</td>\n",
       "    </tr>\n",
       "    <tr>\n",
       "      <td>eggs</td>\n",
       "      <td>442894.0</td>\n",
       "      <td>36298734.0</td>\n",
       "      <td>57635000.0</td>\n",
       "      <td>57192106.0</td>\n",
       "      <td>36298734.0</td>\n",
       "      <td>93490840.0</td>\n",
       "      <td>eggs</td>\n",
       "      <td>3.46</td>\n",
       "      <td>3.234783e+08</td>\n",
       "    </tr>\n",
       "    <tr>\n",
       "      <td>honey</td>\n",
       "      <td>685704.0</td>\n",
       "      <td>8191947.0</td>\n",
       "      <td>3084000.0</td>\n",
       "      <td>2398296.0</td>\n",
       "      <td>8191947.0</td>\n",
       "      <td>10590243.0</td>\n",
       "      <td>honey</td>\n",
       "      <td>0.00</td>\n",
       "      <td>0.000000e+00</td>\n",
       "    </tr>\n",
       "  </tbody>\n",
       "</table>\n",
       "</div>"
      ],
      "text/plain": [
       "                            exports     imports   production  \\\n",
       "type            subtype                                        \n",
       "animal_products butter    2085954.0    155312.0   48436000.0   \n",
       "                cheese   67285451.0  60637898.0  206336000.0   \n",
       "                whey     77624196.0   8145149.0   63000000.0   \n",
       "                eggs       442894.0  36298734.0   57635000.0   \n",
       "                honey      685704.0   8191947.0    3084000.0   \n",
       "\n",
       "                         domestic_consumption  imported_consumption  \\\n",
       "type            subtype                                               \n",
       "animal_products butter             46350046.0              155312.0   \n",
       "                cheese            139050549.0            60637898.0   \n",
       "                whey                      0.0                   0.0   \n",
       "                eggs               57192106.0            36298734.0   \n",
       "                honey               2398296.0             8191947.0   \n",
       "\n",
       "                         consumption emissions_category  median_emissions  \\\n",
       "type            subtype                                                     \n",
       "animal_products butter    46505358.0             butter              9.25   \n",
       "                cheese   199688447.0             cheese              8.55   \n",
       "                whey             0.0             cheese              8.55   \n",
       "                eggs      93490840.0               eggs              3.46   \n",
       "                honey     10590243.0              honey              0.00   \n",
       "\n",
       "                         emissions_sans_transport  \n",
       "type            subtype                            \n",
       "animal_products butter               4.301746e+08  \n",
       "                cheese               1.707336e+09  \n",
       "                whey                 0.000000e+00  \n",
       "                eggs                 3.234783e+08  \n",
       "                honey                0.000000e+00  "
      ]
     },
     "execution_count": 70,
     "metadata": {},
     "output_type": "execute_result"
    }
   ],
   "source": [
    "# calculate the emissions (resulting from production of the products)\n",
    "suisse = production_emissions(suisse)\n",
    "suisse.head()"
   ]
  },
  {
   "cell_type": "markdown",
   "metadata": {},
   "source": [
    "The final column, `emissions_sans_transport`, shows the total CO$_2$ equivalent (kg) that would be produced if everything that was consumed in Switzerland was domestically produced, i.e. no transport emissions were considered and Swiss-specific CO$_2$ emissions were used for meat and cereal production. Evidently, it is not possible to produce everything that a current consumer buys locally, so in the following analysis we will consider the effect that these imported products and 'food miles' have on the CO$_2$ emissions resulting from Swiss consumption. "
   ]
  },
  {
   "cell_type": "markdown",
   "metadata": {},
   "source": [
    "*Transportation*\n",
    "\n",
    "Let's load the distances between Switzerland and other countries. To prepare for an augmentation of our analysis later on, we will also load distances to the Netherlands."
   ]
  },
  {
   "cell_type": "code",
   "execution_count": 71,
   "metadata": {},
   "outputs": [
    {
     "data": {
      "text/html": [
       "<div>\n",
       "<style scoped>\n",
       "    .dataframe tbody tr th:only-of-type {\n",
       "        vertical-align: middle;\n",
       "    }\n",
       "\n",
       "    .dataframe tbody tr th {\n",
       "        vertical-align: top;\n",
       "    }\n",
       "\n",
       "    .dataframe thead th {\n",
       "        text-align: right;\n",
       "    }\n",
       "</style>\n",
       "<table border=\"1\" class=\"dataframe\">\n",
       "  <thead>\n",
       "    <tr style=\"text-align: right;\">\n",
       "      <th></th>\n",
       "      <th>coord</th>\n",
       "      <th>distance_CH</th>\n",
       "      <th>distance_NL</th>\n",
       "    </tr>\n",
       "    <tr>\n",
       "      <th>country</th>\n",
       "      <th></th>\n",
       "      <th></th>\n",
       "      <th></th>\n",
       "    </tr>\n",
       "  </thead>\n",
       "  <tbody>\n",
       "    <tr>\n",
       "      <td>Algeria</td>\n",
       "      <td>[28.0000272, 2.9999825]</td>\n",
       "      <td>2136.0</td>\n",
       "      <td>2659.0</td>\n",
       "    </tr>\n",
       "    <tr>\n",
       "      <td>Canary Islands</td>\n",
       "      <td>[28.2935785, -16.6214471211441]</td>\n",
       "      <td>2983.0</td>\n",
       "      <td>3155.0</td>\n",
       "    </tr>\n",
       "    <tr>\n",
       "      <td>Ceuta</td>\n",
       "      <td>[35.888361, -5.304138]</td>\n",
       "      <td>1654.0</td>\n",
       "      <td>1943.0</td>\n",
       "    </tr>\n",
       "    <tr>\n",
       "      <td>Ceuta/Melilla</td>\n",
       "      <td>[36.7137977, -4.272712]</td>\n",
       "      <td>1525.0</td>\n",
       "      <td>1825.0</td>\n",
       "    </tr>\n",
       "    <tr>\n",
       "      <td>Egypt</td>\n",
       "      <td>[26.2540493, 29.2675469]</td>\n",
       "      <td>2938.0</td>\n",
       "      <td>3531.0</td>\n",
       "    </tr>\n",
       "  </tbody>\n",
       "</table>\n",
       "</div>"
      ],
      "text/plain": [
       "                                          coord  distance_CH  distance_NL\n",
       "country                                                                  \n",
       "Algeria                 [28.0000272, 2.9999825]       2136.0       2659.0\n",
       "Canary Islands  [28.2935785, -16.6214471211441]       2983.0       3155.0\n",
       "Ceuta                    [35.888361, -5.304138]       1654.0       1943.0\n",
       "Ceuta/Melilla           [36.7137977, -4.272712]       1525.0       1825.0\n",
       "Egypt                  [26.2540493, 29.2675469]       2938.0       3531.0"
      ]
     },
     "execution_count": 71,
     "metadata": {},
     "output_type": "execute_result"
    }
   ],
   "source": [
    "try:\n",
    "    countries = pd.read_pickle(\"countries.pkl\")\n",
    "except:\n",
    "    countries = country_distances()\n",
    "\n",
    "countries.head()"
   ]
  },
  {
   "cell_type": "markdown",
   "metadata": {},
   "source": [
    "Next, we load data about transports of imported products from the Impex:"
   ]
  },
  {
   "cell_type": "code",
   "execution_count": 81,
   "metadata": {},
   "outputs": [
    {
     "data": {
      "text/html": [
       "<div>\n",
       "<style scoped>\n",
       "    .dataframe tbody tr th:only-of-type {\n",
       "        vertical-align: middle;\n",
       "    }\n",
       "\n",
       "    .dataframe tbody tr th {\n",
       "        vertical-align: top;\n",
       "    }\n",
       "\n",
       "    .dataframe thead th {\n",
       "        text-align: right;\n",
       "    }\n",
       "</style>\n",
       "<table border=\"1\" class=\"dataframe\">\n",
       "  <thead>\n",
       "    <tr style=\"text-align: right;\">\n",
       "      <th></th>\n",
       "      <th>food_type</th>\n",
       "      <th>cereals</th>\n",
       "      <th>potatoes</th>\n",
       "      <th>other_fresh_fruits_vegetables</th>\n",
       "      <th>fish</th>\n",
       "      <th>meat</th>\n",
       "      <th>dairy_products</th>\n",
       "    </tr>\n",
       "    <tr>\n",
       "      <th>commercial_partner</th>\n",
       "      <th>mode_of_transport</th>\n",
       "      <th></th>\n",
       "      <th></th>\n",
       "      <th></th>\n",
       "      <th></th>\n",
       "      <th></th>\n",
       "      <th></th>\n",
       "    </tr>\n",
       "  </thead>\n",
       "  <tbody>\n",
       "    <tr>\n",
       "      <td>Zambia</td>\n",
       "      <td>total</td>\n",
       "      <td>0.0</td>\n",
       "      <td>0.0</td>\n",
       "      <td>208.0</td>\n",
       "      <td>0.0</td>\n",
       "      <td>0.0</td>\n",
       "      <td>0.0</td>\n",
       "    </tr>\n",
       "    <tr>\n",
       "      <td rowspan=\"4\" valign=\"top\">Zimbabwe</td>\n",
       "      <td>Air traffic</td>\n",
       "      <td>145.0</td>\n",
       "      <td>0.0</td>\n",
       "      <td>10407.0</td>\n",
       "      <td>0.0</td>\n",
       "      <td>0.0</td>\n",
       "      <td>0.0</td>\n",
       "    </tr>\n",
       "    <tr>\n",
       "      <td>Inland waterways</td>\n",
       "      <td>0.0</td>\n",
       "      <td>0.0</td>\n",
       "      <td>0.0</td>\n",
       "      <td>0.0</td>\n",
       "      <td>0.0</td>\n",
       "      <td>0.0</td>\n",
       "    </tr>\n",
       "    <tr>\n",
       "      <td>Road traffic</td>\n",
       "      <td>0.0</td>\n",
       "      <td>0.0</td>\n",
       "      <td>178448.0</td>\n",
       "      <td>0.0</td>\n",
       "      <td>578.0</td>\n",
       "      <td>0.0</td>\n",
       "    </tr>\n",
       "    <tr>\n",
       "      <td>total</td>\n",
       "      <td>145.0</td>\n",
       "      <td>0.0</td>\n",
       "      <td>188855.0</td>\n",
       "      <td>0.0</td>\n",
       "      <td>578.0</td>\n",
       "      <td>0.0</td>\n",
       "    </tr>\n",
       "    <tr>\n",
       "      <td rowspan=\"5\" valign=\"top\">total</td>\n",
       "      <td>Air traffic</td>\n",
       "      <td>15007.0</td>\n",
       "      <td>10.0</td>\n",
       "      <td>8955957.0</td>\n",
       "      <td>813671.0</td>\n",
       "      <td>4476877.0</td>\n",
       "      <td>56453.0</td>\n",
       "    </tr>\n",
       "    <tr>\n",
       "      <td>Inland waterways</td>\n",
       "      <td>86109369.0</td>\n",
       "      <td>0.0</td>\n",
       "      <td>4241550.0</td>\n",
       "      <td>82829.0</td>\n",
       "      <td>597599.0</td>\n",
       "      <td>4256.0</td>\n",
       "    </tr>\n",
       "    <tr>\n",
       "      <td>Rail traffic</td>\n",
       "      <td>108157836.0</td>\n",
       "      <td>5.0</td>\n",
       "      <td>19303446.0</td>\n",
       "      <td>11525.0</td>\n",
       "      <td>5869676.0</td>\n",
       "      <td>5360330.0</td>\n",
       "    </tr>\n",
       "    <tr>\n",
       "      <td>Road traffic</td>\n",
       "      <td>98237354.0</td>\n",
       "      <td>57721581.0</td>\n",
       "      <td>763220093.0</td>\n",
       "      <td>13125918.0</td>\n",
       "      <td>130663048.0</td>\n",
       "      <td>124257694.0</td>\n",
       "    </tr>\n",
       "    <tr>\n",
       "      <td>total</td>\n",
       "      <td>292519566.0</td>\n",
       "      <td>57721596.0</td>\n",
       "      <td>795721046.0</td>\n",
       "      <td>14033943.0</td>\n",
       "      <td>141607200.0</td>\n",
       "      <td>129678733.0</td>\n",
       "    </tr>\n",
       "  </tbody>\n",
       "</table>\n",
       "</div>"
      ],
      "text/plain": [
       "food_type                                 cereals    potatoes  \\\n",
       "commercial_partner mode_of_transport                            \n",
       "Zambia             total                      0.0         0.0   \n",
       "Zimbabwe           Air traffic              145.0         0.0   \n",
       "                   Inland waterways           0.0         0.0   \n",
       "                   Road traffic               0.0         0.0   \n",
       "                   total                    145.0         0.0   \n",
       "total              Air traffic            15007.0        10.0   \n",
       "                   Inland waterways    86109369.0         0.0   \n",
       "                   Rail traffic       108157836.0         5.0   \n",
       "                   Road traffic        98237354.0  57721581.0   \n",
       "                   total              292519566.0  57721596.0   \n",
       "\n",
       "food_type                             other_fresh_fruits_vegetables  \\\n",
       "commercial_partner mode_of_transport                                  \n",
       "Zambia             total                                      208.0   \n",
       "Zimbabwe           Air traffic                              10407.0   \n",
       "                   Inland waterways                             0.0   \n",
       "                   Road traffic                            178448.0   \n",
       "                   total                                   188855.0   \n",
       "total              Air traffic                            8955957.0   \n",
       "                   Inland waterways                       4241550.0   \n",
       "                   Rail traffic                          19303446.0   \n",
       "                   Road traffic                         763220093.0   \n",
       "                   total                                795721046.0   \n",
       "\n",
       "food_type                                   fish         meat  dairy_products  \n",
       "commercial_partner mode_of_transport                                           \n",
       "Zambia             total                     0.0          0.0             0.0  \n",
       "Zimbabwe           Air traffic               0.0          0.0             0.0  \n",
       "                   Inland waterways          0.0          0.0             0.0  \n",
       "                   Road traffic              0.0        578.0             0.0  \n",
       "                   total                     0.0        578.0             0.0  \n",
       "total              Air traffic          813671.0    4476877.0         56453.0  \n",
       "                   Inland waterways      82829.0     597599.0          4256.0  \n",
       "                   Rail traffic          11525.0    5869676.0       5360330.0  \n",
       "                   Road traffic       13125918.0  130663048.0     124257694.0  \n",
       "                   total              14033943.0  141607200.0     129678733.0  "
      ]
     },
     "execution_count": 81,
     "metadata": {},
     "output_type": "execute_result"
    }
   ],
   "source": [
    "transport = load_impex_transport()\n",
    "transport.tail(10)"
   ]
  },
  {
   "cell_type": "markdown",
   "metadata": {},
   "source": [
    "We remove the totals for each country and store in a separate dataframe:"
   ]
  },
  {
   "cell_type": "code",
   "execution_count": 82,
   "metadata": {},
   "outputs": [],
   "source": [
    "transport_total = transport.xs(\"total\", level=1)\n",
    "transport = transport.drop(index=\"total\", level=1)"
   ]
  },
  {
   "cell_type": "markdown",
   "metadata": {},
   "source": [
    "Next, we calculate the fractions for each food group transported by each method of transport:"
   ]
  },
  {
   "cell_type": "code",
   "execution_count": 83,
   "metadata": {},
   "outputs": [
    {
     "data": {
      "text/html": [
       "<div>\n",
       "<style scoped>\n",
       "    .dataframe tbody tr th:only-of-type {\n",
       "        vertical-align: middle;\n",
       "    }\n",
       "\n",
       "    .dataframe tbody tr th {\n",
       "        vertical-align: top;\n",
       "    }\n",
       "\n",
       "    .dataframe thead th {\n",
       "        text-align: right;\n",
       "    }\n",
       "</style>\n",
       "<table border=\"1\" class=\"dataframe\">\n",
       "  <thead>\n",
       "    <tr style=\"text-align: right;\">\n",
       "      <th></th>\n",
       "      <th>food_type</th>\n",
       "      <th>cereals</th>\n",
       "      <th>potatoes</th>\n",
       "      <th>other_fresh_fruits_vegetables</th>\n",
       "      <th>fish</th>\n",
       "      <th>meat</th>\n",
       "      <th>dairy_products</th>\n",
       "    </tr>\n",
       "    <tr>\n",
       "      <th>commercial_partner</th>\n",
       "      <th>mode_of_transport</th>\n",
       "      <th></th>\n",
       "      <th></th>\n",
       "      <th></th>\n",
       "      <th></th>\n",
       "      <th></th>\n",
       "      <th></th>\n",
       "    </tr>\n",
       "  </thead>\n",
       "  <tbody>\n",
       "    <tr>\n",
       "      <td>Afghanistan</td>\n",
       "      <td>Road traffic</td>\n",
       "      <td>0.000000</td>\n",
       "      <td>0.0</td>\n",
       "      <td>0.000000</td>\n",
       "      <td>0.0</td>\n",
       "      <td>0.000000</td>\n",
       "      <td>0.0</td>\n",
       "    </tr>\n",
       "    <tr>\n",
       "      <td rowspan=\"2\" valign=\"top\">Albania</td>\n",
       "      <td>Air traffic</td>\n",
       "      <td>0.000000</td>\n",
       "      <td>0.0</td>\n",
       "      <td>0.039066</td>\n",
       "      <td>0.0</td>\n",
       "      <td>0.000000</td>\n",
       "      <td>0.0</td>\n",
       "    </tr>\n",
       "    <tr>\n",
       "      <td>Road traffic</td>\n",
       "      <td>0.000000</td>\n",
       "      <td>0.0</td>\n",
       "      <td>0.960934</td>\n",
       "      <td>0.0</td>\n",
       "      <td>0.000000</td>\n",
       "      <td>0.0</td>\n",
       "    </tr>\n",
       "    <tr>\n",
       "      <td rowspan=\"3\" valign=\"top\">Algeria</td>\n",
       "      <td>Air traffic</td>\n",
       "      <td>0.000000</td>\n",
       "      <td>0.0</td>\n",
       "      <td>0.137731</td>\n",
       "      <td>0.0</td>\n",
       "      <td>0.000000</td>\n",
       "      <td>0.0</td>\n",
       "    </tr>\n",
       "    <tr>\n",
       "      <td>Rail traffic</td>\n",
       "      <td>0.000000</td>\n",
       "      <td>0.0</td>\n",
       "      <td>0.000000</td>\n",
       "      <td>0.0</td>\n",
       "      <td>0.000000</td>\n",
       "      <td>0.0</td>\n",
       "    </tr>\n",
       "    <tr>\n",
       "      <td>Road traffic</td>\n",
       "      <td>1.000000</td>\n",
       "      <td>0.0</td>\n",
       "      <td>0.862269</td>\n",
       "      <td>0.0</td>\n",
       "      <td>0.000000</td>\n",
       "      <td>0.0</td>\n",
       "    </tr>\n",
       "    <tr>\n",
       "      <td>Andorra</td>\n",
       "      <td>Road traffic</td>\n",
       "      <td>0.000000</td>\n",
       "      <td>1.0</td>\n",
       "      <td>0.000000</td>\n",
       "      <td>0.0</td>\n",
       "      <td>0.000000</td>\n",
       "      <td>0.0</td>\n",
       "    </tr>\n",
       "    <tr>\n",
       "      <td>Antigua</td>\n",
       "      <td>Road traffic</td>\n",
       "      <td>0.000000</td>\n",
       "      <td>0.0</td>\n",
       "      <td>1.000000</td>\n",
       "      <td>0.0</td>\n",
       "      <td>0.000000</td>\n",
       "      <td>0.0</td>\n",
       "    </tr>\n",
       "    <tr>\n",
       "      <td rowspan=\"2\" valign=\"top\">Argentina</td>\n",
       "      <td>Air traffic</td>\n",
       "      <td>0.000000</td>\n",
       "      <td>0.0</td>\n",
       "      <td>0.025398</td>\n",
       "      <td>0.0</td>\n",
       "      <td>0.162222</td>\n",
       "      <td>1.0</td>\n",
       "    </tr>\n",
       "    <tr>\n",
       "      <td>Inland waterways</td>\n",
       "      <td>0.394078</td>\n",
       "      <td>0.0</td>\n",
       "      <td>0.003021</td>\n",
       "      <td>0.0</td>\n",
       "      <td>0.000000</td>\n",
       "      <td>0.0</td>\n",
       "    </tr>\n",
       "  </tbody>\n",
       "</table>\n",
       "</div>"
      ],
      "text/plain": [
       "food_type                              cereals  potatoes  \\\n",
       "commercial_partner mode_of_transport                       \n",
       "Afghanistan        Road traffic       0.000000       0.0   \n",
       "Albania            Air traffic        0.000000       0.0   \n",
       "                   Road traffic       0.000000       0.0   \n",
       "Algeria            Air traffic        0.000000       0.0   \n",
       "                   Rail traffic       0.000000       0.0   \n",
       "                   Road traffic       1.000000       0.0   \n",
       "Andorra            Road traffic       0.000000       1.0   \n",
       "Antigua            Road traffic       0.000000       0.0   \n",
       "Argentina          Air traffic        0.000000       0.0   \n",
       "                   Inland waterways   0.394078       0.0   \n",
       "\n",
       "food_type                             other_fresh_fruits_vegetables  fish  \\\n",
       "commercial_partner mode_of_transport                                        \n",
       "Afghanistan        Road traffic                            0.000000   0.0   \n",
       "Albania            Air traffic                             0.039066   0.0   \n",
       "                   Road traffic                            0.960934   0.0   \n",
       "Algeria            Air traffic                             0.137731   0.0   \n",
       "                   Rail traffic                            0.000000   0.0   \n",
       "                   Road traffic                            0.862269   0.0   \n",
       "Andorra            Road traffic                            0.000000   0.0   \n",
       "Antigua            Road traffic                            1.000000   0.0   \n",
       "Argentina          Air traffic                             0.025398   0.0   \n",
       "                   Inland waterways                        0.003021   0.0   \n",
       "\n",
       "food_type                                 meat  dairy_products  \n",
       "commercial_partner mode_of_transport                            \n",
       "Afghanistan        Road traffic       0.000000             0.0  \n",
       "Albania            Air traffic        0.000000             0.0  \n",
       "                   Road traffic       0.000000             0.0  \n",
       "Algeria            Air traffic        0.000000             0.0  \n",
       "                   Rail traffic       0.000000             0.0  \n",
       "                   Road traffic       0.000000             0.0  \n",
       "Andorra            Road traffic       0.000000             0.0  \n",
       "Antigua            Road traffic       0.000000             0.0  \n",
       "Argentina          Air traffic        0.162222             1.0  \n",
       "                   Inland waterways   0.000000             0.0  "
      ]
     },
     "execution_count": 83,
     "metadata": {},
     "output_type": "execute_result"
    }
   ],
   "source": [
    "np.seterr(\"ignore\")  # ignore divisions by 0 (when the total imports is 0)\n",
    "transport[\n",
    "    [\n",
    "        \"cereals\",\n",
    "        \"potatoes\",\n",
    "        \"other_fresh_fruits_vegetables\",\n",
    "        \"fish\",\n",
    "        \"meat\",\n",
    "        \"dairy_products\",\n",
    "    ]\n",
    "] = transport.apply(calculate_percent_by_method, args=(transport_total,), axis=1)\n",
    "\n",
    "transport.head(10)"
   ]
  },
  {
   "cell_type": "markdown",
   "metadata": {},
   "source": [
    "# TODO SOME TEXT ABOUT THE BELOW IMAGE"
   ]
  },
  {
   "cell_type": "markdown",
   "metadata": {},
   "source": [
    "<img width=\"400\" height=\"400\" src=\"https://icmattermost.epfl.ch/files/5zr1jyriupfsfgmr4dtg155ssw/public?h=_GPk0xYK1I16gWsY3GuIsrFC5bTb3Ioh4_W3h3oYDs8\">"
   ]
  },
  {
   "cell_type": "code",
   "execution_count": null,
   "metadata": {},
   "outputs": [],
   "source": [
    "# divide all the values by 1000 to convert to kg CO2e / kg km\n",
    "transportCO2 = {\n",
    "    \"Air traffic\": 0.000733,\n",
    "    \"Rail traffic\": 0.000037,\n",
    "    \"Road traffic\": 0.000303,\n",
    "    \"Inland waterways\": 0.000019,\n",
    "}"
   ]
  },
  {
   "cell_type": "markdown",
   "metadata": {},
   "source": [
    "***\n",
    "**Data analysis and visualization**\n",
    "***"
   ]
  },
  {
   "cell_type": "markdown",
   "metadata": {},
   "source": [
    "*Imports and Exports per meta food type*"
   ]
  },
  {
   "cell_type": "code",
   "execution_count": 87,
   "metadata": {
    "scrolled": true
   },
   "outputs": [],
   "source": [
    "# 1. Group by meta-type\n",
    "# 2. Sum the totals\n",
    "# 3. Unstack the columns to create a Series\n",
    "impex_total_metatype = impex_total.groupby(\"type\").sum().unstack()"
   ]
  },
  {
   "cell_type": "code",
   "execution_count": 88,
   "metadata": {},
   "outputs": [
    {
     "data": {
      "image/png": "[encoded data removed]",
      "text/plain": [
       "<Figure size 864x288 with 1 Axes>"
      ]
     },
     "metadata": {
      "needs_background": "light"
     },
     "output_type": "display_data"
    }
   ],
   "source": [
    "plt.figure(figsize=(12, 4))\n",
    "ax = sns.barplot(\n",
    "    x=impex_total_metatype.index.get_level_values(\"type\"),\n",
    "    y=impex_total_metatype.values / 1000,  # kg --> tonnes\n",
    "    hue=impex_total_metatype.index.get_level_values(\"indicator\"),\n",
    ")\n",
    "\n",
    "plt.xticks(fontsize=15)\n",
    "plt.yticks(fontsize=13)\n",
    "plt.xlabel('commodity', fontsize=18)\n",
    "plt.ylabel('quantity (tonnes)', fontsize=18)\n",
    "plt.title('Total imports vs. exports', fontsize=20)\n",
    "\n",
    "sns.despine()\n",
    "# plt.savefig(\"../docs/img/total_imports_vs_exports.jpg\", dpi=100, bbox_inches='tight')"
   ]
  },
  {
   "cell_type": "markdown",
   "metadata": {},
   "source": [
    "Switzerland imports many more fruits, vegetables and meats than it exports. The `animal_products` category is interesting, because import and export quantities are about equal. What would make the most sense is if Switzerland imports different animal products than it exports (rather than the same products being both imported and exported). Let's test this theory by looking at imports and exports for the subcategories of `animal_products`:"
   ]
  },
  {
   "cell_type": "code",
   "execution_count": 89,
   "metadata": {},
   "outputs": [],
   "source": [
    "impex_total_animal_prods = (\n",
    "    impex_total.loc[\"animal_products\"]\n",
    "    .groupby(\"subtype\")\n",
    "    .sum()\n",
    "    .unstack()\n",
    ")"
   ]
  },
  {
   "cell_type": "code",
   "execution_count": 90,
   "metadata": {},
   "outputs": [
    {
     "data": {
      "image/png": "[encoded data removed]",
      "text/plain": [
       "<Figure size 864x288 with 1 Axes>"
      ]
     },
     "metadata": {
      "needs_background": "light"
     },
     "output_type": "display_data"
    }
   ],
   "source": [
    "plt.figure(figsize=(12, 4))\n",
    "ax = sns.barplot(\n",
    "    x=impex_total_animal_prods.index.get_level_values(\"subtype\"),\n",
    "    y=impex_total_animal_prods.values / 1000,  # kg --> tonnes\n",
    "    hue=impex_total_animal_prods.index.get_level_values(\"indicator\"),\n",
    ")\n",
    "\n",
    "plt.xticks(fontsize=15)\n",
    "plt.yticks(fontsize=13)\n",
    "plt.xlabel('commodity', fontsize=18)\n",
    "plt.ylabel('quantity (tonnes)', fontsize=18)\n",
    "plt.title('Imports vs. exports of animal products', fontsize=20)\n",
    "\n",
    "sns.despine()\n",
    "# plt.savefig(\"../docs/img/imports_vs_exports_animal_products.jpg\", dpi=100, bbox_inches='tight')"
   ]
  },
  {
   "cell_type": "markdown",
   "metadata": {},
   "source": [
    "This graph brings more light to the topic. Cheese, a category of which there are many different flavors and consumers like variety, is both heavily imported and exported, likely giving consumers access to a wider variety of cheese types. Eggs, on the other hand, are nearly exclusively imported, while whey is mostly exported.\n",
    "\n",
    "The butter category of this graph is a good transition to the continuation of the analysis; just because butter is hardly imported nor exported does not mean the Swiss do not eat butter! Rather, imports and exports are only part of the broader picture since domestic production is another important consideration. One possible hypothesis for why butter is neither imported nor exported in large quantities is because domestic production is nearly equal to domestic consumption."
   ]
  },
  {
   "cell_type": "markdown",
   "metadata": {},
   "source": [
    "*Swiss Consumption*"
   ]
  },
  {
   "cell_type": "code",
   "execution_count": null,
   "metadata": {},
   "outputs": [],
   "source": [
    "consumption = suisse.copy()\n",
    "consumption = consumption[[\"domestic_consumption\", \"imported_consumption\", \"consumption\"]]"
   ]
  },
  {
   "cell_type": "code",
   "execution_count": null,
   "metadata": {},
   "outputs": [],
   "source": [
    "# Compute ratio of domestic vs. imported consumption per metatype\n",
    "consumption_by_type = consumption.groupby(\"type\").sum()\n",
    "consumption_by_type[\"domestic_consumption\"] = 100 * (\n",
    "    consumption_by_type.domestic_consumption / consumption_by_type.consumption\n",
    ")\n",
    "consumption_by_type[\"imported_consumption\"] = 100 * (\n",
    "    consumption_by_type.imported_consumption / consumption_by_type.consumption\n",
    ")\n",
    "consumption_by_type.drop(\"consumption\", axis=1, inplace=True)\n",
    "consumption_by_type = consumption_by_type.reindex(\n",
    "    [\"fruits\", \"vegetables\", \"cereals\", \"animal_products\", \"meat\", \"seafood\"]\n",
    ")\n",
    "consumption_by_type"
   ]
  },
  {
   "cell_type": "code",
   "execution_count": 85,
   "metadata": {},
   "outputs": [
    {
     "data": {
      "text/html": [
       "\n",
       "\n",
       "\n",
       "\n",
       "\n",
       "\n",
       "  <div class=\"bk-root\" id=\"29f7b636-498e-4f38-9c96-b3f50259d627\" data-root-id=\"1597\"></div>\n"
      ]
     },
     "metadata": {},
     "output_type": "display_data"
    },
    {
     "data": {
      "application/javascript": [
       "(function(root) {\n",
       "  function embed_document(root) {\n",
       "    \n",
       "  var docs_json = {\"a06247ab-25cd-4d5a-82ea-28d352c13b51\":{\"roots\":{\"references\":[{\"attributes\":{\"below\":[{\"id\":\"1608\",\"type\":\"CategoricalAxis\"}],\"center\":[{\"id\":\"1611\",\"type\":\"Grid\"},{\"id\":\"1616\",\"type\":\"Grid\"}],\"left\":[{\"id\":\"1612\",\"type\":\"LinearAxis\"}],\"plot_height\":250,\"plot_width\":700,\"renderers\":[{\"id\":\"1634\",\"type\":\"GlyphRenderer\"},{\"id\":\"1640\",\"type\":\"GlyphRenderer\"}],\"right\":[{\"id\":\"1642\",\"type\":\"Legend\"}],\"title\":{\"id\":\"1598\",\"type\":\"Title\"},\"toolbar\":{\"id\":\"1623\",\"type\":\"Toolbar\"},\"toolbar_location\":null,\"x_range\":{\"id\":\"1600\",\"type\":\"FactorRange\"},\"x_scale\":{\"id\":\"1604\",\"type\":\"CategoricalScale\"},\"y_range\":{\"id\":\"1602\",\"type\":\"Range1d\"},\"y_scale\":{\"id\":\"1606\",\"type\":\"LinearScale\"}},\"id\":\"1597\",\"subtype\":\"Figure\",\"type\":\"Plot\"},{\"attributes\":{\"data_source\":{\"id\":\"1596\",\"type\":\"ColumnDataSource\"},\"glyph\":{\"id\":\"1638\",\"type\":\"VBar\"},\"hover_glyph\":null,\"muted_glyph\":null,\"nonselection_glyph\":{\"id\":\"1639\",\"type\":\"VBar\"},\"selection_glyph\":null,\"view\":{\"id\":\"1641\",\"type\":\"CDSView\"}},\"id\":\"1640\",\"type\":\"GlyphRenderer\"},{\"attributes\":{},\"id\":\"1656\",\"type\":\"BasicTickFormatter\"},{\"attributes\":{\"active_drag\":\"auto\",\"active_inspect\":\"auto\",\"active_multi\":null,\"active_scroll\":\"auto\",\"active_tap\":\"auto\",\"tools\":[{\"id\":\"1617\",\"type\":\"PanTool\"},{\"id\":\"1618\",\"type\":\"WheelZoomTool\"},{\"id\":\"1619\",\"type\":\"BoxZoomTool\"},{\"id\":\"1620\",\"type\":\"SaveTool\"},{\"id\":\"1621\",\"type\":\"ResetTool\"},{\"id\":\"1622\",\"type\":\"HelpTool\"}]},\"id\":\"1623\",\"type\":\"Toolbar\"},{\"attributes\":{\"fill_color\":{\"value\":\"#b7eebc\"},\"line_color\":{\"value\":\"#b7eebc\"},\"top\":{\"field\":\"domestic_consumption\"},\"width\":{\"value\":0.2},\"x\":{\"field\":\"type\",\"transform\":{\"id\":\"1630\",\"type\":\"Dodge\"}}},\"id\":\"1632\",\"type\":\"VBar\"},{\"attributes\":{},\"id\":\"1618\",\"type\":\"WheelZoomTool\"},{\"attributes\":{\"label\":{\"value\":\"domestic consumption\"},\"renderers\":[{\"id\":\"1634\",\"type\":\"GlyphRenderer\"}]},\"id\":\"1643\",\"type\":\"LegendItem\"},{\"attributes\":{},\"id\":\"1617\",\"type\":\"PanTool\"},{\"attributes\":{\"callback\":null,\"data\":{\"domestic_consumption\":{\"__ndarray__\":\"0TFSDOfaRUB/9i4Nn9ZSQB1R6nHdBFNACnvUYVtTWEDvB4/qM11VQNiCIgnGyUNA\",\"dtype\":\"float64\",\"shape\":[6]},\"imported_consumption\":{\"__ndarray__\":\"L86t8xglTEADJkTLg6U4QI27VjiK7DdAup5wxZOUBUCGwIerYBYtQCh93fY5Nk5A\",\"dtype\":\"float64\",\"shape\":[6]},\"type\":[\"fruits\",\"vegetables\",\"cereals\",\"animal_products\",\"meat\",\"seafood\"]},\"selected\":{\"id\":\"1659\",\"type\":\"Selection\"},\"selection_policy\":{\"id\":\"1660\",\"type\":\"UnionRenderers\"}},\"id\":\"1596\",\"type\":\"ColumnDataSource\"},{\"attributes\":{},\"id\":\"1660\",\"type\":\"UnionRenderers\"},{\"attributes\":{},\"id\":\"1620\",\"type\":\"SaveTool\"},{\"attributes\":{\"axis_label\":\"ratio (%)\",\"formatter\":{\"id\":\"1656\",\"type\":\"BasicTickFormatter\"},\"ticker\":{\"id\":\"1613\",\"type\":\"BasicTicker\"}},\"id\":\"1612\",\"type\":\"LinearAxis\"},{\"attributes\":{},\"id\":\"1621\",\"type\":\"ResetTool\"},{\"attributes\":{\"click_policy\":\"mute\",\"items\":[{\"id\":\"1643\",\"type\":\"LegendItem\"},{\"id\":\"1644\",\"type\":\"LegendItem\"}],\"location\":[5,0]},\"id\":\"1642\",\"type\":\"Legend\"},{\"attributes\":{},\"id\":\"1606\",\"type\":\"LinearScale\"},{\"attributes\":{},\"id\":\"1609\",\"type\":\"CategoricalTicker\"},{\"attributes\":{\"source\":{\"id\":\"1596\",\"type\":\"ColumnDataSource\"}},\"id\":\"1635\",\"type\":\"CDSView\"},{\"attributes\":{\"bottom_units\":\"screen\",\"fill_alpha\":{\"value\":0.5},\"fill_color\":{\"value\":\"lightgrey\"},\"left_units\":\"screen\",\"level\":\"overlay\",\"line_alpha\":{\"value\":1.0},\"line_color\":{\"value\":\"black\"},\"line_dash\":[4,4],\"line_width\":{\"value\":2},\"render_mode\":\"css\",\"right_units\":\"screen\",\"top_units\":\"screen\"},\"id\":\"1658\",\"type\":\"BoxAnnotation\"},{\"attributes\":{\"dimension\":1,\"ticker\":{\"id\":\"1613\",\"type\":\"BasicTicker\"}},\"id\":\"1616\",\"type\":\"Grid\"},{\"attributes\":{\"fill_alpha\":{\"value\":0.1},\"fill_color\":{\"value\":\"#1f77b4\"},\"line_alpha\":{\"value\":0.1},\"line_color\":{\"value\":\"#1f77b4\"},\"top\":{\"field\":\"domestic_consumption\"},\"width\":{\"value\":0.2},\"x\":{\"field\":\"type\",\"transform\":{\"id\":\"1630\",\"type\":\"Dodge\"}}},\"id\":\"1633\",\"type\":\"VBar\"},{\"attributes\":{\"data_source\":{\"id\":\"1596\",\"type\":\"ColumnDataSource\"},\"glyph\":{\"id\":\"1632\",\"type\":\"VBar\"},\"hover_glyph\":null,\"muted_glyph\":null,\"nonselection_glyph\":{\"id\":\"1633\",\"type\":\"VBar\"},\"selection_glyph\":null,\"view\":{\"id\":\"1635\",\"type\":\"CDSView\"}},\"id\":\"1634\",\"type\":\"GlyphRenderer\"},{\"attributes\":{},\"id\":\"1604\",\"type\":\"CategoricalScale\"},{\"attributes\":{\"fill_color\":{\"value\":\"#ca041e\"},\"line_color\":{\"value\":\"#ca041e\"},\"top\":{\"field\":\"imported_consumption\"},\"width\":{\"value\":0.2},\"x\":{\"field\":\"type\",\"transform\":{\"id\":\"1636\",\"type\":\"Dodge\"}}},\"id\":\"1638\",\"type\":\"VBar\"},{\"attributes\":{\"fill_alpha\":{\"value\":0.1},\"fill_color\":{\"value\":\"#1f77b4\"},\"line_alpha\":{\"value\":0.1},\"line_color\":{\"value\":\"#1f77b4\"},\"top\":{\"field\":\"imported_consumption\"},\"width\":{\"value\":0.2},\"x\":{\"field\":\"type\",\"transform\":{\"id\":\"1636\",\"type\":\"Dodge\"}}},\"id\":\"1639\",\"type\":\"VBar\"},{\"attributes\":{\"label\":{\"value\":\"imported consumption\"},\"renderers\":[{\"id\":\"1640\",\"type\":\"GlyphRenderer\"}]},\"id\":\"1644\",\"type\":\"LegendItem\"},{\"attributes\":{},\"id\":\"1654\",\"type\":\"CategoricalTickFormatter\"},{\"attributes\":{\"source\":{\"id\":\"1596\",\"type\":\"ColumnDataSource\"}},\"id\":\"1641\",\"type\":\"CDSView\"},{\"attributes\":{\"callback\":null,\"factors\":[\"fruits\",\"vegetables\",\"cereals\",\"animal_products\",\"meat\",\"seafood\"],\"range_padding\":0.1},\"id\":\"1600\",\"type\":\"FactorRange\"},{\"attributes\":{\"callback\":null,\"end\":100},\"id\":\"1602\",\"type\":\"Range1d\"},{\"attributes\":{},\"id\":\"1622\",\"type\":\"HelpTool\"},{\"attributes\":{},\"id\":\"1613\",\"type\":\"BasicTicker\"},{\"attributes\":{},\"id\":\"1659\",\"type\":\"Selection\"},{\"attributes\":{\"range\":{\"id\":\"1600\",\"type\":\"FactorRange\"},\"value\":0.125},\"id\":\"1636\",\"type\":\"Dodge\"},{\"attributes\":{\"range\":{\"id\":\"1600\",\"type\":\"FactorRange\"},\"value\":-0.125},\"id\":\"1630\",\"type\":\"Dodge\"},{\"attributes\":{\"overlay\":{\"id\":\"1658\",\"type\":\"BoxAnnotation\"}},\"id\":\"1619\",\"type\":\"BoxZoomTool\"},{\"attributes\":{\"formatter\":{\"id\":\"1654\",\"type\":\"CategoricalTickFormatter\"},\"ticker\":{\"id\":\"1609\",\"type\":\"CategoricalTicker\"}},\"id\":\"1608\",\"type\":\"CategoricalAxis\"},{\"attributes\":{\"grid_line_color\":null,\"ticker\":{\"id\":\"1609\",\"type\":\"CategoricalTicker\"}},\"id\":\"1611\",\"type\":\"Grid\"},{\"attributes\":{\"text\":\"Swiss Domestic vs. Imported Consumption\",\"text_color\":{\"value\":\"black\"},\"text_font_size\":{\"value\":\"12pt\"}},\"id\":\"1598\",\"type\":\"Title\"}],\"root_ids\":[\"1597\"]},\"title\":\"Bokeh Application\",\"version\":\"1.4.0\"}};\n",
       "  var render_items = [{\"docid\":\"a06247ab-25cd-4d5a-82ea-28d352c13b51\",\"roots\":{\"1597\":\"29f7b636-498e-4f38-9c96-b3f50259d627\"}}];\n",
       "  root.Bokeh.embed.embed_items_notebook(docs_json, render_items);\n",
       "\n",
       "  }\n",
       "  if (root.Bokeh !== undefined) {\n",
       "    embed_document(root);\n",
       "  } else {\n",
       "    var attempts = 0;\n",
       "    var timer = setInterval(function(root) {\n",
       "      if (root.Bokeh !== undefined) {\n",
       "        clearInterval(timer);\n",
       "        embed_document(root);\n",
       "      } else {\n",
       "        attempts++;\n",
       "        if (attempts > 100) {\n",
       "          clearInterval(timer);\n",
       "          console.log(\"Bokeh: ERROR: Unable to run BokehJS code because BokehJS library is missing\");\n",
       "        }\n",
       "      }\n",
       "    }, 10, root)\n",
       "  }\n",
       "})(window);"
      ],
      "application/vnd.bokehjs_exec.v0+json": ""
     },
     "metadata": {
      "application/vnd.bokehjs_exec.v0+json": {
       "id": "1597"
      }
     },
     "output_type": "display_data"
    }
   ],
   "source": [
    "plot_consumption_per_type(consumption_by_type)"
   ]
  },
  {
   "cell_type": "code",
   "execution_count": null,
   "metadata": {},
   "outputs": [],
   "source": [
    "percentage = glimpse()\n",
    "print(str(round(percentage)) + \"% of Switzerland's total imports come from countries within a 1000km radius.\")"
   ]
  },
  {
   "cell_type": "markdown",
   "metadata": {},
   "source": [
    "#### Bipartite graph between continents and meta food groups, weighted by amounts of food imported from those continents"
   ]
  },
  {
   "cell_type": "code",
   "execution_count": null,
   "metadata": {},
   "outputs": [],
   "source": [
    "# make the nodes: continents on the left, food groups on the right\n",
    "continents = impex.index.get_level_values(0).unique().array\n",
    "meta_food_groups = impex.columns.levels[0].array\n",
    "bi = nx.Graph()\n",
    "bi.add_nodes_from(continents, bipartite=1)\n",
    "bi.add_nodes_from(meta_food_groups, bipartite=0)\n",
    "\n",
    "# make an edge between each continent and each food group\n",
    "edges = []\n",
    "for continent in continents:\n",
    "    for food in meta_food_groups:\n",
    "        edges.append((continent, food))\n",
    "        \n",
    "bi.add_edges_from(edges, weight=3)"
   ]
  },
  {
   "cell_type": "code",
   "execution_count": null,
   "metadata": {},
   "outputs": [],
   "source": [
    "# calculate the initial raw weights, which is the total amount of food for each continent-food pair\n",
    "weights = []\n",
    "for continent in continents:\n",
    "    for food in meta_food_groups:\n",
    "        total_food_amount = impex.xs(continent)[food].xs('imports', level=1, axis=1).to_numpy().sum()\n",
    "        weights.append(total_food_amount)\n",
    "        \n",
    "# incorporate these weights into the data for each edge\n",
    "for num, name in enumerate(bi.edges(data=True)):\n",
    "    name[2]['weight'] = weights[num]"
   ]
  },
  {
   "cell_type": "code",
   "execution_count": null,
   "metadata": {},
   "outputs": [],
   "source": [
    "#make a list of all the weights so can edit them\n",
    "all_weights = []\n",
    "for (node1,node2,data) in bi.edges(data=True):\n",
    "    all_weights.append(data['weight'])\n",
    "    #print(data['weight']) # this is totals by continent per meta food group\n",
    "\n",
    "# normalize the weights so they are appropriate for the graph\n",
    "for num, wt in enumerate(all_weights):\n",
    "    all_weights[num] = wt*len(continents)*5/sum(weights)\n",
    "    \n",
    "# incorporate the normalized weights into the edge data for use in the graph\n",
    "for num, name in enumerate(bi.edges(data=True)):\n",
    "    name[2]['weight'] = all_weights[num]\n",
    "\n",
    "\n",
    "top = nx.bipartite.sets(bi)[0]\n",
    "pos = nx.bipartite_layout(bi, top)\n",
    "\n",
    "# the old, non-interactive graph\n",
    "#nx.draw_networkx(bi, pos, font_size=12, node_size=900, node_color='red', node_shape='s', width=all_weights)"
   ]
  },
  {
   "cell_type": "code",
   "execution_count": null,
   "metadata": {},
   "outputs": [],
   "source": [
    "# make an interactive bipartite graph with Holoviews and Bokeh\n",
    "bipartite = hv.Graph.from_networkx(bi, pos, width=all_weights)\n",
    "\n",
    "# create text labels for each of the nodes\n",
    "labs = ['Africa', 'America', 'Asia', 'Europe','Oceania','animal products', 'cereals', 'fruits', 'meat', 'seafood', 'vegetables']\n",
    "labels = hv.Labels({('x', 'y'): bipartite.nodes.array([0,1]), 'text': labs}, ['x', 'y'], 'text')\n",
    "\n",
    "# plot the graph with labels\n",
    "hv.extension('bokeh')\n",
    "# this padding feature was working previously and then broke, so I edited it a bit...\n",
    "#padding = dict(x=(-1.3, 1.3), y=(-0.9, 1)) # make graph display slightly larger than data\n",
    "#(bipartite*labels).relabel(\"Food Type Imports by Continent\").redim.range(**padding).opts(\n",
    "(bipartite*labels).relabel(\"Food Type Imports by Continent\").opts(\n",
    "    opts.Labels(text_color='text', cmap='Category20', yoffset=0.13, fontsize=14, padding=0.2),\n",
    "    #opts.Points(color='black', size=25), \n",
    "    opts.Graph(node_size=30, inspection_policy='edges', fontsize={'title':20},\n",
    "               node_hover_fill_color='red', edge_line_width='weight', xaxis=None, yaxis=None, node_fill_color='lightgray',\n",
    "               edge_hover_fill_color='red', frame_height=400, frame_width=600, padding=((0.1, 0.15), (0.1, 0.2))))"
   ]
  },
  {
   "cell_type": "code",
   "execution_count": null,
   "metadata": {},
   "outputs": [],
   "source": [
    "# TODO: change the weights that show when hovering--these are the normalized weights, we want the actual kg of food\n",
    "# TODO: figure out why the hover edges are green instead of red\n",
    "# TODO: find a way to color the continent labels one color and the food labels another color\n",
    "# TODO: remove the \"start\" and \"end\" in the hover labels, just say continent and food\n",
    "# TODO MAYBE: add a widget to toggle between inspection_policy of edges vs nodes"
   ]
  },
  {
   "cell_type": "code",
   "execution_count": null,
   "metadata": {},
   "outputs": [],
   "source": [
    "# plotting and saving the Sankey diagram to html\n",
    "labels = ['Africa', 'America', 'Asia', 'Europe','Oceania','animal_products', 'cereals', 'fruits', 'meat', 'seafood', 'vegetables']\n",
    "colors = ['skyblue', 'yellow', 'orange', 'violet', 'green', 'maroon', 'darkblue', 'seashell', 'lavenderblush', 'lightpink', 'turquoise']\n",
    "\n",
    "sources = []\n",
    "targets = []\n",
    "weights = []\n",
    "link_colors = []\n",
    "for (left_node, right_node, data) in bi.edges(data=True):\n",
    "    weight = data['weight']\n",
    "    sources.append(labels.index(left_node))\n",
    "    targets.append(labels.index(right_node))\n",
    "    weights.append(weight)\n",
    "#    link_colors.append(colors[labels.index(left_node)])\n",
    "\n",
    "import plotly.graph_objects as go\n",
    "\n",
    "fig = go.Figure(data=[\n",
    "    go.Sankey(\n",
    "        node = dict(\n",
    "            pad=10,\n",
    "            thickness=10,\n",
    "            line=dict(color = \"black\", width = 0.5),\n",
    "            label=labels,\n",
    "            color = colors),\n",
    "        link = dict(\n",
    "            source=sources,\n",
    "            target=targets,\n",
    "            value=weights,\n",
    "#            color=link_colors\n",
    "        )\n",
    "    )\n",
    "])\n",
    "\n",
    "fig.update_layout(title_text=\"Food Type Imports by Continent\", \n",
    "                  font_size=12)\n",
    "fig.show()\n",
    "\n",
    "# from plotly.offline import plot\n",
    "# plot(fig, filename='../docs/_includes/sankey_diagram.html', include_plotlyjs='directory')"
   ]
  },
  {
   "cell_type": "markdown",
   "metadata": {},
   "source": [
    "Transport methods for different commodoties in the USA are described in detail in the paper *Food-Miles and the Relative Climate Impacts of Food Choices in the United States* (Weber and Matthews, 2008). These values, or similar data for other countries worldwide could be used to estimate the transport means for different products and thus the impact this transport has on emissions for each product. Perishable products more frequently have to be transported by air, and therefore have a significantly larger carbon footprint."
   ]
  },
  {
   "cell_type": "markdown",
   "metadata": {},
   "source": [
    "---\n",
    "\n",
    "## Calculating the CO2 emissions by food type based on where it is imported from"
   ]
  },
  {
   "cell_type": "markdown",
   "metadata": {},
   "source": [
    "We will now use the country-specific and food item-specific data to calculate carbon costs. For each country and food item pair, we will first calculate how much of that food item imported from that country is consumed by Swiss consumers. This relies upon assumptions that we made previously (mentioned here). The two categories this data processing can fall into are:\n",
    "\n",
    "* If the exported amount of a given food item is less than what is domestically produced, we assume that all of the Swiss produce is exported first before any of the imports start getting exported. That means there will still be some leftover Swiss-produced food available for Swiss consumption, in addition to all of the imported food from all other countries.\n",
    "\n",
    "* If, however, there is more of a given food item exported than domestically produced, we must transition to the situation where all of the Swiss-produced goods are exported and some of the imported goods are also exported. In this case, we will assume that each country's imports are exported in an equal percentage (e.g. if Switzerland imports 100 kg of bananas from Country X and 50 kg of bananas from Country Y, and the deficit between Switzerland's production and its exports is 10 kg, a fixed percentage of bananas from each country will be assumed to be exported while the remainder is consumed in Switzerland). Hence, the fraction of that food item from that country consumed in Switzerland is (the total amount of that food item imported from that country) / (the total imports across all countries for that food item). This fraction is multiplied by the total amount of that food item consumed in Switzerland to get results by country."
   ]
  },
  {
   "cell_type": "code",
   "execution_count": null,
   "metadata": {
    "scrolled": true
   },
   "outputs": [],
   "source": [
    "# first manipulate the data to prepare for using it\n",
    "impex_countries = impex.stack([\"type\", \"subtype\"]).drop(columns=[\"exports\"]).reset_index()\n",
    "impex_countries[\"product\"] = impex_countries[\"subtype\"]\n",
    "impex_countries = impex_countries.set_index([\"type\", \"subtype\", 'continent', 'country']).drop(columns = 'subcontinent')"
   ]
  },
  {
   "cell_type": "code",
   "execution_count": null,
   "metadata": {},
   "outputs": [],
   "source": [
    "# calculate, for each country and food item pair, how much of that food item imported from that country is consumed\n",
    "# by Swiss consumers\n",
    "def find_consump(row):\n",
    "    # if the exported amount of this food item is less than what is domestically produced, then\n",
    "    # all imports go towards Swiss consumption (due to earlier assumptions we made about Swiss production\n",
    "    # being the source of exports before imports being exported)\n",
    "    if suisse.xs(row['product'], level=1)['domestic_consumption'][0] > 0:\n",
    "        return row.imports\n",
    "    else:\n",
    "        # if everything which is produced in Switzerland is also exported (domestic_consumption == 0), then\n",
    "        # some of the imports may also be exported, so the amount of imports consumed in Switzerland is taken\n",
    "        # as the fraction of (the amount imported from that country) / (total imported amount from all countries)\n",
    "        denominator = suisse.xs(row['product'], level=1)['imports'][0]\n",
    "        fraction = row.imports/denominator\n",
    "        return fraction * suisse.xs(row['product'], level=1)['consumption'][0]\n",
    "\n",
    "# apply the function to all rows of the dataframe\n",
    "impex_countries['swiss_consumption'] = impex_countries.apply(find_consump, axis=1)"
   ]
  },
  {
   "cell_type": "code",
   "execution_count": null,
   "metadata": {},
   "outputs": [],
   "source": [
    "impex_countries.head()"
   ]
  },
  {
   "cell_type": "markdown",
   "metadata": {},
   "source": [
    "For some reason, there is no transport data for Libya. As we can see here, however, there are no rows of data from Libya which have a non-zero `swiss_consumption`. This means there is nothing imported from Libya which is consumed in Switzerland (it is either all exported or there are no imports)."
   ]
  },
  {
   "cell_type": "code",
   "execution_count": null,
   "metadata": {},
   "outputs": [],
   "source": [
    "libya = impex_countries.xs(\"Libya\", level=\"country\")\n",
    "libya = libya[libya.swiss_consumption != 0]\n",
    "len(libya)"
   ]
  },
  {
   "cell_type": "markdown",
   "metadata": {},
   "source": [
    "This is true for the following countries and we'll drop them from the `impex_countries` dataframe:"
   ]
  },
  {
   "cell_type": "code",
   "execution_count": null,
   "metadata": {},
   "outputs": [],
   "source": [
    "countries_no_transport_data = [\n",
    "    \"Libya\",\n",
    "    \"Angola\",\n",
    "    \"Eritrea\",\n",
    "    \"Sudan\",\n",
    "    \"St Lucia\",\n",
    "    \"Seychelles\",\n",
    "    \"Amer. Virgin\",\n",
    "    \"Curaçao\",\n",
    "    \"Greenland\",\n",
    "    \"Guiana, French\",\n",
    "    \"Faeroe Islands\",\n",
    "]"
   ]
  },
  {
   "cell_type": "code",
   "execution_count": null,
   "metadata": {},
   "outputs": [],
   "source": [
    "impex_countries.reset_index(inplace=True)"
   ]
  },
  {
   "cell_type": "code",
   "execution_count": null,
   "metadata": {},
   "outputs": [],
   "source": [
    "impex_countries = impex_countries[~impex_countries.country.isin(countries_no_transport_data)]"
   ]
  },
  {
   "cell_type": "markdown",
   "metadata": {},
   "source": [
    "The next step is to convert the `impex_countries` dataframe, the amount by country and by food item which is eaten in Switzerland, to the carbon costs associated with each country/food item pair. "
   ]
  },
  {
   "cell_type": "code",
   "execution_count": null,
   "metadata": {},
   "outputs": [],
   "source": [
    "# map the categories used by the transport data to the categories used in\n",
    "# our dataframe of imports per country and food\n",
    "colmap = {\n",
    "    \"animal_products\": \"dairy_products\",\n",
    "    \"meat\": \"meat\",\n",
    "    \"fruits\": \"other_fresh_fruits_vegetables\",\n",
    "    \"vegetables\": \"other_fresh_fruits_vegetables\",\n",
    "    \"cereals\": \"cereals\",\n",
    "    \"seafood\": \"fish\",\n",
    "}"
   ]
  },
  {
   "cell_type": "markdown",
   "metadata": {},
   "source": [
    "## TODO: \n",
    "Modify the `swiss_comsumption_transport` function (or do it after the function) to change the potatoes value. We have transport data specifically for potatoes, but all other fruits and vegetables are lumped into one category together. As of now, the potatoes are included with all the other fruits and vegetables."
   ]
  },
  {
   "cell_type": "code",
   "execution_count": null,
   "metadata": {},
   "outputs": [],
   "source": [
    "pd.options.mode.chained_assignment = None # prevent the set with copy warning, which is not applicable in this\n",
    "                                      # case since we are creating a new column (but pandas triggers the warning anyway)\n",
    "impex_countries['kg_CO2e_transport'] = impex_countries.apply(swiss_consumption_transport, axis=1, args=(transport, transportCO2, countries, colmap))\n",
    "impex_countries['kg_CO2e_transport_via_nl'] = impex_countries.apply(swiss_consumption_transport, axis=1, args=(transport, transportCO2, countries, colmap), NL=True)"
   ]
  },
  {
   "cell_type": "code",
   "execution_count": null,
   "metadata": {},
   "outputs": [],
   "source": [
    "# create the index again to get back to a multiindex dataframe\n",
    "impex_countries.set_index(['type', 'subtype', 'continent', 'country'], inplace=True)"
   ]
  },
  {
   "cell_type": "code",
   "execution_count": null,
   "metadata": {},
   "outputs": [],
   "source": [
    "impex_countries.tail(20)"
   ]
  },
  {
   "cell_type": "code",
   "execution_count": null,
   "metadata": {},
   "outputs": [],
   "source": [
    "# now add a column which is carbon cost of transport + inherent carbon cost of producing the item\n",
    "food_list = np.array(impex_countries.index.get_level_values(level=1))\n",
    "impex_countries['total_kg_CO2e'] = impex_countries['kg_CO2e_transport'] + \\\n",
    "                            suisse.iloc[suisse.index.get_level_values(1).isin(food_list)].median_emissions * impex_countries['swiss_consumption']"
   ]
  },
  {
   "cell_type": "code",
   "execution_count": null,
   "metadata": {},
   "outputs": [],
   "source": [
    "# show a slice of the dataframe (that has non-zero values) to demonstrate what data it has\n",
    "impex_countries.iloc[1420:1426]"
   ]
  },
  {
   "cell_type": "code",
   "execution_count": null,
   "metadata": {},
   "outputs": [],
   "source": [
    "# here is how to get specific carbon values for groups of items\n",
    "impex_countries.iloc[impex_countries.index.get_level_values(0) == 'meat'].total_kg_CO2e.sum()"
   ]
  },
  {
   "cell_type": "code",
   "execution_count": null,
   "metadata": {},
   "outputs": [],
   "source": [
    "meta_food_CO2 = impex_countries.total_kg_CO2e.groupby(\"type\").sum()\n",
    "meta_food_consumption = impex_countries.swiss_consumption.groupby('type').sum()\n",
    "meta_normalized_CO2 = meta_food_CO2 / meta_food_consumption"
   ]
  },
  {
   "cell_type": "code",
   "execution_count": null,
   "metadata": {},
   "outputs": [],
   "source": [
    "plt.figure(figsize=(12, 4))\n",
    "\n",
    "ax = sns.barplot(\n",
    "    x=meta_normalized_CO2.index.get_level_values(\"type\"),\n",
    "    y=meta_normalized_CO2.values \n",
    ")\n",
    "\n",
    "plt.xticks(fontsize=15)\n",
    "plt.yticks(fontsize=13)\n",
    "plt.xlabel('commodity', fontsize=18)\n",
    "plt.ylabel('kg CO2e per kg food', fontsize=18)\n",
    "plt.title('Carbon cost normalized by consumption', fontsize=20)\n",
    "sns.despine()\n",
    "# plt.savefig(\"../docs/img/carbon_normalized_consumption.jpg\", dpi=100, bbox_inches='tight');"
   ]
  },
  {
   "cell_type": "markdown",
   "metadata": {},
   "source": [
    "Let's now look at a plot which compares the inherent carbon cost of a food item (that is, its global average emission value for production multiplied by how much of that item is consumed in Switzerland) with its Swiss-specific carbon cost (the inherent cost plus the transport carbon emissions)."
   ]
  },
  {
   "cell_type": "code",
   "execution_count": null,
   "metadata": {},
   "outputs": [],
   "source": [
    "# you can use this dataframe instead of the entire impex_countries in the next few cells if you want the scatterplot and\n",
    "# stacked bar chart to have fewer metacategories\n",
    "\n",
    "stacked = impex_countries.drop('meat', level=0)\n",
    "stacked = stacked.drop('fruits', level=0)\n",
    "stacked = stacked.drop('seafood', level=0)\n",
    "#stacked = stacked.drop('vegetables', level=0)\n",
    "stacked = stacked.drop('cereals', level=0)\n",
    "stacked = stacked.drop('animal_products', level=0)\n",
    "stacked"
   ]
  },
  {
   "cell_type": "code",
   "execution_count": null,
   "metadata": {},
   "outputs": [],
   "source": [
    "# IF YOU WANT THE SCATTER PLOT OR STACKED BAR PLOT BELOW TO HAVE DIFFERENT CATEGORIES, change what gets\n",
    "# dropped from `stacked` above (or use impex_countries instead of `stacked`)\n",
    "\n",
    "# pull out the emissions for Switzerland specifically from the impex_countries df, and the inherent emissions\n",
    "# value for each food type from the emissions df\n",
    "food_CO2_consumption = pd.DataFrame(stacked.groupby('subtype').sum()) # put 'stacked' df here\n",
    "food_CO2_consumption = food_CO2_consumption.drop(columns=['imports'])\n",
    "emissions_median = pd.DataFrame(emissions['Median'])\n",
    "lefton = emissions_median.index.to_numpy()"
   ]
  },
  {
   "cell_type": "code",
   "execution_count": null,
   "metadata": {},
   "outputs": [],
   "source": [
    "# merge everything of interest for this plot into one df for easy processing\n",
    "inherent_and_swiss = emissions_median.merge(food_CO2_consumption, right_index=True, left_on = lefton)\n",
    "inherent_and_swiss.drop(labels=\"key_0\", axis=1, inplace=True)\n",
    "# since a food item could have a high amount of CO2 just because a lot of it is consumed, normalize\n",
    "# by the amount consumed in Switzerland (so this new column is kg CO2e per kg food)\n",
    "inherent_and_swiss['norm_CO2e'] = inherent_and_swiss['total_kg_CO2e'] / inherent_and_swiss['swiss_consumption']\n",
    "# make a column of CO2e due to just the inherent production costs\n",
    "inherent_and_swiss['kg_CO2e_inherent'] = inherent_and_swiss['total_kg_CO2e'] - inherent_and_swiss['kg_CO2e_transport']\n",
    "inherent_and_swiss['total_kg_CO2e_nl'] = inherent_and_swiss['kg_CO2e_inherent'] + inherent_and_swiss['kg_CO2e_transport_via_nl']\n",
    "inherent_and_swiss.head()"
   ]
  },
  {
   "cell_type": "code",
   "execution_count": null,
   "metadata": {},
   "outputs": [],
   "source": [
    "go = inherent_and_swiss[['total_kg_CO2e','total_kg_CO2e_nl']]\n",
    "go.columns = ['transport','transport_nl']\n",
    "go = pd.DataFrame(go.stack())\n",
    "go.reset_index(inplace=True)\n",
    "go.columns = ['product','transport','kg_CO2e']\n",
    "go"
   ]
  },
  {
   "cell_type": "code",
   "execution_count": null,
   "metadata": {},
   "outputs": [],
   "source": [
    "goo = inherent_and_swiss[['kg_CO2e_transport','kg_CO2e_transport_via_nl']]\n",
    "goo.columns = ['inherent','inherent_nl']\n",
    "goo = pd.DataFrame(goo.stack())\n",
    "goo.reset_index(inplace=True)\n",
    "goo.columns = ['product','transport','total_kg_CO2e']\n",
    "goo = goo.merge(inherent_and_swiss[['kg_CO2e_inherent']].reset_index(), left_on='product', right_on='name').drop(columns=['name'])\n",
    "goo = goo.drop(columns=['total_kg_CO2e'])\n",
    "goo.columns = ['product','transport','kg_CO2e']\n",
    "goo\n"
   ]
  },
  {
   "cell_type": "code",
   "execution_count": null,
   "metadata": {},
   "outputs": [],
   "source": [
    "inherent = np.array(inherent_and_swiss['Median'])\n",
    "swiss_co2_norm = np.array(inherent_and_swiss['norm_CO2e'])\n",
    "food_names = np.array(inherent_and_swiss.index)\n",
    "\n",
    "# make a dictionary to match the various categories and data subsets\n",
    "matcher = {\n",
    "    \"CO2e per kg of food produced\":inherent,\n",
    "    \"Swiss-specific kg CO2e per kg food\":swiss_co2_norm,\n",
    "    \"Food item\":food_names\n",
    "}\n",
    "co2_scores = pd.DataFrame(matcher).round(4)"
   ]
  },
  {
   "cell_type": "code",
   "execution_count": null,
   "metadata": {},
   "outputs": [],
   "source": [
    "# INTERACTIVE SCATTER PLOT. This visualization has now been replaced by the stacked bar plots, \n",
    "# but please leave this code in case we need to return to this later for any reason.\n",
    "\n",
    "# import plotly.express as px\n",
    "# import plotly.offline as pyo\n",
    "\n",
    "# # Set notebook to work in offline mode\n",
    "# pyo.init_notebook_mode()\n",
    "\n",
    "# fig = px.scatter(\n",
    "#     co2_scores,\n",
    "#     x=\"Swiss-specific kg CO2e per kg food\",\n",
    "#     y=\"CO2e per kg of food produced\",\n",
    "#     hover_name=\"Food item\",\n",
    "# )\n",
    "\n",
    "# fig.update_layout(\n",
    "#     title={\n",
    "#         \"text\": \"Carbon emissions with and without transport to Switzerland\",\n",
    "#         \"y\": 0.95,\n",
    "#         \"x\": 0.5,\n",
    "#         \"xanchor\": \"center\",\n",
    "#         \"yanchor\": \"top\",\n",
    "#     },\n",
    "#     #title_font=dict(size=20),\n",
    "# )\n",
    "\n",
    "# fig.show()"
   ]
  },
  {
   "cell_type": "code",
   "execution_count": null,
   "metadata": {},
   "outputs": [],
   "source": [
    "# the above graph is difficult to interpret, so let's convert it to a stacked barplot instead\n",
    "sns.set(style=\"whitegrid\")\n",
    "\n",
    "# Initialize the matplotlib figure\n",
    "f, ax = plt.subplots(figsize=(9, 9)) # CHANGE THE SIZE HERE AS APPROPRIATE FOR THE METACATEGORY\n",
    "\n",
    "# Plot the total carbon cost (background)\n",
    "sns.set_color_codes(\"pastel\")\n",
    "sns.barplot(x='kg_CO2e', y='product', hue='transport', data=go, orient = 'h', palette=['r','b'])\n",
    "\n",
    "# Plot just the inherent carbon cost of production on top\n",
    "sns.set_color_codes(\"muted\")\n",
    "sns.barplot(x='kg_CO2e', y='product', hue='transport', data=goo, orient = 'h', palette=['r','b'])\n"
   ]
  },
  {
   "cell_type": "code",
   "execution_count": null,
   "metadata": {},
   "outputs": [],
   "source": [
    "# the above graph is difficult to interpret, so let's convert it to a stacked barplot instead\n",
    "sns.set(style=\"whitegrid\")\n",
    "\n",
    "# Initialize the matplotlib figure\n",
    "f, ax = plt.subplots(figsize=(6, 6)) # CHANGE THE SIZE HERE AS APPROPRIATE FOR THE METACATEGORY\n",
    "\n",
    "# Plot the total carbon cost (background)\n",
    "sns.set_color_codes(\"muted\")\n",
    "sns.barplot(x=inherent_and_swiss.total_kg_CO2e, y=inherent_and_swiss.index, orient = 'h',\n",
    "            label=\"Transport\", color=\"b\")\n",
    "\n",
    "# Plot just the inherent carbon cost of production on top\n",
    "sns.set_color_codes(\"pastel\")\n",
    "sns.barplot(x=inherent_and_swiss.kg_CO2e_inherent, y=inherent_and_swiss.index, orient = 'h',\n",
    "            label=\"Inherent\", color=\"b\")\n",
    "\n",
    "# Add a legend and informative axis label\n",
    "ax.legend(ncol=2, loc=\"lower right\", frameon=True)\n",
    "ax.set(ylabel=\"food\",\n",
    "       xlabel=\"CO2e (kg)\")\n",
    "plt.yticks(rotation='horizontal')\n",
    "plt.title('Inherent vs Transport Carbon Costs')\n",
    "sns.despine(left=True, bottom=True)"
   ]
  },
  {
   "cell_type": "markdown",
   "metadata": {},
   "source": [
    "### Let's look into fruits in detail.\n",
    " "
   ]
  },
  {
   "cell_type": "code",
   "execution_count": null,
   "metadata": {},
   "outputs": [],
   "source": [
    "# import amounts, amounts consumed in Switzerland, and kg of CO2e by each fruit\n",
    "fruits_co2 = impex_countries.iloc[impex_countries.index.get_level_values(0) == 'fruits'].groupby('subtype').sum()\n",
    "fruits_co2.head()"
   ]
  },
  {
   "cell_type": "code",
   "execution_count": null,
   "metadata": {},
   "outputs": [],
   "source": [
    "plt.figure(figsize=(12, 4))\n",
    "ax = sns.barplot(\n",
    "    x=fruits_co2.index.get_level_values(\"subtype\"),\n",
    "    y=fruits_co2['total_kg_CO2e'] / fruits_co2['swiss_consumption'],\n",
    ")\n",
    "\n",
    "ax.set(\n",
    "    title=\"Carbon cost of fruits normalized by their consumption\", xlabel=\"fruit\", ylabel=\"CO2e per kg fruit consumed\"\n",
    ")\n",
    "plt.xticks(rotation=90)\n",
    "sns.despine();"
   ]
  },
  {
   "cell_type": "markdown",
   "metadata": {},
   "source": [
    "#### What if we thought a little bit about seasonality..."
   ]
  },
  {
   "cell_type": "markdown",
   "metadata": {},
   "source": [
    "Let's compare tomatoes grown by different methods. For example, tomatoes grown outside of a greenhouse have a lower carbon impact than tomatoes grown in greenhouses. But how does the carbon cost of transport compare to the carbon cost of these higher intensity methods? We can quantify the comparison by looking at the carbon costs of the amount of tomatoes consumed in Switzerland if they were grown in Switzerland or grown in other countries, then transported. For each country, we will compare three growing methods. The countries included in this analysis are the warmer neighboring countries of Spain and Morocco, the biggest tomato trading partners of Switzerland within and outside of Europe, respectively. (We chose to pick one country outside of Europe even though it is the third biggest tomato trading partner, to account for a higher distance of transport.)"
   ]
  },
  {
   "cell_type": "code",
   "execution_count": null,
   "metadata": {},
   "outputs": [],
   "source": [
    "# first quantify how many tomatoes come from these two countries, just to show how large of tomato trading partners they are\n",
    "spain_produced_swiss_consumed_tomatoes = int(impex_countries.loc['vegetables'].loc['tomatoes'].loc['Europe'].loc['Spain'].swiss_consumption)\n",
    "morocco_produced_swiss_consumed_tomatoes = int(impex_countries.loc['vegetables'].loc['tomatoes'].loc['Africa'].loc['Morocco'].swiss_consumption)\n",
    "total_tomatoes = int(impex_countries.loc['vegetables'].loc['tomatoes'].sum().swiss_consumption)\n",
    "spain_tomatoes_perc = round(spain_produced_swiss_consumed_tomatoes * 100 / total_tomatoes, 1)\n",
    "morocco_tomatoes_perc = round(morocco_produced_swiss_consumed_tomatoes * 100 / total_tomatoes, 1)\n",
    "\n",
    "print(\"Spain produces {}% of swiss-consumed tomatoes and Morocco produces {}%, out of a total of {} kg of tomatoes.\".format(spain_tomatoes_perc, morocco_tomatoes_perc, total_tomatoes))"
   ]
  },
  {
   "cell_type": "code",
   "execution_count": null,
   "metadata": {},
   "outputs": [],
   "source": [
    "tomatoes = load_tomatoes(suisse,transport,transportCO2,countries)\n",
    "tomatoes"
   ]
  },
  {
   "cell_type": "markdown",
   "metadata": {},
   "source": [
    "In this dataframe, the columns are:\n",
    "* `Median`: the inherent median carbon emission value for tomatoes grown by a given production method (in kg CO2e)\n",
    "* `produced_in_CH_month`: kg of CO2e produced if the amount of tomatoes consumed in Switzerland were all produced within Switzerland by that method of production\n",
    "* `imported_from_ES_month`: kg of CO2e produced if the amount of tomatoes consumed in Switzerland were all produced in Spain by that method of production and then imported\n",
    "* `imported_from_MO_month`: same as `imported_from_ES_month` except produced in and imported from Morocco\n",
    "* `transport_percent`: the percentage of the CO2e which results from the transport cost from Spain, in comparison to the inherent production cost"
   ]
  },
  {
   "cell_type": "code",
   "execution_count": null,
   "metadata": {},
   "outputs": [],
   "source": [
    "tomatoes_for_graph = tomatoes.drop(columns=['transport_percent', 'Median'])\n",
    "tomatoes_for_graph = tomatoes_for_graph.rename(columns={'produced_in_CH_month':'Switzerland', 'imported_from_ES_month':'Spain', 'imported_from_MO_month':'Morocco'})\n",
    "tomatoes_for_graph = tomatoes_for_graph.stack()"
   ]
  },
  {
   "cell_type": "code",
   "execution_count": null,
   "metadata": {},
   "outputs": [],
   "source": [
    "plt.figure(figsize=(12, 8))\n",
    "ax = sns.barplot(\n",
    "    x=tomatoes_for_graph.index.get_level_values(1),\n",
    "    y=tomatoes_for_graph.values,\n",
    "    hue=tomatoes_for_graph.index.get_level_values(0),\n",
    ")\n",
    "\n",
    "plt.xticks(fontsize=15)\n",
    "plt.yticks(fontsize=13)\n",
    "plt.xlabel('country of production', fontsize=18)\n",
    "plt.ylabel('monthly CO2e emitted (kg)', fontsize=18)\n",
    "plt.title('Comparison of growing methods and location for tomatoes', fontsize=20)\n",
    "\n",
    "plt.setp(ax.get_legend().get_texts(), fontsize='16') # for legend text\n",
    "plt.setp(ax.get_legend().get_title(), fontsize='18') # for legend title\n",
    "\n",
    "sns.despine()\n",
    "# plt.savefig(\"../docs/img/tomatoes.jpg\", dpi=100, bbox_inches='tight')"
   ]
  },
  {
   "cell_type": "markdown",
   "metadata": {},
   "source": [
    "---\n",
    "\n",
    "# Comparison of current and recommended diets\n",
    "\n",
    "Let's start by making a dataframe of every food item with: how much is consumed in Switzerland, how much is consumed per person per day, and how much is recommended by the Swiss government for a healthy diet."
   ]
  },
  {
   "cell_type": "code",
   "execution_count": null,
   "metadata": {},
   "outputs": [],
   "source": [
    "daily_consumption = impex_countries.groupby(['type','subtype']).sum().drop(columns=['imports', 'kg_CO2e_transport', 'kg_CO2e_transport_via_nl', 'total_kg_CO2e'])\n",
    "# From FAO, the population of Switzerland in 2017 was 8455804 people\n",
    "# also divide by 365 days per year, and convert kg --> g\n",
    "daily_consumption['g_per_person_per_day'] = daily_consumption['swiss_consumption'] * 1000 / (8455804 * 365)\n",
    "daily_consumption.head()"
   ]
  },
  {
   "cell_type": "code",
   "execution_count": null,
   "metadata": {},
   "outputs": [],
   "source": [
    "daily_consumption.groupby('type').sum()"
   ]
  },
  {
   "cell_type": "code",
   "execution_count": null,
   "metadata": {},
   "outputs": [],
   "source": [
    "daily_consumption.sum()"
   ]
  },
  {
   "cell_type": "markdown",
   "metadata": {},
   "source": [
    "Well, people definitely eat more than 400 grams of food per day. On top of that, the proportions amongst the food groups are way off! So we will leave this as a \"hole in our data\" and maybe discuss later."
   ]
  },
  {
   "cell_type": "markdown",
   "metadata": {},
   "source": [
    "---\n",
    "# Histogram of carbon emissions by food group"
   ]
  },
  {
   "cell_type": "code",
   "execution_count": null,
   "metadata": {},
   "outputs": [],
   "source": [
    "histogram_df = impex_countries.groupby(['type','subtype']).sum().drop(columns=['imports', 'kg_CO2e_transport', 'kg_CO2e_transport_via_nl'])\n",
    "histogram_df['kg_CO2_per_kg_food'] = histogram_df['total_kg_CO2e'] / histogram_df['swiss_consumption']\n",
    "histogram_df.drop(columns=['swiss_consumption', 'total_kg_CO2e'], inplace=True)\n",
    "histogram_df.head()"
   ]
  },
  {
   "cell_type": "code",
   "execution_count": null,
   "metadata": {},
   "outputs": [],
   "source": [
    "animal_prods_hist = np.array(histogram_df.loc['animal_products'])\n",
    "meat_seafood_hist = np.array(histogram_df.loc[['seafood', 'meat']])\n",
    "vegan_sourced_hist = np.array(histogram_df.loc[['fruits', 'vegetables', 'cereals']])"
   ]
  },
  {
   "cell_type": "code",
   "execution_count": null,
   "metadata": {},
   "outputs": [],
   "source": [
    "bins = np.linspace(0, 35, 40)\n",
    "\n",
    "plt.figure(figsize=(12,6))\n",
    "\n",
    "plt.hist(meat_seafood_hist, bins, alpha=0.9, label='meat_seafood')\n",
    "plt.hist(vegan_sourced_hist, bins, alpha=0.5, label='vegan')\n",
    "plt.hist(animal_prods_hist, bins, alpha=0.5, label='animal_prods')\n",
    "\n",
    "plt.xticks(fontsize=16)\n",
    "plt.yticks(fontsize=16)\n",
    "plt.xlabel('kg CO2e per kg food', fontsize=18)\n",
    "plt.ylabel('number of food items', fontsize=18)\n",
    "plt.title('Total carbon cost of meats, animal products, and plant-based foods', fontsize=20)\n",
    "\n",
    "plt.yscale('log')\n",
    "plt.legend(loc='upper right', fontsize=16)\n",
    "# plt.savefig(\"../docs/img/histogram.jpg\", dpi=100, bbox_inches='tight')"
   ]
  }
 ],
 "metadata": {
  "kernelspec": {
   "display_name": "Python [conda env:ada] *",
   "language": "python",
   "name": "conda-env-ada-py"
  },
  "language_info": {
   "codemirror_mode": {
    "name": "ipython",
    "version": 3
   },
   "file_extension": ".py",
   "mimetype": "text/x-python",
   "name": "python",
   "nbconvert_exporter": "python",
   "pygments_lexer": "ipython3",
   "version": "3.7.4"
  }
 },
 "nbformat": 4,
 "nbformat_minor": 4
}
