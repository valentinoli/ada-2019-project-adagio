{
 "cells": [
  {
   "cell_type": "markdown",
   "metadata": {},
   "source": [
    "# Introduction\n",
    "\n",
    "The goal of this initial analysis is to load data about imports, exports, and domestic production of various food types, relevant to Switzerland. Please see the `README` for overall project goals and background information.\n",
    "\n",
    "Note that in the current state of analysis, only fruits and vegetables have been considered. Functions for processing the data regarding meats, non-meat animal products, and other food groups have already been written, but this data was not yet incorporated into the notebook, for simplicity purposes and initial exploration."
   ]
  },
  {
   "cell_type": "code",
   "execution_count": 170,
   "metadata": {},
   "outputs": [
    {
     "name": "stdout",
     "output_type": "stream",
     "text": [
      "The autoreload extension is already loaded. To reload it, use:\n",
      "  %reload_ext autoreload\n"
     ]
    }
   ],
   "source": [
    "# import external libraries\n",
    "%matplotlib inline\n",
    "import collections\n",
    "import inspect\n",
    "import pickle\n",
    "import re\n",
    "\n",
    "import pandas as pd\n",
    "import numpy as np\n",
    "\n",
    "import matplotlib.pyplot as plt\n",
    "import seaborn as sns\n",
    "\n",
    "import networkx as nx\n",
    "from networkx.algorithms import bipartite\n",
    "import warnings\n",
    "warnings.filterwarnings(\"ignore\", category=UserWarning) # prevents internal problem with networkx from showing error\n",
    "\n",
    "%load_ext autoreload\n",
    "%autoreload 2"
   ]
  },
  {
   "cell_type": "code",
   "execution_count": 171,
   "metadata": {},
   "outputs": [],
   "source": [
    "# import local dependencies\n",
    "import sys\n",
    "sys.path.insert(1, \"scripts\")\n",
    "\n",
    "from helpers import *\n",
    "from plots import *\n",
    "from impex_data_manipulation import *\n",
    "from fao_data_manipulation import *\n",
    "from emissions_data_manipulation import *\n",
    "from data_analysis import *"
   ]
  },
  {
   "cell_type": "markdown",
   "metadata": {},
   "source": [
    "The first step is to calculate, for each type of food, how much of what is consumed by the Swiss population is produced within Switzerland versus imported. To do this, we will combine 3 sets of data: imports, exports, and domestic production. The imports and exports data are sourced from [Swiss Impex](https://www.gate.ezv.admin.ch/swissimpex/index.xhtml), a website hosted by the Swiss Federal Customs Administration which provides data on Switzerland's global trade activity. Domestic production data comes from [FAOStat](http://www.fao.org/faostat/en/#data), the Food and Agriculture Organization of the United Nations which offers a variety of agricultural-related data. In theory, the amount of food consumed in Switzerland (including food waste) can be calculated from these datasets:\n",
    "\n",
    "Food consumed = domestic production + imports - exports\n",
    "\n",
    "Note that the Swiss Federal Statistics Office also provided relevant data--namely, it has a dataset on Swiss food consumption by type of food. Unfortunately, these data conflicted with the data from FAO and Swiss Impex. Since the Federal Statistics Office data was much less detailed (for instance, more general/broad food categories), we decided to focus on Impex and FAO, knowing that the numbers must be taken with a grain of salt since it is difficult to accurately quantify such data.\n",
    "\n",
    "Let's load all the data and then combine the various data sets to get the values of interest. First we'll load imports and exports data from Impex. The data is spread across multiple Excel files and sheets."
   ]
  },
  {
   "cell_type": "markdown",
   "metadata": {},
   "source": [
    "***\n",
    "**Data loading and manipulation**\n",
    "***"
   ]
  },
  {
   "cell_type": "markdown",
   "metadata": {},
   "source": [
    "Let's start with loading the Swiss Impex into the `impex` dataframe:"
   ]
  },
  {
   "cell_type": "code",
   "execution_count": 172,
   "metadata": {},
   "outputs": [
    {
     "data": {
      "text/html": [
       "<div>\n",
       "<style scoped>\n",
       "    .dataframe tbody tr th:only-of-type {\n",
       "        vertical-align: middle;\n",
       "    }\n",
       "\n",
       "    .dataframe tbody tr th {\n",
       "        vertical-align: top;\n",
       "    }\n",
       "\n",
       "    .dataframe thead tr th {\n",
       "        text-align: left;\n",
       "    }\n",
       "</style>\n",
       "<table border=\"1\" class=\"dataframe\">\n",
       "  <thead>\n",
       "    <tr>\n",
       "      <th>type</th>\n",
       "      <th colspan=\"10\" halign=\"left\">fruits</th>\n",
       "      <th>...</th>\n",
       "      <th colspan=\"10\" halign=\"left\">cereals</th>\n",
       "    </tr>\n",
       "    <tr>\n",
       "      <th>subtype</th>\n",
       "      <th colspan=\"2\" halign=\"left\">plantains_and_others</th>\n",
       "      <th colspan=\"2\" halign=\"left\">bananas</th>\n",
       "      <th colspan=\"2\" halign=\"left\">dates</th>\n",
       "      <th colspan=\"2\" halign=\"left\">figs</th>\n",
       "      <th colspan=\"2\" halign=\"left\">pineapples</th>\n",
       "      <th>...</th>\n",
       "      <th colspan=\"2\" halign=\"left\">millet</th>\n",
       "      <th colspan=\"2\" halign=\"left\">oats</th>\n",
       "      <th colspan=\"2\" halign=\"left\">cereals_nes</th>\n",
       "      <th colspan=\"2\" halign=\"left\">wheat</th>\n",
       "      <th colspan=\"2\" halign=\"left\">fonio</th>\n",
       "    </tr>\n",
       "    <tr>\n",
       "      <th>indicator</th>\n",
       "      <th>imports</th>\n",
       "      <th>exports</th>\n",
       "      <th>imports</th>\n",
       "      <th>exports</th>\n",
       "      <th>imports</th>\n",
       "      <th>exports</th>\n",
       "      <th>imports</th>\n",
       "      <th>exports</th>\n",
       "      <th>imports</th>\n",
       "      <th>exports</th>\n",
       "      <th>...</th>\n",
       "      <th>imports</th>\n",
       "      <th>exports</th>\n",
       "      <th>imports</th>\n",
       "      <th>exports</th>\n",
       "      <th>imports</th>\n",
       "      <th>exports</th>\n",
       "      <th>imports</th>\n",
       "      <th>exports</th>\n",
       "      <th>imports</th>\n",
       "      <th>exports</th>\n",
       "    </tr>\n",
       "  </thead>\n",
       "  <tbody>\n",
       "    <tr>\n",
       "      <td>total</td>\n",
       "      <td>1444222.0</td>\n",
       "      <td>2.0</td>\n",
       "      <td>92397628.0</td>\n",
       "      <td>36763.0</td>\n",
       "      <td>2706334.0</td>\n",
       "      <td>96471.0</td>\n",
       "      <td>3681429.0</td>\n",
       "      <td>56065.0</td>\n",
       "      <td>20809608.0</td>\n",
       "      <td>70821.0</td>\n",
       "      <td>...</td>\n",
       "      <td>1069507.0</td>\n",
       "      <td>6450.0</td>\n",
       "      <td>25563410.0</td>\n",
       "      <td>6901.0</td>\n",
       "      <td>456430.0</td>\n",
       "      <td>0.0</td>\n",
       "      <td>214029783.0</td>\n",
       "      <td>192496.0</td>\n",
       "      <td>319.0</td>\n",
       "      <td>0.0</td>\n",
       "    </tr>\n",
       "    <tr>\n",
       "      <td>Argentina</td>\n",
       "      <td>396.0</td>\n",
       "      <td>0.0</td>\n",
       "      <td>0.0</td>\n",
       "      <td>0.0</td>\n",
       "      <td>0.0</td>\n",
       "      <td>0.0</td>\n",
       "      <td>8783.0</td>\n",
       "      <td>0.0</td>\n",
       "      <td>0.0</td>\n",
       "      <td>0.0</td>\n",
       "      <td>...</td>\n",
       "      <td>0.0</td>\n",
       "      <td>0.0</td>\n",
       "      <td>251905.0</td>\n",
       "      <td>0.0</td>\n",
       "      <td>0.0</td>\n",
       "      <td>0.0</td>\n",
       "      <td>11787245.0</td>\n",
       "      <td>0.0</td>\n",
       "      <td>0.0</td>\n",
       "      <td>0.0</td>\n",
       "    </tr>\n",
       "    <tr>\n",
       "      <td>Bangladesh</td>\n",
       "      <td>130.0</td>\n",
       "      <td>0.0</td>\n",
       "      <td>0.0</td>\n",
       "      <td>0.0</td>\n",
       "      <td>0.0</td>\n",
       "      <td>0.0</td>\n",
       "      <td>0.0</td>\n",
       "      <td>0.0</td>\n",
       "      <td>0.0</td>\n",
       "      <td>0.0</td>\n",
       "      <td>...</td>\n",
       "      <td>0.0</td>\n",
       "      <td>0.0</td>\n",
       "      <td>0.0</td>\n",
       "      <td>0.0</td>\n",
       "      <td>0.0</td>\n",
       "      <td>0.0</td>\n",
       "      <td>0.0</td>\n",
       "      <td>0.0</td>\n",
       "      <td>0.0</td>\n",
       "      <td>0.0</td>\n",
       "    </tr>\n",
       "    <tr>\n",
       "      <td>Brazil</td>\n",
       "      <td>1229.0</td>\n",
       "      <td>0.0</td>\n",
       "      <td>1301.0</td>\n",
       "      <td>0.0</td>\n",
       "      <td>0.0</td>\n",
       "      <td>0.0</td>\n",
       "      <td>42844.0</td>\n",
       "      <td>0.0</td>\n",
       "      <td>891.0</td>\n",
       "      <td>0.0</td>\n",
       "      <td>...</td>\n",
       "      <td>0.0</td>\n",
       "      <td>0.0</td>\n",
       "      <td>0.0</td>\n",
       "      <td>0.0</td>\n",
       "      <td>0.0</td>\n",
       "      <td>0.0</td>\n",
       "      <td>0.0</td>\n",
       "      <td>0.0</td>\n",
       "      <td>0.0</td>\n",
       "      <td>0.0</td>\n",
       "    </tr>\n",
       "    <tr>\n",
       "      <td>Cameroon</td>\n",
       "      <td>1529.0</td>\n",
       "      <td>0.0</td>\n",
       "      <td>65786.0</td>\n",
       "      <td>0.0</td>\n",
       "      <td>0.0</td>\n",
       "      <td>0.0</td>\n",
       "      <td>0.0</td>\n",
       "      <td>0.0</td>\n",
       "      <td>213628.0</td>\n",
       "      <td>0.0</td>\n",
       "      <td>...</td>\n",
       "      <td>0.0</td>\n",
       "      <td>0.0</td>\n",
       "      <td>0.0</td>\n",
       "      <td>0.0</td>\n",
       "      <td>0.0</td>\n",
       "      <td>0.0</td>\n",
       "      <td>0.0</td>\n",
       "      <td>0.0</td>\n",
       "      <td>0.0</td>\n",
       "      <td>0.0</td>\n",
       "    </tr>\n",
       "  </tbody>\n",
       "</table>\n",
       "<p>5 rows × 166 columns</p>\n",
       "</div>"
      ],
      "text/plain": [
       "type                     fruits                                          \\\n",
       "subtype    plantains_and_others             bananas               dates   \n",
       "indicator               imports exports     imports  exports    imports   \n",
       "total                 1444222.0     2.0  92397628.0  36763.0  2706334.0   \n",
       "Argentina                 396.0     0.0         0.0      0.0        0.0   \n",
       "Bangladesh                130.0     0.0         0.0      0.0        0.0   \n",
       "Brazil                   1229.0     0.0      1301.0      0.0        0.0   \n",
       "Cameroon                 1529.0     0.0     65786.0      0.0        0.0   \n",
       "\n",
       "type                                                          ...    cereals  \\\n",
       "subtype                   figs           pineapples           ...     millet   \n",
       "indicator   exports    imports  exports     imports  exports  ...    imports   \n",
       "total       96471.0  3681429.0  56065.0  20809608.0  70821.0  ...  1069507.0   \n",
       "Argentina       0.0     8783.0      0.0         0.0      0.0  ...        0.0   \n",
       "Bangladesh      0.0        0.0      0.0         0.0      0.0  ...        0.0   \n",
       "Brazil          0.0    42844.0      0.0       891.0      0.0  ...        0.0   \n",
       "Cameroon        0.0        0.0      0.0    213628.0      0.0  ...        0.0   \n",
       "\n",
       "type                                                                     \\\n",
       "subtype                   oats         cereals_nes                wheat   \n",
       "indicator  exports     imports exports     imports exports      imports   \n",
       "total       6450.0  25563410.0  6901.0    456430.0     0.0  214029783.0   \n",
       "Argentina      0.0    251905.0     0.0         0.0     0.0   11787245.0   \n",
       "Bangladesh     0.0         0.0     0.0         0.0     0.0          0.0   \n",
       "Brazil         0.0         0.0     0.0         0.0     0.0          0.0   \n",
       "Cameroon       0.0         0.0     0.0         0.0     0.0          0.0   \n",
       "\n",
       "type                                  \n",
       "subtype                fonio          \n",
       "indicator    exports imports exports  \n",
       "total       192496.0   319.0     0.0  \n",
       "Argentina        0.0     0.0     0.0  \n",
       "Bangladesh       0.0     0.0     0.0  \n",
       "Brazil           0.0     0.0     0.0  \n",
       "Cameroon         0.0     0.0     0.0  \n",
       "\n",
       "[5 rows x 166 columns]"
      ]
     },
     "execution_count": 172,
     "metadata": {},
     "output_type": "execute_result"
    }
   ],
   "source": [
    "impex = load_impex()\n",
    "impex.head()"
   ]
  },
  {
   "cell_type": "markdown",
   "metadata": {},
   "source": [
    "We then create a dataframe `impex_total` for storing total quantities for indicator variables:"
   ]
  },
  {
   "cell_type": "code",
   "execution_count": 173,
   "metadata": {},
   "outputs": [
    {
     "data": {
      "text/html": [
       "<div>\n",
       "<style scoped>\n",
       "    .dataframe tbody tr th:only-of-type {\n",
       "        vertical-align: middle;\n",
       "    }\n",
       "\n",
       "    .dataframe tbody tr th {\n",
       "        vertical-align: top;\n",
       "    }\n",
       "\n",
       "    .dataframe thead th {\n",
       "        text-align: right;\n",
       "    }\n",
       "</style>\n",
       "<table border=\"1\" class=\"dataframe\">\n",
       "  <thead>\n",
       "    <tr style=\"text-align: right;\">\n",
       "      <th></th>\n",
       "      <th>indicator</th>\n",
       "      <th>exports</th>\n",
       "      <th>imports</th>\n",
       "    </tr>\n",
       "    <tr>\n",
       "      <th>type</th>\n",
       "      <th>subtype</th>\n",
       "      <th></th>\n",
       "      <th></th>\n",
       "    </tr>\n",
       "  </thead>\n",
       "  <tbody>\n",
       "    <tr>\n",
       "      <td rowspan=\"5\" valign=\"top\">animal_products</td>\n",
       "      <td>butter</td>\n",
       "      <td>2085954.0</td>\n",
       "      <td>155312.0</td>\n",
       "    </tr>\n",
       "    <tr>\n",
       "      <td>cheese</td>\n",
       "      <td>67285451.0</td>\n",
       "      <td>60637898.0</td>\n",
       "    </tr>\n",
       "    <tr>\n",
       "      <td>eggs</td>\n",
       "      <td>442894.0</td>\n",
       "      <td>36298734.0</td>\n",
       "    </tr>\n",
       "    <tr>\n",
       "      <td>honey</td>\n",
       "      <td>685704.0</td>\n",
       "      <td>8191947.0</td>\n",
       "    </tr>\n",
       "    <tr>\n",
       "      <td>milk_cream</td>\n",
       "      <td>14990772.0</td>\n",
       "      <td>29234598.0</td>\n",
       "    </tr>\n",
       "  </tbody>\n",
       "</table>\n",
       "</div>"
      ],
      "text/plain": [
       "indicator                      exports     imports\n",
       "type            subtype                           \n",
       "animal_products butter       2085954.0    155312.0\n",
       "                cheese      67285451.0  60637898.0\n",
       "                eggs          442894.0  36298734.0\n",
       "                honey         685704.0   8191947.0\n",
       "                milk_cream  14990772.0  29234598.0"
      ]
     },
     "execution_count": 173,
     "metadata": {},
     "output_type": "execute_result"
    }
   ],
   "source": [
    "# 1. Select only first row (total), creates a series\n",
    "# 2. Unstack first level (indicator) to create a dataframe\n",
    "impex_total = impex.iloc[0].unstack(\"indicator\")\n",
    "impex_total.head()"
   ]
  },
  {
   "cell_type": "markdown",
   "metadata": {},
   "source": [
    "Let's now further manipulate the original `impex` dataframe to include information about the continents and sub-continents in the index:"
   ]
  },
  {
   "cell_type": "code",
   "execution_count": 174,
   "metadata": {},
   "outputs": [
    {
     "data": {
      "text/plain": [
       "FrozenList(['continent', 'subcontinent', 'country'])"
      ]
     },
     "execution_count": 174,
     "metadata": {},
     "output_type": "execute_result"
    }
   ],
   "source": [
    "# First we drop the total row\n",
    "impex = impex.drop(\"total\")\n",
    "\n",
    "# Second, we load the country-continent info\n",
    "countries = load_countries_continents()\n",
    "\n",
    "# Finally, we compute the new index and apply it\n",
    "countries_mindex = pd.MultiIndex.from_arrays(countries.values.T, names=countries.columns)\n",
    "impex_mindex = countries_mindex[countries_mindex.get_level_values(2).isin(impex.index)]\n",
    "impex.set_index(impex_mindex, inplace=True)\n",
    "\n",
    "impex.index.names"
   ]
  },
  {
   "cell_type": "markdown",
   "metadata": {},
   "source": [
    "Note that the `impex` frame should only contain information about food destined for humans. We were careful to ensure this was true: all items which can also be imported for the use of animal feed were selected by their subcategory of being specifically for human consumption. "
   ]
  },
  {
   "cell_type": "markdown",
   "metadata": {},
   "source": [
    "Now, let's load the data on Swiss domestic `production` from FAO:"
   ]
  },
  {
   "cell_type": "code",
   "execution_count": 175,
   "metadata": {},
   "outputs": [
    {
     "data": {
      "text/html": [
       "<div>\n",
       "<style scoped>\n",
       "    .dataframe tbody tr th:only-of-type {\n",
       "        vertical-align: middle;\n",
       "    }\n",
       "\n",
       "    .dataframe tbody tr th {\n",
       "        vertical-align: top;\n",
       "    }\n",
       "\n",
       "    .dataframe thead th {\n",
       "        text-align: right;\n",
       "    }\n",
       "</style>\n",
       "<table border=\"1\" class=\"dataframe\">\n",
       "  <thead>\n",
       "    <tr style=\"text-align: right;\">\n",
       "      <th></th>\n",
       "      <th>indicator</th>\n",
       "      <th>production</th>\n",
       "    </tr>\n",
       "    <tr>\n",
       "      <th>type</th>\n",
       "      <th>subtype</th>\n",
       "      <th></th>\n",
       "    </tr>\n",
       "  </thead>\n",
       "  <tbody>\n",
       "    <tr>\n",
       "      <td rowspan=\"5\" valign=\"top\">animal_products</td>\n",
       "      <td>butter</td>\n",
       "      <td>4.843600e+07</td>\n",
       "    </tr>\n",
       "    <tr>\n",
       "      <td>cheese</td>\n",
       "      <td>2.063360e+08</td>\n",
       "    </tr>\n",
       "    <tr>\n",
       "      <td>eggs</td>\n",
       "      <td>5.763500e+07</td>\n",
       "    </tr>\n",
       "    <tr>\n",
       "      <td>honey</td>\n",
       "      <td>3.084000e+06</td>\n",
       "    </tr>\n",
       "    <tr>\n",
       "      <td>milk_cream</td>\n",
       "      <td>4.795811e+09</td>\n",
       "    </tr>\n",
       "  </tbody>\n",
       "</table>\n",
       "</div>"
      ],
      "text/plain": [
       "indicator                     production\n",
       "type            subtype                 \n",
       "animal_products butter      4.843600e+07\n",
       "                cheese      2.063360e+08\n",
       "                eggs        5.763500e+07\n",
       "                honey       3.084000e+06\n",
       "                milk_cream  4.795811e+09"
      ]
     },
     "execution_count": 175,
     "metadata": {},
     "output_type": "execute_result"
    }
   ],
   "source": [
    "production = load_fao()\n",
    "production.head()"
   ]
  },
  {
   "cell_type": "markdown",
   "metadata": {},
   "source": [
    "In this data as well, we were careful that only crops produced for human consumption are measured. This is specified in the FAO metadata.\n",
    "\n",
    "One interesting aspect of meat and non-meat animal product production, which is not relevant to the other food groups, is that animal feed may be sourced from a different location than where the meat/animal product is produced. This implicates the sourcing of animal feed as a very important factor for the carbon intensity of these foods. For example, if Switzerland produced most of its meat domestically, but it imported all of its feed, the carbon intensity of its meat would be much higher than if the feed were grown domestically. Thus, both aspects of the final food product must be examined."
   ]
  },
  {
   "cell_type": "code",
   "execution_count": 176,
   "metadata": {},
   "outputs": [],
   "source": [
    "# TODO decide how to handle animal feed"
   ]
  },
  {
   "cell_type": "markdown",
   "metadata": {},
   "source": [
    "Next we perform an outer join of `impex_total` and `production` to create a meta-dataframe, `suisse` with all total macroeconomic indicators for each commodity subtype:"
   ]
  },
  {
   "cell_type": "code",
   "execution_count": 177,
   "metadata": {},
   "outputs": [
    {
     "data": {
      "text/html": [
       "<div>\n",
       "<style scoped>\n",
       "    .dataframe tbody tr th:only-of-type {\n",
       "        vertical-align: middle;\n",
       "    }\n",
       "\n",
       "    .dataframe tbody tr th {\n",
       "        vertical-align: top;\n",
       "    }\n",
       "\n",
       "    .dataframe thead th {\n",
       "        text-align: right;\n",
       "    }\n",
       "</style>\n",
       "<table border=\"1\" class=\"dataframe\">\n",
       "  <thead>\n",
       "    <tr style=\"text-align: right;\">\n",
       "      <th></th>\n",
       "      <th>indicator</th>\n",
       "      <th>exports</th>\n",
       "      <th>imports</th>\n",
       "      <th>production</th>\n",
       "    </tr>\n",
       "    <tr>\n",
       "      <th>type</th>\n",
       "      <th>subtype</th>\n",
       "      <th></th>\n",
       "      <th></th>\n",
       "      <th></th>\n",
       "    </tr>\n",
       "  </thead>\n",
       "  <tbody>\n",
       "    <tr>\n",
       "      <td rowspan=\"5\" valign=\"top\">animal_products</td>\n",
       "      <td>butter</td>\n",
       "      <td>2085954.0</td>\n",
       "      <td>155312.0</td>\n",
       "      <td>4.843600e+07</td>\n",
       "    </tr>\n",
       "    <tr>\n",
       "      <td>cheese</td>\n",
       "      <td>67285451.0</td>\n",
       "      <td>60637898.0</td>\n",
       "      <td>2.063360e+08</td>\n",
       "    </tr>\n",
       "    <tr>\n",
       "      <td>eggs</td>\n",
       "      <td>442894.0</td>\n",
       "      <td>36298734.0</td>\n",
       "      <td>5.763500e+07</td>\n",
       "    </tr>\n",
       "    <tr>\n",
       "      <td>honey</td>\n",
       "      <td>685704.0</td>\n",
       "      <td>8191947.0</td>\n",
       "      <td>3.084000e+06</td>\n",
       "    </tr>\n",
       "    <tr>\n",
       "      <td>milk_cream</td>\n",
       "      <td>14990772.0</td>\n",
       "      <td>29234598.0</td>\n",
       "      <td>4.795811e+09</td>\n",
       "    </tr>\n",
       "  </tbody>\n",
       "</table>\n",
       "</div>"
      ],
      "text/plain": [
       "indicator                      exports     imports    production\n",
       "type            subtype                                         \n",
       "animal_products butter       2085954.0    155312.0  4.843600e+07\n",
       "                cheese      67285451.0  60637898.0  2.063360e+08\n",
       "                eggs          442894.0  36298734.0  5.763500e+07\n",
       "                honey         685704.0   8191947.0  3.084000e+06\n",
       "                milk_cream  14990772.0  29234598.0  4.795811e+09"
      ]
     },
     "execution_count": 177,
     "metadata": {},
     "output_type": "execute_result"
    }
   ],
   "source": [
    "suisse = impex_total.join(production, how=\"outer\")\n",
    "suisse.head()"
   ]
  },
  {
   "cell_type": "markdown",
   "metadata": {},
   "source": [
    "We have three possibilities for each commodity\n",
    "1. Neither production or import/export values are given or they all sum up to 0\n",
    "2. Either only production values are given or only import/export values are given\n",
    "3. Production, import and export values are all given (and are non-zero)\n",
    "\n",
    "Commodities fulfilling the first condition will be removed. Commodities fulfilling the second or third condition will be kept.\n",
    "\n",
    "<em style=\"font-size: 12px\">Note: Missing or 0-valued data may be due to either the values actually being 0 or the data not being collected on these items. Since there is no way of knowing which is the case, we will assume that the values are indeed truly 0 to enable their utilization in the analysis.</em>"
   ]
  },
  {
   "cell_type": "code",
   "execution_count": 178,
   "metadata": {},
   "outputs": [],
   "source": [
    "# Remove subtypes for which all given quantities sum up to 0\n",
    "subtypes_no_info = suisse.index[suisse.sum(axis=1) == 0]\n",
    "suisse.drop(subtypes_no_info, inplace=True)"
   ]
  },
  {
   "cell_type": "markdown",
   "metadata": {},
   "source": [
    "Next, we shall add columns for `domestic_consumption` and `imported_consumption`.\n",
    "\n",
    "Definitions:\n",
    "* **domestic consumption**: goods and services consumed in the country where they are produced\n",
    "* **imported consumption**: goods and services consumed in the country to which they are imported\n",
    "\n",
    "**Note**: in this analysis we will make the following simplified assumptions:\n",
    "\n",
    "* food waste is included as being \"consumed\"\n",
    "* exported quantity is first satisfied by available produced quantity, and then imported quantity"
   ]
  },
  {
   "cell_type": "code",
   "execution_count": 179,
   "metadata": {},
   "outputs": [
    {
     "data": {
      "text/html": [
       "<div>\n",
       "<style scoped>\n",
       "    .dataframe tbody tr th:only-of-type {\n",
       "        vertical-align: middle;\n",
       "    }\n",
       "\n",
       "    .dataframe tbody tr th {\n",
       "        vertical-align: top;\n",
       "    }\n",
       "\n",
       "    .dataframe thead th {\n",
       "        text-align: right;\n",
       "    }\n",
       "</style>\n",
       "<table border=\"1\" class=\"dataframe\">\n",
       "  <thead>\n",
       "    <tr style=\"text-align: right;\">\n",
       "      <th></th>\n",
       "      <th>indicator</th>\n",
       "      <th>exports</th>\n",
       "      <th>imports</th>\n",
       "      <th>production</th>\n",
       "      <th>domestic_consumption</th>\n",
       "      <th>imported_consumption</th>\n",
       "      <th>consumption</th>\n",
       "    </tr>\n",
       "    <tr>\n",
       "      <th>type</th>\n",
       "      <th>subtype</th>\n",
       "      <th></th>\n",
       "      <th></th>\n",
       "      <th></th>\n",
       "      <th></th>\n",
       "      <th></th>\n",
       "      <th></th>\n",
       "    </tr>\n",
       "  </thead>\n",
       "  <tbody>\n",
       "    <tr>\n",
       "      <td rowspan=\"5\" valign=\"top\">animal_products</td>\n",
       "      <td>butter</td>\n",
       "      <td>2085954.0</td>\n",
       "      <td>155312.0</td>\n",
       "      <td>4.843600e+07</td>\n",
       "      <td>4.635005e+07</td>\n",
       "      <td>155312.0</td>\n",
       "      <td>4.650536e+07</td>\n",
       "    </tr>\n",
       "    <tr>\n",
       "      <td>cheese</td>\n",
       "      <td>67285451.0</td>\n",
       "      <td>60637898.0</td>\n",
       "      <td>2.063360e+08</td>\n",
       "      <td>1.390505e+08</td>\n",
       "      <td>60637898.0</td>\n",
       "      <td>1.996884e+08</td>\n",
       "    </tr>\n",
       "    <tr>\n",
       "      <td>eggs</td>\n",
       "      <td>442894.0</td>\n",
       "      <td>36298734.0</td>\n",
       "      <td>5.763500e+07</td>\n",
       "      <td>5.719211e+07</td>\n",
       "      <td>36298734.0</td>\n",
       "      <td>9.349084e+07</td>\n",
       "    </tr>\n",
       "    <tr>\n",
       "      <td>honey</td>\n",
       "      <td>685704.0</td>\n",
       "      <td>8191947.0</td>\n",
       "      <td>3.084000e+06</td>\n",
       "      <td>2.398296e+06</td>\n",
       "      <td>8191947.0</td>\n",
       "      <td>1.059024e+07</td>\n",
       "    </tr>\n",
       "    <tr>\n",
       "      <td>milk_cream</td>\n",
       "      <td>14990772.0</td>\n",
       "      <td>29234598.0</td>\n",
       "      <td>4.795811e+09</td>\n",
       "      <td>4.780820e+09</td>\n",
       "      <td>29234598.0</td>\n",
       "      <td>4.810055e+09</td>\n",
       "    </tr>\n",
       "  </tbody>\n",
       "</table>\n",
       "</div>"
      ],
      "text/plain": [
       "indicator                      exports     imports    production  \\\n",
       "type            subtype                                            \n",
       "animal_products butter       2085954.0    155312.0  4.843600e+07   \n",
       "                cheese      67285451.0  60637898.0  2.063360e+08   \n",
       "                eggs          442894.0  36298734.0  5.763500e+07   \n",
       "                honey         685704.0   8191947.0  3.084000e+06   \n",
       "                milk_cream  14990772.0  29234598.0  4.795811e+09   \n",
       "\n",
       "indicator                   domestic_consumption  imported_consumption  \\\n",
       "type            subtype                                                  \n",
       "animal_products butter              4.635005e+07              155312.0   \n",
       "                cheese              1.390505e+08            60637898.0   \n",
       "                eggs                5.719211e+07            36298734.0   \n",
       "                honey               2.398296e+06             8191947.0   \n",
       "                milk_cream          4.780820e+09            29234598.0   \n",
       "\n",
       "indicator                    consumption  \n",
       "type            subtype                   \n",
       "animal_products butter      4.650536e+07  \n",
       "                cheese      1.996884e+08  \n",
       "                eggs        9.349084e+07  \n",
       "                honey       1.059024e+07  \n",
       "                milk_cream  4.810055e+09  "
      ]
     },
     "execution_count": 179,
     "metadata": {},
     "output_type": "execute_result"
    }
   ],
   "source": [
    "# If exports > production, then we say all produced quantity\n",
    "# is exported and the rest of exported quantity is satisfied by imports:\n",
    "# 1. Set domestic_consumption to zero\n",
    "# 2. Set imported_consumption to imports-(exports-production)\n",
    "\n",
    "# If exports <= production, we say all exports\n",
    "# is satisfied by domestic production: \n",
    "# 1. Set domestic_consumption to production-exports\n",
    "# 2. Set imported_consumption to imports\n",
    "suisse[\"domestic_consumption\"] = np.where(\n",
    "    suisse.exports > suisse.production,\n",
    "    0,\n",
    "    suisse.production - suisse.exports\n",
    ")\n",
    "\n",
    "suisse[\"imported_consumption\"] = np.where(\n",
    "    suisse.exports > suisse.production,\n",
    "    suisse.imports - suisse.exports + suisse.production,\n",
    "    suisse.imports\n",
    ")\n",
    "\n",
    "suisse[\"consumption\"] = suisse.domestic_consumption + suisse.imported_consumption\n",
    "\n",
    "suisse.head()"
   ]
  },
  {
   "cell_type": "markdown",
   "metadata": {},
   "source": [
    "***\n",
    "**Data analysis and visualization**\n",
    "***"
   ]
  },
  {
   "cell_type": "markdown",
   "metadata": {},
   "source": [
    "Let's plot imports and exports per meta-type:"
   ]
  },
  {
   "cell_type": "code",
   "execution_count": 180,
   "metadata": {
    "scrolled": true
   },
   "outputs": [],
   "source": [
    "# 1. Group by meta-type\n",
    "# 2. Sum the totals\n",
    "# 3. Unstack the columns to create a Series\n",
    "impex_total_metatype = impex_total.groupby(\"type\").sum().unstack()"
   ]
  },
  {
   "cell_type": "code",
   "execution_count": 181,
   "metadata": {},
   "outputs": [
    {
     "data": {
      "text/plain": [
       "indicator  type           \n",
       "exports    animal_products    168582740.0\n",
       "           cereals              2723041.0\n",
       "           fruits               4131495.0\n",
       "           meat                 4940547.0\n",
       "           vegetables           8819228.0\n",
       "imports    animal_products    152945114.0\n",
       "           cereals            309036367.0\n",
       "           fruits             513223401.0\n",
       "           meat                80153568.0\n",
       "           vegetables         271520646.0\n",
       "dtype: float64"
      ]
     },
     "execution_count": 181,
     "metadata": {},
     "output_type": "execute_result"
    }
   ],
   "source": [
    "impex_total_metatype"
   ]
  },
  {
   "cell_type": "code",
   "execution_count": 182,
   "metadata": {},
   "outputs": [
    {
     "data": {
      "image/png": "[encoded data removed]",
      "text/plain": [
       "<Figure size 864x288 with 1 Axes>"
      ]
     },
     "metadata": {
      "needs_background": "light"
     },
     "output_type": "display_data"
    }
   ],
   "source": [
    "plt.figure(figsize=(12, 4))\n",
    "ax = sns.barplot(\n",
    "    x=impex_total_metatype.index.get_level_values(\"type\"),\n",
    "    y=impex_total_metatype.values / 1000,  # kg --> tonnes\n",
    "    hue=impex_total_metatype.index.get_level_values(\"indicator\"),\n",
    ")\n",
    "\n",
    "ax.set(\n",
    "    title=\"Total imports vs. exports\", xlabel=\"commodity\", ylabel=\"quantity (tonnes)\"\n",
    ")\n",
    "plt.xticks(rotation=90)\n",
    "sns.despine();"
   ]
  },
  {
   "cell_type": "markdown",
   "metadata": {},
   "source": [
    "As you can see, Switzerland imports many more fruits, vegetables and meats than it exports. The `animal_products` category is interesting, because import and export quantities are about equal. What would make the most sense is if Switzerland imports different animal products than it exports (rather than the same products being both imported and exported). Let's test this theory by looking at imports and exports for the subcategories of `animal_products`:"
   ]
  },
  {
   "cell_type": "code",
   "execution_count": 183,
   "metadata": {},
   "outputs": [],
   "source": [
    "impex_total_animal_prods = impex_total.loc[\"animal_products\"].groupby(\"subtype\").sum().unstack()"
   ]
  },
  {
   "cell_type": "code",
   "execution_count": 184,
   "metadata": {},
   "outputs": [
    {
     "data": {
      "image/png": "[encoded data removed]",
      "text/plain": [
       "<Figure size 864x288 with 1 Axes>"
      ]
     },
     "metadata": {
      "needs_background": "light"
     },
     "output_type": "display_data"
    }
   ],
   "source": [
    "plt.figure(figsize=(12, 4))\n",
    "ax = sns.barplot(\n",
    "    x=impex_total_animal_prods.index.get_level_values(\"subtype\"),\n",
    "    y=impex_total_animal_prods.values / 1000,  # kg --> tonnes\n",
    "    hue=impex_total_animal_prods.index.get_level_values(\"indicator\"),\n",
    ")\n",
    "\n",
    "ax.set(\n",
    "    title=\"Imports vs. exports of animal products\", xlabel=\"commodity\", ylabel=\"quantity (tonnes)\"\n",
    ")\n",
    "plt.xticks(rotation=90)\n",
    "sns.despine();"
   ]
  },
  {
   "cell_type": "markdown",
   "metadata": {},
   "source": [
    "This graph brings more light to the topic. Cheese, a category of which there are many different flavors and consumers like variety, is both heavily imported and exported, likely giving consumers access to a wider variety of cheese types. Eggs, on the other hand, are nearly exclusively imported, while whey is mostly exported.\n",
    "\n",
    "The butter category of this graph is a good transition to the continuation of the analysis; just because butter is hardly imported nor exported does not mean the Swiss do not eat butter! Rather, imports and exports are only part of the broader picture since domestic production is another important consideration. One possible hypothesis for why butter is neither imported nor exported in large quantities is because domestic production is nearly equal to domestic consumption."
   ]
  },
  {
   "cell_type": "markdown",
   "metadata": {},
   "source": [
    "#### Bipartite graph between continents and meta food groups, weighted by amounts of food imported from those continents"
   ]
  },
  {
   "cell_type": "code",
   "execution_count": 186,
   "metadata": {},
   "outputs": [],
   "source": [
    "continents = impex.index.get_level_values(0).unique().array\n",
    "meta_food_groups = impex.columns.levels[0].array\n",
    "bi = nx.Graph()\n",
    "bi.add_nodes_from(continents, bipartite=1)\n",
    "bi.add_nodes_from(meta_food_groups, bipartite=0)\n",
    "\n",
    "\n",
    "# make an edge between each continent and each food group\n",
    "edges = []\n",
    "colors = ['red', 'blue', 'green', 'orange']\n",
    "# for continent, color in zip(continents, colors):\n",
    "#     for food in meta_food_groups:\n",
    "#         edges.append((continent, food, color))\n",
    "for continent in continents:\n",
    "    for food in meta_food_groups:\n",
    "        edges.append((continent, food))\n",
    "\n",
    "        \n",
    "bi.add_edges_from(edges, weight=3)"
   ]
  },
  {
   "cell_type": "markdown",
   "metadata": {},
   "source": [
    "## Note from Brooke: there's something weird going on here. Doing `impex.xs('Africa')` only gives me 44 countries when there should be 66. I don't know why. Besides that, when I do all the code on one line for summing all fruit imports from Africa, I get a different number than if I do it in 3 lines. Will look at this later, for now just getting an idea of how to weight the edges."
   ]
  },
  {
   "cell_type": "code",
   "execution_count": 187,
   "metadata": {},
   "outputs": [
    {
     "data": {
      "text/plain": [
       "477127301.0"
      ]
     },
     "execution_count": 187,
     "metadata": {},
     "output_type": "execute_result"
    }
   ],
   "source": [
    "african_fruits = impex.xs('Africa')['fruits']\n",
    "african_fruits.xs('imports', level=1, axis=1)\n",
    "african_fruits.to_numpy().sum()"
   ]
  },
  {
   "cell_type": "code",
   "execution_count": 188,
   "metadata": {},
   "outputs": [
    {
     "data": {
      "text/plain": [
       "473103969.0"
      ]
     },
     "execution_count": 188,
     "metadata": {},
     "output_type": "execute_result"
    }
   ],
   "source": [
    "impex.xs('Africa').fruits.xs('imports', level=1, axis=1).to_numpy().sum()\n",
    "# notice that this is the same code but I get a different output than the cell above"
   ]
  },
  {
   "cell_type": "code",
   "execution_count": 189,
   "metadata": {},
   "outputs": [
    {
     "name": "stdout",
     "output_type": "stream",
     "text": [
      "[148077713.0, 211169418.0, 473103969.0, 65839984.0, 243046408.0, 490436.0, 5321731.0, 30304139.0, 2647579.0, 21272193.0, 2418735.0, 68103249.0, 9449964.0, 11457942.0, 5519839.0, 1958230.0, 24441969.0, 365329.0, 208063.0, 1682206.0]\n"
     ]
    }
   ],
   "source": [
    "continents = impex.index.get_level_values(0).unique().array\n",
    "meta_food_groups = impex.columns.levels[0].array\n",
    "weights = []\n",
    "\n",
    "for continent in continents:\n",
    "    for food in meta_food_groups:\n",
    "        total_food_amount = impex.xs(continent)[food].xs('imports', level=1, axis=1).to_numpy().sum()\n",
    "        weights.append(total_food_amount)"
   ]
  },
  {
   "cell_type": "code",
   "execution_count": 196,
   "metadata": {},
   "outputs": [
    {
     "data": {
      "image/png": "[encoded data removed]",
      "text/plain": [
       "<Figure size 432x288 with 1 Axes>"
      ]
     },
     "metadata": {},
     "output_type": "display_data"
    }
   ],
   "source": [
    "# change the weights of each edge\n",
    "for num, name in enumerate(bi.edges(data=True)):\n",
    "    name[2]['weight'] = weights[num]\n",
    "\n",
    "# make a list of all the weights so can edit them\n",
    "all_weights = []\n",
    "for (node1,node2,data) in bi.edges(data=True):\n",
    "    all_weights.append(data['weight'])\n",
    "\n",
    "# normalize the weights so they are appropriate for the graph\n",
    "for num, wt in enumerate(all_weights):\n",
    "    all_weights[num] = wt*len(continents)/sum(all_weights)\n",
    "\n",
    "\n",
    "top = nx.bipartite.sets(bi)[0]\n",
    "pos = nx.bipartite_layout(bi, top)\n",
    "nx.draw_networkx(bi, pos, font_size=12, node_size=900, node_color='red', node_shape='s', width=all_weights)"
   ]
  },
  {
   "cell_type": "markdown",
   "metadata": {},
   "source": [
    "## Emissions\n"
   ]
  },
  {
   "cell_type": "markdown",
   "metadata": {},
   "source": [
    "Now that we have calculated Switzerland's production and consumption, we want to have a look at how this translates in terms of equivalent CO$_2$ production. To do this, we could look at Swiss-specific values for the greenhouse gas production for different food types, however data from other countries is very sparse and reliable data for many food types is only available for certain countries. Later in the analysis, we want to compare Swiss production emissions with Swiss import emissions, therefore for consistency we need to either have data available for all (or most) countries for a given product, or use global averages. Comprehensive data is available on meat and cereal production emissions worldwide, however fruit and vegetable figures are much harder to obtain and only a limited number of studies have been carried out. These studies have been accumulated in a systematic review (https://www.sciencedirect.com/science/article/pii/S0959652616303584) and these values have been used to calculate averages for a number of different kinds of produce. To ensure our results are consistent, we will use this generalisation of global average values to estimate the domestic Swiss emissions for fruit and vegetables.\n",
    "\n",
    "<!---\n",
    "Other thought: I've currently created a dictionary to map the different fruit/veg to the impex categories. Was just thinking, this could be a potential spot to use machine learning, although admittedly not a very useful one...\n",
    "--->"
   ]
  },
  {
   "cell_type": "code",
   "execution_count": 191,
   "metadata": {},
   "outputs": [
    {
     "data": {
      "text/html": [
       "<div>\n",
       "<style scoped>\n",
       "    .dataframe tbody tr th:only-of-type {\n",
       "        vertical-align: middle;\n",
       "    }\n",
       "\n",
       "    .dataframe tbody tr th {\n",
       "        vertical-align: top;\n",
       "    }\n",
       "\n",
       "    .dataframe thead th {\n",
       "        text-align: right;\n",
       "    }\n",
       "</style>\n",
       "<table border=\"1\" class=\"dataframe\">\n",
       "  <thead>\n",
       "    <tr style=\"text-align: right;\">\n",
       "      <th></th>\n",
       "      <th>Median</th>\n",
       "      <th>Mean</th>\n",
       "      <th>Stdev</th>\n",
       "      <th>Min</th>\n",
       "      <th>Max</th>\n",
       "      <th>Q1</th>\n",
       "      <th>Q3</th>\n",
       "      <th>No. of LCA studies</th>\n",
       "      <th>No. of GWP values</th>\n",
       "    </tr>\n",
       "    <tr>\n",
       "      <th>name</th>\n",
       "      <th></th>\n",
       "      <th></th>\n",
       "      <th></th>\n",
       "      <th></th>\n",
       "      <th></th>\n",
       "      <th></th>\n",
       "      <th></th>\n",
       "      <th></th>\n",
       "      <th></th>\n",
       "    </tr>\n",
       "  </thead>\n",
       "  <tbody>\n",
       "    <tr>\n",
       "      <td>almond/coconut milk</td>\n",
       "      <td>0.42</td>\n",
       "      <td>0.42</td>\n",
       "      <td>0.03</td>\n",
       "      <td>0.39</td>\n",
       "      <td>0.44</td>\n",
       "      <td>0.39</td>\n",
       "      <td>0.44</td>\n",
       "      <td>1.0</td>\n",
       "      <td>4.0</td>\n",
       "    </tr>\n",
       "    <tr>\n",
       "      <td>almonds</td>\n",
       "      <td>1.54</td>\n",
       "      <td>1.74</td>\n",
       "      <td>1.25</td>\n",
       "      <td>0.51</td>\n",
       "      <td>3.77</td>\n",
       "      <td>0.76</td>\n",
       "      <td>2.33</td>\n",
       "      <td>4.0</td>\n",
       "      <td>6.0</td>\n",
       "    </tr>\n",
       "    <tr>\n",
       "      <td>anglerfish</td>\n",
       "      <td>12.29</td>\n",
       "      <td>12.29</td>\n",
       "      <td>2.63</td>\n",
       "      <td>10.43</td>\n",
       "      <td>14.15</td>\n",
       "      <td>11.36</td>\n",
       "      <td>13.22</td>\n",
       "      <td>2.0</td>\n",
       "      <td>2.0</td>\n",
       "    </tr>\n",
       "    <tr>\n",
       "      <td>apples</td>\n",
       "      <td>0.29</td>\n",
       "      <td>0.36</td>\n",
       "      <td>0.19</td>\n",
       "      <td>0.18</td>\n",
       "      <td>0.89</td>\n",
       "      <td>0.21</td>\n",
       "      <td>0.47</td>\n",
       "      <td>21.0</td>\n",
       "      <td>33.0</td>\n",
       "    </tr>\n",
       "    <tr>\n",
       "      <td>apricots</td>\n",
       "      <td>0.43</td>\n",
       "      <td>NaN</td>\n",
       "      <td>NaN</td>\n",
       "      <td>NaN</td>\n",
       "      <td>NaN</td>\n",
       "      <td>NaN</td>\n",
       "      <td>NaN</td>\n",
       "      <td>1.0</td>\n",
       "      <td>1.0</td>\n",
       "    </tr>\n",
       "  </tbody>\n",
       "</table>\n",
       "</div>"
      ],
      "text/plain": [
       "                     Median   Mean  Stdev    Min    Max     Q1     Q3  \\\n",
       "name                                                                    \n",
       "almond/coconut milk    0.42   0.42   0.03   0.39   0.44   0.39   0.44   \n",
       "almonds                1.54   1.74   1.25   0.51   3.77   0.76   2.33   \n",
       "anglerfish            12.29  12.29   2.63  10.43  14.15  11.36  13.22   \n",
       "apples                 0.29   0.36   0.19   0.18   0.89   0.21   0.47   \n",
       "apricots               0.43    NaN    NaN    NaN    NaN    NaN    NaN   \n",
       "\n",
       "                     No. of LCA studies  No. of GWP values  \n",
       "name                                                        \n",
       "almond/coconut milk                 1.0                4.0  \n",
       "almonds                             4.0                6.0  \n",
       "anglerfish                          2.0                2.0  \n",
       "apples                             21.0               33.0  \n",
       "apricots                            1.0                1.0  "
      ]
     },
     "execution_count": 191,
     "metadata": {},
     "output_type": "execute_result"
    }
   ],
   "source": [
    "emissions = load_emissions()\n",
    "emissions.head()"
   ]
  },
  {
   "cell_type": "code",
   "execution_count": 192,
   "metadata": {},
   "outputs": [
    {
     "data": {
      "text/html": [
       "<div>\n",
       "<style scoped>\n",
       "    .dataframe tbody tr th:only-of-type {\n",
       "        vertical-align: middle;\n",
       "    }\n",
       "\n",
       "    .dataframe tbody tr th {\n",
       "        vertical-align: top;\n",
       "    }\n",
       "\n",
       "    .dataframe thead th {\n",
       "        text-align: right;\n",
       "    }\n",
       "</style>\n",
       "<table border=\"1\" class=\"dataframe\">\n",
       "  <thead>\n",
       "    <tr style=\"text-align: right;\">\n",
       "      <th></th>\n",
       "      <th></th>\n",
       "      <th>exports</th>\n",
       "      <th>imports</th>\n",
       "      <th>production</th>\n",
       "      <th>domestic_consumption</th>\n",
       "      <th>imported_consumption</th>\n",
       "      <th>consumption</th>\n",
       "      <th>emissions_category</th>\n",
       "      <th>median_emissions</th>\n",
       "    </tr>\n",
       "    <tr>\n",
       "      <th>type</th>\n",
       "      <th>subtype</th>\n",
       "      <th></th>\n",
       "      <th></th>\n",
       "      <th></th>\n",
       "      <th></th>\n",
       "      <th></th>\n",
       "      <th></th>\n",
       "      <th></th>\n",
       "      <th></th>\n",
       "    </tr>\n",
       "  </thead>\n",
       "  <tbody>\n",
       "    <tr>\n",
       "      <td rowspan=\"5\" valign=\"top\">animal_products</td>\n",
       "      <td>butter</td>\n",
       "      <td>2085954.0</td>\n",
       "      <td>155312.0</td>\n",
       "      <td>48436000.0</td>\n",
       "      <td>46350046.0</td>\n",
       "      <td>155312.0</td>\n",
       "      <td>46505358.0</td>\n",
       "      <td>butter</td>\n",
       "      <td>9.25</td>\n",
       "    </tr>\n",
       "    <tr>\n",
       "      <td>cheese</td>\n",
       "      <td>67285451.0</td>\n",
       "      <td>60637898.0</td>\n",
       "      <td>206336000.0</td>\n",
       "      <td>139050549.0</td>\n",
       "      <td>60637898.0</td>\n",
       "      <td>199688447.0</td>\n",
       "      <td>cheese</td>\n",
       "      <td>8.55</td>\n",
       "    </tr>\n",
       "    <tr>\n",
       "      <td>whey</td>\n",
       "      <td>77624196.0</td>\n",
       "      <td>8145149.0</td>\n",
       "      <td>63000000.0</td>\n",
       "      <td>0.0</td>\n",
       "      <td>-6479047.0</td>\n",
       "      <td>-6479047.0</td>\n",
       "      <td>cheese</td>\n",
       "      <td>8.55</td>\n",
       "    </tr>\n",
       "    <tr>\n",
       "      <td>eggs</td>\n",
       "      <td>442894.0</td>\n",
       "      <td>36298734.0</td>\n",
       "      <td>57635000.0</td>\n",
       "      <td>57192106.0</td>\n",
       "      <td>36298734.0</td>\n",
       "      <td>93490840.0</td>\n",
       "      <td>eggs</td>\n",
       "      <td>3.46</td>\n",
       "    </tr>\n",
       "    <tr>\n",
       "      <td>honey</td>\n",
       "      <td>685704.0</td>\n",
       "      <td>8191947.0</td>\n",
       "      <td>3084000.0</td>\n",
       "      <td>2398296.0</td>\n",
       "      <td>8191947.0</td>\n",
       "      <td>10590243.0</td>\n",
       "      <td>honey</td>\n",
       "      <td>0.00</td>\n",
       "    </tr>\n",
       "  </tbody>\n",
       "</table>\n",
       "</div>"
      ],
      "text/plain": [
       "                            exports     imports   production  \\\n",
       "type            subtype                                        \n",
       "animal_products butter    2085954.0    155312.0   48436000.0   \n",
       "                cheese   67285451.0  60637898.0  206336000.0   \n",
       "                whey     77624196.0   8145149.0   63000000.0   \n",
       "                eggs       442894.0  36298734.0   57635000.0   \n",
       "                honey      685704.0   8191947.0    3084000.0   \n",
       "\n",
       "                         domestic_consumption  imported_consumption  \\\n",
       "type            subtype                                               \n",
       "animal_products butter             46350046.0              155312.0   \n",
       "                cheese            139050549.0            60637898.0   \n",
       "                whey                      0.0            -6479047.0   \n",
       "                eggs               57192106.0            36298734.0   \n",
       "                honey               2398296.0             8191947.0   \n",
       "\n",
       "                         consumption emissions_category  median_emissions  \n",
       "type            subtype                                                    \n",
       "animal_products butter    46505358.0             butter              9.25  \n",
       "                cheese   199688447.0             cheese              8.55  \n",
       "                whey      -6479047.0             cheese              8.55  \n",
       "                eggs      93490840.0               eggs              3.46  \n",
       "                honey     10590243.0              honey              0.00  "
      ]
     },
     "execution_count": 192,
     "metadata": {},
     "output_type": "execute_result"
    }
   ],
   "source": [
    "# integrate the median emissions values into this dataframe\n",
    "suisse = add_emissions_data(suisse, emissions)\n",
    "suisse.head()"
   ]
  },
  {
   "cell_type": "markdown",
   "metadata": {},
   "source": [
    "So assuming that domestic transport is negligible, we can estimate the equivalent CO$_2$ emissions for each product type, using the global average values."
   ]
  },
  {
   "cell_type": "code",
   "execution_count": 193,
   "metadata": {},
   "outputs": [
    {
     "data": {
      "text/html": [
       "<div>\n",
       "<style scoped>\n",
       "    .dataframe tbody tr th:only-of-type {\n",
       "        vertical-align: middle;\n",
       "    }\n",
       "\n",
       "    .dataframe tbody tr th {\n",
       "        vertical-align: top;\n",
       "    }\n",
       "\n",
       "    .dataframe thead th {\n",
       "        text-align: right;\n",
       "    }\n",
       "</style>\n",
       "<table border=\"1\" class=\"dataframe\">\n",
       "  <thead>\n",
       "    <tr style=\"text-align: right;\">\n",
       "      <th></th>\n",
       "      <th></th>\n",
       "      <th>exports</th>\n",
       "      <th>imports</th>\n",
       "      <th>production</th>\n",
       "      <th>domestic_consumption</th>\n",
       "      <th>imported_consumption</th>\n",
       "      <th>consumption</th>\n",
       "      <th>emissions_category</th>\n",
       "      <th>median_emissions</th>\n",
       "      <th>emissions_sans_transport</th>\n",
       "    </tr>\n",
       "    <tr>\n",
       "      <th>type</th>\n",
       "      <th>subtype</th>\n",
       "      <th></th>\n",
       "      <th></th>\n",
       "      <th></th>\n",
       "      <th></th>\n",
       "      <th></th>\n",
       "      <th></th>\n",
       "      <th></th>\n",
       "      <th></th>\n",
       "      <th></th>\n",
       "    </tr>\n",
       "  </thead>\n",
       "  <tbody>\n",
       "    <tr>\n",
       "      <td rowspan=\"5\" valign=\"top\">animal_products</td>\n",
       "      <td>butter</td>\n",
       "      <td>2085954.0</td>\n",
       "      <td>155312.0</td>\n",
       "      <td>48436000.0</td>\n",
       "      <td>46350046.0</td>\n",
       "      <td>155312.0</td>\n",
       "      <td>46505358.0</td>\n",
       "      <td>butter</td>\n",
       "      <td>9.25</td>\n",
       "      <td>4.301746e+08</td>\n",
       "    </tr>\n",
       "    <tr>\n",
       "      <td>cheese</td>\n",
       "      <td>67285451.0</td>\n",
       "      <td>60637898.0</td>\n",
       "      <td>206336000.0</td>\n",
       "      <td>139050549.0</td>\n",
       "      <td>60637898.0</td>\n",
       "      <td>199688447.0</td>\n",
       "      <td>cheese</td>\n",
       "      <td>8.55</td>\n",
       "      <td>1.707336e+09</td>\n",
       "    </tr>\n",
       "    <tr>\n",
       "      <td>whey</td>\n",
       "      <td>77624196.0</td>\n",
       "      <td>8145149.0</td>\n",
       "      <td>63000000.0</td>\n",
       "      <td>0.0</td>\n",
       "      <td>-6479047.0</td>\n",
       "      <td>-6479047.0</td>\n",
       "      <td>cheese</td>\n",
       "      <td>8.55</td>\n",
       "      <td>-5.539585e+07</td>\n",
       "    </tr>\n",
       "    <tr>\n",
       "      <td>eggs</td>\n",
       "      <td>442894.0</td>\n",
       "      <td>36298734.0</td>\n",
       "      <td>57635000.0</td>\n",
       "      <td>57192106.0</td>\n",
       "      <td>36298734.0</td>\n",
       "      <td>93490840.0</td>\n",
       "      <td>eggs</td>\n",
       "      <td>3.46</td>\n",
       "      <td>3.234783e+08</td>\n",
       "    </tr>\n",
       "    <tr>\n",
       "      <td>honey</td>\n",
       "      <td>685704.0</td>\n",
       "      <td>8191947.0</td>\n",
       "      <td>3084000.0</td>\n",
       "      <td>2398296.0</td>\n",
       "      <td>8191947.0</td>\n",
       "      <td>10590243.0</td>\n",
       "      <td>honey</td>\n",
       "      <td>0.00</td>\n",
       "      <td>0.000000e+00</td>\n",
       "    </tr>\n",
       "  </tbody>\n",
       "</table>\n",
       "</div>"
      ],
      "text/plain": [
       "                            exports     imports   production  \\\n",
       "type            subtype                                        \n",
       "animal_products butter    2085954.0    155312.0   48436000.0   \n",
       "                cheese   67285451.0  60637898.0  206336000.0   \n",
       "                whey     77624196.0   8145149.0   63000000.0   \n",
       "                eggs       442894.0  36298734.0   57635000.0   \n",
       "                honey      685704.0   8191947.0    3084000.0   \n",
       "\n",
       "                         domestic_consumption  imported_consumption  \\\n",
       "type            subtype                                               \n",
       "animal_products butter             46350046.0              155312.0   \n",
       "                cheese            139050549.0            60637898.0   \n",
       "                whey                      0.0            -6479047.0   \n",
       "                eggs               57192106.0            36298734.0   \n",
       "                honey               2398296.0             8191947.0   \n",
       "\n",
       "                         consumption emissions_category  median_emissions  \\\n",
       "type            subtype                                                     \n",
       "animal_products butter    46505358.0             butter              9.25   \n",
       "                cheese   199688447.0             cheese              8.55   \n",
       "                whey      -6479047.0             cheese              8.55   \n",
       "                eggs      93490840.0               eggs              3.46   \n",
       "                honey     10590243.0              honey              0.00   \n",
       "\n",
       "                         emissions_sans_transport  \n",
       "type            subtype                            \n",
       "animal_products butter               4.301746e+08  \n",
       "                cheese               1.707336e+09  \n",
       "                whey                -5.539585e+07  \n",
       "                eggs                 3.234783e+08  \n",
       "                honey                0.000000e+00  "
      ]
     },
     "execution_count": 193,
     "metadata": {},
     "output_type": "execute_result"
    }
   ],
   "source": [
    "# calculate the emissions (resulting from production of the products)\n",
    "suisse = production_emissions(suisse)\n",
    "suisse.head()"
   ]
  },
  {
   "cell_type": "markdown",
   "metadata": {},
   "source": [
    "The final column of the above table shows the total CO$_2$ equivalent (kg) that would be produced if everything that was consumed in Switzerland was domestically produced, i.e. no transport emissions were considered and Swiss-specific CO$_2$ emissions were used for meat and cereal production. Evidently, it is not possible to produce everything that a current consumer buys locally, so in the following analysis we will consider the effect that these imported products and 'food miles' have on the CO$_2$ emissions resulting from Swiss consumption. "
   ]
  },
  {
   "cell_type": "markdown",
   "metadata": {},
   "source": [
    "## Transport Analysis"
   ]
  },
  {
   "cell_type": "code",
   "execution_count": 20,
   "metadata": {},
   "outputs": [
    {
     "data": {
      "text/html": [
       "<div>\n",
       "<style scoped>\n",
       "    .dataframe tbody tr th:only-of-type {\n",
       "        vertical-align: middle;\n",
       "    }\n",
       "\n",
       "    .dataframe tbody tr th {\n",
       "        vertical-align: top;\n",
       "    }\n",
       "\n",
       "    .dataframe thead th {\n",
       "        text-align: right;\n",
       "    }\n",
       "</style>\n",
       "<table border=\"1\" class=\"dataframe\">\n",
       "  <thead>\n",
       "    <tr style=\"text-align: right;\">\n",
       "      <th></th>\n",
       "      <th>coord</th>\n",
       "      <th>distance_CH</th>\n",
       "    </tr>\n",
       "    <tr>\n",
       "      <th>country</th>\n",
       "      <th></th>\n",
       "      <th></th>\n",
       "    </tr>\n",
       "  </thead>\n",
       "  <tbody>\n",
       "    <tr>\n",
       "      <td>Algeria</td>\n",
       "      <td>[28.0000272, 2.9999825]</td>\n",
       "      <td>2136.0</td>\n",
       "    </tr>\n",
       "    <tr>\n",
       "      <td>Canary Islands</td>\n",
       "      <td>[28.2935785, -16.6214471211441]</td>\n",
       "      <td>2983.0</td>\n",
       "    </tr>\n",
       "    <tr>\n",
       "      <td>Ceuta</td>\n",
       "      <td>[35.888361, -5.304138]</td>\n",
       "      <td>1654.0</td>\n",
       "    </tr>\n",
       "    <tr>\n",
       "      <td>Ceuta/Melilla</td>\n",
       "      <td>[36.7137977, -4.272712]</td>\n",
       "      <td>1525.0</td>\n",
       "    </tr>\n",
       "    <tr>\n",
       "      <td>Egypt</td>\n",
       "      <td>[26.2540493, 29.2675469]</td>\n",
       "      <td>2938.0</td>\n",
       "    </tr>\n",
       "  </tbody>\n",
       "</table>\n",
       "</div>"
      ],
      "text/plain": [
       "                                          coord  distance_CH\n",
       "country                                                     \n",
       "Algeria                 [28.0000272, 2.9999825]       2136.0\n",
       "Canary Islands  [28.2935785, -16.6214471211441]       2983.0\n",
       "Ceuta                    [35.888361, -5.304138]       1654.0\n",
       "Ceuta/Melilla           [36.7137977, -4.272712]       1525.0\n",
       "Egypt                  [26.2540493, 29.2675469]       2938.0"
      ]
     },
     "execution_count": 20,
     "metadata": {},
     "output_type": "execute_result"
    }
   ],
   "source": [
    "countries = country_distances()\n",
    "countries.head()"
   ]
  },
  {
   "cell_type": "markdown",
   "metadata": {},
   "source": [
    "## Further Analysis"
   ]
  },
  {
   "cell_type": "markdown",
   "metadata": {},
   "source": [
    "The following will describe initial observations we have made regarding the transport of food, global carbon emissions intensities, and how we plan to use this information to estimate the impact consumption of different foods in Switzerland has and how a Swiss consumer can minimise their environmental impact in their food choices.\n",
    "\n",
    "'Food miles', or the distance that food has to travel to arrive on your plate, clearly have an impact on the carbon emissions of the products we consume. Let's look at how much of the food, beverages, and tobacco that Switzerland imports comes from its nearest neighboring countries. The farther a country is, the more carbon emissions it would cost to import that food."
   ]
  },
  {
   "cell_type": "code",
   "execution_count": 21,
   "metadata": {},
   "outputs": [
    {
     "name": "stdout",
     "output_type": "stream",
     "text": [
      "76.0% of Switzerland's total imports come from countries within a 1000km radius.\n"
     ]
    }
   ],
   "source": [
    "percentage = glimpse()\n",
    "print(str(round(percentage)) + \"% of Switzerland's total imports come from countries within a 1000km radius.\")"
   ]
  },
  {
   "cell_type": "markdown",
   "metadata": {},
   "source": [
    "So we can see that a lot of Switzerland's imports come from nearby countries. We will continue in this vein and look at the origins of each product individually to see the impact these food miles/varying production methods have on their carbon footprint. One thing we will consider is the transport methods, clearly the impact of these food miles differs greatly depending on whether the food is transported by plane or ship..."
   ]
  },
  {
   "cell_type": "markdown",
   "metadata": {},
   "source": [
    "<img width=\"400\" height=\"400\" src=\"https://icmattermost.epfl.ch/files/5zr1jyriupfsfgmr4dtg155ssw/public?h=_GPk0xYK1I16gWsY3GuIsrFC5bTb3Ioh4_W3h3oYDs8\">"
   ]
  },
  {
   "cell_type": "markdown",
   "metadata": {},
   "source": [
    "Transport methods for different commodoties in the USA are described in detail in the paper *Food-Miles and the Relative Climate Impacts of Food Choices in the United States* (Weber and Matthews, 2008). These values, or similar data for other countries worldwide could be used to estimate the transport means for different products and thus the impact this transport has on emissions for each product. Perishable products more frequently have to be transported by air, and therefore have a significantly larger carbon footprint."
   ]
  },
  {
   "cell_type": "code",
   "execution_count": null,
   "metadata": {},
   "outputs": [],
   "source": []
  }
 ],
 "metadata": {
  "kernelspec": {
   "display_name": "Python [conda env:ada] *",
   "language": "python",
   "name": "conda-env-ada-py"
  },
  "language_info": {
   "codemirror_mode": {
    "name": "ipython",
    "version": 3
   },
   "file_extension": ".py",
   "mimetype": "text/x-python",
   "name": "python",
   "nbconvert_exporter": "python",
   "pygments_lexer": "ipython3",
   "version": "3.7.4"
  }
 },
 "nbformat": 4,
 "nbformat_minor": 4
}
